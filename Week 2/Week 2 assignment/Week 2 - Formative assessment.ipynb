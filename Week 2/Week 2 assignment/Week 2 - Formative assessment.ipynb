{
 "cells": [
  {
   "cell_type": "markdown",
   "metadata": {},
   "source": [
    "# Deep Learning\n",
    "## Formative assessment\n",
    "### Week 2: Multilayer perceptrons"
   ]
  },
  {
   "cell_type": "markdown",
   "metadata": {},
   "source": [
    "#### Instructions\n",
    "\n",
    "In this notebook, you will write code to implement and train a multilayer perceptron in TensorFlow using the high-level Keras API.\n",
    "\n",
    "Some code cells are provided you in the notebook. You should avoid editing provided code, and make sure to execute the cells in order to avoid unexpected errors. Some cells begin with the line: \n",
    "\n",
    "`#### GRADED CELL ####`\n",
    "\n",
    "These cells require you to write your own code to complete them.\n",
    "\n",
    "#### Let's get started!\n",
    "\n",
    "We'll start by running some imports, and loading the dataset. "
   ]
  },
  {
   "cell_type": "code",
   "execution_count": 1,
   "metadata": {},
   "outputs": [
    {
     "name": "stdout",
     "output_type": "stream",
     "text": [
      "WARNING:tensorflow:From d:\\University-local\\Imperial\\Term 2\\Deep Learning\\.venv\\Lib\\site-packages\\keras\\src\\losses.py:2976: The name tf.losses.sparse_softmax_cross_entropy is deprecated. Please use tf.compat.v1.losses.sparse_softmax_cross_entropy instead.\n",
      "\n"
     ]
    }
   ],
   "source": [
    "#### PACKAGE IMPORTS ####\n",
    "\n",
    "# Run this cell first to import all required packages. Do not make any imports elsewhere in the notebook\n",
    "\n",
    "import tensorflow as tf\n",
    "import pandas as pd\n",
    "import numpy as np\n",
    "from sklearn.preprocessing import MinMaxScaler\n",
    "from sklearn.model_selection import train_test_split\n",
    "import matplotlib.pyplot as plt\n",
    "from pathlib import Path\n",
    "\n",
    "from keras.models import Sequential\n",
    "from keras.layers import Dense\n",
    "\n",
    "# If you would like to make further imports from Tensorflow, add them here\n",
    "\n",
    "\n"
   ]
  },
  {
   "cell_type": "markdown",
   "metadata": {},
   "source": [
    "<img src=\"figures/bike_sharing.jpg\" title=\"Bike sharing\" style=\"width: 500px;\"/>\n",
    "<center><font style=\"font-size:12px\">source: <a href=https://www.visitlondon.com/traveller-information/getting-around-london/london-cycle-hire-scheme>visitlondon.com</a></font></center>\n",
    "\n",
    "#### The Bike Sharing dataset\n",
    "In this formative assessment, you will use the [Bike Sharing dataset](https://archive.ics.uci.edu/ml/datasets/Bike+Sharing+Dataset) from the UCI Machine Learning Repository. This dataset contains the hourly and daily count of rental bikes between years 2011 and 2012 in Capital bikeshare system with the corresponding weather and seasonal information.\n",
    "\n",
    "* Fanaee-T, H,, & Gama, J. (2013), \"Event labeling combining ensemble detectors and background knowledge\", _Progress in Artificial Intelligence_, 1-15, Springer Berlin Heidelberg.\n",
    "\n",
    "Your goal is to use TensorFlow to model the dataset using linear regression and MLP networks."
   ]
  },
  {
   "cell_type": "markdown",
   "metadata": {},
   "source": [
    "#### Load and preprocess the data"
   ]
  },
  {
   "cell_type": "code",
   "execution_count": 2,
   "metadata": {
    "scrolled": true
   },
   "outputs": [
    {
     "data": {
      "text/html": [
       "<div>\n",
       "<style scoped>\n",
       "    .dataframe tbody tr th:only-of-type {\n",
       "        vertical-align: middle;\n",
       "    }\n",
       "\n",
       "    .dataframe tbody tr th {\n",
       "        vertical-align: top;\n",
       "    }\n",
       "\n",
       "    .dataframe thead th {\n",
       "        text-align: right;\n",
       "    }\n",
       "</style>\n",
       "<table border=\"1\" class=\"dataframe\">\n",
       "  <thead>\n",
       "    <tr style=\"text-align: right;\">\n",
       "      <th></th>\n",
       "      <th>year</th>\n",
       "      <th>season</th>\n",
       "      <th>month</th>\n",
       "      <th>day_name</th>\n",
       "      <th>hr</th>\n",
       "      <th>holiday</th>\n",
       "      <th>weekday</th>\n",
       "      <th>workingday</th>\n",
       "      <th>weathersit</th>\n",
       "      <th>temp</th>\n",
       "      <th>atemp</th>\n",
       "      <th>hum</th>\n",
       "      <th>windspeed</th>\n",
       "      <th>casual</th>\n",
       "      <th>registered</th>\n",
       "    </tr>\n",
       "  </thead>\n",
       "  <tbody>\n",
       "    <tr>\n",
       "      <th>1962</th>\n",
       "      <td>2011</td>\n",
       "      <td>2</td>\n",
       "      <td>3</td>\n",
       "      <td>Sunday</td>\n",
       "      <td>14</td>\n",
       "      <td>0</td>\n",
       "      <td>0</td>\n",
       "      <td>0</td>\n",
       "      <td>1</td>\n",
       "      <td>0.32</td>\n",
       "      <td>0.3182</td>\n",
       "      <td>0.36</td>\n",
       "      <td>0.1642</td>\n",
       "      <td>61</td>\n",
       "      <td>103</td>\n",
       "    </tr>\n",
       "    <tr>\n",
       "      <th>9163</th>\n",
       "      <td>2012</td>\n",
       "      <td>1</td>\n",
       "      <td>1</td>\n",
       "      <td>Sunday</td>\n",
       "      <td>17</td>\n",
       "      <td>0</td>\n",
       "      <td>0</td>\n",
       "      <td>0</td>\n",
       "      <td>2</td>\n",
       "      <td>0.16</td>\n",
       "      <td>0.1818</td>\n",
       "      <td>0.80</td>\n",
       "      <td>0.1045</td>\n",
       "      <td>8</td>\n",
       "      <td>100</td>\n",
       "    </tr>\n",
       "    <tr>\n",
       "      <th>16445</th>\n",
       "      <td>2012</td>\n",
       "      <td>4</td>\n",
       "      <td>11</td>\n",
       "      <td>Thursday</td>\n",
       "      <td>23</td>\n",
       "      <td>1</td>\n",
       "      <td>4</td>\n",
       "      <td>0</td>\n",
       "      <td>1</td>\n",
       "      <td>0.30</td>\n",
       "      <td>0.3333</td>\n",
       "      <td>0.70</td>\n",
       "      <td>0.0000</td>\n",
       "      <td>8</td>\n",
       "      <td>28</td>\n",
       "    </tr>\n",
       "    <tr>\n",
       "      <th>9127</th>\n",
       "      <td>2012</td>\n",
       "      <td>1</td>\n",
       "      <td>1</td>\n",
       "      <td>Saturday</td>\n",
       "      <td>5</td>\n",
       "      <td>0</td>\n",
       "      <td>6</td>\n",
       "      <td>0</td>\n",
       "      <td>3</td>\n",
       "      <td>0.16</td>\n",
       "      <td>0.1818</td>\n",
       "      <td>0.86</td>\n",
       "      <td>0.1045</td>\n",
       "      <td>0</td>\n",
       "      <td>2</td>\n",
       "    </tr>\n",
       "    <tr>\n",
       "      <th>4922</th>\n",
       "      <td>2011</td>\n",
       "      <td>3</td>\n",
       "      <td>7</td>\n",
       "      <td>Friday</td>\n",
       "      <td>0</td>\n",
       "      <td>0</td>\n",
       "      <td>5</td>\n",
       "      <td>1</td>\n",
       "      <td>1</td>\n",
       "      <td>0.74</td>\n",
       "      <td>0.7121</td>\n",
       "      <td>0.79</td>\n",
       "      <td>0.1642</td>\n",
       "      <td>12</td>\n",
       "      <td>45</td>\n",
       "    </tr>\n",
       "    <tr>\n",
       "      <th>16902</th>\n",
       "      <td>2012</td>\n",
       "      <td>4</td>\n",
       "      <td>12</td>\n",
       "      <td>Wednesday</td>\n",
       "      <td>1</td>\n",
       "      <td>0</td>\n",
       "      <td>3</td>\n",
       "      <td>1</td>\n",
       "      <td>1</td>\n",
       "      <td>0.28</td>\n",
       "      <td>0.2727</td>\n",
       "      <td>0.61</td>\n",
       "      <td>0.2239</td>\n",
       "      <td>3</td>\n",
       "      <td>18</td>\n",
       "    </tr>\n",
       "    <tr>\n",
       "      <th>6474</th>\n",
       "      <td>2011</td>\n",
       "      <td>4</td>\n",
       "      <td>10</td>\n",
       "      <td>Sunday</td>\n",
       "      <td>8</td>\n",
       "      <td>0</td>\n",
       "      <td>0</td>\n",
       "      <td>0</td>\n",
       "      <td>2</td>\n",
       "      <td>0.34</td>\n",
       "      <td>0.3333</td>\n",
       "      <td>0.76</td>\n",
       "      <td>0.1940</td>\n",
       "      <td>14</td>\n",
       "      <td>50</td>\n",
       "    </tr>\n",
       "    <tr>\n",
       "      <th>11389</th>\n",
       "      <td>2012</td>\n",
       "      <td>2</td>\n",
       "      <td>4</td>\n",
       "      <td>Tuesday</td>\n",
       "      <td>18</td>\n",
       "      <td>0</td>\n",
       "      <td>2</td>\n",
       "      <td>1</td>\n",
       "      <td>1</td>\n",
       "      <td>0.50</td>\n",
       "      <td>0.4848</td>\n",
       "      <td>0.18</td>\n",
       "      <td>0.0000</td>\n",
       "      <td>52</td>\n",
       "      <td>580</td>\n",
       "    </tr>\n",
       "    <tr>\n",
       "      <th>6437</th>\n",
       "      <td>2011</td>\n",
       "      <td>4</td>\n",
       "      <td>9</td>\n",
       "      <td>Friday</td>\n",
       "      <td>19</td>\n",
       "      <td>0</td>\n",
       "      <td>5</td>\n",
       "      <td>1</td>\n",
       "      <td>1</td>\n",
       "      <td>0.54</td>\n",
       "      <td>0.5152</td>\n",
       "      <td>0.52</td>\n",
       "      <td>0.2836</td>\n",
       "      <td>42</td>\n",
       "      <td>332</td>\n",
       "    </tr>\n",
       "    <tr>\n",
       "      <th>16557</th>\n",
       "      <td>2012</td>\n",
       "      <td>4</td>\n",
       "      <td>11</td>\n",
       "      <td>Tuesday</td>\n",
       "      <td>15</td>\n",
       "      <td>0</td>\n",
       "      <td>2</td>\n",
       "      <td>1</td>\n",
       "      <td>2</td>\n",
       "      <td>0.30</td>\n",
       "      <td>0.2727</td>\n",
       "      <td>0.75</td>\n",
       "      <td>0.2985</td>\n",
       "      <td>9</td>\n",
       "      <td>146</td>\n",
       "    </tr>\n",
       "  </tbody>\n",
       "</table>\n",
       "</div>"
      ],
      "text/plain": [
       "       year  season  month   day_name  hr  holiday  weekday  workingday  \\\n",
       "1962   2011       2      3     Sunday  14        0        0           0   \n",
       "9163   2012       1      1     Sunday  17        0        0           0   \n",
       "16445  2012       4     11   Thursday  23        1        4           0   \n",
       "9127   2012       1      1   Saturday   5        0        6           0   \n",
       "4922   2011       3      7     Friday   0        0        5           1   \n",
       "16902  2012       4     12  Wednesday   1        0        3           1   \n",
       "6474   2011       4     10     Sunday   8        0        0           0   \n",
       "11389  2012       2      4    Tuesday  18        0        2           1   \n",
       "6437   2011       4      9     Friday  19        0        5           1   \n",
       "16557  2012       4     11    Tuesday  15        0        2           1   \n",
       "\n",
       "       weathersit  temp   atemp   hum  windspeed  casual  registered  \n",
       "1962            1  0.32  0.3182  0.36     0.1642      61         103  \n",
       "9163            2  0.16  0.1818  0.80     0.1045       8         100  \n",
       "16445           1  0.30  0.3333  0.70     0.0000       8          28  \n",
       "9127            3  0.16  0.1818  0.86     0.1045       0           2  \n",
       "4922            1  0.74  0.7121  0.79     0.1642      12          45  \n",
       "16902           1  0.28  0.2727  0.61     0.2239       3          18  \n",
       "6474            2  0.34  0.3333  0.76     0.1940      14          50  \n",
       "11389           1  0.50  0.4848  0.18     0.0000      52         580  \n",
       "6437            1  0.54  0.5152  0.52     0.2836      42         332  \n",
       "16557           2  0.30  0.2727  0.75     0.2985       9         146  "
      ]
     },
     "execution_count": 2,
     "metadata": {},
     "output_type": "execute_result"
    }
   ],
   "source": [
    "# Run this cell to load and sample the data\n",
    "\n",
    "df = pd.read_csv(Path(\"./data/bike_sharing.csv\"))\n",
    "df.sample(10)"
   ]
  },
  {
   "cell_type": "markdown",
   "metadata": {},
   "source": [
    "See [the dataset description](https://archive.ics.uci.edu/ml/datasets/Bike+Sharing+Dataset) for more information on the attributes. There are two target variables: `casual` (number of casual users) and `registered` (number of registered users).\n",
    "\n",
    "You should first complete the following `get_inputs_and_targets` function, according to the following spec:\n",
    "\n",
    "* The function takes inputs `dataframe` and `target_variables`\n",
    "  * The `target_variables` is a list of column names that we will use for the targets\n",
    "* The function should return a tuple of DataFrames `(inputs_df, targets_df)`, where `targets_df` contains only the columns in `target_variables`, and `inputs_df` contains all the remaining columns."
   ]
  },
  {
   "cell_type": "code",
   "execution_count": 3,
   "metadata": {},
   "outputs": [],
   "source": [
    "#### GRADED CELL ####\n",
    "\n",
    "# Complete the following function. \n",
    "# Make sure to not change the function name or arguments.\n",
    "\n",
    "def get_inputs_and_targets(dataframe, target_variables):\n",
    "    \"\"\"\n",
    "    This function takes in the loaded DataFrame and target_variables list as above, \n",
    "    and returns inputs and targets DataFrames.\n",
    "    \"\"\"\n",
    "    inputs_df = dataframe.drop(target_variables, axis = 1)\n",
    "    targets_df = dataframe[target_variables]\n",
    "    return (inputs_df, targets_df)\n",
    "    "
   ]
  },
  {
   "cell_type": "code",
   "execution_count": 4,
   "metadata": {},
   "outputs": [
    {
     "name": "stdout",
     "output_type": "stream",
     "text": [
      "       year  season  month  day_name  hr  holiday  weekday  workingday  \\\n",
      "0      2011       1      1  Saturday   0        0        6           0   \n",
      "1      2011       1      1  Saturday   1        0        6           0   \n",
      "2      2011       1      1  Saturday   2        0        6           0   \n",
      "3      2011       1      1  Saturday   3        0        6           0   \n",
      "4      2011       1      1  Saturday   4        0        6           0   \n",
      "...     ...     ...    ...       ...  ..      ...      ...         ...   \n",
      "17374  2012       1     12    Monday  19        0        1           1   \n",
      "17375  2012       1     12    Monday  20        0        1           1   \n",
      "17376  2012       1     12    Monday  21        0        1           1   \n",
      "17377  2012       1     12    Monday  22        0        1           1   \n",
      "17378  2012       1     12    Monday  23        0        1           1   \n",
      "\n",
      "       weathersit  temp   atemp   hum  windspeed  \n",
      "0               1  0.24  0.2879  0.81     0.0000  \n",
      "1               1  0.22  0.2727  0.80     0.0000  \n",
      "2               1  0.22  0.2727  0.80     0.0000  \n",
      "3               1  0.24  0.2879  0.75     0.0000  \n",
      "4               1  0.24  0.2879  0.75     0.0000  \n",
      "...           ...   ...     ...   ...        ...  \n",
      "17374           2  0.26  0.2576  0.60     0.1642  \n",
      "17375           2  0.26  0.2576  0.60     0.1642  \n",
      "17376           1  0.26  0.2576  0.60     0.1642  \n",
      "17377           1  0.26  0.2727  0.56     0.1343  \n",
      "17378           1  0.26  0.2727  0.65     0.1343  \n",
      "\n",
      "[17379 rows x 13 columns]\n"
     ]
    }
   ],
   "source": [
    "# Run your function to get the input and target Tensors\n",
    "\n",
    "inputs_df, targets_df = get_inputs_and_targets(df, target_variables=['casual', 'registered'])\n",
    "print(inputs_df)\n"
   ]
  },
  {
   "cell_type": "markdown",
   "metadata": {},
   "source": [
    "The data will need some preprocessing before it is ready to be used to train a deep learning model. \n",
    "\n",
    "Firstly, several of the attributes are categorical: `year`, `season`, `month`, `day_name`, `hr`, `holiday`, `weekday`, `workingday` and `weathersit`. We will represent each of these attributes with a one-hot encoding. For example, `year` takes one of the values `2011` or `2012` in the dataset. Will represent the year of a data example as either the one-hot vector `[1, 0]` or `[0, 1]`, corresponding to the year `2011` or `2012` respectively. In general, the length of the one-hot vector will equal the number of categories, and will be all zeros except for a single one in the place of the corresponding category for a particular data example.\n",
    "\n",
    "The final representation of our inputs will be the concatenation of all features, including one-hot vectors.\n",
    "\n",
    "You should now complete the following `convert_to_one_hot` function, according to the following specifications:\n",
    "\n",
    "* The function takes the inputs `inputs_dataframe` and `categorical_attributes`\n",
    "    * `categorical_attributes` will be a list of column names that are present in `inputs_dataframe`\n",
    "* The function should convert each categorical feature to a one-hot vector by replacing the column with a number of columns equal to the number of categories\n",
    "* The function should then return the updated DataFrame\n",
    "\n",
    "_Hint: see [`pd.get_dummies`](https://pandas.pydata.org/docs/reference/api/pandas.get_dummies.html), and note that numerical columns can be converted to `category` type in order for this function to correctly the column as categorical._"
   ]
  },
  {
   "cell_type": "code",
   "execution_count": 5,
   "metadata": {},
   "outputs": [],
   "source": [
    "#### GRADED CELL ####\n",
    "\n",
    "# Complete the following function. \n",
    "# Make sure to not change the function name or arguments.\n",
    "\n",
    "def convert_to_one_hot(inputs_dataframe, categorical_attributes):\n",
    "    \"\"\"\n",
    "    This function takes in the loaded DataFrame and categorical_attributes list as above, \n",
    "    and converts the categorical features to one-hot encodings.\n",
    "    Your function should return the DataFrame.\n",
    "    \"\"\"\n",
    "    for col in categorical_attributes:\n",
    "        inputs_df[col] = inputs_dataframe[col].astype(\"category\")\n",
    "    \n",
    "    return pd.get_dummies(inputs_dataframe[categorical_attributes],dtype = int)\n"
   ]
  },
  {
   "cell_type": "code",
   "execution_count": 6,
   "metadata": {},
   "outputs": [
    {
     "name": "stdout",
     "output_type": "stream",
     "text": [
      "       year_2011  year_2012  season_1  season_2  season_3  season_4  month_1  \\\n",
      "0              1          0         1         0         0         0        1   \n",
      "1              1          0         1         0         0         0        1   \n",
      "2              1          0         1         0         0         0        1   \n",
      "3              1          0         1         0         0         0        1   \n",
      "4              1          0         1         0         0         0        1   \n",
      "...          ...        ...       ...       ...       ...       ...      ...   \n",
      "17374          0          1         1         0         0         0        0   \n",
      "17375          0          1         1         0         0         0        0   \n",
      "17376          0          1         1         0         0         0        0   \n",
      "17377          0          1         1         0         0         0        0   \n",
      "17378          0          1         1         0         0         0        0   \n",
      "\n",
      "       month_2  month_3  month_4  ...  weekday_3  weekday_4  weekday_5  \\\n",
      "0            0        0        0  ...          0          0          0   \n",
      "1            0        0        0  ...          0          0          0   \n",
      "2            0        0        0  ...          0          0          0   \n",
      "3            0        0        0  ...          0          0          0   \n",
      "4            0        0        0  ...          0          0          0   \n",
      "...        ...      ...      ...  ...        ...        ...        ...   \n",
      "17374        0        0        0  ...          0          0          0   \n",
      "17375        0        0        0  ...          0          0          0   \n",
      "17376        0        0        0  ...          0          0          0   \n",
      "17377        0        0        0  ...          0          0          0   \n",
      "17378        0        0        0  ...          0          0          0   \n",
      "\n",
      "       weekday_6  workingday_0  workingday_1  weathersit_1  weathersit_2  \\\n",
      "0              1             1             0             1             0   \n",
      "1              1             1             0             1             0   \n",
      "2              1             1             0             1             0   \n",
      "3              1             1             0             1             0   \n",
      "4              1             1             0             1             0   \n",
      "...          ...           ...           ...           ...           ...   \n",
      "17374          0             0             1             0             1   \n",
      "17375          0             0             1             0             1   \n",
      "17376          0             0             1             1             0   \n",
      "17377          0             0             1             1             0   \n",
      "17378          0             0             1             1             0   \n",
      "\n",
      "       weathersit_3  weathersit_4  \n",
      "0                 0             0  \n",
      "1                 0             0  \n",
      "2                 0             0  \n",
      "3                 0             0  \n",
      "4                 0             0  \n",
      "...             ...           ...  \n",
      "17374             0             0  \n",
      "17375             0             0  \n",
      "17376             0             0  \n",
      "17377             0             0  \n",
      "17378             0             0  \n",
      "\n",
      "[17379 rows x 64 columns]\n"
     ]
    }
   ],
   "source": [
    "# Run your function to convert the categorical features to one-hot encodings\n",
    "\n",
    "cols = ['year', 'season', 'month', 'day_name', 'hr', 'holiday', 'weekday', 'workingday', 'weathersit']\n",
    "inputs_df = convert_to_one_hot(inputs_df, cols)\n",
    "print(inputs_df)\n"
   ]
  },
  {
   "cell_type": "markdown",
   "metadata": {},
   "source": [
    "In the second stage of preprocessing, we will scale the values in both the inputs and the targets.\n",
    "\n",
    "You should now complete the following `scale_values` function, according to the following spec:\n",
    "\n",
    "* The function takes the `inputs_df` and `targets_df` DataFrames as arguments\n",
    "* The feature values in `inputs_df` should be linearly scaled to the range $[0, 1]$. Note that this will not affect the features that have been one-hot encoded. _Hint: use the [`MinMaxScaler`](https://scikit-learn.org/stable/modules/generated/sklearn.preprocessing.MinMaxScaler.html) from `sklearn`._\n",
    "* The values in the `targets_df` are counts, and these should be converted as follows:\n",
    "$$\\text{count} \\mapsto \\log (1 + \\text{count})$$\n",
    "where the log is the natural logarithm.\n",
    "* The function should then return a tuple of Tensors `(inputs, targets)` of type `tf.float32` with the transformed values"
   ]
  },
  {
   "cell_type": "code",
   "execution_count": 7,
   "metadata": {},
   "outputs": [],
   "source": [
    "#### GRADED CELL ####\n",
    "\n",
    "# Complete the following function. \n",
    "# Make sure to not change the function name or arguments.\n",
    "\n",
    "def scale_values(inputs_df, targets_df):\n",
    "    \"\"\"\n",
    "    This function takes in the inputs and targets DataFrames and scales the values\n",
    "    in each DataFrame according to the above description.\n",
    "    Your function should return a tuple of Tensors.\n",
    "    \"\"\"\n",
    "    #targets\n",
    "    targets_df = np.log(1 + targets_df)\n",
    "    #inputsinputs_df\n",
    "    scaler = MinMaxScaler()\n",
    "    scaler.fit(inputs_df)\n",
    "    return scaler.transform(inputs_df), targets_df\n",
    "    \n",
    "    \n",
    "    "
   ]
  },
  {
   "cell_type": "code",
   "execution_count": 8,
   "metadata": {},
   "outputs": [],
   "source": [
    "# Run your function to get the scaled inputs and outputs Tensors\n",
    "inputs, targets = scale_values(inputs_df, targets_df)"
   ]
  },
  {
   "cell_type": "code",
   "execution_count": 9,
   "metadata": {},
   "outputs": [],
   "source": [
    "# Split the data into training and validation sets\n",
    "X_train, X_val, y_train, y_val = train_test_split(inputs, targets, test_size=0.3)\n",
    "\n",
    "X_train, y_train = tf.constant(X_train), tf.constant(y_train)\n",
    "X_val, y_val = tf.constant(X_val), tf.constant(y_val)\n"
   ]
  },
  {
   "cell_type": "markdown",
   "metadata": {},
   "source": [
    "#### Linear regression model\n",
    "\n",
    "We will first fit a simple linear regression model to the training data. Recall that this is a model of the form\n",
    "\n",
    "$$\n",
    "y = f_\\theta(\\mathbf{x}) + \\epsilon,\n",
    "$$\n",
    "\n",
    "where $y\\in\\mathbb{R}^C$ is the target variable, $\\mathbf{x}\\in\\mathbb{R}^{D}$ are the input features, $\\Theta\\in\\mathbb{R}^{C\\times D+1}$ are the model parameters, $\\epsilon\\in\\mathbb{R}^C$ with $(\\epsilon)_c\\sim\\mathcal{N}(0, 1)$ $(c=1,\\ldots,C)$ is the observation noise random variable, and $f_\\Theta:\\mathbb{R}^{D+1}\\mapsto\\mathbb{R}$ is given by\n",
    "\n",
    "$$\n",
    "f_\\Theta(\\hat{\\mathbf{x}}) = \\Theta\\hat{\\mathbf{x}},\n",
    "$$\n",
    "\n",
    "where $\\hat{\\mathbf{x}}\\in\\mathbb{R}^{D+1}$ is constructed by adding a constant 1 feature to $\\mathbf{x}$; that is, $\\hat{\\mathbf{x}}_0=1$.\n",
    "\n",
    "We will use the Keras API to implement a linear regression model, using the `Sequential` class.\n",
    "\n",
    "In the following function, you should build a `Sequential` model with just one `Dense` layer, which has two output units, one for each target variable, and no activation function. This is the same as the linear regression model above.\n",
    "\n",
    "* The function takes the `input_shape` as an argument, which should be used in the `Dense` layer initializer to specify the input shape\n",
    "* The function should build and return the `Sequential` object with one Dense layer with two output neurons, and no activation function"
   ]
  },
  {
   "cell_type": "code",
   "execution_count": 18,
   "metadata": {},
   "outputs": [],
   "source": [
    "#### GRADED CELL ####\n",
    "\n",
    "# Complete the following function. \n",
    "# Make sure to not change the function name or arguments.\n",
    "\n",
    "def sequential_linear_regression(input_shape):\n",
    "    \"\"\"\n",
    "    This function takes the input_shape as argument to build a Sequential model as \n",
    "    specified above. \n",
    "    The function should then return the Sequential model.\n",
    "    \"\"\"\n",
    "    #INPUT DIMENSION IS USUALLY INFERRED WHEN FIRST LAYER IS CALLED, BUT IF WE TELL IT, THEN IT CAN INITIALISE BEFORE SEEING THE DATA, since it knows how many weights to make etc\n",
    "    model = Sequential([\n",
    "        Dense(2, input_shape = input_shape)\n",
    "    ])\n",
    "    \n",
    "    return model\n",
    "    "
   ]
  },
  {
   "cell_type": "code",
   "execution_count": 19,
   "metadata": {},
   "outputs": [
    {
     "name": "stdout",
     "output_type": "stream",
     "text": [
      "Model: \"sequential_4\"\n",
      "_________________________________________________________________\n",
      " Layer (type)                Output Shape              Param #   \n",
      "=================================================================\n",
      " dense_4 (Dense)             (None, 2)                 130       \n",
      "                                                                 \n",
      "=================================================================\n",
      "Total params: 130 (520.00 Byte)\n",
      "Trainable params: 130 (520.00 Byte)\n",
      "Non-trainable params: 0 (0.00 Byte)\n",
      "_________________________________________________________________\n"
     ]
    }
   ],
   "source": [
    "# Run your function to build the model and print the model summary\n",
    "\n",
    "lr_model = sequential_linear_regression(input_shape=X_train.shape[1:])\n",
    "lr_model.summary()"
   ]
  },
  {
   "cell_type": "markdown",
   "metadata": {},
   "source": [
    "You should now compile and fit the model to the training data. \n",
    "\n",
    "* The following function takes the following arguments:\n",
    "  * `sequential_model`: a Sequential model to fit to the training data\n",
    "  * `num_epochs`: a positive integer that defines the number of epochs to train the model\n",
    "  * `training_data`: a 2-tuple of Tensors (inputs, targets) for the training data\n",
    "  * `val_data`: a 2-tuple of Tensors (inputs, targets) for the validation data\n",
    "  * `batch_size`: a positive integer that defines the number of examples in each minibatch\n",
    "* The function should compile the model with the mean squared error loss and the SGD optimizer\n",
    "* The function should then fit the model to the training data for `num_epochs` epochs and save the returned history object\n",
    "* Your function should then return the history object\n",
    "\n",
    "_Hint: for the validation data, use the `validation_data` keyword argument (see [the docs](https://www.tensorflow.org/api_docs/python/tf/keras/Model#fit))._"
   ]
  },
  {
   "cell_type": "code",
   "execution_count": 22,
   "metadata": {},
   "outputs": [],
   "source": [
    "#### GRADED CELL ####\n",
    "\n",
    "# Complete the following function. \n",
    "# Make sure to not change the function name or arguments.\n",
    "\n",
    "def compile_and_fit(sequential_model, num_epochs, training_data, val_data, batch_size):\n",
    "    \"\"\"\n",
    "    This function should compile and fit the sequential_model as described above. \n",
    "    The function should then return the history object that is returned from the fit method.\n",
    "    \"\"\"\n",
    "    X_train, y_train = training_data\n",
    "    X_test, y_test = val_data\n",
    "    sequential_model.compile(loss = \"mse\", optimizer = \"sgd\")\n",
    "    history = sequential_model.fit(X_train, y_train, epochs = num_epochs, batch_size = batch_size, validation_data = (X_test, y_test))\n",
    "    return history"
   ]
  },
  {
   "cell_type": "code",
   "execution_count": 23,
   "metadata": {},
   "outputs": [
    {
     "name": "stdout",
     "output_type": "stream",
     "text": [
      "Epoch 1/30\n",
      "WARNING:tensorflow:From d:\\University-local\\Imperial\\Term 2\\Deep Learning\\.venv\\Lib\\site-packages\\keras\\src\\utils\\tf_utils.py:492: The name tf.ragged.RaggedTensorValue is deprecated. Please use tf.compat.v1.ragged.RaggedTensorValue instead.\n",
      "\n",
      "96/96 [==============================] - 1s 2ms/step - loss: 3.7092 - val_loss: 1.8748\n",
      "Epoch 2/30\n",
      "96/96 [==============================] - 0s 1ms/step - loss: 1.7631 - val_loss: 1.6754\n",
      "Epoch 3/30\n",
      "96/96 [==============================] - 0s 1ms/step - loss: 1.5987 - val_loss: 1.5373\n",
      "Epoch 4/30\n",
      "96/96 [==============================] - 0s 1ms/step - loss: 1.4769 - val_loss: 1.4297\n",
      "Epoch 5/30\n",
      "96/96 [==============================] - 0s 1ms/step - loss: 1.3795 - val_loss: 1.3388\n",
      "Epoch 6/30\n",
      "96/96 [==============================] - 0s 1ms/step - loss: 1.2965 - val_loss: 1.2616\n",
      "Epoch 7/30\n",
      "96/96 [==============================] - 0s 1ms/step - loss: 1.2239 - val_loss: 1.1920\n",
      "Epoch 8/30\n",
      "96/96 [==============================] - 0s 1ms/step - loss: 1.1589 - val_loss: 1.1301\n",
      "Epoch 9/30\n",
      "96/96 [==============================] - 0s 1ms/step - loss: 1.1001 - val_loss: 1.0732\n",
      "Epoch 10/30\n",
      "96/96 [==============================] - 0s 1ms/step - loss: 1.0457 - val_loss: 1.0211\n",
      "Epoch 11/30\n",
      "96/96 [==============================] - 0s 1ms/step - loss: 0.9967 - val_loss: 0.9731\n",
      "Epoch 12/30\n",
      "96/96 [==============================] - 0s 1ms/step - loss: 0.9517 - val_loss: 0.9285\n",
      "Epoch 13/30\n",
      "96/96 [==============================] - 0s 1ms/step - loss: 0.9098 - val_loss: 0.8889\n",
      "Epoch 14/30\n",
      "96/96 [==============================] - 0s 1ms/step - loss: 0.8716 - val_loss: 0.8530\n",
      "Epoch 15/30\n",
      "96/96 [==============================] - 0s 1ms/step - loss: 0.8365 - val_loss: 0.8175\n",
      "Epoch 16/30\n",
      "96/96 [==============================] - 0s 1ms/step - loss: 0.8040 - val_loss: 0.7863\n",
      "Epoch 17/30\n",
      "96/96 [==============================] - 0s 1ms/step - loss: 0.7740 - val_loss: 0.7572\n",
      "Epoch 18/30\n",
      "96/96 [==============================] - 0s 1ms/step - loss: 0.7460 - val_loss: 0.7310\n",
      "Epoch 19/30\n",
      "96/96 [==============================] - 0s 1ms/step - loss: 0.7209 - val_loss: 0.7065\n",
      "Epoch 20/30\n",
      "96/96 [==============================] - 0s 1ms/step - loss: 0.6973 - val_loss: 0.6840\n",
      "Epoch 21/30\n",
      "96/96 [==============================] - 0s 1ms/step - loss: 0.6759 - val_loss: 0.6626\n",
      "Epoch 22/30\n",
      "96/96 [==============================] - 0s 1ms/step - loss: 0.6555 - val_loss: 0.6435\n",
      "Epoch 23/30\n",
      "96/96 [==============================] - 0s 1ms/step - loss: 0.6371 - val_loss: 0.6255\n",
      "Epoch 24/30\n",
      "96/96 [==============================] - 0s 1ms/step - loss: 0.6199 - val_loss: 0.6093\n",
      "Epoch 25/30\n",
      "96/96 [==============================] - 0s 1ms/step - loss: 0.6040 - val_loss: 0.5941\n",
      "Epoch 26/30\n",
      "96/96 [==============================] - 0s 1ms/step - loss: 0.5893 - val_loss: 0.5800\n",
      "Epoch 27/30\n",
      "96/96 [==============================] - 0s 1ms/step - loss: 0.5760 - val_loss: 0.5670\n",
      "Epoch 28/30\n",
      "96/96 [==============================] - 0s 1ms/step - loss: 0.5635 - val_loss: 0.5550\n",
      "Epoch 29/30\n",
      "96/96 [==============================] - 0s 1ms/step - loss: 0.5520 - val_loss: 0.5440\n",
      "Epoch 30/30\n",
      "96/96 [==============================] - 0s 1ms/step - loss: 0.5413 - val_loss: 0.5342\n"
     ]
    }
   ],
   "source": [
    "# Run your function to compile and fit the model\n",
    "\n",
    "history = compile_and_fit(lr_model, num_epochs=30, training_data=(X_train, y_train), \n",
    "                          val_data=(X_val, y_val), batch_size=128)"
   ]
  },
  {
   "cell_type": "code",
   "execution_count": 24,
   "metadata": {},
   "outputs": [
    {
     "data": {
      "image/png": "[encoded data removed]",
      "text/plain": [
       "<Figure size 640x480 with 1 Axes>"
      ]
     },
     "metadata": {},
     "output_type": "display_data"
    }
   ],
   "source": [
    "# Plot the losses\n",
    "\n",
    "plt.plot(history.history['loss'], label='train')\n",
    "plt.plot(history.history['val_loss'], label='val')\n",
    "plt.title(\"Loss vs epochs\")\n",
    "plt.xlabel(\"Epochs\")\n",
    "plt.ylabel(\"MSE loss\")\n",
    "plt.legend()\n",
    "plt.show()"
   ]
  },
  {
   "cell_type": "markdown",
   "metadata": {},
   "source": [
    "We can see that our linear regression model is underfitting.  WE CAN TELL THIS SINCE IT PERFORMS BETTER ON THE VALIDATION SET, IT CLEARLY HASNT LEARNED ENOUGH."
   ]
  },
  {
   "cell_type": "code",
   "execution_count": 25,
   "metadata": {},
   "outputs": [
    {
     "name": "stdout",
     "output_type": "stream",
     "text": [
      "Model train loss: 0.5362328886985779\n",
      "Model validation loss: 0.5342168211936951\n"
     ]
    }
   ],
   "source": [
    "# Compute the train and validation loss of the linear regression Sequential model\n",
    "\n",
    "print(\"Model train loss: {}\".format(lr_model.evaluate(X_train, y_train, verbose=0)))\n",
    "print(\"Model validation loss: {}\".format(lr_model.evaluate(X_val, y_val, verbose=0)))"
   ]
  },
  {
   "cell_type": "markdown",
   "metadata": {},
   "source": [
    "Note that the model above is equivalent to fitting separate linear regression models for each scalar target output (`casual` and `registered`). However, these two models are clearly very closely related, and there is likely to be shared features that would be helpful for both models. \n",
    "\n",
    "In addition, we would like to train a higher capacity model to attempt to alleviate the underfitting we see in the linear regression model.\n",
    "\n",
    "Both of these reasons are motivation for training a deeper multilayer perceptron (MLP) model. This is a higher capacity model that simple linear regression, and we expect that the intermediate features represented by the hidden layers will learn features of the data that are useful for predicting both of the target variables.\n",
    "\n",
    "You should now complete the following `get_mlp` function to build an MLP model according to the following spec:\n",
    "\n",
    "* The function takes the arguments `input_shape` and `hidden_layers`\n",
    "* `hidden_layers` is a list of integers, corresponding to the number of neurons in the hidden layers\n",
    "* The function should build the MLP using the `Sequential` API\n",
    "  * It should use the `input_shape` argument in the first layer of the model\n",
    "  * The hidden layers should each use a ReLU activation function\n",
    "  * The output layer should have 2 neurons, and not use an activation function\n",
    "* The function should then return the model object"
   ]
  },
  {
   "cell_type": "code",
   "execution_count": 26,
   "metadata": {},
   "outputs": [],
   "source": [
    "#### GRADED CELL ####\n",
    "\n",
    "# Complete the following function. \n",
    "# Make sure to not change the function name or arguments.\n",
    "\n",
    "def get_mlp(input_shape, hidden_layers):\n",
    "    \"\"\"\n",
    "    This function takes the input_shape, hidden_layers and output_units as arguments \n",
    "    to build a Sequential model as specified above. \n",
    "    The function should then return the Sequential model.\n",
    "    \"\"\"\n",
    "    model = Sequential()\n",
    "    for i, units in enumerate(hidden_layers):\n",
    "        #for the first layer we tell it the shape so it can be made without the initial compliation\n",
    "        if i == 0:\n",
    "            model.add(Dense(units, activation='relu', input_shape=input_shape))\n",
    "        else:\n",
    "            model.add(Dense(units, activation='relu'))\n",
    "    if len(hidden_layers) > 0:\n",
    "        model.add(Dense(2))\n",
    "    else:\n",
    "        model.add(Dense(2, input_shape=input_shape))\n",
    "    return model\n",
    "    "
   ]
  },
  {
   "cell_type": "code",
   "execution_count": 27,
   "metadata": {},
   "outputs": [
    {
     "name": "stdout",
     "output_type": "stream",
     "text": [
      "Model: \"sequential_5\"\n",
      "_________________________________________________________________\n",
      " Layer (type)                Output Shape              Param #   \n",
      "=================================================================\n",
      " dense_5 (Dense)             (None, 64)                4160      \n",
      "                                                                 \n",
      " dense_6 (Dense)             (None, 32)                2080      \n",
      "                                                                 \n",
      " dense_7 (Dense)             (None, 2)                 66        \n",
      "                                                                 \n",
      "=================================================================\n",
      "Total params: 6306 (24.63 KB)\n",
      "Trainable params: 6306 (24.63 KB)\n",
      "Non-trainable params: 0 (0.00 Byte)\n",
      "_________________________________________________________________\n"
     ]
    }
   ],
   "source": [
    "# Run your function to build the model and print the model summary\n",
    "\n",
    "mlp_model = get_mlp(input_shape=X_train.shape[1:], hidden_layers=[64, 32])\n",
    "mlp_model.summary()"
   ]
  },
  {
   "cell_type": "code",
   "execution_count": 28,
   "metadata": {},
   "outputs": [
    {
     "name": "stdout",
     "output_type": "stream",
     "text": [
      "Epoch 1/30\n",
      "96/96 [==============================] - 1s 2ms/step - loss: 2.6735 - val_loss: 1.4785\n",
      "Epoch 2/30\n",
      "96/96 [==============================] - 0s 1ms/step - loss: 1.2670 - val_loss: 1.0896\n",
      "Epoch 3/30\n",
      "96/96 [==============================] - 0s 1ms/step - loss: 0.9113 - val_loss: 0.7970\n",
      "Epoch 4/30\n",
      "96/96 [==============================] - 0s 1ms/step - loss: 0.6533 - val_loss: 0.5776\n",
      "Epoch 5/30\n",
      "96/96 [==============================] - 0s 1ms/step - loss: 0.5179 - val_loss: 0.5708\n",
      "Epoch 6/30\n",
      "96/96 [==============================] - 0s 1ms/step - loss: 0.4648 - val_loss: 0.4574\n",
      "Epoch 7/30\n",
      "96/96 [==============================] - 0s 1ms/step - loss: 0.4375 - val_loss: 0.5574\n",
      "Epoch 8/30\n",
      "96/96 [==============================] - 0s 1ms/step - loss: 0.4223 - val_loss: 0.4221\n",
      "Epoch 9/30\n",
      "96/96 [==============================] - 0s 1ms/step - loss: 0.4070 - val_loss: 0.4117\n",
      "Epoch 10/30\n",
      "96/96 [==============================] - 0s 1ms/step - loss: 0.3947 - val_loss: 0.4038\n",
      "Epoch 11/30\n",
      "96/96 [==============================] - 0s 1ms/step - loss: 0.3831 - val_loss: 0.4647\n",
      "Epoch 12/30\n",
      "96/96 [==============================] - 0s 1ms/step - loss: 0.3719 - val_loss: 0.3775\n",
      "Epoch 13/30\n",
      "96/96 [==============================] - 0s 1ms/step - loss: 0.3596 - val_loss: 0.4103\n",
      "Epoch 14/30\n",
      "96/96 [==============================] - 0s 1ms/step - loss: 0.3483 - val_loss: 0.3718\n",
      "Epoch 15/30\n",
      "96/96 [==============================] - 0s 1ms/step - loss: 0.3369 - val_loss: 0.3573\n",
      "Epoch 16/30\n",
      "96/96 [==============================] - 0s 1ms/step - loss: 0.3251 - val_loss: 0.3447\n",
      "Epoch 17/30\n",
      "96/96 [==============================] - 0s 1ms/step - loss: 0.3152 - val_loss: 0.3431\n",
      "Epoch 18/30\n",
      "96/96 [==============================] - 0s 1ms/step - loss: 0.3054 - val_loss: 0.3217\n",
      "Epoch 19/30\n",
      "96/96 [==============================] - 0s 1ms/step - loss: 0.2970 - val_loss: 0.3438\n",
      "Epoch 20/30\n",
      "96/96 [==============================] - 0s 1ms/step - loss: 0.2886 - val_loss: 0.3117\n",
      "Epoch 21/30\n",
      "96/96 [==============================] - 0s 1ms/step - loss: 0.2813 - val_loss: 0.3061\n",
      "Epoch 22/30\n",
      "96/96 [==============================] - 0s 1ms/step - loss: 0.2746 - val_loss: 0.3085\n",
      "Epoch 23/30\n",
      "96/96 [==============================] - 0s 1ms/step - loss: 0.2685 - val_loss: 0.2990\n",
      "Epoch 24/30\n",
      "96/96 [==============================] - 0s 1ms/step - loss: 0.2641 - val_loss: 0.3149\n",
      "Epoch 25/30\n",
      "96/96 [==============================] - 0s 1ms/step - loss: 0.2594 - val_loss: 0.4054\n",
      "Epoch 26/30\n",
      "96/96 [==============================] - 0s 1ms/step - loss: 0.2578 - val_loss: 0.2720\n",
      "Epoch 27/30\n",
      "96/96 [==============================] - 0s 1ms/step - loss: 0.2521 - val_loss: 0.2735\n",
      "Epoch 28/30\n",
      "96/96 [==============================] - 0s 1ms/step - loss: 0.2500 - val_loss: 0.3137\n",
      "Epoch 29/30\n",
      "96/96 [==============================] - 0s 1ms/step - loss: 0.2482 - val_loss: 0.2834\n",
      "Epoch 30/30\n",
      "96/96 [==============================] - 0s 1ms/step - loss: 0.2458 - val_loss: 0.2625\n"
     ]
    }
   ],
   "source": [
    "# Run your compile_and_fit function on the MLP\n",
    "\n",
    "history = compile_and_fit(mlp_model, num_epochs=30, training_data=(X_train, y_train), \n",
    "                          val_data=(X_val, y_val), batch_size=128)"
   ]
  },
  {
   "cell_type": "code",
   "execution_count": 29,
   "metadata": {},
   "outputs": [
    {
     "data": {
      "image/png": "[encoded data removed]",
      "text/plain": [
       "<Figure size 640x480 with 1 Axes>"
      ]
     },
     "metadata": {},
     "output_type": "display_data"
    }
   ],
   "source": [
    "# Plot the losses\n",
    "\n",
    "plt.plot(history.history['loss'], label='train')\n",
    "plt.plot(history.history['val_loss'], label='val')\n",
    "plt.title(\"Loss vs epochs\")\n",
    "plt.xlabel(\"Epochs\")\n",
    "plt.ylabel(\"MSE loss\")\n",
    "plt.legend()\n",
    "plt.show()"
   ]
  },
  {
   "cell_type": "code",
   "execution_count": 30,
   "metadata": {},
   "outputs": [
    {
     "name": "stdout",
     "output_type": "stream",
     "text": [
      "Model train loss: 0.24335744976997375\n",
      "Model validation loss: 0.26246485114097595\n"
     ]
    }
   ],
   "source": [
    "# Compute the train and validation loss of the linear regression Sequential model\n",
    "\n",
    "print(\"Model train loss: {}\".format(mlp_model.evaluate(X_train, y_train, verbose=0)))\n",
    "print(\"Model validation loss: {}\".format(mlp_model.evaluate(X_val, y_val, verbose=0)))\n",
    "\n",
    "#THIS IS MUCH LOWER, and validtion is worse than training, which is sort of what we expect."
   ]
  },
  {
   "cell_type": "markdown",
   "metadata": {},
   "source": [
    "The model performance has improved significantly using the MLP instead of linear regression. However, there is still room for improvement - the model is still underfitting and so we should try further increasing the capacity. You should try re-building and training MLP models for different hyperparameter settings to see how much you are able to improve the performance."
   ]
  },
  {
   "cell_type": "markdown",
   "metadata": {},
   "source": [
    "Congratulations on completing this week's assignment! You have now implemented linear regression using the Keras API, as well as an MLP model, and compared the performance."
   ]
  }
 ],
 "metadata": {
  "kernelspec": {
   "display_name": "Python 3 (ipykernel)",
   "language": "python",
   "name": "python3"
  },
  "language_info": {
   "codemirror_mode": {
    "name": "ipython",
    "version": 3
   },
   "file_extension": ".py",
   "mimetype": "text/x-python",
   "name": "python",
   "nbconvert_exporter": "python",
   "pygments_lexer": "ipython3",
   "version": "3.11.6"
  }
 },
 "nbformat": 4,
 "nbformat_minor": 2
}
