{
 "cells": [
  {
   "cell_type": "markdown",
   "id": "d7e6c497",
   "metadata": {},
   "source": [
    "# Deep Learning\n",
    "## Summative assessment\n",
    "### Coursework 1: MLPs and Backpropagation\n",
    "\n",
    "\n",
    "CID: 02476922\n",
    "\n",
    "I, 02476922, certify that this assessed coursework is my own work, unless otherwise acknowledged, and includes no\n",
    "plagiarism. I have not discussed my coursework with anyone else except when seeking clarification with the module\n",
    "lecturer via email or on MS Teams. I have not shared any code underlying my coursework with anyone else prior to\n",
    "submission."
   ]
  },
  {
   "cell_type": "markdown",
   "id": "bedeb7a9",
   "metadata": {},
   "source": [
    "#### Instructions\n",
    "\n",
    "This coursework is released on **Wednesday 31st January 9.00** and is due by **Wednesday 7th February 23.59**. It is worth **10%** of your overall mark. There are 3 questions in this assessment, worth a total of 90 marks. A further 10 marks are awarded for good code quality, clarity and presentation. **You should attempt to answer all questions.** \n",
    "\n",
    "This assessment mainly assesses your understanding of the multilayer perceptron model and the backpropagation algorithm, as well as your ability to use the high-level Keras API.\n",
    "\n",
    "You can make imports as and when you need them throughout the notebook, and add code cells where necessary. Make sure your notebook executes correctly in sequence before submitting.\n",
    "\n",
    "#### Submission instructions\n",
    "\n",
    "Ensure your notebook executes correctly in order. Save your notebook .ipynb file **after you have executed it** (so that outputs are all showing). It is recommended to also export a PDF file of your executed notebook. Upload a zip file containing your notebook (and separate PDF file) to Coursera by the deadline above."
   ]
  },
  {
   "cell_type": "code",
   "execution_count": 25,
   "id": "0942eeef",
   "metadata": {},
   "outputs": [],
   "source": [
    "# You will need the following imports for this assessment. You can make additional imports when you need them\n",
    "\n",
    "import tensorflow as tf\n",
    "import numpy as np\n",
    "import matplotlib.pyplot as plt\n",
    "\n",
    "# For some reason I have only been able to get it to work using just keras, not tensorflow.keras:\n",
    "from keras.models import Sequential\n",
    "from keras.layers import Dense, Flatten, Activation\n",
    "from keras.callbacks import EarlyStopping, ModelCheckpoint\n",
    "\n",
    "from sklearn.model_selection import train_test_split\n",
    "\n",
    "#from tensorflow.keras.models import Sequential\n",
    "#from tensorflow.keras.layers import Dense, Flatten, Activation\n",
    "#from tensorflow.keras.callbacks import EarlyStopping"
   ]
  },
  {
   "cell_type": "markdown",
   "id": "88838a0b",
   "metadata": {},
   "source": [
    "### Question 1 (Total 30 marks)"
   ]
  },
  {
   "cell_type": "markdown",
   "id": "15773a28",
   "metadata": {},
   "source": [
    "a) Load the Boston housing dataset using the Keras API, with a 75/25 train/validation split. \n",
    "\n",
    "Standardise the input features by subtracting the mean and dividing by the standard deviation, where the per-feature statistics are computed from the training dataset. You can use numpy or sklearn for this part if you wish.\n",
    "\n",
    "Load the data into `tf.data.Dataset` objects, shuffle and batch the datasets with a batch size of 32. Print out the `element_spec` of one of the Datasets. \n",
    "\n",
    "**(5 marks)**"
   ]
  },
  {
   "cell_type": "code",
   "execution_count": 26,
   "id": "dcc796e6",
   "metadata": {},
   "outputs": [],
   "source": [
    "data = tf.keras.datasets.boston_housing.load_data(test_split=0.25)\n",
    "train_data, val_data = data\n",
    "\n",
    "#standardise the input features for both training and val data using the means and sds from the training data\n",
    "train_mean = np.mean(train_data[0],axis = 0)\n",
    "train_std = np.std(train_data[0],axis = 0)\n",
    "\n",
    "#redefine\n",
    "train_data = ((train_data[0] - train_mean)/train_std, train_data[1])\n",
    "val_data = ((val_data[0] - train_mean)/train_std,val_data[1])"
   ]
  },
  {
   "cell_type": "code",
   "execution_count": 27,
   "id": "742e8ff4",
   "metadata": {},
   "outputs": [],
   "source": [
    "\n",
    "#load into datasets\n",
    "train_dataset = tf.data.Dataset.from_tensor_slices(train_data)\n",
    "val_dataset = tf.data.Dataset.from_tensor_slices(val_data)\n"
   ]
  },
  {
   "cell_type": "code",
   "execution_count": 28,
   "id": "bdb7822a",
   "metadata": {},
   "outputs": [],
   "source": [
    "#shuffle and batch\n",
    "train_dataset = train_dataset.shuffle(buffer_size=train_data[0].shape[0])\n",
    "val_dataset = val_dataset.shuffle(buffer_size=val_data[0].shape[0])\n",
    "batch_size = 32\n",
    "train_dataset = train_dataset.batch(batch_size)\n",
    "val_dataset = val_dataset.batch(batch_size)"
   ]
  },
  {
   "cell_type": "code",
   "execution_count": 29,
   "id": "f1c8d3d5",
   "metadata": {},
   "outputs": [
    {
     "name": "stdout",
     "output_type": "stream",
     "text": [
      "(TensorSpec(shape=(None, 13), dtype=tf.float64, name=None), TensorSpec(shape=(None,), dtype=tf.float64, name=None))\n"
     ]
    }
   ],
   "source": [
    "print(train_dataset.element_spec)"
   ]
  },
  {
   "cell_type": "markdown",
   "id": "43f13309",
   "metadata": {},
   "source": [
    "b) Create a TensorFlow `Sequential` model object according to the following spec:\n",
    "\n",
    "* The model should have 2 hidden layers, with 32 and 16 neurons respectively\n",
    "* Each hidden layer should use a 'swish' activation\n",
    "\n",
    "The model should be an multilayer perceptron (MLP) model suitable for regression on the Boston housing dataset.\n",
    "\n",
    "Train the model for 300 epochs using the training Dataset object, but terminate the training if the validation mean absolute error (MAE) doesn't improve after 30 epochs. Use the stochastic gradient descent (SGD) optimizer with Nesterov momentum, with the momentum hyperparameter set to 0.9, and a learning rate of $10^{-3}$. You should use the high-level Keras API (using `compile`, `fit` methods) for this. The model should be trained with a mean squared error (MSE) loss function. The mean absolute error should also be computed and recorded on the training and validation sets.\n",
    "\n",
    "Plot the MSE and MAE learning curves for training and validation sets, and compute the MSE loss and MAE on the validation set for the best set of model parameters (according to the validation set MAE).\n",
    "\n",
    "**(15 marks)**"
   ]
  },
  {
   "cell_type": "code",
   "execution_count": 30,
   "id": "7c798291",
   "metadata": {},
   "outputs": [],
   "source": [
    "model = Sequential([\n",
    "    Dense(32, activation = \"swish\", input_shape = train_data[0].shape[1:]),\n",
    "    Dense(16, activation = \"swish\"),\n",
    "    #output layer, which has 1 neuron since the output is a scalar\n",
    "    Dense(1)\n",
    "])"
   ]
  },
  {
   "cell_type": "code",
   "execution_count": 31,
   "id": "cb2208c6",
   "metadata": {},
   "outputs": [],
   "source": [
    "#setup optimizer and compile model\n",
    "opt = tf.keras.optimizers.SGD(learning_rate = 1e-3,momentum=0.9, nesterov=True)\n",
    "model.compile(optimizer = opt, loss = \"mse\", metrics = [\"mae\"])\n"
   ]
  },
  {
   "cell_type": "code",
   "execution_count": 32,
   "id": "ef930df7",
   "metadata": {
    "scrolled": true
   },
   "outputs": [
    {
     "name": "stdout",
     "output_type": "stream",
     "text": [
      "Epoch 1/300\n"
     ]
    },
    {
     "name": "stdout",
     "output_type": "stream",
     "text": [
      "12/12 [==============================] - 1s 11ms/step - loss: 421.2399 - mae: 18.1828 - val_loss: 139.2269 - val_mae: 8.3384\n",
      "Epoch 2/300\n",
      "12/12 [==============================] - 0s 3ms/step - loss: 46.1990 - mae: 4.6874 - val_loss: 20.4277 - val_mae: 3.3454\n",
      "Epoch 3/300\n",
      "12/12 [==============================] - 0s 3ms/step - loss: 19.6276 - mae: 3.1118 - val_loss: 23.6081 - val_mae: 3.2753\n",
      "Epoch 4/300\n",
      "12/12 [==============================] - 0s 3ms/step - loss: 14.4015 - mae: 2.7562 - val_loss: 18.6807 - val_mae: 2.8757\n",
      "Epoch 5/300\n",
      "12/12 [==============================] - 0s 2ms/step - loss: 12.4504 - mae: 2.4390 - val_loss: 20.9537 - val_mae: 2.9311\n",
      "Epoch 6/300\n",
      "12/12 [==============================] - 0s 3ms/step - loss: 11.6235 - mae: 2.3732 - val_loss: 19.9327 - val_mae: 2.8167\n",
      "Epoch 7/300\n",
      "12/12 [==============================] - 0s 2ms/step - loss: 10.7535 - mae: 2.3250 - val_loss: 22.0394 - val_mae: 2.8175\n",
      "Epoch 8/300\n",
      "12/12 [==============================] - 0s 2ms/step - loss: 10.5137 - mae: 2.2810 - val_loss: 22.7863 - val_mae: 2.9339\n",
      "Epoch 9/300\n",
      "12/12 [==============================] - 0s 3ms/step - loss: 10.1448 - mae: 2.2988 - val_loss: 18.6564 - val_mae: 2.7254\n",
      "Epoch 10/300\n",
      "12/12 [==============================] - 0s 3ms/step - loss: 9.8582 - mae: 2.2056 - val_loss: 16.2753 - val_mae: 2.6135\n",
      "Epoch 11/300\n",
      "12/12 [==============================] - 0s 2ms/step - loss: 9.5660 - mae: 2.1979 - val_loss: 18.6498 - val_mae: 2.6679\n",
      "Epoch 12/300\n",
      "12/12 [==============================] - 0s 2ms/step - loss: 10.0326 - mae: 2.2175 - val_loss: 17.2118 - val_mae: 2.6422\n",
      "Epoch 13/300\n",
      "12/12 [==============================] - 0s 2ms/step - loss: 9.0794 - mae: 2.1249 - val_loss: 19.8831 - val_mae: 2.7165\n",
      "Epoch 14/300\n",
      "12/12 [==============================] - 0s 3ms/step - loss: 9.5689 - mae: 2.2420 - val_loss: 15.6050 - val_mae: 2.5474\n",
      "Epoch 15/300\n",
      "12/12 [==============================] - 0s 3ms/step - loss: 8.7989 - mae: 2.0874 - val_loss: 16.2097 - val_mae: 2.5379\n",
      "Epoch 16/300\n",
      "12/12 [==============================] - 0s 3ms/step - loss: 8.7930 - mae: 2.1187 - val_loss: 15.0862 - val_mae: 2.5361\n",
      "Epoch 17/300\n",
      "12/12 [==============================] - 0s 2ms/step - loss: 8.5489 - mae: 2.0761 - val_loss: 17.0557 - val_mae: 2.5927\n",
      "Epoch 18/300\n",
      "12/12 [==============================] - 0s 2ms/step - loss: 8.1941 - mae: 2.0576 - val_loss: 19.1943 - val_mae: 2.7442\n",
      "Epoch 19/300\n",
      "12/12 [==============================] - 0s 3ms/step - loss: 9.0038 - mae: 2.1909 - val_loss: 15.1010 - val_mae: 2.5137\n",
      "Epoch 20/300\n",
      "12/12 [==============================] - 0s 2ms/step - loss: 7.9906 - mae: 2.0202 - val_loss: 18.4139 - val_mae: 2.6618\n",
      "Epoch 21/300\n",
      "12/12 [==============================] - 0s 3ms/step - loss: 8.0797 - mae: 2.0421 - val_loss: 13.8862 - val_mae: 2.3729\n",
      "Epoch 22/300\n",
      "12/12 [==============================] - 0s 2ms/step - loss: 7.7224 - mae: 2.0012 - val_loss: 15.9335 - val_mae: 2.5197\n",
      "Epoch 23/300\n",
      "12/12 [==============================] - 0s 2ms/step - loss: 8.0770 - mae: 2.0437 - val_loss: 15.4533 - val_mae: 2.6233\n",
      "Epoch 24/300\n",
      "12/12 [==============================] - 0s 2ms/step - loss: 7.4812 - mae: 1.9913 - val_loss: 13.2183 - val_mae: 2.4515\n",
      "Epoch 25/300\n",
      "12/12 [==============================] - 0s 2ms/step - loss: 7.5742 - mae: 1.9629 - val_loss: 15.4272 - val_mae: 2.4792\n",
      "Epoch 26/300\n",
      "12/12 [==============================] - 0s 2ms/step - loss: 7.6540 - mae: 1.9929 - val_loss: 13.5262 - val_mae: 2.3767\n",
      "Epoch 27/300\n",
      "12/12 [==============================] - 0s 3ms/step - loss: 7.4155 - mae: 1.9548 - val_loss: 13.0339 - val_mae: 2.3250\n",
      "Epoch 28/300\n",
      "12/12 [==============================] - 0s 2ms/step - loss: 7.5385 - mae: 1.9742 - val_loss: 13.3545 - val_mae: 2.3808\n",
      "Epoch 29/300\n",
      "12/12 [==============================] - 0s 2ms/step - loss: 8.1214 - mae: 2.0710 - val_loss: 13.2408 - val_mae: 2.4692\n",
      "Epoch 30/300\n",
      "12/12 [==============================] - 0s 2ms/step - loss: 7.6923 - mae: 2.0076 - val_loss: 13.6860 - val_mae: 2.5314\n",
      "Epoch 31/300\n",
      "12/12 [==============================] - 0s 2ms/step - loss: 7.1733 - mae: 1.9365 - val_loss: 13.6454 - val_mae: 2.4173\n",
      "Epoch 32/300\n",
      "12/12 [==============================] - 0s 2ms/step - loss: 7.2723 - mae: 1.9510 - val_loss: 12.6869 - val_mae: 2.3829\n",
      "Epoch 33/300\n",
      "12/12 [==============================] - 0s 2ms/step - loss: 6.8385 - mae: 1.8925 - val_loss: 13.0966 - val_mae: 2.4577\n",
      "Epoch 34/300\n",
      "12/12 [==============================] - 0s 2ms/step - loss: 7.0879 - mae: 1.9189 - val_loss: 14.5584 - val_mae: 2.5406\n",
      "Epoch 35/300\n",
      "12/12 [==============================] - 0s 3ms/step - loss: 7.5920 - mae: 2.0566 - val_loss: 12.0426 - val_mae: 2.3239\n",
      "Epoch 36/300\n",
      "12/12 [==============================] - 0s 2ms/step - loss: 6.6503 - mae: 1.8896 - val_loss: 11.7992 - val_mae: 2.3485\n",
      "Epoch 37/300\n",
      "12/12 [==============================] - 0s 3ms/step - loss: 6.8326 - mae: 1.8910 - val_loss: 11.0513 - val_mae: 2.2864\n",
      "Epoch 38/300\n",
      "12/12 [==============================] - 0s 2ms/step - loss: 6.4432 - mae: 1.8313 - val_loss: 12.5350 - val_mae: 2.3329\n",
      "Epoch 39/300\n",
      "12/12 [==============================] - 0s 2ms/step - loss: 6.6290 - mae: 1.8768 - val_loss: 11.5409 - val_mae: 2.3585\n",
      "Epoch 40/300\n",
      "12/12 [==============================] - 0s 2ms/step - loss: 6.2917 - mae: 1.8198 - val_loss: 12.4705 - val_mae: 2.4156\n",
      "Epoch 41/300\n",
      "12/12 [==============================] - 0s 2ms/step - loss: 6.1714 - mae: 1.8098 - val_loss: 11.8082 - val_mae: 2.3613\n",
      "Epoch 42/300\n",
      "12/12 [==============================] - 0s 2ms/step - loss: 5.9734 - mae: 1.7581 - val_loss: 11.5202 - val_mae: 2.3618\n",
      "Epoch 43/300\n",
      "12/12 [==============================] - 0s 2ms/step - loss: 6.3913 - mae: 1.8719 - val_loss: 10.6987 - val_mae: 2.2894\n",
      "Epoch 44/300\n",
      "12/12 [==============================] - 0s 2ms/step - loss: 5.9985 - mae: 1.7865 - val_loss: 11.5165 - val_mae: 2.4142\n",
      "Epoch 45/300\n",
      "12/12 [==============================] - 0s 2ms/step - loss: 6.2600 - mae: 1.7983 - val_loss: 12.2082 - val_mae: 2.3675\n",
      "Epoch 46/300\n",
      "12/12 [==============================] - 0s 2ms/step - loss: 5.9747 - mae: 1.7790 - val_loss: 11.1458 - val_mae: 2.3224\n",
      "Epoch 47/300\n",
      "12/12 [==============================] - 0s 2ms/step - loss: 5.7743 - mae: 1.7658 - val_loss: 11.0459 - val_mae: 2.3564\n",
      "Epoch 48/300\n",
      "12/12 [==============================] - 0s 2ms/step - loss: 6.0942 - mae: 1.7830 - val_loss: 10.7659 - val_mae: 2.3481\n",
      "Epoch 49/300\n",
      "12/12 [==============================] - 0s 2ms/step - loss: 5.9287 - mae: 1.7945 - val_loss: 10.6032 - val_mae: 2.3062\n",
      "Epoch 50/300\n",
      "12/12 [==============================] - 0s 3ms/step - loss: 5.8277 - mae: 1.7867 - val_loss: 10.8479 - val_mae: 2.3449\n",
      "Epoch 51/300\n",
      "12/12 [==============================] - 0s 2ms/step - loss: 5.5660 - mae: 1.7495 - val_loss: 11.3080 - val_mae: 2.4010\n",
      "Epoch 52/300\n",
      "12/12 [==============================] - 0s 2ms/step - loss: 5.4058 - mae: 1.6886 - val_loss: 10.6907 - val_mae: 2.3046\n",
      "Epoch 53/300\n",
      "12/12 [==============================] - 0s 2ms/step - loss: 5.9159 - mae: 1.8075 - val_loss: 10.4224 - val_mae: 2.3210\n",
      "Epoch 54/300\n",
      "12/12 [==============================] - 0s 2ms/step - loss: 5.6257 - mae: 1.7377 - val_loss: 11.5687 - val_mae: 2.4965\n",
      "Epoch 55/300\n",
      "12/12 [==============================] - 0s 3ms/step - loss: 5.6569 - mae: 1.7707 - val_loss: 10.2234 - val_mae: 2.2587\n",
      "Epoch 56/300\n",
      "12/12 [==============================] - 0s 2ms/step - loss: 5.3641 - mae: 1.7305 - val_loss: 10.8981 - val_mae: 2.2974\n",
      "Epoch 57/300\n",
      "12/12 [==============================] - 0s 3ms/step - loss: 5.3924 - mae: 1.6991 - val_loss: 10.5241 - val_mae: 2.2478\n",
      "Epoch 58/300\n",
      "12/12 [==============================] - 0s 2ms/step - loss: 5.1889 - mae: 1.7063 - val_loss: 11.0755 - val_mae: 2.4074\n",
      "Epoch 59/300\n",
      "12/12 [==============================] - 0s 2ms/step - loss: 5.3482 - mae: 1.6921 - val_loss: 10.4888 - val_mae: 2.2920\n",
      "Epoch 60/300\n",
      "12/12 [==============================] - 0s 2ms/step - loss: 4.9443 - mae: 1.6656 - val_loss: 10.3725 - val_mae: 2.2728\n",
      "Epoch 61/300\n",
      "12/12 [==============================] - 0s 2ms/step - loss: 4.9333 - mae: 1.6376 - val_loss: 11.2504 - val_mae: 2.3810\n",
      "Epoch 62/300\n",
      "12/12 [==============================] - 0s 2ms/step - loss: 5.1152 - mae: 1.6886 - val_loss: 10.4657 - val_mae: 2.2961\n",
      "Epoch 63/300\n",
      "12/12 [==============================] - 0s 2ms/step - loss: 4.9085 - mae: 1.5966 - val_loss: 10.8813 - val_mae: 2.3685\n",
      "Epoch 64/300\n",
      "12/12 [==============================] - 0s 2ms/step - loss: 4.8915 - mae: 1.6339 - val_loss: 10.6387 - val_mae: 2.2643\n",
      "Epoch 65/300\n",
      "12/12 [==============================] - 0s 2ms/step - loss: 5.1280 - mae: 1.6527 - val_loss: 10.7545 - val_mae: 2.3389\n",
      "Epoch 66/300\n",
      "12/12 [==============================] - 0s 2ms/step - loss: 5.1804 - mae: 1.6572 - val_loss: 10.5771 - val_mae: 2.2991\n",
      "Epoch 67/300\n",
      "12/12 [==============================] - 0s 3ms/step - loss: 4.9722 - mae: 1.6370 - val_loss: 10.6650 - val_mae: 2.2385\n",
      "Epoch 68/300\n",
      "12/12 [==============================] - 0s 2ms/step - loss: 4.9222 - mae: 1.6695 - val_loss: 11.3896 - val_mae: 2.3745\n",
      "Epoch 69/300\n",
      "12/12 [==============================] - 0s 2ms/step - loss: 5.4039 - mae: 1.7245 - val_loss: 13.2692 - val_mae: 2.6932\n",
      "Epoch 70/300\n",
      "12/12 [==============================] - 0s 2ms/step - loss: 4.9160 - mae: 1.6654 - val_loss: 10.8545 - val_mae: 2.3327\n",
      "Epoch 71/300\n",
      "12/12 [==============================] - 0s 2ms/step - loss: 4.5064 - mae: 1.6015 - val_loss: 11.3027 - val_mae: 2.4019\n",
      "Epoch 72/300\n",
      "12/12 [==============================] - 0s 2ms/step - loss: 4.5362 - mae: 1.6146 - val_loss: 11.9662 - val_mae: 2.5320\n",
      "Epoch 73/300\n",
      "12/12 [==============================] - 0s 2ms/step - loss: 4.6191 - mae: 1.6194 - val_loss: 11.1034 - val_mae: 2.3876\n",
      "Epoch 74/300\n",
      "12/12 [==============================] - 0s 2ms/step - loss: 4.6035 - mae: 1.5738 - val_loss: 10.7517 - val_mae: 2.2872\n",
      "Epoch 75/300\n",
      "12/12 [==============================] - 0s 2ms/step - loss: 4.4379 - mae: 1.5813 - val_loss: 10.5826 - val_mae: 2.2585\n",
      "Epoch 76/300\n",
      "12/12 [==============================] - 0s 3ms/step - loss: 4.7319 - mae: 1.6118 - val_loss: 11.2300 - val_mae: 2.3374\n",
      "Epoch 77/300\n",
      "12/12 [==============================] - 0s 2ms/step - loss: 4.3573 - mae: 1.5640 - val_loss: 10.8254 - val_mae: 2.3230\n",
      "Epoch 78/300\n",
      "12/12 [==============================] - 0s 2ms/step - loss: 4.3184 - mae: 1.5542 - val_loss: 11.3423 - val_mae: 2.3875\n",
      "Epoch 79/300\n",
      "12/12 [==============================] - 0s 2ms/step - loss: 4.6028 - mae: 1.6229 - val_loss: 11.4068 - val_mae: 2.3707\n",
      "Epoch 80/300\n",
      "12/12 [==============================] - 0s 2ms/step - loss: 4.3806 - mae: 1.5650 - val_loss: 10.8229 - val_mae: 2.3033\n",
      "Epoch 81/300\n",
      "12/12 [==============================] - 0s 2ms/step - loss: 4.6271 - mae: 1.6126 - val_loss: 10.7918 - val_mae: 2.2705\n",
      "Epoch 82/300\n",
      "12/12 [==============================] - 0s 2ms/step - loss: 4.4237 - mae: 1.5983 - val_loss: 10.9436 - val_mae: 2.2799\n",
      "Epoch 83/300\n",
      "12/12 [==============================] - 0s 2ms/step - loss: 4.2798 - mae: 1.5639 - val_loss: 11.6995 - val_mae: 2.4583\n",
      "Epoch 84/300\n",
      "12/12 [==============================] - 0s 2ms/step - loss: 4.1813 - mae: 1.5556 - val_loss: 10.8677 - val_mae: 2.2894\n",
      "Epoch 85/300\n",
      "12/12 [==============================] - 0s 3ms/step - loss: 4.3820 - mae: 1.5560 - val_loss: 10.4098 - val_mae: 2.2079\n",
      "Epoch 86/300\n",
      "12/12 [==============================] - 0s 2ms/step - loss: 4.0412 - mae: 1.5291 - val_loss: 11.7386 - val_mae: 2.4643\n",
      "Epoch 87/300\n",
      "12/12 [==============================] - 0s 2ms/step - loss: 4.0934 - mae: 1.5171 - val_loss: 10.6735 - val_mae: 2.2425\n",
      "Epoch 88/300\n",
      "12/12 [==============================] - 0s 2ms/step - loss: 4.1050 - mae: 1.5398 - val_loss: 11.4870 - val_mae: 2.3760\n",
      "Epoch 89/300\n",
      "12/12 [==============================] - 0s 3ms/step - loss: 4.1015 - mae: 1.4857 - val_loss: 10.9132 - val_mae: 2.2072\n",
      "Epoch 90/300\n",
      "12/12 [==============================] - 0s 2ms/step - loss: 4.2834 - mae: 1.5704 - val_loss: 10.9372 - val_mae: 2.2151\n",
      "Epoch 91/300\n",
      "12/12 [==============================] - 0s 2ms/step - loss: 4.3750 - mae: 1.5694 - val_loss: 13.0436 - val_mae: 2.6735\n",
      "Epoch 92/300\n",
      "12/12 [==============================] - 0s 2ms/step - loss: 4.0530 - mae: 1.5265 - val_loss: 11.3378 - val_mae: 2.3536\n",
      "Epoch 93/300\n",
      "12/12 [==============================] - 0s 3ms/step - loss: 4.1852 - mae: 1.5497 - val_loss: 10.7106 - val_mae: 2.1938\n",
      "Epoch 94/300\n",
      "12/12 [==============================] - 0s 2ms/step - loss: 3.9599 - mae: 1.5189 - val_loss: 10.6680 - val_mae: 2.2113\n",
      "Epoch 95/300\n",
      "12/12 [==============================] - 0s 2ms/step - loss: 3.9983 - mae: 1.5008 - val_loss: 11.0836 - val_mae: 2.3079\n",
      "Epoch 96/300\n",
      "12/12 [==============================] - 0s 2ms/step - loss: 3.8130 - mae: 1.4599 - val_loss: 10.6964 - val_mae: 2.2431\n",
      "Epoch 97/300\n",
      "12/12 [==============================] - 0s 2ms/step - loss: 3.8626 - mae: 1.5049 - val_loss: 12.3227 - val_mae: 2.4466\n",
      "Epoch 98/300\n",
      "12/12 [==============================] - 0s 2ms/step - loss: 3.8065 - mae: 1.4588 - val_loss: 11.3028 - val_mae: 2.3783\n",
      "Epoch 99/300\n",
      "12/12 [==============================] - 0s 2ms/step - loss: 3.6153 - mae: 1.4423 - val_loss: 10.8608 - val_mae: 2.2111\n",
      "Epoch 100/300\n",
      "12/12 [==============================] - 0s 2ms/step - loss: 3.8270 - mae: 1.4672 - val_loss: 10.8297 - val_mae: 2.2082\n",
      "Epoch 101/300\n",
      "12/12 [==============================] - 0s 2ms/step - loss: 3.6134 - mae: 1.4189 - val_loss: 10.7812 - val_mae: 2.2471\n",
      "Epoch 102/300\n",
      "12/12 [==============================] - 0s 2ms/step - loss: 3.6231 - mae: 1.4516 - val_loss: 12.1327 - val_mae: 2.4754\n",
      "Epoch 103/300\n",
      "12/12 [==============================] - 0s 2ms/step - loss: 3.7278 - mae: 1.4583 - val_loss: 11.9921 - val_mae: 2.4952\n",
      "Epoch 104/300\n",
      "12/12 [==============================] - 0s 3ms/step - loss: 3.5888 - mae: 1.4119 - val_loss: 10.8156 - val_mae: 2.1603\n",
      "Epoch 105/300\n",
      "12/12 [==============================] - 0s 2ms/step - loss: 3.6014 - mae: 1.4196 - val_loss: 11.0131 - val_mae: 2.2918\n",
      "Epoch 106/300\n",
      "12/12 [==============================] - 0s 2ms/step - loss: 3.5312 - mae: 1.4076 - val_loss: 10.6226 - val_mae: 2.2169\n",
      "Epoch 107/300\n",
      "12/12 [==============================] - 0s 2ms/step - loss: 3.6075 - mae: 1.4399 - val_loss: 11.1253 - val_mae: 2.2713\n",
      "Epoch 108/300\n",
      "12/12 [==============================] - 0s 2ms/step - loss: 3.4852 - mae: 1.3995 - val_loss: 10.8818 - val_mae: 2.2158\n",
      "Epoch 109/300\n",
      "12/12 [==============================] - 0s 2ms/step - loss: 3.7629 - mae: 1.4743 - val_loss: 11.4682 - val_mae: 2.3188\n",
      "Epoch 110/300\n",
      "12/12 [==============================] - 0s 2ms/step - loss: 3.6534 - mae: 1.4530 - val_loss: 11.1354 - val_mae: 2.2566\n",
      "Epoch 111/300\n",
      "12/12 [==============================] - 0s 2ms/step - loss: 3.5968 - mae: 1.4494 - val_loss: 10.8962 - val_mae: 2.2798\n",
      "Epoch 112/300\n",
      "12/12 [==============================] - 0s 2ms/step - loss: 3.6686 - mae: 1.4515 - val_loss: 11.2340 - val_mae: 2.3218\n",
      "Epoch 113/300\n",
      "12/12 [==============================] - 0s 2ms/step - loss: 3.6360 - mae: 1.4260 - val_loss: 11.5338 - val_mae: 2.2416\n",
      "Epoch 114/300\n",
      "12/12 [==============================] - 0s 3ms/step - loss: 3.4458 - mae: 1.3886 - val_loss: 10.7021 - val_mae: 2.0995\n",
      "Epoch 115/300\n",
      "12/12 [==============================] - 0s 2ms/step - loss: 3.2478 - mae: 1.3515 - val_loss: 10.5745 - val_mae: 2.1455\n",
      "Epoch 116/300\n",
      "12/12 [==============================] - 0s 2ms/step - loss: 3.2325 - mae: 1.3471 - val_loss: 11.1642 - val_mae: 2.3492\n",
      "Epoch 117/300\n",
      "12/12 [==============================] - 0s 2ms/step - loss: 3.4853 - mae: 1.4218 - val_loss: 10.8645 - val_mae: 2.2576\n",
      "Epoch 118/300\n",
      "12/12 [==============================] - 0s 2ms/step - loss: 3.3053 - mae: 1.3656 - val_loss: 10.9281 - val_mae: 2.2568\n",
      "Epoch 119/300\n",
      "12/12 [==============================] - 0s 2ms/step - loss: 3.2300 - mae: 1.3578 - val_loss: 10.8969 - val_mae: 2.2429\n",
      "Epoch 120/300\n",
      "12/12 [==============================] - 0s 2ms/step - loss: 3.1871 - mae: 1.3613 - val_loss: 11.4992 - val_mae: 2.3343\n",
      "Epoch 121/300\n",
      "12/12 [==============================] - 0s 2ms/step - loss: 3.3220 - mae: 1.3967 - val_loss: 10.5059 - val_mae: 2.1707\n",
      "Epoch 122/300\n",
      "12/12 [==============================] - 0s 2ms/step - loss: 3.3727 - mae: 1.3981 - val_loss: 11.0598 - val_mae: 2.3114\n",
      "Epoch 123/300\n",
      "12/12 [==============================] - 0s 2ms/step - loss: 3.0950 - mae: 1.3171 - val_loss: 11.1705 - val_mae: 2.2496\n",
      "Epoch 124/300\n",
      "12/12 [==============================] - 0s 2ms/step - loss: 3.2257 - mae: 1.3747 - val_loss: 11.0573 - val_mae: 2.1516\n",
      "Epoch 125/300\n",
      "12/12 [==============================] - 0s 2ms/step - loss: 3.2358 - mae: 1.3202 - val_loss: 11.0240 - val_mae: 2.2303\n",
      "Epoch 126/300\n",
      "12/12 [==============================] - 0s 2ms/step - loss: 3.1907 - mae: 1.3381 - val_loss: 10.7656 - val_mae: 2.1681\n",
      "Epoch 127/300\n",
      "12/12 [==============================] - 0s 2ms/step - loss: 3.1089 - mae: 1.3555 - val_loss: 11.0781 - val_mae: 2.1328\n",
      "Epoch 128/300\n",
      "12/12 [==============================] - 0s 4ms/step - loss: 3.2652 - mae: 1.3447 - val_loss: 11.2208 - val_mae: 2.2225\n",
      "Epoch 129/300\n",
      "12/12 [==============================] - 0s 2ms/step - loss: 3.1446 - mae: 1.3722 - val_loss: 10.4513 - val_mae: 2.1521\n",
      "Epoch 130/300\n",
      "12/12 [==============================] - 0s 2ms/step - loss: 2.9967 - mae: 1.3072 - val_loss: 11.0994 - val_mae: 2.2568\n",
      "Epoch 131/300\n",
      "12/12 [==============================] - 0s 2ms/step - loss: 2.9983 - mae: 1.3174 - val_loss: 10.5546 - val_mae: 2.1860\n",
      "Epoch 132/300\n",
      "12/12 [==============================] - 0s 2ms/step - loss: 2.9758 - mae: 1.3053 - val_loss: 10.8830 - val_mae: 2.2578\n",
      "Epoch 133/300\n",
      "12/12 [==============================] - 0s 2ms/step - loss: 2.9454 - mae: 1.3206 - val_loss: 10.8494 - val_mae: 2.1571\n",
      "Epoch 134/300\n",
      "12/12 [==============================] - 0s 2ms/step - loss: 2.8839 - mae: 1.2784 - val_loss: 11.2137 - val_mae: 2.3138\n",
      "Epoch 135/300\n",
      "12/12 [==============================] - 0s 2ms/step - loss: 2.8021 - mae: 1.2625 - val_loss: 11.2180 - val_mae: 2.3012\n",
      "Epoch 136/300\n",
      "12/12 [==============================] - 0s 2ms/step - loss: 2.7815 - mae: 1.2694 - val_loss: 10.7630 - val_mae: 2.1584\n",
      "Epoch 137/300\n",
      "12/12 [==============================] - 0s 2ms/step - loss: 2.8771 - mae: 1.3050 - val_loss: 10.6426 - val_mae: 2.1604\n",
      "Epoch 138/300\n",
      "12/12 [==============================] - 0s 2ms/step - loss: 2.8637 - mae: 1.2794 - val_loss: 10.6961 - val_mae: 2.1115\n",
      "Epoch 139/300\n",
      "12/12 [==============================] - 0s 2ms/step - loss: 2.8759 - mae: 1.2803 - val_loss: 10.2764 - val_mae: 2.1040\n",
      "Epoch 140/300\n",
      "12/12 [==============================] - 0s 2ms/step - loss: 2.6891 - mae: 1.2577 - val_loss: 10.6970 - val_mae: 2.1073\n",
      "Epoch 141/300\n",
      "12/12 [==============================] - 0s 2ms/step - loss: 2.8787 - mae: 1.2988 - val_loss: 10.4439 - val_mae: 2.1402\n",
      "Epoch 142/300\n",
      "12/12 [==============================] - 0s 2ms/step - loss: 2.7714 - mae: 1.2664 - val_loss: 11.1335 - val_mae: 2.2216\n",
      "Epoch 143/300\n",
      "12/12 [==============================] - 0s 2ms/step - loss: 2.9177 - mae: 1.2892 - val_loss: 11.3565 - val_mae: 2.3323\n",
      "Epoch 144/300\n",
      "12/12 [==============================] - 0s 2ms/step - loss: 2.7704 - mae: 1.2778 - val_loss: 10.5129 - val_mae: 2.1191\n"
     ]
    }
   ],
   "source": [
    "#setup callbacks\n",
    "earlystopping = EarlyStopping(monitor = \"val_mae\", patience = 30)\n",
    "ckpt = ModelCheckpoint(\"best_model.h5\", monitor = \"val_mae\", save_best_only= True, mode = \"min\")\n",
    "#fit the model\n",
    "history = model.fit(train_dataset, epochs = 300,validation_data = val_dataset,callbacks = [earlystopping,ckpt])"
   ]
  },
  {
   "cell_type": "code",
   "execution_count": 33,
   "id": "82fb01d2",
   "metadata": {},
   "outputs": [
    {
     "data": {
      "image/png": "[encoded data removed]",
      "text/plain": [
       "<Figure size 640x480 with 1 Axes>"
      ]
     },
     "metadata": {},
     "output_type": "display_data"
    }
   ],
   "source": [
    "#original plot\n",
    "plt.plot(history.history['loss'])\n",
    "plt.plot(history.history[\"mae\"])\n",
    "plt.plot(history.history[\"val_loss\"])\n",
    "plt.plot(history.history[\"val_mae\"])\n",
    "plt.title('Metrics vs. epochs')\n",
    "plt.ylabel('Value of metric')\n",
    "plt.xlabel('Epoch')\n",
    "plt.xticks(np.arange(len(history.history['loss']),step = 10))\n",
    "plt.legend(['Training MSE', 'Training MAE', \"Val MSE\",\"Val MAE\"], loc='upper right')\n",
    "plt.show()"
   ]
  },
  {
   "cell_type": "code",
   "execution_count": 34,
   "id": "8c9004be",
   "metadata": {},
   "outputs": [
    {
     "data": {
      "image/png": "[encoded data removed]",
      "text/plain": [
       "<Figure size 640x480 with 1 Axes>"
      ]
     },
     "metadata": {},
     "output_type": "display_data"
    }
   ],
   "source": [
    "#scaled plot\n",
    "plt.plot(history.history['loss'])\n",
    "plt.plot(history.history[\"mae\"])\n",
    "plt.plot(history.history[\"val_loss\"])\n",
    "plt.plot(history.history[\"val_mae\"])\n",
    "plt.title('Metrics vs. epochs')\n",
    "plt.ylabel('Value of metric')\n",
    "plt.xlabel('Epoch')\n",
    "plt.ylim((0,60))\n",
    "plt.xticks(np.arange(len(history.history['loss']),step = 10))\n",
    "plt.legend(['Training MSE', 'Training MAE', \"Val MSE\",\"Val MAE\"], loc='upper right')\n",
    "plt.show()"
   ]
  },
  {
   "cell_type": "code",
   "execution_count": 35,
   "id": "f5a141e0",
   "metadata": {},
   "outputs": [
    {
     "name": "stdout",
     "output_type": "stream",
     "text": [
      "4/4 [==============================] - 0s 2ms/step - loss: 569.0239 - mae: 22.2990\n"
     ]
    },
    {
     "data": {
      "text/plain": [
       "[569.0238647460938, 22.29903221130371]"
      ]
     },
     "execution_count": 35,
     "metadata": {},
     "output_type": "execute_result"
    }
   ],
   "source": [
    "### print out the first model results on the validation set ###\n",
    "model = Sequential([\n",
    "    Dense(32, activation = \"swish\", input_shape = train_data[0].shape[1:]),\n",
    "    Dense(16, activation = \"swish\"),\n",
    "    #output layer, which has 1 neuron since the output is a scalar\n",
    "    Dense(1)\n",
    "])\n",
    "model.compile(optimizer = opt, loss = \"mse\", metrics = [\"mae\"])\n",
    "model.evaluate(val_dataset)\n"
   ]
  },
  {
   "cell_type": "code",
   "execution_count": 36,
   "id": "fdebffca",
   "metadata": {},
   "outputs": [
    {
     "name": "stdout",
     "output_type": "stream",
     "text": [
      "4/4 [==============================] - 0s 2ms/step - loss: 10.7021 - mae: 2.0995\n"
     ]
    },
    {
     "data": {
      "text/plain": [
       "[10.702122688293457, 2.0994672775268555]"
      ]
     },
     "execution_count": 36,
     "metadata": {},
     "output_type": "execute_result"
    }
   ],
   "source": [
    "### print out the best model found using the best validation MAE ###\n",
    "model_best = Sequential([\n",
    "    Dense(32, activation = \"swish\", input_shape = train_data[0].shape[1:]),\n",
    "    Dense(16, activation = \"swish\"),\n",
    "    #output layer, which has 1 neuron since the output is a scalar\n",
    "    Dense(1)\n",
    "])\n",
    "model_best.compile(optimizer = opt, loss = \"mse\", metrics = [\"mae\"])\n",
    "model_best.load_weights(\"best_model.h5\")\n",
    "model_best.evaluate(val_dataset)\n"
   ]
  },
  {
   "cell_type": "markdown",
   "id": "27ae68ac",
   "metadata": {},
   "source": [
    "c) What do you expect would be the effect of training the same model architecture on the Boston housing dataset where the input features have not been standardised? Briefly justify your answer. \n",
    "\n",
    "**(5 marks)**"
   ]
  },
  {
   "cell_type": "markdown",
   "id": "8cd671bc",
   "metadata": {},
   "source": [
    "Due to different features being on different scales, there are a few possibilities. Different weights could converge at different speeds, This should hopefully be aided by using nesterov momentum, since it takes into the accumulated gradient, however, it is not guaranteed to work. This could result in very slow convergence, or in extreme cases, no convergence to the minimum.\n",
    "\n",
    "Another possiblity is that some of the gradients could explode to extremely large values, resulting in numerical overflow when computing the update steps, which could result in NaN values being returned for the MSE and MAE. This is what occured when I tested it."
   ]
  },
  {
   "cell_type": "markdown",
   "id": "ead1e95e-38bb-4fe0-95bc-0985d2b63d29",
   "metadata": {},
   "source": [
    "d) In terms of the computations carried out, describe in a few sentences what the differences would be (if any) between standardising the input features as above, and inserting a batch normalisation layer before the first dense layer of the model. \n",
    "\n",
    "**(5 marks)**"
   ]
  },
  {
   "cell_type": "markdown",
   "id": "9babed92-3ffd-48ec-8e84-b0ad64b4d0c5",
   "metadata": {},
   "source": [
    "If batch normalisation is performed between the input layer and the first hidden layer, then if $\\gamma_j = 1\\ $ and $\\beta_j = 0$  $\\forall \\ j$ in this layer, we would obtain (not including the layer tag for notational convenience) $z_j = \\hat h_j =\\frac{x_j - \\mathbb{E}[x_j]}{\\sqrt {\\text{Var}(x_j)}}$ which would be passed into the first hidden layer ($x_j$ represents the $j$ th component of input $x$). However, there comes a subtle difference between batch normalization and standardisation. In batch normalization, the expectations and variance are estimated using the sample mean and variance for each component. However, since the optimizer we use is stochastic gradient descent, we are using minibatches, and since batch normalization computes these means and variances over each minibatch, this would be slightly different to standardising the entire dataset using the training data statistics at the beginning. The two methods would produce very similar results though, so long as $\\gamma_j = 1\\ $ and $\\beta_j = 0$  $\\forall \\ j$ are fixed, however in practice they are learned parameters."
   ]
  },
  {
   "cell_type": "markdown",
   "id": "e2202a29",
   "metadata": {},
   "source": [
    "### Question 2 (Total 30 marks)"
   ]
  },
  {
   "cell_type": "markdown",
   "id": "c2ee0711",
   "metadata": {},
   "source": [
    "In this question you will empirically study the post-activation statistics in the hidden layers of an MLP model under different initialisation strategies. \n",
    "\n",
    "Consider an MLP model with 5 hidden layers with 8192, 8192, 8192, 4096 and 4096 neurons respectively. Each hidden layer uses a tanh activation function. Let $\\mathbf{W}^{(k)}\\in\\mathbb{R}^{n_{k+1}\\times n_k}$ and $\\mathbf{b}^{(k)}\\in\\mathbb{R}^{n_{k+1}}$ denote the weight matrix and bias vector that map from hidden layer $k$ to hidden layer $k+1$ according to the following:\n",
    "\n",
    "$$\n",
    "\\begin{align}\n",
    "\\mathbf{h}^{(k)} &= \\tanh\\left( \\mathbf{W}^{(k-1)}\\mathbf{h}^{(k-1)} + \\mathbf{b}^{(k-1)} \\right),\\qquad k=1,\\ldots, 5,\n",
    "\\end{align}\n",
    "$$\n",
    "\n",
    "where $\\mathbf{h}^{(0)} \\in \\mathbb{R}^{1024}$ denotes the input layer, $n_k$ is the number of neurons in hidden layer $k$, and the tanh function is applied elementwise. Suppose the input features ${h}_i^{(0)}$ are each independently sampled from $N(0, \\frac{1}{2})$."
   ]
  },
  {
   "cell_type": "markdown",
   "id": "467de7be",
   "metadata": {},
   "source": [
    "a) Compute the (post-)activations of each hidden layer after passing a single input example through the network (where the input example is sampled as described above), and save them in a variable called `layer_activations`. The following initialisation strategy should be used for the model parameters:\n",
    "\n",
    "1. Each element in each weight matrix $\\mathbf{W}^{(k)}\\in\\mathbb{R}^{n_{k+1}\\times n_k}$ is sampled from a standard normal distribution\n",
    "2. Each bias vector $\\mathbf{b}^{(k)}\\in\\mathbb{R}^{n_{k+1}}$ is initialised to zero\n",
    "    \n",
    "Your answer for this part should use only TensorFlow objects and functions, and not use numpy or scipy at all. You can make use of the Keras module if you wish. Weight and bias parameters should be implemented with TF Variable objects.\n",
    "\n",
    "**(10 marks)**"
   ]
  },
  {
   "cell_type": "code",
   "execution_count": 37,
   "id": "b174434e",
   "metadata": {},
   "outputs": [],
   "source": [
    "#a)\n",
    "#create the input tensor\n",
    "input = tf.random.normal(shape = (1024,),stddev = tf.math.sqrt(1/2))\n",
    "\n",
    "#initialise the bias:\n",
    "neurons = [1024,8192,8192,8192,4096,4096]\n",
    "bias = [tf.Variable(tf.zeros(shape = (neurons[i],))) for i in range(1,6)]\n",
    "\n",
    "#create the weight matrices:\n",
    "#the question only asks us about the activations, so dont need to have the extra weight for the output layer\n",
    "W = [tf.Variable(tf.random.normal(shape = (neurons[i+1],neurons[i])) )for i in range(5)]\n"
   ]
  },
  {
   "cell_type": "code",
   "execution_count": 38,
   "id": "486f59bf",
   "metadata": {},
   "outputs": [],
   "source": [
    "#pad the array with the input as the first \"activation\"\n",
    "layer_activations = [input]\n",
    "\n",
    "#now, we do each layer:\n",
    "for i in range(0,5):\n",
    "    a = tf.tensordot(W[i],layer_activations[i],axes = 1) + bias[i]\n",
    "    h = tf.math.tanh(a)\n",
    "    layer_activations.append(h)\n",
    "    \n",
    "#then drop the first element, since we only want activations from each hidden layer\n",
    "layer_activations = layer_activations[1:]\n",
    "#print shapes\n",
    "#print(len(layer_activations))\n",
    "#print(layer_activations[0].shape)\n",
    "#print(layer_activations[1].shape)\n",
    "#print(layer_activations[2].shape)\n",
    "#print(layer_activations[3].shape)\n",
    "#print(layer_activations[4].shape)"
   ]
  },
  {
   "cell_type": "markdown",
   "id": "5281d649",
   "metadata": {},
   "source": [
    "b) Create a plot for the normalised (density) histograms for the activation statistics in each of the hidden layers. Briefly comment on the result.\n",
    "\n",
    "**(5 marks)**"
   ]
  },
  {
   "cell_type": "code",
   "execution_count": 39,
   "id": "c1da0756",
   "metadata": {},
   "outputs": [
    {
     "data": {
      "image/png": "[encoded data removed]",
      "text/plain": [
       "<Figure size 640x480 with 6 Axes>"
      ]
     },
     "metadata": {},
     "output_type": "display_data"
    }
   ],
   "source": [
    "fig,axs = plt.subplots(nrows = 2, ncols =3)\n",
    "for j in range(2):\n",
    "    for i in range(3):\n",
    "        if (i == 2) & (j == 1):\n",
    "            pass\n",
    "        else:\n",
    "            axs[j,i].hist(layer_activations[i + 3*j],density = True)\n",
    "            axs[j,i].set_title(\"Layer {}\".format(i+3*j+1))\n",
    "        \n"
   ]
  },
  {
   "cell_type": "markdown",
   "id": "6d84a0c5",
   "metadata": {},
   "source": [
    "We see that with this initialisation strategy, by the first layer, the activations have become saturated, mainly taking values at the saturation points for the tanh activation function, being -1 and 1. It is then very difficult for the neural network to get away from these points, resulting in very similar results in the other hidden layers. Granted, this was only for one pass, however, it still illustrates this issue."
   ]
  },
  {
   "cell_type": "markdown",
   "id": "37ffb5db",
   "metadata": {},
   "source": [
    "c) Re-compute the activation statistics for the MLP under two different initialisation strategies:\n",
    "\n",
    "1. Glorot normal distribution initialisation for the weights $\\mathbf{W}^{(k)}\\in\\mathbb{R}^{n_{k+1}\\times n_k}$ and zero initialisation for the bias $\\mathbf{b}^{(k)}\\in\\mathbb{R}^{n_{k+1}}$ for $k=0,\\ldots,4$\n",
    "1. Glorot uniform distribution initialisation for the weights $\\mathbf{W}^{(k)}\\in\\mathbb{R}^{n_{k+1}\\times n_k}$ and zero initialisation for the bias $\\mathbf{b}^{(k)}\\in\\mathbb{R}^{n_{k+1}}$ for $k=0,\\ldots,4$\n",
    "\n",
    "For each initialisation strategy above, plot normalised histograms for the activation statistics in each hidden layer.\n",
    "\n",
    "**(10 marks)**"
   ]
  },
  {
   "cell_type": "code",
   "execution_count": 40,
   "id": "e330a931",
   "metadata": {},
   "outputs": [],
   "source": [
    "#use the same input as above, and the same initialised bias, just do the weight differently:\n",
    "#create an array of the stds:\n",
    "\n",
    "#recall neurons = [1024,8192,8192,8192,4096,4096]\n",
    "std = [tf.math.sqrt(2/(neurons[i] + neurons[i+1])) for i in range(5)]\n",
    "W = [tf.Variable(tf.random.normal(shape = (neurons[i+1],neurons[i]), stddev = std[i]))for i in range(5)]\n",
    "\n",
    "#repeat the forward pass:\n",
    "\n",
    "#pad the array with the input as the first \"activation\"\n",
    "layer_activations = [input]\n",
    "\n",
    "#now, we do each layer:\n",
    "for i in range(0,5):\n",
    "    a = tf.tensordot(W[i],layer_activations[i],axes = 1) + bias[i]\n",
    "    h = tf.math.tanh(a)\n",
    "    layer_activations.append(h)\n",
    "    \n",
    "#then drop the first element:\n",
    "layer_activations = layer_activations[1:]"
   ]
  },
  {
   "cell_type": "code",
   "execution_count": 41,
   "id": "6478ba44",
   "metadata": {},
   "outputs": [
    {
     "data": {
      "image/png": "[encoded data removed]",
      "text/plain": [
       "<Figure size 640x480 with 6 Axes>"
      ]
     },
     "metadata": {},
     "output_type": "display_data"
    }
   ],
   "source": [
    "#plot\n",
    "fig,axs = plt.subplots(nrows = 2, ncols =3)\n",
    "for j in range(2):\n",
    "    for i in range(3):\n",
    "        if (i == 2) & (j == 1):\n",
    "            pass\n",
    "        else:\n",
    "            axs[j,i].hist(layer_activations[i + 3*j],density = True,bins = 100)\n",
    "            axs[j,i].set_title(\"Layer {}\".format(i+3*j+1))\n",
    "        \n"
   ]
  },
  {
   "cell_type": "code",
   "execution_count": 42,
   "id": "50541fa8",
   "metadata": {},
   "outputs": [],
   "source": [
    "# Now for the uniform version, we can use the same stddev array as above, just change the weight array, using the min and max value from lectures:\n",
    "a = tf.math.sqrt(float(3)) * std\n",
    "\n",
    "W = [tf.Variable(tf.random.uniform(shape = (neurons[i+1],neurons[i]), minval = -a[i], maxval = a[i]))for i in range(5)]\n",
    "\n",
    "layer_activations = [input]\n",
    "#now, we do each layer:\n",
    "for i in range(0,5):\n",
    "    a = tf.tensordot(W[i],layer_activations[i],axes = 1) + bias[i]\n",
    "    h = tf.math.tanh(a)\n",
    "    layer_activations.append(h)\n",
    "    \n",
    "#then drop the first element:\n",
    "layer_activations = layer_activations[1:]\n"
   ]
  },
  {
   "cell_type": "code",
   "execution_count": 43,
   "id": "961a7e37",
   "metadata": {},
   "outputs": [
    {
     "data": {
      "image/png": "[encoded data removed]",
      "text/plain": [
       "<Figure size 640x480 with 6 Axes>"
      ]
     },
     "metadata": {},
     "output_type": "display_data"
    }
   ],
   "source": [
    "#now plot:\n",
    "#plot\n",
    "fig,axs = plt.subplots(nrows = 2, ncols =3)\n",
    "for j in range(2):\n",
    "    for i in range(3):\n",
    "        if (i == 2) & (j == 1):\n",
    "            pass\n",
    "        else:\n",
    "            axs[j,i].hist(layer_activations[i + 3*j],density = True,bins = 100)\n",
    "            axs[j,i].set_title(\"Layer {}\".format(i+3*j+1))\n",
    "        \n"
   ]
  },
  {
   "cell_type": "markdown",
   "id": "8e5592ae",
   "metadata": {},
   "source": [
    "d) Comment on your interpretation of the results in the previous parts of this question, what implications there might be for the successful training of the MLP model, and any limitations of the empirical study carried out.\n",
    "\n",
    "**(5 marks)**"
   ]
  },
  {
   "cell_type": "markdown",
   "id": "c414e0a7",
   "metadata": {},
   "source": [
    "These histograms are much better than before, we don't have the issue of saturation across the layers in this one iteration now. They show that in both of the two cases, the post activations look relatively normally distributed, which is much better than being stuck at either -1 or 1.\n",
    "\n",
    "It appears that the assumptions required for glorot initialisation were reasonable in this context, especially the second regarding the equivariance of the input features since we designed them to have the same variance.\n",
    "\n",
    "This means that hopefully training will be successful for an MLP model of this form, since both the forward and backward signals aren't diminishing.\n",
    "\n",
    "However, this was only for one iteration. It may be the case that when running multiple iterations, we still have the issue of saturation (although hopefully this choice of initialisation will have mitigated this issue). We would need to run further simulations/test the full model to be able to make any concrete conclusions."
   ]
  },
  {
   "cell_type": "markdown",
   "id": "72a470af",
   "metadata": {},
   "source": [
    "### Question 3 (Total 30 marks)"
   ]
  },
  {
   "cell_type": "markdown",
   "id": "a4a74398",
   "metadata": {},
   "source": [
    "Consider the following MLP model, designed as an image classifier for the MNIST dataset:\n",
    "\n",
    "$$\n",
    "\\begin{align}\n",
    "\\mathbf{h}^{(0)} &:= \\mathbf{x}\\\\\n",
    "\\mathbf{h}^{(k)} &= \\sigma\\left( \\mathbf{W}^{(k-1)}\\mathbf{h}^{(k-1)} + \\mathbf{b}^{(k-1)} \\right),\\qquad k=1,2\\\\\n",
    "\\hat{\\mathbf{y}} &= \\textrm{softmax}\\left( \\mathbf{W}^{(2)}\\mathbf{h}^{(2)} + \\mathbf{b}^{(2)} \\right)\n",
    "\\end{align}\n",
    "$$\n",
    "\n",
    "where $\\mathbf{x}\\in\\mathbb{R}^{784}$ is the flattened image input, $\\mathbf{W}^{(k)}\\in\\mathbb{R}^{n_{k+1}\\times n_k}$ and $\\mathbf{b}^{(k)}\\in\\mathbb{R}^{n_{k+1}}$ ($k=0,1,2$) are the model weights and biases, and $n_k$ is the number of neurons in the $k$-th layer."
   ]
  },
  {
   "cell_type": "markdown",
   "id": "0dba23a0",
   "metadata": {},
   "source": [
    "a) Construct this MLP model using the Sequential API. The model will have two hidden layers with 64 neurons each, using a sigmoid activation function, and take an input of shape `(28, 28)`. The output should be a 10-way softmax.\n",
    "\n",
    "Load the MNIST dataset from the Keras API. Normalise the input pixel values to the interval $[0,1]$ and convert the labels to one-hot vectors. Do not shuffle the dataset. Save the training inputs and targets as Tensors `x_train` and `y_train` respectively. The validation/test partition can be discarded.\n",
    "\n",
    "_Hint: you may find it helpful in later parts of this question to use separate Keras layers for the activation functions inside your model object._\n",
    "\n",
    "**(5 marks)**"
   ]
  },
  {
   "cell_type": "code",
   "execution_count": 44,
   "id": "7580c58d",
   "metadata": {},
   "outputs": [],
   "source": [
    "model = Sequential([\n",
    "    #flatten the data\n",
    "    Flatten(input_shape = (28,28)),\n",
    "    #hidden layers\n",
    "    Dense(64, activation = \"sigmoid\"),\n",
    "    Dense(64, activation = \"sigmoid\"),\n",
    "    #output\n",
    "    Dense(10,activation = \"softmax\")\n",
    "])\n"
   ]
  },
  {
   "cell_type": "code",
   "execution_count": 45,
   "id": "2889633f",
   "metadata": {},
   "outputs": [],
   "source": [
    "#get data\n",
    "data = tf.keras.datasets.mnist.load_data()\n",
    "\n",
    "x_train, y_train = data[0]\n",
    "#rescale\n",
    "x_train = x_train / 255\n",
    "\n",
    "#convert labels to 1 hot vectors\n",
    "#create matrix of 0s\n",
    "temp = np.zeros((y_train.size, y_train.max()+1), dtype=int)\n",
    "#put the 1s in\n",
    "temp[np.arange(y_train.size),y_train] = 1 \n",
    "y_train = temp\n",
    "\n",
    "#convert to tensors\n",
    "x_train = tf.constant(x_train)\n",
    "y_train = tf.constant(y_train)\n"
   ]
  },
  {
   "cell_type": "markdown",
   "id": "74623685",
   "metadata": {},
   "source": [
    "b) Suppose that the loss function used to train the MLP is the categorical cross entropy loss function, and $L_i$ denotes the (scalar-valued) loss with respect to the $i$-th input example. Consider the pre-activations in the final layer, given by $\\mathbf{a}^{(3)} =  \\mathbf{W}^{(2)}\\mathbf{h}^{(2)} + \\mathbf{b}^{(2)}$. \n",
    "\n",
    "Show that the error $\\delta^{(k)} := \\frac{\\partial L_i}{\\partial \\mathbf{a}^{(3)}}$ given by the derivative of the loss with respect to the final layer pre-activation values is given by $\\hat{\\mathbf{y}} - \\mathbf{y}$, where $\\hat{\\mathbf{y}}$ is the output from the model, and $\\mathbf{y}$ is the ground truth label, represented as a one-hot vector.\n",
    "\n",
    "Write your answer below in Markdown. You do not need to write any code for this part.\n",
    "\n",
    "**(7 marks)**"
   ]
  },
  {
   "cell_type": "markdown",
   "id": "d9095306",
   "metadata": {},
   "source": [
    "In one hot form, the categorical-cross-entropy is expressed as follows: $L_i = -\\sum_{j = 1}^{10} y_{ij}\\log(\\hat{y}_{ij})$ where $y_{ij}$ represents the $j$ th component of the true label for observation $i$ in one hot form (we use the notation that the first component represents the 0 digit etc), and $\\hat{y}_{ij} = \\frac{\\exp(a_j^{(3)})}{\\sum_{k=1}^{10}\\exp(a_k^{(3)})}$ represents the $j$ th component of the output of the model for observation $i$.\n",
    "\n",
    "$$\n",
    "\\begin{align*}\n",
    "L_i &= -\\sum_{j = 1}^{10} y_{ij}\\log(\\frac{\\exp(a_j^{(3)})}{\\sum_{k=1}^{10}\\exp(a_k^{(3)})}) =  -\\sum_{j = 1}^{10} y_{ij}\\left(a_j^{(3)} - \\log(\\sum_{k=1}^{10}\\exp(a_k^{(3)}))\\right) \\\\\n",
    "\\implies \\delta_p^{(3)} &= \\frac{\\partial L_i}{\\partial a_p^{(3)}} = -y_{ip} + \\sum_{j=1}^{10}y_{ij}\\frac{\\exp(a_p^{(3)})}{\\sum_{k=1}^{10}\\exp(a_k^{(3)})} = -y_{ip} + \\sum_{j=1}^{10}y_{ij} \\hat{y}_{ip}\n",
    "\\end{align*}\n",
    "$$\n",
    "Now since in the last term, we are summing across a one hot vector, one of the sum components will be non zero, meaning:\n",
    "\n",
    "$$\n",
    "\\begin{align*}\n",
    "\\delta_p^{(3)} &= -y_{ip} + \\sum_{j=1}^{10}y_{ij} \\hat{y}_{ip} = -y_{ip} + \\hat{y}_{ip} \\\\\n",
    "\\implies \\delta^{(3)} &= \\hat{\\textbf{y}} - \\textbf{y}\n",
    "\\end{align*}\n",
    "$$"
   ]
  },
  {
   "cell_type": "markdown",
   "id": "63b97dbe",
   "metadata": {},
   "source": [
    "c) Write a function called `grads` that implements the backpropagation equations for this model to return the gradients of the categorical cross entropy loss function with respect to the parameters $\\mathbf{W}^{(2)}$ and $\\mathbf{b}^{(2)}$. This function should return these gradients as a list `[grads_W2, grads_b2]`, and it should take the following input arguments:\n",
    "\n",
    "* `model`: your model object, defined using the Sequential API\n",
    "* `inputs`: a Tensor of shape `(batch_size, 28, 28)`\n",
    "* `y_true`: a Tensor of shape `(batch_size, 10)` containing the true labels as one-hot vectors\n",
    "\n",
    "The function `grads` (and any other function it uses) should only use TensorFlow ops. In particular, it should not use automatic differentiation or other libraries (e.g. numpy).\n",
    "\n",
    "You should make sure that your code is clearly written, and variables sensibly named. You might find it helpful to write separate helper functions to be used in the `grads` function.\n",
    "\n",
    " **(15 marks)**"
   ]
  },
  {
   "cell_type": "code",
   "execution_count": 46,
   "id": "c9b325de",
   "metadata": {},
   "outputs": [],
   "source": [
    "def grads(model,inputs,y_true):\n",
    "    model.compile(loss = \"CategoricalCrossentropy\")\n",
    "    #find the output of the model for the inputs\n",
    "    probs = tf.constant(model(inputs),dtype = float) #dim (batch,10), y_true is the same dimension\n",
    "    y_true = tf.cast(y_true,float)\n",
    "    #error, with all observations stacked into a matrix\n",
    "    delta_3 = probs - y_true #dim (batch,10)\n",
    "    #output of second layer:\n",
    "    get_layer_outputs = tf.keras.backend.function([model.layers[0].input], [layer.output for layer in model.layers])\n",
    "    layer_2_h = tf.constant(get_layer_outputs([inputs])[2])\n",
    "\n",
    "    #calculate grads, for each input\n",
    "    grads_W2 = tf.constant(np.array([tf.tensordot(delta_3[i,],layer_2_h[i,],axes = 0) for i in range (inputs.shape[0])]))\n",
    "    grads_b2 = delta_3\n",
    "    #or:\n",
    "    #grads_W2 = tf.einsum('ij,ik->ijk', delta_3, layer_2_h)\n",
    "    #grads_b2 = delta_3\n",
    "    \n",
    "    #then average over batch of inputs, as specified on ED\n",
    "    grads_W2 = tf.reduce_mean(grads_W2,axis = 0)\n",
    "    grads_b2 = tf.reduce_mean(grads_b2,axis = 0)\n",
    "    return [grads_W2, grads_b2]"
   ]
  },
  {
   "cell_type": "markdown",
   "id": "b28dbac2",
   "metadata": {},
   "source": [
    "d) Compute the gradients on the first 16 examples in the training set using your `grads` function and model. Print out the gradients that are computed. \n",
    "\n",
    "**(3 marks)**"
   ]
  },
  {
   "cell_type": "code",
   "execution_count": 47,
   "id": "91434cbf",
   "metadata": {},
   "outputs": [
    {
     "name": "stdout",
     "output_type": "stream",
     "text": [
      "tf.Tensor(\n",
      "[[ 0.0089534   0.00564715  0.0080393   0.00047375  0.00287266  0.00658471\n",
      "   0.00814985  0.00440263  0.00753431  0.00634736  0.00426696  0.00445191\n",
      "   0.0079845   0.00482668  0.00733485  0.00640422  0.00524908  0.00538009\n",
      "   0.00491224  0.00505655  0.00706708  0.00284561  0.00194139  0.00474344\n",
      "   0.00395042  0.00421092  0.00593125  0.00741901  0.00327798  0.00695649\n",
      "   0.0024928   0.0018467   0.00364479  0.00508516  0.0087292   0.00652662\n",
      "   0.00291505  0.00614127  0.00856582  0.00398625  0.0062443   0.00814971\n",
      "   0.00561174  0.00331581  0.00518112  0.00437039  0.0006685   0.00422047\n",
      "   0.0031743   0.00380657  0.00222017  0.00299562  0.00693709  0.00758519\n",
      "   0.00397749  0.00816921  0.00475757  0.00549249  0.00613912  0.00413127\n",
      "   0.00716139  0.00396113  0.00426171  0.00900182]\n",
      " [-0.05333139 -0.04802641 -0.05568392 -0.01854472 -0.02748789 -0.04032459\n",
      "  -0.05366167 -0.03125996 -0.05570473 -0.0495103  -0.02990782 -0.03833212\n",
      "  -0.05194977 -0.03638895 -0.04243267 -0.03677142 -0.04787022 -0.03317025\n",
      "  -0.03821008 -0.0313984  -0.04340728 -0.02903801 -0.01668838 -0.04810873\n",
      "  -0.0302391  -0.03543374 -0.04281579 -0.04255197 -0.03644732 -0.04720498\n",
      "  -0.0189883  -0.02580318 -0.02981432 -0.03956025 -0.04528779 -0.04473943\n",
      "  -0.04096338 -0.04111629 -0.04775475 -0.03472072 -0.03765798 -0.04764551\n",
      "  -0.04546067 -0.03235876 -0.04124806 -0.04509245 -0.0256627  -0.03380143\n",
      "  -0.02913549 -0.02950549 -0.02691112 -0.02675841 -0.05244157 -0.05152281\n",
      "  -0.04310024 -0.04866652 -0.0397431  -0.04329066 -0.04876371 -0.02930791\n",
      "  -0.04164132 -0.0231665  -0.03282034 -0.05861335]\n",
      " [ 0.22004     0.18663955  0.23021963  0.0911213   0.12636301  0.14971985\n",
      "   0.21293326  0.14409679  0.21149528  0.22122742  0.10508605  0.15838337\n",
      "   0.21653041  0.14842434  0.16558151  0.14354244  0.19972849  0.12909529\n",
      "   0.15741463  0.11673302  0.182151    0.11742618  0.07329944  0.20805405\n",
      "   0.11301649  0.1357294   0.1787798   0.17994516  0.16467561  0.18592691\n",
      "   0.08657162  0.1085094   0.12019996  0.15398434  0.18575999  0.18581271\n",
      "   0.16252118  0.18552977  0.18999143  0.14645222  0.1428463   0.18619865\n",
      "   0.18314256  0.1404502   0.17443937  0.18284743  0.12785444  0.12389737\n",
      "   0.13128504  0.1354181   0.11259522  0.13375655  0.1971044   0.20375481\n",
      "   0.18241224  0.18475476  0.14663187  0.17926207  0.2031941   0.12186506\n",
      "   0.16343325  0.10203825  0.12833211  0.2385571 ]\n",
      " [-0.0902356  -0.071969   -0.09249967 -0.03602388 -0.05179607 -0.0593722\n",
      "  -0.08647548 -0.05915262 -0.08115843 -0.0924644  -0.03878444 -0.0609004\n",
      "  -0.08413668 -0.06366035 -0.06443267 -0.05851261 -0.08091375 -0.05201091\n",
      "  -0.0649641  -0.04275481 -0.07327386 -0.04697002 -0.02899561 -0.08502331\n",
      "  -0.04166625 -0.04961453 -0.07029    -0.07177759 -0.06626086 -0.07349348\n",
      "  -0.03490347 -0.04189943 -0.04706184 -0.05998687 -0.07790113 -0.07588462\n",
      "  -0.06361492 -0.07861438 -0.07605063 -0.05646181 -0.05537357 -0.07517026\n",
      "  -0.07432073 -0.05824389 -0.06969757 -0.07266968 -0.05437876 -0.04611175\n",
      "  -0.05211574 -0.05624671 -0.04360836 -0.05765826 -0.0803625  -0.08052593\n",
      "  -0.0742396  -0.0730703  -0.05452489 -0.07163793 -0.0836628  -0.04920083\n",
      "  -0.06552804 -0.04275624 -0.04977503 -0.0986592 ]\n",
      " [-0.03409005 -0.02535337 -0.03547135 -0.01445781 -0.01844317 -0.02039593\n",
      "  -0.03068868 -0.02096989 -0.02966919 -0.03193015 -0.01462686 -0.0235367\n",
      "  -0.03455808 -0.02044201 -0.02312279 -0.02096501 -0.02660979 -0.01918041\n",
      "  -0.02014645 -0.01839931 -0.02455397 -0.01917147 -0.01128142 -0.02658291\n",
      "  -0.0145116  -0.01928239 -0.02737312 -0.02751433 -0.02189247 -0.0267008\n",
      "  -0.00989534 -0.01786489 -0.01793016 -0.02219477 -0.0289776  -0.02847934\n",
      "  -0.02113294 -0.02640416 -0.02774295 -0.02002053 -0.02165784 -0.02745199\n",
      "  -0.02652154 -0.02015879 -0.02324108 -0.02702307 -0.01632142 -0.01693058\n",
      "  -0.01823359 -0.02004272 -0.01790207 -0.02278645 -0.02635987 -0.02829892\n",
      "  -0.02425702 -0.02613919 -0.01938993 -0.02509566 -0.02656711 -0.01775037\n",
      "  -0.02490682 -0.01487637 -0.01876231 -0.03275599]\n",
      " [-0.0621589  -0.05514275 -0.0661031  -0.02500984 -0.03712259 -0.04515202\n",
      "  -0.06234644 -0.04322569 -0.06189954 -0.06501687 -0.03051963 -0.04600445\n",
      "  -0.06448217 -0.04068096 -0.04902137 -0.04133505 -0.05961739 -0.03376129\n",
      "  -0.04860013 -0.03333084 -0.05360882 -0.03376207 -0.0193723  -0.0627715\n",
      "  -0.03447787 -0.03805225 -0.05329301 -0.05442872 -0.05085915 -0.05485156\n",
      "  -0.02742031 -0.03263342 -0.03318288 -0.04302816 -0.05285037 -0.05489957\n",
      "  -0.04640464 -0.05478142 -0.05568448 -0.04574466 -0.04025664 -0.05447634\n",
      "  -0.05206802 -0.042371   -0.05159985 -0.05367927 -0.03798217 -0.03848411\n",
      "  -0.03859084 -0.03897855 -0.03164628 -0.03742751 -0.05877198 -0.06138916\n",
      "  -0.05443078 -0.05126906 -0.0463174  -0.05261994 -0.057581   -0.03442825\n",
      "  -0.04786288 -0.02854135 -0.03887239 -0.06987154]\n",
      " [-0.01473222 -0.01490408 -0.01564735 -0.00721694 -0.00872512 -0.00982855\n",
      "  -0.01294824 -0.01153001 -0.01462674 -0.0145302  -0.0074561  -0.01156909\n",
      "  -0.01442259 -0.00901645 -0.01049547 -0.00918023 -0.01386533 -0.00782821\n",
      "  -0.01104346 -0.00747115 -0.01195954 -0.00666023 -0.00608764 -0.0132949\n",
      "  -0.00943131 -0.00898268 -0.01134046 -0.0100694  -0.01175909 -0.0127336\n",
      "  -0.00590578 -0.00689617 -0.00996681 -0.01180204 -0.01227058 -0.01186067\n",
      "  -0.01307094 -0.01027787 -0.01151273 -0.01053606 -0.01031771 -0.01131864\n",
      "  -0.0133826  -0.01031796 -0.01116255 -0.01227271 -0.00896612 -0.00897241\n",
      "  -0.00960429 -0.00824954 -0.00689576 -0.00726815 -0.01383187 -0.01479807\n",
      "  -0.01205033 -0.01126796 -0.01058548 -0.01250054 -0.01413346 -0.00662121\n",
      "  -0.0102668  -0.00638755 -0.00856537 -0.01690797]\n",
      " [ 0.01962732  0.01629635  0.02071584  0.00778662  0.00919369  0.0137885\n",
      "   0.01903253  0.01268906  0.01901952  0.01934761  0.00830756  0.0125305\n",
      "   0.0183739   0.01279419  0.01338084  0.01245211  0.01711835  0.00893572\n",
      "   0.01513204  0.00885397  0.01335328  0.01113572  0.00619776  0.0172663\n",
      "   0.01038372  0.00894149  0.01615995  0.01396502  0.0138903   0.01594249\n",
      "   0.00610118  0.01088631  0.0100233   0.01345293  0.01765021  0.01718456\n",
      "   0.01563272  0.0147963   0.01501289  0.01154885  0.01293249  0.0144995\n",
      "   0.01636124  0.01455246  0.01371613  0.01632519  0.01106101  0.01068206\n",
      "   0.00971989  0.00942694  0.00808519  0.01141323  0.02001154  0.0189151\n",
      "   0.0150652   0.01375277  0.01426614  0.0148321   0.0163722   0.00955458\n",
      "   0.01442841  0.00741184  0.01273291  0.0213383 ]\n",
      " [ 0.02592632  0.0219547   0.02721711  0.01067051  0.01483685  0.0175444\n",
      "   0.02474907  0.01680429  0.0250567   0.02606466  0.01233164  0.01842675\n",
      "   0.02544873  0.0172089   0.0193918   0.01690462  0.02384967  0.01535734\n",
      "   0.01846384  0.01369057  0.02151371  0.01347547  0.00859062  0.0244194\n",
      "   0.01354074  0.01572053  0.02092656  0.02104036  0.01928963  0.02185298\n",
      "   0.01029882  0.01259548  0.01425172  0.01790594  0.02163619  0.0217658\n",
      "   0.01904936  0.02182     0.02253064  0.01733958  0.01674257  0.02162206\n",
      "   0.02144474  0.01654555  0.0203785   0.0213816   0.01528353  0.01452306\n",
      "   0.01559025  0.01593548  0.01315516  0.01558774  0.02269625  0.02408727\n",
      "   0.02111074  0.02175055  0.01726035  0.0211151   0.02367442  0.01403994\n",
      "   0.01926628  0.01192807  0.01489357  0.02800468]\n",
      " [-0.01999886 -0.01514212 -0.02078648 -0.00879898 -0.00969135 -0.01256414\n",
      "  -0.01874418 -0.01185461 -0.02004719 -0.0195351  -0.00869735 -0.01344975\n",
      "  -0.01878824 -0.01306537 -0.01618402 -0.01253904 -0.01706912 -0.01281735\n",
      "  -0.01295851 -0.01097959 -0.01728159 -0.00928116 -0.00760385 -0.01870183\n",
      "  -0.01056523 -0.01323674 -0.01668519 -0.01602752 -0.01391461 -0.01569446\n",
      "  -0.00835122 -0.00874079 -0.01016374 -0.01385626 -0.01648812 -0.01542604\n",
      "  -0.01493147 -0.01709323 -0.01735521 -0.0118431  -0.0135019  -0.01440714\n",
      "  -0.01480672 -0.01141362 -0.016766   -0.0141874  -0.01155631 -0.00902267\n",
      "  -0.01208955 -0.01156407 -0.00909215 -0.01185437 -0.01498145 -0.01780746\n",
      "  -0.01448768 -0.01801425 -0.0123551  -0.01555701 -0.01867175 -0.01228226\n",
      "  -0.01408345 -0.00961127 -0.01142486 -0.02009384]], shape=(10, 64), dtype=float32)\n"
     ]
    }
   ],
   "source": [
    "grads_W2,grads_b2 = grads(model,x_train[0:16,], y_train[0:16])\n",
    "print(grads_W2)"
   ]
  },
  {
   "cell_type": "code",
   "execution_count": 48,
   "id": "8c30679a",
   "metadata": {},
   "outputs": [
    {
     "name": "stdout",
     "output_type": "stream",
     "text": [
      "tf.Tensor(\n",
      "[ 0.01068128 -0.07798676  0.3176856  -0.12734997 -0.04581258 -0.09261228\n",
      " -0.02141114  0.02739346  0.03726283 -0.02785044], shape=(10,), dtype=float32)\n"
     ]
    }
   ],
   "source": [
    "print(grads_b2)"
   ]
  }
 ],
 "metadata": {
  "kernelspec": {
   "display_name": "Python 3 (ipykernel)",
   "language": "python",
   "name": "python3"
  },
  "language_info": {
   "codemirror_mode": {
    "name": "ipython",
    "version": 3
   },
   "file_extension": ".py",
   "mimetype": "text/x-python",
   "name": "python",
   "nbconvert_exporter": "python",
   "pygments_lexer": "ipython3",
   "version": "3.11.6"
  }
 },
 "nbformat": 4,
 "nbformat_minor": 5
}
