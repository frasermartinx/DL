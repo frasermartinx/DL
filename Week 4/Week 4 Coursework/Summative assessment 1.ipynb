{
 "cells": [
  {
   "cell_type": "markdown",
   "id": "d7e6c497",
   "metadata": {},
   "source": [
    "# Deep Learning\n",
    "## Summative assessment\n",
    "### Coursework 1: MLPs and Backpropagation"
   ]
  },
  {
   "cell_type": "markdown",
   "id": "bedeb7a9",
   "metadata": {},
   "source": [
    "#### Instructions\n",
    "\n",
    "This coursework is released on **Wednesday 31st January 9.00** and is due by **Wednesday 7th February 23.59**. It is worth **10%** of your overall mark. There are 3 questions in this assessment, worth a total of 90 marks. A further 10 marks are awarded for good code quality, clarity and presentation. **You should attempt to answer all questions.** \n",
    "\n",
    "This assessment mainly assesses your understanding of the multilayer perceptron model and the backpropagation algorithm, as well as your ability to use the high-level Keras API.\n",
    "\n",
    "You can make imports as and when you need them throughout the notebook, and add code cells where necessary. Make sure your notebook executes correctly in sequence before submitting.\n",
    "\n",
    "#### Submission instructions\n",
    "\n",
    "Ensure your notebook executes correctly in order. Save your notebook .ipynb file **after you have executed it** (so that outputs are all showing). It is recommended to also export a PDF file of your executed notebook. Upload a zip file containing your notebook (and separate PDF file) to Coursera by the deadline above."
   ]
  },
  {
   "cell_type": "code",
   "execution_count": 1,
   "id": "0942eeef",
   "metadata": {},
   "outputs": [
    {
     "name": "stdout",
     "output_type": "stream",
     "text": [
      "WARNING:tensorflow:From d:\\University-local\\Imperial\\Term 2\\Deep Learning\\.venv\\Lib\\site-packages\\keras\\src\\losses.py:2976: The name tf.losses.sparse_softmax_cross_entropy is deprecated. Please use tf.compat.v1.losses.sparse_softmax_cross_entropy instead.\n",
      "\n"
     ]
    }
   ],
   "source": [
    "# You will need the following imports for this assessment. You can make additional imports when you need them\n",
    "\n",
    "import tensorflow as tf\n",
    "import numpy as np\n",
    "import matplotlib.pyplot as plt\n",
    "\n",
    "# For some reason I have only been able to get it to work using just keras, not tensorflow.keras:\n",
    "from keras.models import Sequential\n",
    "from keras.layers import Dense, Flatten, Activation\n",
    "from keras.callbacks import EarlyStopping, ModelCheckpoint\n",
    "\n",
    "from sklearn.model_selection import train_test_split\n",
    "\n",
    "#from tensorflow.keras.models import Sequential\n",
    "#from tensorflow.keras.layers import Dense, Flatten, Activation\n",
    "#from tensorflow.keras.callbacks import EarlyStopping"
   ]
  },
  {
   "cell_type": "markdown",
   "id": "88838a0b",
   "metadata": {},
   "source": [
    "### Question 1 (Total 30 marks)"
   ]
  },
  {
   "cell_type": "markdown",
   "id": "15773a28",
   "metadata": {},
   "source": [
    "a) Load the Boston housing dataset using the Keras API, with a 75/25 train/validation split. \n",
    "\n",
    "Standardise the input features by subtracting the mean and dividing by the standard deviation, where the per-feature statistics are computed from the training dataset. You can use numpy or sklearn for this part if you wish.\n",
    "\n",
    "Load the data into `tf.data.Dataset` objects, shuffle and batch the datasets with a batch size of 32. Print out the `element_spec` of one of the Datasets. \n",
    "\n",
    "**(5 marks)**"
   ]
  },
  {
   "cell_type": "code",
   "execution_count": 95,
   "id": "dcc796e6",
   "metadata": {},
   "outputs": [],
   "source": [
    "data = tf.keras.datasets.boston_housing.load_data(test_split=0.25)\n",
    "train_data, val_data = data\n",
    "\n",
    "#standardise the input features for both training and val data using the means and sds from the training data\n",
    "train_mean = np.mean(train_data[0],axis = 0)\n",
    "train_std = np.std(train_data[0],axis = 0)\n",
    "\n",
    "#redefine\n",
    "train_data = ((train_data[0] - train_mean)/train_std, train_data[1])\n",
    "val_data = ((val_data[0] - train_mean)/train_std,val_data[1])"
   ]
  },
  {
   "cell_type": "code",
   "execution_count": 96,
   "id": "742e8ff4",
   "metadata": {},
   "outputs": [],
   "source": [
    "\n",
    "#load into datasets\n",
    "train_dataset = tf.data.Dataset.from_tensor_slices(train_data)\n",
    "val_dataset = tf.data.Dataset.from_tensor_slices(val_data)\n"
   ]
  },
  {
   "cell_type": "code",
   "execution_count": 97,
   "id": "bdb7822a",
   "metadata": {},
   "outputs": [],
   "source": [
    "train_dataset = train_dataset.shuffle(buffer_size=train_data[0].shape[0])\n",
    "val_dataset = val_dataset.shuffle(buffer_size=val_data[0].shape[0])\n",
    "batch_size = 32\n",
    "train_dataset = train_dataset.batch(batch_size)\n",
    "val_dataset = val_dataset.batch(batch_size)"
   ]
  },
  {
   "cell_type": "code",
   "execution_count": 98,
   "id": "f1c8d3d5",
   "metadata": {},
   "outputs": [
    {
     "name": "stdout",
     "output_type": "stream",
     "text": [
      "(TensorSpec(shape=(None, 13), dtype=tf.float64, name=None), TensorSpec(shape=(None,), dtype=tf.float64, name=None))\n"
     ]
    }
   ],
   "source": [
    "print(train_dataset.element_spec)"
   ]
  },
  {
   "cell_type": "markdown",
   "id": "43f13309",
   "metadata": {},
   "source": [
    "b) Create a TensorFlow `Sequential` model object according to the following spec:\n",
    "\n",
    "* The model should have 2 hidden layers, with 32 and 16 neurons respectively\n",
    "* Each hidden layer should use a 'swish' activation\n",
    "\n",
    "The model should be an multilayer perceptron (MLP) model suitable for regression on the Boston housing dataset.\n",
    "\n",
    "Train the model for 300 epochs using the training Dataset object, but terminate the training if the validation mean absolute error (MAE) doesn't improve after 30 epochs. Use the stochastic gradient descent (SGD) optimizer with Nesterov momentum, with the momentum hyperparameter set to 0.9, and a learning rate of $10^{-3}$. You should use the high-level Keras API (using `compile`, `fit` methods) for this. The model should be trained with a mean squared error (MSE) loss function. The mean absolute error should also be computed and recorded on the training and validation sets.\n",
    "\n",
    "Plot the MSE and MAE learning curves for training and validation sets, and compute the MSE loss and MAE on the validation set for the best set of model parameters (according to the validation set MAE).\n",
    "\n",
    "**(15 marks)**"
   ]
  },
  {
   "cell_type": "code",
   "execution_count": 131,
   "id": "7c798291",
   "metadata": {},
   "outputs": [],
   "source": [
    "model = Sequential([\n",
    "    Dense(32, activation = \"swish\", input_shape = train_data[0].shape[1:]),\n",
    "    Dense(16, activation = \"swish\"),\n",
    "    #output layer, which has 1 neuron since the output is a scalar\n",
    "    Dense(1)\n",
    "])\n",
    "#model.summary()"
   ]
  },
  {
   "cell_type": "code",
   "execution_count": 132,
   "id": "cb2208c6",
   "metadata": {},
   "outputs": [],
   "source": [
    "opt = tf.keras.optimizers.SGD(learning_rate = 1e-3,momentum=0.9, nesterov=True)\n",
    "model.compile(optimizer = opt, loss = \"mse\", metrics = [\"mae\"])\n"
   ]
  },
  {
   "cell_type": "code",
   "execution_count": 133,
   "id": "ef930df7",
   "metadata": {
    "scrolled": true
   },
   "outputs": [
    {
     "name": "stdout",
     "output_type": "stream",
     "text": [
      "Epoch 1/300\n"
     ]
    },
    {
     "name": "stdout",
     "output_type": "stream",
     "text": [
      "12/12 [==============================] - 1s 22ms/step - loss: 430.7380 - mae: 18.3467 - val_loss: 132.9454 - val_mae: 8.9235\n",
      "Epoch 2/300\n",
      "12/12 [==============================] - 0s 5ms/step - loss: 44.6037 - mae: 4.7921 - val_loss: 22.6631 - val_mae: 3.6162\n",
      "Epoch 3/300\n",
      "12/12 [==============================] - 0s 5ms/step - loss: 19.2695 - mae: 3.1530 - val_loss: 26.3538 - val_mae: 3.6129\n",
      "Epoch 4/300\n",
      " 1/12 [=>............................] - ETA: 0s - loss: 11.3304 - mae: 2.3593"
     ]
    },
    {
     "name": "stderr",
     "output_type": "stream",
     "text": [
      "/Users/fraser/Documents/University-local/Deep Learning /.venv/lib/python3.11/site-packages/keras/src/engine/training.py:3079: UserWarning: You are saving your model as an HDF5 file via `model.save()`. This file format is considered legacy. We recommend using instead the native Keras format, e.g. `model.save('my_model.keras')`.\n",
      "  saving_api.save_model(\n"
     ]
    },
    {
     "name": "stdout",
     "output_type": "stream",
     "text": [
      "12/12 [==============================] - 0s 5ms/step - loss: 13.8580 - mae: 2.5265 - val_loss: 20.5030 - val_mae: 3.1306\n",
      "Epoch 5/300\n",
      "12/12 [==============================] - 0s 5ms/step - loss: 12.4406 - mae: 2.5468 - val_loss: 20.0745 - val_mae: 3.1305\n",
      "Epoch 6/300\n",
      "12/12 [==============================] - 0s 8ms/step - loss: 10.7823 - mae: 2.3970 - val_loss: 21.0526 - val_mae: 3.0054\n",
      "Epoch 7/300\n",
      "12/12 [==============================] - 0s 6ms/step - loss: 10.3463 - mae: 2.3382 - val_loss: 18.1111 - val_mae: 2.8454\n",
      "Epoch 8/300\n",
      "12/12 [==============================] - 0s 4ms/step - loss: 9.3139 - mae: 2.2175 - val_loss: 19.2391 - val_mae: 2.8686\n",
      "Epoch 9/300\n",
      "12/12 [==============================] - 0s 7ms/step - loss: 8.8564 - mae: 2.1504 - val_loss: 18.8133 - val_mae: 2.7759\n",
      "Epoch 10/300\n",
      "12/12 [==============================] - 0s 19ms/step - loss: 9.1221 - mae: 2.1658 - val_loss: 16.3583 - val_mae: 2.7322\n",
      "Epoch 11/300\n",
      "12/12 [==============================] - 0s 7ms/step - loss: 9.7325 - mae: 2.1978 - val_loss: 15.4224 - val_mae: 2.6418\n",
      "Epoch 12/300\n",
      "12/12 [==============================] - 0s 5ms/step - loss: 8.5791 - mae: 2.0688 - val_loss: 19.2491 - val_mae: 2.8513\n",
      "Epoch 13/300\n",
      "12/12 [==============================] - 0s 6ms/step - loss: 8.6093 - mae: 2.1071 - val_loss: 16.5704 - val_mae: 2.6561\n",
      "Epoch 14/300\n",
      "12/12 [==============================] - 0s 7ms/step - loss: 8.4597 - mae: 2.1040 - val_loss: 17.1504 - val_mae: 2.6453\n",
      "Epoch 15/300\n",
      "12/12 [==============================] - 0s 8ms/step - loss: 8.0735 - mae: 2.0920 - val_loss: 15.8405 - val_mae: 2.7199\n",
      "Epoch 16/300\n",
      "12/12 [==============================] - 0s 6ms/step - loss: 8.3212 - mae: 2.1030 - val_loss: 16.2844 - val_mae: 2.7531\n",
      "Epoch 17/300\n",
      "12/12 [==============================] - 0s 10ms/step - loss: 8.2066 - mae: 2.0645 - val_loss: 15.0888 - val_mae: 2.6041\n",
      "Epoch 18/300\n",
      "12/12 [==============================] - 0s 9ms/step - loss: 7.9290 - mae: 2.0334 - val_loss: 14.2830 - val_mae: 2.4631\n",
      "Epoch 19/300\n",
      "12/12 [==============================] - 0s 6ms/step - loss: 7.8131 - mae: 2.0445 - val_loss: 14.1655 - val_mae: 2.4735\n",
      "Epoch 20/300\n",
      "12/12 [==============================] - 0s 7ms/step - loss: 7.6493 - mae: 2.0187 - val_loss: 14.1167 - val_mae: 2.4796\n",
      "Epoch 21/300\n",
      "12/12 [==============================] - 0s 10ms/step - loss: 7.5332 - mae: 2.0206 - val_loss: 13.5160 - val_mae: 2.4257\n",
      "Epoch 22/300\n",
      "12/12 [==============================] - 0s 4ms/step - loss: 7.7735 - mae: 2.0472 - val_loss: 15.2807 - val_mae: 2.6351\n",
      "Epoch 23/300\n",
      "12/12 [==============================] - 0s 19ms/step - loss: 7.3849 - mae: 1.9565 - val_loss: 13.3396 - val_mae: 2.3867\n",
      "Epoch 24/300\n",
      "12/12 [==============================] - 0s 6ms/step - loss: 6.9965 - mae: 1.9217 - val_loss: 12.2473 - val_mae: 2.3453\n",
      "Epoch 25/300\n",
      "12/12 [==============================] - 0s 4ms/step - loss: 7.3882 - mae: 1.9583 - val_loss: 12.4417 - val_mae: 2.4148\n",
      "Epoch 26/300\n",
      "12/12 [==============================] - 0s 4ms/step - loss: 7.5860 - mae: 1.9981 - val_loss: 12.7928 - val_mae: 2.4257\n",
      "Epoch 27/300\n",
      "12/12 [==============================] - 0s 3ms/step - loss: 7.1251 - mae: 1.9099 - val_loss: 14.5176 - val_mae: 2.5809\n",
      "Epoch 28/300\n",
      "12/12 [==============================] - 0s 4ms/step - loss: 7.3564 - mae: 1.8764 - val_loss: 12.7042 - val_mae: 2.3653\n",
      "Epoch 29/300\n",
      "12/12 [==============================] - 0s 4ms/step - loss: 6.8709 - mae: 1.9317 - val_loss: 12.6933 - val_mae: 2.4131\n",
      "Epoch 30/300\n",
      "12/12 [==============================] - 0s 5ms/step - loss: 6.9094 - mae: 1.8881 - val_loss: 12.2437 - val_mae: 2.4150\n",
      "Epoch 31/300\n",
      "12/12 [==============================] - 0s 6ms/step - loss: 6.5533 - mae: 1.8137 - val_loss: 13.1881 - val_mae: 2.4118\n",
      "Epoch 32/300\n",
      "12/12 [==============================] - 0s 8ms/step - loss: 6.7489 - mae: 1.8523 - val_loss: 11.7938 - val_mae: 2.3136\n",
      "Epoch 33/300\n",
      "12/12 [==============================] - 0s 6ms/step - loss: 6.4188 - mae: 1.8232 - val_loss: 11.9548 - val_mae: 2.2992\n",
      "Epoch 34/300\n",
      "12/12 [==============================] - 0s 5ms/step - loss: 6.5868 - mae: 1.8735 - val_loss: 12.5583 - val_mae: 2.3636\n",
      "Epoch 35/300\n",
      "12/12 [==============================] - 0s 4ms/step - loss: 6.3104 - mae: 1.8332 - val_loss: 11.3165 - val_mae: 2.2883\n",
      "Epoch 36/300\n",
      "12/12 [==============================] - 0s 4ms/step - loss: 6.3304 - mae: 1.8156 - val_loss: 11.5704 - val_mae: 2.2266\n",
      "Epoch 37/300\n",
      "12/12 [==============================] - 0s 4ms/step - loss: 6.3077 - mae: 1.8653 - val_loss: 11.9905 - val_mae: 2.4612\n",
      "Epoch 38/300\n",
      "12/12 [==============================] - 0s 14ms/step - loss: 6.1029 - mae: 1.7878 - val_loss: 12.0616 - val_mae: 2.2812\n",
      "Epoch 39/300\n",
      "12/12 [==============================] - 0s 6ms/step - loss: 6.3047 - mae: 1.8498 - val_loss: 11.1579 - val_mae: 2.2451\n",
      "Epoch 40/300\n",
      "12/12 [==============================] - 0s 4ms/step - loss: 5.9403 - mae: 1.7809 - val_loss: 11.5583 - val_mae: 2.3790\n",
      "Epoch 41/300\n",
      "12/12 [==============================] - 0s 5ms/step - loss: 6.0712 - mae: 1.8075 - val_loss: 11.1530 - val_mae: 2.2975\n",
      "Epoch 42/300\n",
      "12/12 [==============================] - 0s 11ms/step - loss: 6.0438 - mae: 1.7512 - val_loss: 10.7929 - val_mae: 2.2085\n",
      "Epoch 43/300\n",
      "12/12 [==============================] - 0s 7ms/step - loss: 5.8479 - mae: 1.7590 - val_loss: 10.8150 - val_mae: 2.1763\n",
      "Epoch 44/300\n",
      "12/12 [==============================] - 0s 6ms/step - loss: 5.7229 - mae: 1.7303 - val_loss: 10.6768 - val_mae: 2.1496\n",
      "Epoch 45/300\n",
      "12/12 [==============================] - 0s 5ms/step - loss: 5.8974 - mae: 1.7411 - val_loss: 10.5070 - val_mae: 2.1182\n",
      "Epoch 46/300\n",
      "12/12 [==============================] - 0s 4ms/step - loss: 5.5423 - mae: 1.7424 - val_loss: 10.6174 - val_mae: 2.2580\n",
      "Epoch 47/300\n",
      "12/12 [==============================] - 0s 4ms/step - loss: 5.8206 - mae: 1.7420 - val_loss: 10.7939 - val_mae: 2.1827\n",
      "Epoch 48/300\n",
      "12/12 [==============================] - 0s 5ms/step - loss: 5.3153 - mae: 1.6662 - val_loss: 10.7628 - val_mae: 2.1776\n",
      "Epoch 49/300\n",
      "12/12 [==============================] - 0s 6ms/step - loss: 5.5101 - mae: 1.6861 - val_loss: 10.1527 - val_mae: 2.1274\n",
      "Epoch 50/300\n",
      "12/12 [==============================] - 0s 5ms/step - loss: 5.4917 - mae: 1.7134 - val_loss: 10.2640 - val_mae: 2.2016\n",
      "Epoch 51/300\n",
      "12/12 [==============================] - 0s 11ms/step - loss: 5.4423 - mae: 1.6914 - val_loss: 9.9518 - val_mae: 2.1256\n",
      "Epoch 52/300\n",
      "12/12 [==============================] - 0s 5ms/step - loss: 5.1383 - mae: 1.6710 - val_loss: 10.1559 - val_mae: 2.1756\n",
      "Epoch 53/300\n",
      "12/12 [==============================] - 0s 5ms/step - loss: 5.1670 - mae: 1.6981 - val_loss: 10.5294 - val_mae: 2.2408\n",
      "Epoch 54/300\n",
      "12/12 [==============================] - 0s 4ms/step - loss: 5.2377 - mae: 1.6624 - val_loss: 10.3481 - val_mae: 2.1755\n",
      "Epoch 55/300\n",
      "12/12 [==============================] - 0s 4ms/step - loss: 4.9935 - mae: 1.6333 - val_loss: 10.2837 - val_mae: 2.2124\n",
      "Epoch 56/300\n",
      "12/12 [==============================] - 0s 4ms/step - loss: 4.9336 - mae: 1.6170 - val_loss: 9.9781 - val_mae: 2.1663\n",
      "Epoch 57/300\n",
      "12/12 [==============================] - 0s 5ms/step - loss: 5.4372 - mae: 1.7233 - val_loss: 10.1733 - val_mae: 2.2298\n",
      "Epoch 58/300\n",
      "12/12 [==============================] - 0s 5ms/step - loss: 5.2961 - mae: 1.6632 - val_loss: 10.0475 - val_mae: 2.1694\n",
      "Epoch 59/300\n",
      "12/12 [==============================] - 0s 6ms/step - loss: 4.9373 - mae: 1.6311 - val_loss: 10.5850 - val_mae: 2.2235\n",
      "Epoch 60/300\n",
      "12/12 [==============================] - 0s 4ms/step - loss: 4.9760 - mae: 1.6253 - val_loss: 10.1034 - val_mae: 2.1737\n",
      "Epoch 61/300\n",
      "12/12 [==============================] - 0s 6ms/step - loss: 4.8199 - mae: 1.6056 - val_loss: 9.6826 - val_mae: 2.0776\n",
      "Epoch 62/300\n",
      "12/12 [==============================] - 0s 5ms/step - loss: 4.7471 - mae: 1.6059 - val_loss: 9.9612 - val_mae: 2.1364\n",
      "Epoch 63/300\n",
      "12/12 [==============================] - 0s 6ms/step - loss: 4.7806 - mae: 1.5978 - val_loss: 9.6856 - val_mae: 2.1146\n",
      "Epoch 64/300\n",
      "12/12 [==============================] - 0s 5ms/step - loss: 4.8832 - mae: 1.6408 - val_loss: 9.7719 - val_mae: 2.1572\n",
      "Epoch 65/300\n",
      "12/12 [==============================] - 0s 5ms/step - loss: 4.5669 - mae: 1.5858 - val_loss: 9.8020 - val_mae: 2.1366\n",
      "Epoch 66/300\n",
      "12/12 [==============================] - 0s 5ms/step - loss: 4.6999 - mae: 1.6003 - val_loss: 9.9762 - val_mae: 2.1643\n",
      "Epoch 67/300\n",
      "12/12 [==============================] - 0s 8ms/step - loss: 4.5679 - mae: 1.5703 - val_loss: 10.0429 - val_mae: 2.1515\n",
      "Epoch 68/300\n",
      "12/12 [==============================] - 0s 7ms/step - loss: 4.5305 - mae: 1.6017 - val_loss: 9.7924 - val_mae: 2.1899\n",
      "Epoch 69/300\n",
      "12/12 [==============================] - 0s 4ms/step - loss: 4.7077 - mae: 1.5893 - val_loss: 10.4291 - val_mae: 2.2857\n",
      "Epoch 70/300\n",
      "12/12 [==============================] - 0s 4ms/step - loss: 4.7851 - mae: 1.5884 - val_loss: 9.4877 - val_mae: 2.1117\n",
      "Epoch 71/300\n",
      "12/12 [==============================] - 0s 4ms/step - loss: 4.5341 - mae: 1.5618 - val_loss: 9.7100 - val_mae: 2.1521\n",
      "Epoch 72/300\n",
      "12/12 [==============================] - 0s 5ms/step - loss: 4.3755 - mae: 1.5286 - val_loss: 9.9363 - val_mae: 2.1875\n",
      "Epoch 73/300\n",
      "12/12 [==============================] - 0s 6ms/step - loss: 4.8630 - mae: 1.5951 - val_loss: 8.9830 - val_mae: 2.0511\n",
      "Epoch 74/300\n",
      "12/12 [==============================] - 0s 9ms/step - loss: 4.3056 - mae: 1.5601 - val_loss: 9.3442 - val_mae: 2.1479\n",
      "Epoch 75/300\n",
      "12/12 [==============================] - 0s 5ms/step - loss: 4.2918 - mae: 1.5157 - val_loss: 9.4342 - val_mae: 2.0816\n",
      "Epoch 76/300\n",
      "12/12 [==============================] - 0s 5ms/step - loss: 4.1731 - mae: 1.5256 - val_loss: 10.0961 - val_mae: 2.2318\n",
      "Epoch 77/300\n",
      "12/12 [==============================] - 0s 5ms/step - loss: 4.5122 - mae: 1.5653 - val_loss: 9.7095 - val_mae: 2.1379\n",
      "Epoch 78/300\n",
      "12/12 [==============================] - 0s 4ms/step - loss: 4.3703 - mae: 1.5602 - val_loss: 10.5093 - val_mae: 2.3049\n",
      "Epoch 79/300\n",
      "12/12 [==============================] - 0s 5ms/step - loss: 4.3291 - mae: 1.5312 - val_loss: 9.4424 - val_mae: 2.1277\n",
      "Epoch 80/300\n",
      "12/12 [==============================] - 0s 10ms/step - loss: 4.1284 - mae: 1.5085 - val_loss: 9.6298 - val_mae: 2.1458\n",
      "Epoch 81/300\n",
      "12/12 [==============================] - 0s 8ms/step - loss: 4.1979 - mae: 1.5452 - val_loss: 9.6161 - val_mae: 2.1698\n",
      "Epoch 82/300\n",
      "12/12 [==============================] - 0s 7ms/step - loss: 4.2917 - mae: 1.5634 - val_loss: 9.2904 - val_mae: 2.1073\n",
      "Epoch 83/300\n",
      "12/12 [==============================] - 0s 5ms/step - loss: 4.0948 - mae: 1.4913 - val_loss: 9.2721 - val_mae: 2.0753\n",
      "Epoch 84/300\n",
      "12/12 [==============================] - 0s 6ms/step - loss: 3.8288 - mae: 1.4526 - val_loss: 9.4964 - val_mae: 2.1131\n",
      "Epoch 85/300\n",
      "12/12 [==============================] - 0s 6ms/step - loss: 3.9859 - mae: 1.4916 - val_loss: 9.8196 - val_mae: 2.1981\n",
      "Epoch 86/300\n",
      "12/12 [==============================] - 0s 5ms/step - loss: 4.0638 - mae: 1.5135 - val_loss: 9.6283 - val_mae: 2.1767\n",
      "Epoch 87/300\n",
      "12/12 [==============================] - 0s 5ms/step - loss: 4.0859 - mae: 1.4926 - val_loss: 9.4208 - val_mae: 2.1184\n",
      "Epoch 88/300\n",
      "12/12 [==============================] - 0s 5ms/step - loss: 3.9674 - mae: 1.4615 - val_loss: 9.3822 - val_mae: 2.1128\n",
      "Epoch 89/300\n",
      "12/12 [==============================] - 0s 5ms/step - loss: 3.7803 - mae: 1.4568 - val_loss: 9.4544 - val_mae: 2.1639\n",
      "Epoch 90/300\n",
      "12/12 [==============================] - 0s 4ms/step - loss: 3.7727 - mae: 1.4464 - val_loss: 9.3409 - val_mae: 2.0867\n",
      "Epoch 91/300\n",
      "12/12 [==============================] - 0s 6ms/step - loss: 3.7831 - mae: 1.4748 - val_loss: 9.8602 - val_mae: 2.1974\n",
      "Epoch 92/300\n",
      "12/12 [==============================] - 0s 8ms/step - loss: 3.8156 - mae: 1.4373 - val_loss: 9.6211 - val_mae: 2.1562\n",
      "Epoch 93/300\n",
      "12/12 [==============================] - 0s 7ms/step - loss: 3.9215 - mae: 1.4581 - val_loss: 10.5075 - val_mae: 2.3172\n",
      "Epoch 94/300\n",
      "12/12 [==============================] - 0s 20ms/step - loss: 3.6306 - mae: 1.4340 - val_loss: 9.4040 - val_mae: 2.1374\n",
      "Epoch 95/300\n",
      "12/12 [==============================] - 0s 7ms/step - loss: 3.6401 - mae: 1.4283 - val_loss: 10.0402 - val_mae: 2.2727\n",
      "Epoch 96/300\n",
      "12/12 [==============================] - 0s 8ms/step - loss: 3.8301 - mae: 1.4717 - val_loss: 9.7576 - val_mae: 2.1695\n",
      "Epoch 97/300\n",
      "12/12 [==============================] - 0s 8ms/step - loss: 4.1051 - mae: 1.5025 - val_loss: 9.7584 - val_mae: 2.1532\n",
      "Epoch 98/300\n",
      "12/12 [==============================] - 0s 7ms/step - loss: 3.6329 - mae: 1.3957 - val_loss: 9.6126 - val_mae: 2.1942\n",
      "Epoch 99/300\n",
      "12/12 [==============================] - 0s 7ms/step - loss: 3.7064 - mae: 1.4505 - val_loss: 9.4651 - val_mae: 2.1501\n",
      "Epoch 100/300\n",
      "12/12 [==============================] - 0s 8ms/step - loss: 3.9314 - mae: 1.4680 - val_loss: 9.9511 - val_mae: 2.2223\n",
      "Epoch 101/300\n",
      "12/12 [==============================] - 0s 7ms/step - loss: 3.8958 - mae: 1.4673 - val_loss: 9.6231 - val_mae: 2.1835\n",
      "Epoch 102/300\n",
      "12/12 [==============================] - 0s 7ms/step - loss: 3.6894 - mae: 1.4011 - val_loss: 9.8684 - val_mae: 2.2489\n",
      "Epoch 103/300\n",
      "12/12 [==============================] - 0s 6ms/step - loss: 3.6537 - mae: 1.4603 - val_loss: 9.2687 - val_mae: 2.1398\n"
     ]
    }
   ],
   "source": [
    "#setup callbacks\n",
    "earlystopping = EarlyStopping(monitor = \"val_mae\", patience = 30)\n",
    "ckpt = ModelCheckpoint(\"best_model.h5\", monitor = \"val_mae\", save_best_only= True, mode = \"min\")\n",
    "history = model.fit(train_dataset, epochs = 300,validation_data = val_dataset,callbacks = [earlystopping,ckpt],verbose = True)"
   ]
  },
  {
   "cell_type": "code",
   "execution_count": 134,
   "id": "82fb01d2",
   "metadata": {},
   "outputs": [
    {
     "data": {
      "image/png": "[encoded data removed]",
      "text/plain": [
       "<Figure size 640x480 with 1 Axes>"
      ]
     },
     "metadata": {},
     "output_type": "display_data"
    }
   ],
   "source": [
    "#original plot\n",
    "plt.plot(history.history['loss'])\n",
    "plt.plot(history.history[\"mae\"])\n",
    "plt.plot(history.history[\"val_loss\"])\n",
    "plt.plot(history.history[\"val_mae\"])\n",
    "plt.title('Metrics vs. epochs')\n",
    "plt.ylabel('Value of metric')\n",
    "plt.xlabel('Epoch')\n",
    "plt.xticks(np.arange(len(history.history['loss']),step = 10))\n",
    "plt.legend(['Training MSE', 'Training MAE', \"Val MSE\",\"Val MAE\"], loc='upper right')\n",
    "plt.show()"
   ]
  },
  {
   "cell_type": "code",
   "execution_count": 135,
   "id": "8c9004be",
   "metadata": {},
   "outputs": [
    {
     "data": {
      "image/png": "[encoded data removed]",
      "text/plain": [
       "<Figure size 640x480 with 1 Axes>"
      ]
     },
     "metadata": {},
     "output_type": "display_data"
    }
   ],
   "source": [
    "#scaled plot\n",
    "plt.plot(history.history['loss'])\n",
    "plt.plot(history.history[\"mae\"])\n",
    "plt.plot(history.history[\"val_loss\"])\n",
    "plt.plot(history.history[\"val_mae\"])\n",
    "plt.title('Metrics vs. epochs')\n",
    "plt.ylabel('Value of metric')\n",
    "plt.xlabel('Epoch')\n",
    "plt.ylim((0,60))\n",
    "plt.xticks(np.arange(len(history.history['loss']),step = 10))\n",
    "plt.legend(['Training MSE', 'Training MAE', \"Val MSE\",\"Val MAE\"], loc='upper right')\n",
    "plt.show()"
   ]
  },
  {
   "cell_type": "code",
   "execution_count": 136,
   "id": "f5a141e0",
   "metadata": {},
   "outputs": [
    {
     "name": "stdout",
     "output_type": "stream",
     "text": [
      "4/4 [==============================] - 0s 3ms/step - loss: 559.5469 - mae: 22.0085\n"
     ]
    },
    {
     "data": {
      "text/plain": [
       "[559.546875, 22.008493423461914]"
      ]
     },
     "execution_count": 136,
     "metadata": {},
     "output_type": "execute_result"
    }
   ],
   "source": [
    "### print out the first model results on the validation set ###\n",
    "model = Sequential([\n",
    "    Dense(32, activation = \"swish\", input_shape = train_data[0].shape[1:]),\n",
    "    Dense(16, activation = \"swish\"),\n",
    "    #output layer, which has 1 neuron since the output is a scalar\n",
    "    Dense(1)\n",
    "])\n",
    "model.compile(optimizer = opt, loss = \"mse\", metrics = [\"mae\"])\n",
    "model.evaluate(val_dataset)\n"
   ]
  },
  {
   "cell_type": "code",
   "execution_count": 138,
   "id": "fdebffca",
   "metadata": {},
   "outputs": [
    {
     "name": "stdout",
     "output_type": "stream",
     "text": [
      "4/4 [==============================] - 0s 5ms/step - loss: 8.9830 - mae: 2.0511\n"
     ]
    },
    {
     "data": {
      "text/plain": [
       "[8.982989311218262, 2.051086187362671]"
      ]
     },
     "execution_count": 138,
     "metadata": {},
     "output_type": "execute_result"
    }
   ],
   "source": [
    "### print out the best model found using the best validation MAE ###\n",
    "model_best = Sequential([\n",
    "    Dense(32, activation = \"swish\", input_shape = train_data[0].shape[1:]),\n",
    "    Dense(16, activation = \"swish\"),\n",
    "    #output layer, which has 1 neuron since the output is a scalar\n",
    "    Dense(1)\n",
    "])\n",
    "model_best.compile(optimizer = opt, loss = \"mse\", metrics = [\"mae\"])\n",
    "model_best.load_weights(\"best_model.h5\")\n",
    "model_best.evaluate(val_dataset)\n"
   ]
  },
  {
   "cell_type": "markdown",
   "id": "27ae68ac",
   "metadata": {},
   "source": [
    "c) What do you expect would be the effect of training the same model architecture on the Boston housing dataset where the input features have not been standardised? Briefly justify your answer. \n",
    "\n",
    "**(5 marks)**"
   ]
  },
  {
   "cell_type": "markdown",
   "id": "8cd671bc",
   "metadata": {},
   "source": [
    "Due to different features being on different scales, there are a few possibilities. Different weights could converge at different speeds, This should hopefully be aided by using nesterov momentum, since it takes into the accumulated gradient, however, it is not guaranteed to work. This could result in very slow convergence, or in extreme cases, no convergence to the minimum.\n",
    "\n",
    "Another possiblity is that some of the gradients could explode to extremely large values, resulting in numerical overflow when computing the update steps, which could result in NaN values being returned for the MSE and MAE."
   ]
  },
  {
   "cell_type": "markdown",
   "id": "ead1e95e-38bb-4fe0-95bc-0985d2b63d29",
   "metadata": {},
   "source": [
    "d) In terms of the computations carried out, describe in a few sentences what the differences would be (if any) between standardising the input features as above, and inserting a batch normalisation layer before the first dense layer of the model. \n",
    "\n",
    "**(5 marks)**"
   ]
  },
  {
   "cell_type": "markdown",
   "id": "9babed92-3ffd-48ec-8e84-b0ad64b4d0c5",
   "metadata": {},
   "source": [
    "If batch normalisation is performed between the input layer and the first hidden layer, then if $\\gamma_j = 1\\ $ and $\\beta_j = 0$  $\\forall \\ j$ in this layer, we would obtain (not including the layer tag for notational convenience) $z_j = \\hat h_j =\\frac{x_j - \\mathbb{E}[x_j]}{\\sqrt {\\text{Var}(x_j)}}$ which would be passed into the first hidden layer ($x_j$ represents the $j$ th component of input $x$). However, there comes a subtle difference between batch normalization and standardisation. In batch normalization, the expectations and variance are estimated using the sample mean and variance for each component. However, since the optimizer we use is stochastic gradient descent, we are using minibatches, and since batch normalization computes these means and variances over each minibatch, this would be slightly different to standardising the entire dataset at the beginning. The two methods would produce very similar results though, so long as $\\gamma_j = 1\\ $ and $\\beta_j = 0$  $\\forall \\ j$ are fixed, however in practice they are learned parameters."
   ]
  },
  {
   "cell_type": "markdown",
   "id": "e2202a29",
   "metadata": {},
   "source": [
    "### Question 2 (Total 30 marks)"
   ]
  },
  {
   "cell_type": "markdown",
   "id": "c2ee0711",
   "metadata": {},
   "source": [
    "In this question you will empirically study the post-activation statistics in the hidden layers of an MLP model under different initialisation strategies. \n",
    "\n",
    "Consider an MLP model with 5 hidden layers with 8192, 8192, 8192, 4096 and 4096 neurons respectively. Each hidden layer uses a tanh activation function. Let $\\mathbf{W}^{(k)}\\in\\mathbb{R}^{n_{k+1}\\times n_k}$ and $\\mathbf{b}^{(k)}\\in\\mathbb{R}^{n_{k+1}}$ denote the weight matrix and bias vector that map from hidden layer $k$ to hidden layer $k+1$ according to the following:\n",
    "\n",
    "$$\n",
    "\\begin{align}\n",
    "\\mathbf{h}^{(k)} &= \\tanh\\left( \\mathbf{W}^{(k-1)}\\mathbf{h}^{(k-1)} + \\mathbf{b}^{(k-1)} \\right),\\qquad k=1,\\ldots, 5,\n",
    "\\end{align}\n",
    "$$\n",
    "\n",
    "where $\\mathbf{h}^{(0)} \\in \\mathbb{R}^{1024}$ denotes the input layer, $n_k$ is the number of neurons in hidden layer $k$, and the tanh function is applied elementwise. Suppose the input features ${h}_i^{(0)}$ are each independently sampled from $N(0, \\frac{1}{2})$."
   ]
  },
  {
   "cell_type": "markdown",
   "id": "467de7be",
   "metadata": {},
   "source": [
    "a) Compute the (post-)activations of each hidden layer after passing a single input example through the network (where the input example is sampled as described above), and save them in a variable called `layer_activations`. The following initialisation strategy should be used for the model parameters:\n",
    "\n",
    "1. Each element in each weight matrix $\\mathbf{W}^{(k)}\\in\\mathbb{R}^{n_{k+1}\\times n_k}$ is sampled from a standard normal distribution\n",
    "2. Each bias vector $\\mathbf{b}^{(k)}\\in\\mathbb{R}^{n_{k+1}}$ is initialised to zero\n",
    "    \n",
    "Your answer for this part should use only TensorFlow objects and functions, and not use numpy or scipy at all. You can make use of the Keras module if you wish. Weight and bias parameters should be implemented with TF Variable objects.\n",
    "\n",
    "**(10 marks)**"
   ]
  },
  {
   "cell_type": "code",
   "execution_count": 3,
   "id": "b174434e",
   "metadata": {},
   "outputs": [],
   "source": [
    "#a)\n",
    "#create the input tensor\n",
    "input = tf.random.normal(shape = (1024,),stddev = tf.math.sqrt(1/2))\n",
    "\n",
    "#initialise the bias:\n",
    "neurons = [1024,8192,8192,8192,4096,4096]\n",
    "bias = [tf.Variable(tf.zeros(shape = (neurons[i],))) for i in range(1,6)]\n",
    "\n",
    "#create the weight matrices:\n",
    "#the question only asks us about the activations, so dont need to have the extra weight for the output layer\n",
    "W = [tf.Variable(tf.random.normal(shape = (neurons[i+1],neurons[i])) )for i in range(5)]\n"
   ]
  },
  {
   "cell_type": "code",
   "execution_count": 9,
   "id": "486f59bf",
   "metadata": {},
   "outputs": [
    {
     "name": "stdout",
     "output_type": "stream",
     "text": [
      "5\n",
      "(8192,)\n",
      "(8192,)\n",
      "(8192,)\n",
      "(4096,)\n",
      "(4096,)\n"
     ]
    }
   ],
   "source": [
    "#pad the array with the input as the first \"activation\"\n",
    "layer_activations = [input]\n",
    "\n",
    "#now, we do each layer:\n",
    "for i in range(0,5):\n",
    "    a = tf.tensordot(W[i],layer_activations[i],axes = 1) + bias[i]\n",
    "    h = tf.math.tanh(a)\n",
    "    layer_activations.append(h)\n",
    "    \n",
    "#then drop the first element:\n",
    "layer_activations = layer_activations[1:]\n",
    "#print shapes\n",
    "print(len(layer_activations))\n",
    "print(layer_activations[0].shape)\n",
    "print(layer_activations[1].shape)\n",
    "print(layer_activations[2].shape)\n",
    "print(layer_activations[3].shape)\n",
    "print(layer_activations[4].shape)"
   ]
  },
  {
   "cell_type": "markdown",
   "id": "5281d649",
   "metadata": {},
   "source": [
    "b) Create a plot for the normalised (density) histograms for the activation statistics in each of the hidden layers. Briefly comment on the result.\n",
    "\n",
    "**(5 marks)**"
   ]
  },
  {
   "cell_type": "code",
   "execution_count": 12,
   "id": "c1da0756",
   "metadata": {},
   "outputs": [
    {
     "data": {
      "image/png": "[encoded data removed]",
      "text/plain": [
       "<Figure size 640x480 with 6 Axes>"
      ]
     },
     "metadata": {},
     "output_type": "display_data"
    }
   ],
   "source": [
    "fig,axs = plt.subplots(nrows = 2, ncols =3)\n",
    "for j in range(2):\n",
    "    for i in range(3):\n",
    "        if (i == 2) & (j == 1):\n",
    "            pass\n",
    "        else:\n",
    "            axs[j,i].hist(layer_activations[i + 3*j],density = True)\n",
    "            axs[j,i].set_title(\"Layer {}\".format(i+3*j+1))\n",
    "        \n"
   ]
  },
  {
   "cell_type": "markdown",
   "id": "6d84a0c5",
   "metadata": {},
   "source": [
    "We see that with this initialisation strategy, by the first layer, the activations have become saturated, mainly taking values at the saturation points for the tanh activation function, being -1 and 1. It is then very difficult for the neural network to get away from these points, resulting in very similar results in the other hidden layers. Granted, this was only for one pass, however, it still illustrates this issue."
   ]
  },
  {
   "cell_type": "markdown",
   "id": "37ffb5db",
   "metadata": {},
   "source": [
    "c) Re-compute the activation statistics for the MLP under two different initialisation strategies:\n",
    "\n",
    "1. Glorot normal distribution initialisation for the weights $\\mathbf{W}^{(k)}\\in\\mathbb{R}^{n_{k+1}\\times n_k}$ and zero initialisation for the bias $\\mathbf{b}^{(k)}\\in\\mathbb{R}^{n_{k+1}}$ for $k=0,\\ldots,4$\n",
    "1. Glorot uniform distribution initialisation for the weights $\\mathbf{W}^{(k)}\\in\\mathbb{R}^{n_{k+1}\\times n_k}$ and zero initialisation for the bias $\\mathbf{b}^{(k)}\\in\\mathbb{R}^{n_{k+1}}$ for $k=0,\\ldots,4$\n",
    "\n",
    "For each initialisation strategy above, plot normalised histograms for the activation statistics in each hidden layer.\n",
    "\n",
    "**(10 marks)**"
   ]
  },
  {
   "cell_type": "code",
   "execution_count": 13,
   "id": "e330a931",
   "metadata": {},
   "outputs": [],
   "source": [
    "#use the same input as above, and the same initialised bias, just do the weight differently:\n",
    "#create an array of the stds:\n",
    "\n",
    "#recall neurons = [1024,8192,8192,8192,4096,4096]\n",
    "std = [tf.math.sqrt(2/(neurons[i] + neurons[i+1])) for i in range(5)]\n",
    "W = [tf.Variable(tf.random.normal(shape = (neurons[i+1],neurons[i]), stddev = std[i]))for i in range(5)]\n",
    "\n",
    "#repeat the forward pass:\n",
    "\n",
    "#pad the array with the input as the first \"activation\"\n",
    "layer_activations = [input]\n",
    "\n",
    "#now, we do each layer:\n",
    "for i in range(0,5):\n",
    "    a = tf.tensordot(W[i],layer_activations[i],axes = 1) + bias[i]\n",
    "    h = tf.math.tanh(a)\n",
    "    layer_activations.append(h)\n",
    "    \n",
    "#then drop the first element:\n",
    "layer_activations = layer_activations[1:]"
   ]
  },
  {
   "cell_type": "code",
   "execution_count": 14,
   "id": "6478ba44",
   "metadata": {},
   "outputs": [
    {
     "data": {
      "image/png": "[encoded data removed]",
      "text/plain": [
       "<Figure size 640x480 with 6 Axes>"
      ]
     },
     "metadata": {},
     "output_type": "display_data"
    }
   ],
   "source": [
    "#plot\n",
    "fig,axs = plt.subplots(nrows = 2, ncols =3)\n",
    "for j in range(2):\n",
    "    for i in range(3):\n",
    "        if (i == 2) & (j == 1):\n",
    "            pass\n",
    "        else:\n",
    "            axs[j,i].hist(layer_activations[i + 3*j],density = True,bins = 100)\n",
    "            axs[j,i].set_title(\"Layer {}\".format(i+3*j+1))\n",
    "        \n"
   ]
  },
  {
   "cell_type": "code",
   "execution_count": 15,
   "id": "50541fa8",
   "metadata": {},
   "outputs": [],
   "source": [
    "# Now for the uniform version, we can use the same stddev array as above, just change the weight array, using the min and max value from lectures:\n",
    "a = tf.math.sqrt(float(3)) * std\n",
    "\n",
    "W = [tf.Variable(tf.random.uniform(shape = (neurons[i+1],neurons[i]), minval = -a[i], maxval = a[i]))for i in range(5)]\n",
    "\n",
    "layer_activations = [input]\n",
    "#now, we do each layer:\n",
    "for i in range(0,5):\n",
    "    a = tf.tensordot(W[i],layer_activations[i],axes = 1) + bias[i]\n",
    "    h = tf.math.tanh(a)\n",
    "    layer_activations.append(h)\n",
    "    \n",
    "#then drop the first element:\n",
    "layer_activations = layer_activations[1:]\n"
   ]
  },
  {
   "cell_type": "code",
   "execution_count": 16,
   "id": "961a7e37",
   "metadata": {},
   "outputs": [
    {
     "data": {
      "image/png": "[encoded data removed]",
      "text/plain": [
       "<Figure size 640x480 with 6 Axes>"
      ]
     },
     "metadata": {},
     "output_type": "display_data"
    }
   ],
   "source": [
    "#now plot:\n",
    "#plot\n",
    "fig,axs = plt.subplots(nrows = 2, ncols =3)\n",
    "for j in range(2):\n",
    "    for i in range(3):\n",
    "        if (i == 2) & (j == 1):\n",
    "            pass\n",
    "        else:\n",
    "            axs[j,i].hist(layer_activations[i + 3*j],density = True,bins = 100)\n",
    "            axs[j,i].set_title(\"Layer {}\".format(i+3*j+1))\n",
    "        \n"
   ]
  },
  {
   "cell_type": "markdown",
   "id": "8e5592ae",
   "metadata": {},
   "source": [
    "d) Comment on your interpretation of the results in the previous parts of this question, what implications there might be for the successful training of the MLP model, and any limitations of the empirical study carried out.\n",
    "\n",
    "**(5 marks)**"
   ]
  },
  {
   "cell_type": "markdown",
   "id": "c414e0a7",
   "metadata": {},
   "source": [
    "These histograms are much better than before, we don't have the issue of saturation across the layers in this one iteration now. They show that in both of the two cases, the post activations look relatively normally distributed, which is much better than being stuck at either -1 or 1.\n",
    "\n",
    "It appears that the assumptions required for glorot initialisation were reasonable in this context, especially the second regarding the equivariance of the input features since we designed them to have the same variance.\n",
    "\n",
    "This means that hopefully training will be successful for an MLP model of this form, since both the forward and backward signals aren't diminishing.\n",
    "\n",
    "However, this was only for one iteration. It may be the case that when running multiple iterations, we still have the issue of saturation (although hopefully this choice of initialisation will have mitigated this issue). We would need to run further simulations/test the full model to be able to make any concrete conclusions."
   ]
  },
  {
   "cell_type": "markdown",
   "id": "72a470af",
   "metadata": {},
   "source": [
    "### Question 3 (Total 30 marks)"
   ]
  },
  {
   "cell_type": "markdown",
   "id": "a4a74398",
   "metadata": {},
   "source": [
    "Consider the following MLP model, designed as an image classifier for the MNIST dataset:\n",
    "\n",
    "$$\n",
    "\\begin{align}\n",
    "\\mathbf{h}^{(0)} &:= \\mathbf{x}\\\\\n",
    "\\mathbf{h}^{(k)} &= \\sigma\\left( \\mathbf{W}^{(k-1)}\\mathbf{h}^{(k-1)} + \\mathbf{b}^{(k-1)} \\right),\\qquad k=1,2\\\\\n",
    "\\hat{\\mathbf{y}} &= \\textrm{softmax}\\left( \\mathbf{W}^{(2)}\\mathbf{h}^{(2)} + \\mathbf{b}^{(2)} \\right)\n",
    "\\end{align}\n",
    "$$\n",
    "\n",
    "where $\\mathbf{x}\\in\\mathbb{R}^{784}$ is the flattened image input, $\\mathbf{W}^{(k)}\\in\\mathbb{R}^{n_{k+1}\\times n_k}$ and $\\mathbf{b}^{(k)}\\in\\mathbb{R}^{n_{k+1}}$ ($k=0,1,2$) are the model weights and biases, and $n_k$ is the number of neurons in the $k$-th layer."
   ]
  },
  {
   "cell_type": "markdown",
   "id": "0dba23a0",
   "metadata": {},
   "source": [
    "a) Construct this MLP model using the Sequential API. The model will have two hidden layers with 64 neurons each, using a sigmoid activation function, and take an input of shape `(28, 28)`. The output should be a 10-way softmax.\n",
    "\n",
    "Load the MNIST dataset from the Keras API. Normalise the input pixel values to the interval $[0,1]$ and convert the labels to one-hot vectors. Do not shuffle the dataset. Save the training inputs and targets as Tensors `x_train` and `y_train` respectively. The validation/test partition can be discarded.\n",
    "\n",
    "_Hint: you may find it helpful in later parts of this question to use separate Keras layers for the activation functions inside your model object._\n",
    "\n",
    "**(5 marks)**"
   ]
  },
  {
   "cell_type": "code",
   "execution_count": 2,
   "id": "7580c58d",
   "metadata": {},
   "outputs": [
    {
     "name": "stdout",
     "output_type": "stream",
     "text": [
      "WARNING:tensorflow:From d:\\University-local\\Imperial\\Term 2\\Deep Learning\\.venv\\Lib\\site-packages\\keras\\src\\backend.py:873: The name tf.get_default_graph is deprecated. Please use tf.compat.v1.get_default_graph instead.\n",
      "\n"
     ]
    }
   ],
   "source": [
    "model = Sequential([\n",
    "    #flatten the data\n",
    "    Flatten(input_shape = (28,28)),\n",
    "    #hidden layers\n",
    "    Dense(64, activation = \"sigmoid\"),\n",
    "    Dense(64, activation = \"sigmoid\"),\n",
    "    #output\n",
    "    Dense(10,activation = \"softmax\")\n",
    "])\n",
    "\n"
   ]
  },
  {
   "cell_type": "code",
   "execution_count": 3,
   "id": "2889633f",
   "metadata": {},
   "outputs": [],
   "source": [
    "#get data\n",
    "data = tf.keras.datasets.mnist.load_data()\n",
    "x_train, y_train = data[0]\n",
    "#rescale\n",
    "x_train = x_train / 255\n",
    "\n",
    "#convert labels to 1 hot vectors\n",
    "#create matrix of 0s\n",
    "temp = np.zeros((y_train.size, y_train.max()+1), dtype=int)\n",
    "#put the 1s in\n",
    "temp[np.arange(y_train.size),y_train] = 1 \n",
    "y_train = temp\n",
    "\n",
    "#convert to tensors\n",
    "x_train = tf.constant(x_train)\n",
    "y_train = tf.constant(y_train)\n",
    "\n",
    "\n"
   ]
  },
  {
   "cell_type": "markdown",
   "id": "74623685",
   "metadata": {},
   "source": [
    "b) Suppose that the loss function used to train the MLP is the categorical cross entropy loss function, and $L_i$ denotes the (scalar-valued) loss with respect to the $i$-th input example. Consider the pre-activations in the final layer, given by $\\mathbf{a}^{(3)} =  \\mathbf{W}^{(2)}\\mathbf{h}^{(2)} + \\mathbf{b}^{(2)}$. \n",
    "\n",
    "Show that the error $\\delta^{(k)} := \\frac{\\partial L_i}{\\partial \\mathbf{a}^{(3)}}$ given by the derivative of the loss with respect to the final layer pre-activation values is given by $\\hat{\\mathbf{y}} - \\mathbf{y}$, where $\\hat{\\mathbf{y}}$ is the output from the model, and $\\mathbf{y}$ is the ground truth label, represented as a one-hot vector.\n",
    "\n",
    "Write your answer below in Markdown. You do not need to write any code for this part.\n",
    "\n",
    "**(7 marks)**"
   ]
  },
  {
   "cell_type": "markdown",
   "id": "d9095306",
   "metadata": {},
   "source": [
    "In one hot form, the categorical-cross-entropy is expressed as follows: $L_i = -\\sum_{j = 1}^{10} y_{ij}\\log(\\hat{y}_{ij})$ where $y_{ij}$ represents the $j$ th component of the true label for observation $i$ in one hot form (we use the notation that the first component represents the 0 digit etc), and $\\hat{y}_{ij} = \\frac{\\exp(a_j^{(3)})}{\\sum_{k=1}^{10}\\exp(a_k^{(3)})}$ represents the $j$ th component of the output of the model for observation $i$.\n",
    "\n",
    "\\begin{equation*}\n",
    "\\begin{align*}\n",
    "L_i &= -\\sum_{j = 1}^{10} y_{ij}\\log(\\frac{\\exp(a_j^{(3)})}{\\sum_{k=1}^{10}\\exp(a_k^{(3)})}) =  -\\sum_{j = 1}^{10} y_{ij}\\left(a_j^{(3)} - \\log(\\sum_{k=1}^{10}\\exp(a_k^{(3)}))\\right) \\\\\n",
    "\\implies \\delta_p^{(3)} &= \\frac{\\partial L_i}{\\partial a_p^{(3)}} = -y_{ip} + \\sum_{j=1}^{10}y_{ij}\\frac{\\exp(a_p^{(3)})}{\\sum_{k=1}^{10}\\exp(a_k^{(3)})} = -y_{ip} + \\sum_{j=1}^{10}y_{ij} \\hat{y}_{ip}\n",
    "\\end{align*}\n",
    "\\end{equation*}\n",
    "\n",
    "Now since in the last term, we are summing across a one hot vector, one of the sum components will be non zero, meaning:\n",
    "\n",
    "\\begin{equation*}\n",
    "\\begin{align*}\n",
    "\\delta_p^{(3)} &= -y_{ip} + \\sum_{j=1}^{10}y_{ij} \\hat{y}_{ip} = -y_{ip} + \\hat{y}_{ip} \\\\\n",
    "\\implies \\delta^{(3)} &= \\hat{\\textbf{y}} - \\textbf{y}\n",
    "\\end{align*}\n",
    "\\end{equation*}"
   ]
  },
  {
   "cell_type": "markdown",
   "id": "63b97dbe",
   "metadata": {},
   "source": [
    "c) Write a function called `grads` that implements the backpropagation equations for this model to return the gradients of the categorical cross entropy loss function with respect to the parameters $\\mathbf{W}^{(2)}$ and $\\mathbf{b}^{(2)}$. This function should return these gradients as a list `[grads_W2, grads_b2]`, and it should take the following input arguments:\n",
    "\n",
    "* `model`: your model object, defined using the Sequential API\n",
    "* `inputs`: a Tensor of shape `(batch_size, 28, 28)`\n",
    "* `y_true`: a Tensor of shape `(batch_size, 10)` containing the true labels as one-hot vectors\n",
    "\n",
    "The function `grads` (and any other function it uses) should only use TensorFlow ops. In particular, it should not use automatic differentiation or other libraries (e.g. numpy).\n",
    "\n",
    "You should make sure that your code is clearly written, and variables sensibly named. You might find it helpful to write separate helper functions to be used in the `grads` function.\n",
    "\n",
    " **(15 marks)**"
   ]
  },
  {
   "cell_type": "code",
   "execution_count": 99,
   "id": "e547a26c",
   "metadata": {},
   "outputs": [],
   "source": [
    "\n",
    "'''def grads(model,inputs,y_true):\n",
    "    model.compile(loss = \"CategoricalCrossentropy\")\n",
    "    #find the output of the model for the inputs\n",
    "    probs = tf.constant(model(inputs),dtype = float) #dim (batch,10), y_true is the same dimension\n",
    "    y_true = tf.cast(y_true,float)\n",
    "    #error, with all observations stacked into a matrix\n",
    "    delta_3 = probs - y_true #dim (batch,10)\n",
    "    #output of second layer:\n",
    "    #layer_2 = tf.keras.Model(inputs = model.input, outputs = model.get_layer(\"dense_20\").output)\n",
    "    #layer_2_h = tf.constant(layer_2(x_train[0:16,:]),dtype = float) #dim (batch,64)\n",
    "    get_layer_outputs = tf.keras.backend.function([model.layers[0].input], [layer.output for layer in model.layers])\n",
    "    layer_2_h = tf.constant(get_layer_outputs([inputs])[2])\n",
    "   \n",
    "\n",
    "    #now for the gradient with respect to the weights\n",
    "    #for each observation, we have delta as 10x1  h as 1x64, so we need to perform the outer product of these two vectors\n",
    "    #if we matrix multiply these in this way, we end up with the 10x64 matrix for observation i\n",
    "    #then we need one of these for each observation, making it a (batch,10,64) rank tensor\n",
    "\n",
    "    grads_W2 = tf.einsum('ij,ik->ijk', delta_3, layer_2_h)\n",
    "    grads_b2 = delta_3\n",
    "\n",
    "    #then average over batch of inputs \n",
    "    grads_W2 = tf.reduce_mean(grads_W2,axis = 0)\n",
    "    grads_b2 = tf.reduce_mean(grads_b2,axis = 0)\n",
    "    return [grads_W2, grads_b2]'''\n"
   ]
  },
  {
   "cell_type": "code",
   "execution_count": 96,
   "id": "c9b325de",
   "metadata": {},
   "outputs": [],
   "source": [
    "def grads(model,inputs,y_true):\n",
    "    model.compile(loss = \"CategoricalCrossentropy\")\n",
    "    #find the output of the model for the inputs\n",
    "    probs = tf.constant(model(inputs),dtype = float) #dim (batch,10), y_true is the same dimension\n",
    "    y_true = tf.cast(y_true,float)\n",
    "    #error, with all observations stacked into a matrix\n",
    "    delta_3 = probs - y_true #dim (batch,10)\n",
    "    #output of second layer:\n",
    "    #layer_2 = tf.keras.Model(inputs = model.input, outputs = model.get_layer(\"dense_20\").output)\n",
    "    #layer_2_h = tf.constant(layer_2(x_train[0:16,:]),dtype = float) #dim (batch,64)\n",
    "    get_layer_outputs = tf.keras.backend.function([model.layers[0].input], [layer.output for layer in model.layers])\n",
    "    layer_2_h = tf.constant(get_layer_outputs([inputs])[2])\n",
    "    #extend\n",
    " \n",
    "    \n",
    "\n",
    "    grads_W2 = tf.constant(np.array([tf.tensordot(delta_3[i,],layer_2_h[i,],axes = 0) for i in range (inputs.shape[0])]))\n",
    "    grads_b2 = delta_3\n",
    "    #then average over batch of inputs \n",
    "    grads_W2 = tf.reduce_mean(grads_W2,axis = 0)\n",
    "    grads_b2 = tf.reduce_mean(grads_b2,axis = 0)\n",
    "    return [grads_W2, grads_b2]"
   ]
  },
  {
   "cell_type": "markdown",
   "id": "b28dbac2",
   "metadata": {},
   "source": [
    "d) Compute the gradients on the first 16 examples in the training set using your `grads` function and model. Print out the gradients that are computed. \n",
    "\n",
    "**(3 marks)**"
   ]
  },
  {
   "cell_type": "code",
   "execution_count": 100,
   "id": "91434cbf",
   "metadata": {},
   "outputs": [
    {
     "name": "stdout",
     "output_type": "stream",
     "text": [
      "tf.Tensor(\n",
      "[[ 0.04634362  0.04043978  0.0588957   0.05095332  0.07276917  0.0630959\n",
      "   0.04227399  0.04962776  0.05439121  0.04208494  0.0546627   0.05999107\n",
      "   0.06148895  0.03147483  0.0515354   0.0562214   0.0571855   0.04343394\n",
      "   0.06195405  0.06068528  0.05211677  0.04490536  0.06315713  0.0455676\n",
      "   0.05210457  0.06120105  0.0525855   0.08465829  0.03730816  0.04551282\n",
      "   0.02772227  0.08346751  0.04783041  0.0695931   0.06674967  0.03782222\n",
      "   0.0360257   0.05877622  0.06294192  0.04019088  0.05557913  0.0532257\n",
      "   0.05923354  0.05988193  0.05253488  0.04136125  0.07904882  0.06100822\n",
      "   0.05746607  0.06900159  0.0454898   0.07025167  0.06119353  0.03880781\n",
      "   0.03743124  0.03206744  0.04394193  0.04065173  0.04422139  0.05619588\n",
      "   0.03297004  0.06033737  0.04971559  0.07436197]\n",
      " [-0.08935541 -0.0758255  -0.10981682 -0.09007572 -0.13234554 -0.12341016\n",
      "  -0.07942036 -0.09311981 -0.10085508 -0.08388557 -0.10797992 -0.11174354\n",
      "  -0.11787294 -0.05921048 -0.09489568 -0.10106373 -0.10805545 -0.08280619\n",
      "  -0.11592642 -0.11546938 -0.10159983 -0.08651652 -0.11654355 -0.08560668\n",
      "  -0.09792516 -0.114432   -0.09924799 -0.15620118 -0.07027671 -0.08371441\n",
      "  -0.05340125 -0.15690134 -0.0911234  -0.12731537 -0.12541695 -0.07134888\n",
      "  -0.06734344 -0.11477105 -0.11868003 -0.07540734 -0.10260117 -0.09944711\n",
      "  -0.10965148 -0.10726354 -0.09305898 -0.07651202 -0.14450547 -0.11316313\n",
      "  -0.10849919 -0.12890224 -0.08576202 -0.13006116 -0.11547977 -0.07156098\n",
      "  -0.06913996 -0.06239338 -0.08357216 -0.07848945 -0.07962751 -0.10440092\n",
      "  -0.05726667 -0.11163802 -0.09158331 -0.14038749]\n",
      " [ 0.04339145  0.03836225  0.05695917  0.04601058  0.06547773  0.06265955\n",
      "   0.04328027  0.04591627  0.05122209  0.04145162  0.05139554  0.05638273\n",
      "   0.05796616  0.0312433   0.04879035  0.04899156  0.05289385  0.04260428\n",
      "   0.05728932  0.0566083   0.04929618  0.04528002  0.0582248   0.04336848\n",
      "   0.05081288  0.05638099  0.04844794  0.07689169  0.03483224  0.04358015\n",
      "   0.02592397  0.07757793  0.04402057  0.06411504  0.06319261  0.033971\n",
      "   0.03637685  0.05366832  0.05831498  0.03921755  0.05256378  0.04950383\n",
      "   0.05674108  0.05375667  0.04617226  0.03889693  0.07147211  0.05718907\n",
      "   0.05492421  0.062306    0.04229818  0.06401856  0.05576248  0.03668174\n",
      "   0.03530144  0.03094014  0.04295184  0.04137061  0.04142017  0.05263133\n",
      "   0.030068    0.05232031  0.04690877  0.07083391]\n",
      " [-0.04693241 -0.04395659 -0.06856124 -0.05997832 -0.0802267  -0.06459298\n",
      "  -0.05090112 -0.0493006  -0.06136556 -0.04491168 -0.05482584 -0.06984182\n",
      "  -0.06242353 -0.04169832 -0.0631955  -0.05900208 -0.0539351  -0.04818041\n",
      "  -0.06904936 -0.05875966 -0.05834538 -0.04835102 -0.06265027 -0.04681852\n",
      "  -0.05981079 -0.07137084 -0.06185778 -0.08825126 -0.03874963 -0.05267119\n",
      "  -0.03073224 -0.08740287 -0.05438489 -0.07694718 -0.07023645 -0.03745856\n",
      "  -0.03999961 -0.05679353 -0.07003091 -0.04696227 -0.06085701 -0.05508275\n",
      "  -0.06291628 -0.06739152 -0.05101248 -0.04451801 -0.07542808 -0.06441743\n",
      "  -0.05948049 -0.06934182 -0.04255428 -0.07404868 -0.0628108  -0.03947388\n",
      "  -0.03981764 -0.0309047  -0.05177923 -0.04779117 -0.04950038 -0.05827911\n",
      "  -0.03654424 -0.05966366 -0.05014664 -0.07902008]\n",
      " [-0.03619149 -0.03296938 -0.04974809 -0.04085364 -0.05965345 -0.05369024\n",
      "  -0.03880507 -0.03849341 -0.04515543 -0.03450478 -0.04424959 -0.05054908\n",
      "  -0.04848242 -0.02374233 -0.04232568 -0.04661369 -0.04870009 -0.03640218\n",
      "  -0.05023673 -0.04839054 -0.0450292  -0.03911461 -0.05322934 -0.04023292\n",
      "  -0.04359924 -0.04892027 -0.0385783  -0.06752999 -0.03196387 -0.04068363\n",
      "  -0.02139134 -0.0710463  -0.03733877 -0.05624905 -0.0582929  -0.02877399\n",
      "  -0.03279565 -0.04857038 -0.04856819 -0.03325921 -0.04517166 -0.04629072\n",
      "  -0.05288738 -0.04890737 -0.04428004 -0.03286229 -0.06689227 -0.05129464\n",
      "  -0.04759715 -0.05611406 -0.0377792  -0.05681451 -0.05147567 -0.03528207\n",
      "  -0.03112525 -0.02838415 -0.03651387 -0.03442794 -0.03819838 -0.04732195\n",
      "  -0.02609616 -0.04735944 -0.0431757  -0.06192997]\n",
      " [ 0.00928347  0.01025626  0.01782022  0.01558223  0.02095431  0.01657575\n",
      "   0.01334476  0.0112868   0.01694362  0.01213653  0.01421163  0.01769332\n",
      "   0.01392939  0.009815    0.01491661  0.01635007  0.01368633  0.01114109\n",
      "   0.01707855  0.01519438  0.01571424  0.01267256  0.0162947   0.01204251\n",
      "   0.01500886  0.01683205  0.01118971  0.02261719  0.00930634  0.01119839\n",
      "   0.00619782  0.0217003   0.01395667  0.01933846  0.01768281  0.01118504\n",
      "   0.01078553  0.01640963  0.01723727  0.01260531  0.01466264  0.0145768\n",
      "   0.01664376  0.01424701  0.01435015  0.01336022  0.01903004  0.01406196\n",
      "   0.01595058  0.01884001  0.00969347  0.01748209  0.0166744   0.00917141\n",
      "   0.00834265  0.0094355   0.01294637  0.01065858  0.01186111  0.01722559\n",
      "   0.00647797  0.01426722  0.0109579   0.01918463]\n",
      " [ 0.0193553   0.01390059  0.02216954  0.01632822  0.02581131  0.02467404\n",
      "   0.01599657  0.01969371  0.01898449  0.01582886  0.02062029  0.02173164\n",
      "   0.0224121   0.0136021   0.02023857  0.02098673  0.02069375  0.01615315\n",
      "   0.02336301  0.02105975  0.02150879  0.018121    0.02189478  0.01716008\n",
      "   0.02018602  0.02413487  0.02152495  0.03100811  0.01353542  0.01773736\n",
      "   0.01097648  0.03020828  0.01696087  0.02644581  0.02518363  0.01418671\n",
      "   0.01176186  0.02199106  0.02484942  0.01502866  0.02013514  0.01995356\n",
      "   0.02202403  0.02185392  0.01620251  0.01454861  0.02714857  0.02359328\n",
      "   0.02180395  0.02489137  0.01676003  0.02506999  0.02130178  0.01570615\n",
      "   0.01555094  0.01058535  0.01790925  0.01537885  0.01693888  0.02008108\n",
      "   0.01115563  0.02131657  0.01828982  0.02936669]\n",
      " [-0.01728676 -0.01637386 -0.02333958 -0.02035401 -0.02653027 -0.02627624\n",
      "  -0.01725808 -0.01949445 -0.02100533 -0.01673591 -0.02011012 -0.02301329\n",
      "  -0.02162476 -0.01327726 -0.01973153 -0.02036317 -0.02117549 -0.01727648\n",
      "  -0.02276291 -0.02447987 -0.01891983 -0.01970784 -0.02498676 -0.01786218\n",
      "  -0.02000178 -0.02248627 -0.01897158 -0.03181148 -0.01390474 -0.01754279\n",
      "  -0.0100245  -0.03018681 -0.01808627 -0.02708121 -0.0250952  -0.01604158\n",
      "  -0.01451622 -0.02318207 -0.02501981 -0.0171513  -0.02244397 -0.0196136\n",
      "  -0.02451423 -0.0217479  -0.02076221 -0.01843895 -0.03012946 -0.0235188\n",
      "  -0.02398053 -0.02709974 -0.01832009 -0.0260919  -0.0207854  -0.01479285\n",
      "  -0.01491745 -0.01362167 -0.01666528 -0.01527346 -0.01785552 -0.02508138\n",
      "  -0.01273889 -0.0214121  -0.02048812 -0.02948428]\n",
      " [ 0.01550217  0.01403652  0.02066804  0.01766234  0.0244495   0.02201098\n",
      "   0.01519027  0.01612417  0.01876759  0.01462671  0.01857654  0.02119384\n",
      "   0.02043882  0.01152999  0.01810517  0.01837644  0.01890981  0.01536746\n",
      "   0.02111797  0.02034843  0.0183598   0.01576799  0.02120534  0.01578\n",
      "   0.01816932  0.02093375  0.01806015  0.02795723  0.01289835  0.0160193\n",
      "   0.00950567  0.02828087  0.01666249  0.02354626  0.02271852  0.01258864\n",
      "   0.01272715  0.02006195  0.0213351   0.01448927  0.01925856  0.0180416\n",
      "   0.02034097  0.02029813  0.01744755  0.01414268  0.02592064  0.0205886\n",
      "   0.01960887  0.02312577  0.01529008  0.02373263  0.02046979  0.01297321\n",
      "   0.01246466  0.01136329  0.01536359  0.0144463   0.01536949  0.01946254\n",
      "   0.0111704   0.01951258  0.0169973   0.0254179 ]\n",
      " [ 0.05589005  0.05212994  0.07495305  0.06472503  0.08929397  0.0789534\n",
      "   0.05629878  0.05775956  0.0680724   0.05390928  0.06769878  0.07815512\n",
      "   0.07416823  0.04026317  0.06656227  0.06611647  0.06849688  0.05596534\n",
      "   0.07717253  0.07320334  0.06689845  0.05694305  0.07663317  0.05660165\n",
      "   0.06505535  0.07772668  0.06684741  0.1006614   0.04701444  0.060564\n",
      "   0.03522313  0.10430245  0.06150233  0.08455414  0.08351425  0.04386941\n",
      "   0.04697781  0.07240987  0.07762025  0.05124845  0.06887455  0.06513269\n",
      "   0.07498598  0.07527268  0.06240636  0.05002159  0.09433511  0.07595286\n",
      "   0.06980368  0.08329312  0.05488403  0.08646129  0.07514966  0.04776946\n",
      "   0.04590938  0.04091218  0.05541756  0.05347594  0.05537076  0.06948693\n",
      "   0.04080392  0.07231916  0.0625244   0.09165671]], shape=(10, 64), dtype=float32)\n"
     ]
    }
   ],
   "source": [
    "grads_W2,grads_b2 = grads(model,x_train[0:16,], y_train[0:16])\n",
    "print(grads_W2)"
   ]
  },
  {
   "cell_type": "code",
   "execution_count": 98,
   "id": "8c30679a",
   "metadata": {},
   "outputs": [
    {
     "name": "stdout",
     "output_type": "stream",
     "text": [
      "tf.Tensor(\n",
      "[ 0.10312866 -0.19300596  0.09682488 -0.10970095 -0.08517724  0.0275711\n",
      "  0.03806061 -0.04054907  0.03518853  0.12765944], shape=(10,), dtype=float32)\n"
     ]
    }
   ],
   "source": [
    "print(grads_b2)"
   ]
  }
 ],
 "metadata": {
  "kernelspec": {
   "display_name": "Python 3 (ipykernel)",
   "language": "python",
   "name": "python3"
  },
  "language_info": {
   "codemirror_mode": {
    "name": "ipython",
    "version": 3
   },
   "file_extension": ".py",
   "mimetype": "text/x-python",
   "name": "python",
   "nbconvert_exporter": "python",
   "pygments_lexer": "ipython3",
   "version": "3.11.6"
  }
 },
 "nbformat": 4,
 "nbformat_minor": 5
}
