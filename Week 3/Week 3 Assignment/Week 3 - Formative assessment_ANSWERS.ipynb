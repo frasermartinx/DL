{
 "cells": [
  {
   "cell_type": "markdown",
   "id": "4415b31e",
   "metadata": {},
   "source": [
    "# Deep Learning\n",
    "## Formative assessment\n",
    "### Week 3: Loss functions and backpropagation"
   ]
  },
  {
   "cell_type": "markdown",
   "id": "04209c02",
   "metadata": {},
   "source": [
    "#### Instructions\n",
    "\n",
    "In this notebook, you will write code to train an MLP model with both the high-level Keras API and a custom training loop, using the automatic differentiation tools from TensorFlow and a custom loss function.\n",
    "\n",
    "Some code cells are provided you in the notebook. You should avoid editing provided code, and make sure to execute the cells in order to avoid unexpected errors. Some cells begin with the line: \n",
    "\n",
    "`#### GRADED CELL ####`\n",
    "\n",
    "These cells require you to write your own code to complete them.\n",
    "\n",
    "#### Let's get started!\n",
    "\n",
    "We'll start by running some imports, and loading the dataset."
   ]
  },
  {
   "cell_type": "code",
   "execution_count": 4,
   "id": "c426b102",
   "metadata": {},
   "outputs": [
    {
     "name": "stdout",
     "output_type": "stream",
     "text": [
      "WARNING:tensorflow:From d:\\University-local\\Imperial\\Term 2\\Deep Learning\\.venv\\Lib\\site-packages\\keras\\src\\losses.py:2976: The name tf.losses.sparse_softmax_cross_entropy is deprecated. Please use tf.compat.v1.losses.sparse_softmax_cross_entropy instead.\n",
      "\n"
     ]
    }
   ],
   "source": [
    "#### PACKAGE IMPORTS ####\n",
    "\n",
    "# Run this cell first to import all required packages. Do not make any imports elsewhere in the notebook\n",
    "\n",
    "import tensorflow as tf\n",
    "import pandas as pd\n",
    "import numpy as np\n",
    "from sklearn.preprocessing import MinMaxScaler\n",
    "from sklearn.model_selection import train_test_split\n",
    "import matplotlib.pyplot as plt\n",
    "from pathlib import Path\n",
    "from keras.models import Sequential\n",
    "from keras.layers import Dense, Dropout, BatchNormalization\n",
    "\n",
    "# If you would like to make further imports from Tensorflow, add them here\n",
    "\n",
    "\n"
   ]
  },
  {
   "cell_type": "markdown",
   "id": "de3e208f",
   "metadata": {},
   "source": [
    "<table><tr>\n",
    "<td> <img src=\"figures/adelie.jpg\" title=\"Adélie\" style=\"width: 275px;\"/> </td>\n",
    "<td> <img src=\"figures/chinstrap.jpg\" title=\"Chinstrap\" style=\"width: 275px;\"/> </td>\n",
    "    <td> <img src=\"figures/gentoo.jpg\" title=\"Gentoo\" style=\"width: 275px;\"/> </td>\n",
    "</tr></table>\n",
    "\n",
    "<center><font style=\"font-size:12px\">source: <a href=https://en.wikipedia.org/wiki/Penguin>wikipedia</a></font></center>\n",
    "\n",
    "#### The Palmer Penguins dataset\n",
    "In this formative assessment, you will use the [Palmer Penguins dataset](https://allisonhorst.github.io/palmerpenguins/articles/intro.html). These data were collected from 2007 - 2009 by Dr. Kristen Gorman with the [Palmer Station Long Term Ecological Research Program](https://pal.lternet.edu/), part of the [US Long Term Ecological Research Network](https://lternet.edu/). The dataset consists of measurements for three penguin species observed in the Palmer Archipelago, Antarctica.\n",
    "\n",
    "* Gorman, K.B., Williams, T.D. & Fraser, W.R. (2014), \"Ecological sexual dimorphism and environmental variability within a community of Antarctic penguins (genus Pygoscelis)\", PLoS ONE **9** (3):e90081, https://doi.org/10.1371/journal.pone.0090081\n",
    "\n",
    "Your goal is to model the dataset using an MLP network, trained using the automatic differentiation tools in TensorFlow."
   ]
  },
  {
   "cell_type": "markdown",
   "id": "2df944d5",
   "metadata": {},
   "source": [
    "#### Load and preprocess the dataset"
   ]
  },
  {
   "cell_type": "code",
   "execution_count": 5,
   "id": "72588990",
   "metadata": {},
   "outputs": [
    {
     "data": {
      "text/html": [
       "<div>\n",
       "<style scoped>\n",
       "    .dataframe tbody tr th:only-of-type {\n",
       "        vertical-align: middle;\n",
       "    }\n",
       "\n",
       "    .dataframe tbody tr th {\n",
       "        vertical-align: top;\n",
       "    }\n",
       "\n",
       "    .dataframe thead th {\n",
       "        text-align: right;\n",
       "    }\n",
       "</style>\n",
       "<table border=\"1\" class=\"dataframe\">\n",
       "  <thead>\n",
       "    <tr style=\"text-align: right;\">\n",
       "      <th></th>\n",
       "      <th>Body Mass (g)</th>\n",
       "      <th>Clutch Completion</th>\n",
       "      <th>Comments</th>\n",
       "      <th>Culmen Depth (mm)</th>\n",
       "      <th>Culmen Length (mm)</th>\n",
       "      <th>Date Egg</th>\n",
       "      <th>Delta 13 C (o/oo)</th>\n",
       "      <th>Delta 15 N (o/oo)</th>\n",
       "      <th>Flipper Length (mm)</th>\n",
       "      <th>Individual ID</th>\n",
       "      <th>Island</th>\n",
       "      <th>Region</th>\n",
       "      <th>Sample Number</th>\n",
       "      <th>Sex</th>\n",
       "      <th>Species</th>\n",
       "      <th>Stage</th>\n",
       "      <th>studyName</th>\n",
       "    </tr>\n",
       "  </thead>\n",
       "  <tbody>\n",
       "    <tr>\n",
       "      <th>312</th>\n",
       "      <td>4050.0</td>\n",
       "      <td>Yes</td>\n",
       "      <td>NaN</td>\n",
       "      <td>18.2</td>\n",
       "      <td>41.1</td>\n",
       "      <td>11/13/08</td>\n",
       "      <td>-26.60023</td>\n",
       "      <td>8.62264</td>\n",
       "      <td>192.0</td>\n",
       "      <td>N28A2</td>\n",
       "      <td>Biscoe</td>\n",
       "      <td>Anvers</td>\n",
       "      <td>64</td>\n",
       "      <td>MALE</td>\n",
       "      <td>Adelie</td>\n",
       "      <td>Adult, 1 Egg Stage</td>\n",
       "      <td>PAL0809</td>\n",
       "    </tr>\n",
       "    <tr>\n",
       "      <th>14</th>\n",
       "      <td>6050.0</td>\n",
       "      <td>Yes</td>\n",
       "      <td>NaN</td>\n",
       "      <td>17.0</td>\n",
       "      <td>59.6</td>\n",
       "      <td>12/3/07</td>\n",
       "      <td>-25.68210</td>\n",
       "      <td>7.76843</td>\n",
       "      <td>230.0</td>\n",
       "      <td>N56A2</td>\n",
       "      <td>Biscoe</td>\n",
       "      <td>Anvers</td>\n",
       "      <td>34</td>\n",
       "      <td>MALE</td>\n",
       "      <td>Gentoo</td>\n",
       "      <td>Adult, 1 Egg Stage</td>\n",
       "      <td>PAL0708</td>\n",
       "    </tr>\n",
       "    <tr>\n",
       "      <th>244</th>\n",
       "      <td>3775.0</td>\n",
       "      <td>Yes</td>\n",
       "      <td>NaN</td>\n",
       "      <td>20.5</td>\n",
       "      <td>37.3</td>\n",
       "      <td>11/18/09</td>\n",
       "      <td>-26.36678</td>\n",
       "      <td>9.49645</td>\n",
       "      <td>199.0</td>\n",
       "      <td>N63A2</td>\n",
       "      <td>Torgersen</td>\n",
       "      <td>Anvers</td>\n",
       "      <td>118</td>\n",
       "      <td>MALE</td>\n",
       "      <td>Adelie</td>\n",
       "      <td>Adult, 1 Egg Stage</td>\n",
       "      <td>PAL0910</td>\n",
       "    </tr>\n",
       "    <tr>\n",
       "      <th>234</th>\n",
       "      <td>5500.0</td>\n",
       "      <td>Yes</td>\n",
       "      <td>NaN</td>\n",
       "      <td>15.0</td>\n",
       "      <td>49.1</td>\n",
       "      <td>11/18/09</td>\n",
       "      <td>-25.79203</td>\n",
       "      <td>8.65914</td>\n",
       "      <td>228.0</td>\n",
       "      <td>N23A2</td>\n",
       "      <td>Biscoe</td>\n",
       "      <td>Anvers</td>\n",
       "      <td>104</td>\n",
       "      <td>MALE</td>\n",
       "      <td>Gentoo</td>\n",
       "      <td>Adult, 1 Egg Stage</td>\n",
       "      <td>PAL0910</td>\n",
       "    </tr>\n",
       "    <tr>\n",
       "      <th>140</th>\n",
       "      <td>3250.0</td>\n",
       "      <td>Yes</td>\n",
       "      <td>NaN</td>\n",
       "      <td>16.6</td>\n",
       "      <td>45.2</td>\n",
       "      <td>11/21/09</td>\n",
       "      <td>-24.78984</td>\n",
       "      <td>9.62357</td>\n",
       "      <td>191.0</td>\n",
       "      <td>N94A1</td>\n",
       "      <td>Dream</td>\n",
       "      <td>Anvers</td>\n",
       "      <td>57</td>\n",
       "      <td>FEMALE</td>\n",
       "      <td>Chinstrap</td>\n",
       "      <td>Adult, 1 Egg Stage</td>\n",
       "      <td>PAL0910</td>\n",
       "    </tr>\n",
       "  </tbody>\n",
       "</table>\n",
       "</div>"
      ],
      "text/plain": [
       "     Body Mass (g) Clutch Completion Comments  Culmen Depth (mm)  \\\n",
       "312         4050.0               Yes      NaN               18.2   \n",
       "14          6050.0               Yes      NaN               17.0   \n",
       "244         3775.0               Yes      NaN               20.5   \n",
       "234         5500.0               Yes      NaN               15.0   \n",
       "140         3250.0               Yes      NaN               16.6   \n",
       "\n",
       "     Culmen Length (mm)  Date Egg  Delta 13 C (o/oo)  Delta 15 N (o/oo)  \\\n",
       "312                41.1  11/13/08          -26.60023            8.62264   \n",
       "14                 59.6   12/3/07          -25.68210            7.76843   \n",
       "244                37.3  11/18/09          -26.36678            9.49645   \n",
       "234                49.1  11/18/09          -25.79203            8.65914   \n",
       "140                45.2  11/21/09          -24.78984            9.62357   \n",
       "\n",
       "     Flipper Length (mm) Individual ID     Island  Region  Sample Number  \\\n",
       "312                192.0         N28A2     Biscoe  Anvers             64   \n",
       "14                 230.0         N56A2     Biscoe  Anvers             34   \n",
       "244                199.0         N63A2  Torgersen  Anvers            118   \n",
       "234                228.0         N23A2     Biscoe  Anvers            104   \n",
       "140                191.0         N94A1      Dream  Anvers             57   \n",
       "\n",
       "        Sex    Species               Stage studyName  \n",
       "312    MALE     Adelie  Adult, 1 Egg Stage   PAL0809  \n",
       "14     MALE     Gentoo  Adult, 1 Egg Stage   PAL0708  \n",
       "244    MALE     Adelie  Adult, 1 Egg Stage   PAL0910  \n",
       "234    MALE     Gentoo  Adult, 1 Egg Stage   PAL0910  \n",
       "140  FEMALE  Chinstrap  Adult, 1 Egg Stage   PAL0910  "
      ]
     },
     "execution_count": 5,
     "metadata": {},
     "output_type": "execute_result"
    }
   ],
   "source": [
    "# Run this cell to load and sample the data\n",
    "\n",
    "df = pd.read_csv(Path(\"./data/penguins.csv\"))\n",
    "df.sample(5)"
   ]
  },
  {
   "cell_type": "markdown",
   "id": "38cdf591",
   "metadata": {},
   "source": [
    "We will work the following columns from the DataFrame:"
   ]
  },
  {
   "cell_type": "code",
   "execution_count": 6,
   "id": "c04f998f",
   "metadata": {},
   "outputs": [],
   "source": [
    "# This is the list of columns to use as input features from the DataFrame\n",
    "\n",
    "input_cols = ['Body Mass (g)', 'Culmen Depth (mm)', 'Culmen Length (mm)', 'Flipper Length (mm)']"
   ]
  },
  {
   "cell_type": "code",
   "execution_count": 7,
   "id": "c941a872",
   "metadata": {},
   "outputs": [],
   "source": [
    "# This is the column to use for the target variable\n",
    "\n",
    "target_col = ['Species']"
   ]
  },
  {
   "cell_type": "markdown",
   "id": "366c6f93",
   "metadata": {},
   "source": [
    "We will also use the `MinMaxScaler` from `sklearn` to scale the input features."
   ]
  },
  {
   "cell_type": "code",
   "execution_count": 8,
   "id": "fbc26098",
   "metadata": {},
   "outputs": [],
   "source": [
    "# Create a MinMax Scaler\n",
    "\n",
    "scaler = MinMaxScaler()"
   ]
  },
  {
   "cell_type": "markdown",
   "id": "1fbb8dbb",
   "metadata": {},
   "source": [
    "You should now complete the following `get_inputs_and_targets` function, according to the following specifications:\n",
    "\n",
    "* The function takes `dataframe`, `input_columns`, `target_column`, `minmaxscaler` as arguments\n",
    "* Extract the inputs and target columns from the loaded DataFrame using `input_columns` and `target_column` lists\n",
    "* Remove any rows with `NaN` values\n",
    "* Scale the input features to the range $[0, 1]$ using the `minmaxscaler`\n",
    "* The function should then return a tuple of constant `tf.Tensor` objects `(input_variables, target_variable)`\n",
    "  * `input_variables` should be of type `tf.float32`, with shape `(num_examples, num_features)` \n",
    "  * `target_variable` should be of type `tf.string`, with shape `(num_examples,)`"
   ]
  },
  {
   "cell_type": "code",
   "execution_count": 9,
   "id": "f7aa41f4",
   "metadata": {},
   "outputs": [],
   "source": [
    "#### GRADED CELL ####\n",
    "\n",
    "# Complete the following function. \n",
    "# Make sure to not change the function name or arguments.\n",
    "\n",
    "def get_inputs_and_targets(dataframe, input_columns, target_column, minmaxscaler):\n",
    "    \"\"\"\n",
    "    This function takes in the loaded DataFrame and column lists as above, and a\n",
    "    MinMaxScaler object. The function should extract the input and target features as \n",
    "    above, and return a tuple (input_variables, target_variable) of Tensors.\n",
    "    \"\"\"\n",
    "    dataframe = dataframe[input_columns + target_column]\n",
    "    dataframe = dataframe.dropna()\n",
    "    X = dataframe[input_columns].values\n",
    "    X = minmaxscaler.fit_transform(X)\n",
    "    y = np.squeeze(dataframe[target_column].values, axis=-1)\n",
    "    return tf.constant(X, dtype=tf.float32), tf.constant(y)"
   ]
  },
  {
   "cell_type": "code",
   "execution_count": 11,
   "id": "235025a8",
   "metadata": {
    "scrolled": true
   },
   "outputs": [
    {
     "name": "stdout",
     "output_type": "stream",
     "text": [
      "tf.Tensor(\n",
      "[[0.41666666 0.0952381  0.48727274 0.6440678 ]\n",
      " [0.5416667  0.07142857 0.32       0.7118644 ]\n",
      " [0.7222222  0.13095239 0.6981818  0.779661  ]\n",
      " ...\n",
      " [0.19444445 0.47619048 0.29454544 0.3559322 ]\n",
      " [0.1388889  0.48809522 0.09090909 0.2881356 ]\n",
      " [0.2361111  0.64285713 0.36727273 0.13559322]], shape=(342, 4), dtype=float32)\n"
     ]
    }
   ],
   "source": [
    "# Run your function to get the input and target Tensors\n",
    "\n",
    "X, y = get_inputs_and_targets(df, input_cols, target_col, scaler)\n",
    "print(X)"
   ]
  },
  {
   "cell_type": "code",
   "execution_count": 12,
   "id": "35e622b7",
   "metadata": {},
   "outputs": [],
   "source": [
    "# Split the data into training and test sets\n",
    "\n",
    "X_train, X_test, y_train, y_test = train_test_split(X.numpy(), y.numpy(), test_size=0.2)"
   ]
  },
  {
   "cell_type": "code",
   "execution_count": 52,
   "id": "41be4360",
   "metadata": {},
   "outputs": [],
   "source": [
    "# Load the data into tf.data.Dataset objects\n",
    "\n",
    "train_ds = tf.data.Dataset.from_tensor_slices((X_train, y_train))\n",
    "test_ds = tf.data.Dataset.from_tensor_slices((X_test, y_test))\n"
   ]
  },
  {
   "cell_type": "markdown",
   "id": "ad2dd4cb",
   "metadata": {},
   "source": [
    "The target variable needs to be further processed to convert the string labels to integer labels to train our model.\n",
    "\n",
    "You should now complete the following `get_dataset` function according to the following specifications:\n",
    "\n",
    "* The function takes `data` as an argument, which is a tuple of numpy arrays `(inputs, targets)`\n",
    "* The training and test data should be loaded into a `tf.data.Dataset` object\n",
    "* The `get_dataset` function should contain a nested function that is used in the `map` method of the Dataset to process the targets\n",
    "  * The string targets should be converted to integer labels according to the following mapping:</br>\n",
    "  `{\"Adelie\": 0, \"Chinstrap\": 1, \"Gentoo\": 2}`\n",
    "* The resulting Dataset should return a tuple of `(inputs, targets)` Tensors, of types `tf.float32` and `tf.int32` respectively"
   ]
  },
  {
   "cell_type": "code",
   "execution_count": 29,
   "id": "6e7394be",
   "metadata": {},
   "outputs": [],
   "source": [
    "#### GRADED CELL ####\n",
    "\n",
    "# Complete the following function. \n",
    "# Make sure to not change the function name or arguments.\n",
    "\n",
    "def get_dataset(data):\n",
    "    \"\"\"\n",
    "    This function takes a tuple of numpy arrays, and creates a tf.data.Dataset\n",
    "    object according to the above description.\n",
    "    The function should then return the Dataset.\n",
    "    \"\"\"\n",
    "    dataset = tf.data.Dataset.from_tensor_slices(data)\n",
    "    \n",
    "    def integer_labels(inputs, targets):\n",
    "        if targets == 'Adelie':\n",
    "            targets = 0\n",
    "        elif targets == 'Chinstrap':\n",
    "            targets = 1\n",
    "        else:\n",
    "            targets = 2\n",
    "        return inputs, targets\n",
    "\n",
    "    return dataset.map(integer_labels)"
   ]
  },
  {
   "cell_type": "code",
   "execution_count": 54,
   "id": "0c526825",
   "metadata": {},
   "outputs": [
    {
     "data": {
      "text/plain": [
       "(TensorSpec(shape=(4,), dtype=tf.float32, name=None),\n",
       " TensorSpec(shape=(), dtype=tf.int32, name=None))"
      ]
     },
     "execution_count": 54,
     "metadata": {},
     "output_type": "execute_result"
    }
   ],
   "source": [
    "# Create the training and test Datasets and print the element_spec\n",
    "\n",
    "train_ds = get_dataset(data=(X_train, y_train))\n",
    "test_ds = get_dataset(data=(X_test, y_test))\n",
    "\n",
    "train_ds.element_spec\n"
   ]
  },
  {
   "cell_type": "code",
   "execution_count": 57,
   "id": "75483d3e",
   "metadata": {},
   "outputs": [],
   "source": [
    "# Shuffle, batch and prefetch the Datasets\n",
    "\n",
    "train_ds = train_ds.shuffle(X_train.shape[0]).batch(32).prefetch(tf.data.AUTOTUNE)\n",
    "test_ds = test_ds.shuffle(X_test.shape[0]).batch(32).prefetch(tf.data.AUTOTUNE)"
   ]
  },
  {
   "cell_type": "markdown",
   "id": "72b0ef8c",
   "metadata": {},
   "source": [
    "#### MLP model\n",
    "\n",
    "You should now complete the following `get_model` function to build the MLP model we will use to train on the Palmer Penguins dataset.\n",
    "\n",
    "* The function takes `hidden_units`, `output_units`, `input_shape`, `rate` as arguments\n",
    "* You should build the model using the `Sequential` API\n",
    "* `hidden_units` is a list of integers, specifying the width of the hidden layers within the model\n",
    "  * Each hidden layer should use a sigmoid activation function\n",
    "  * Each fully connected layer should be followed by a batch normalization layer, and then a dropout layer with dropout rate equal to `rate`\n",
    "* The first layer in the model should set the input shape using the `input_shape` argument\n",
    "* `output_units` is an integer specifying the number of neurons in the final output layer\n",
    "  * The final output layer should not use an activation function"
   ]
  },
  {
   "cell_type": "code",
   "execution_count": 58,
   "id": "a08142e4",
   "metadata": {},
   "outputs": [],
   "source": [
    "#### GRADED CELL ####\n",
    "\n",
    "# Complete the following function. \n",
    "# Make sure to not change the function name or arguments.\n",
    "\n",
    "def get_model(hidden_units, output_units, input_shape, rate):\n",
    "    \"\"\"\n",
    "    This function should create an MLP model according to the above description.\n",
    "    The function should then return the model.\n",
    "    \"\"\"\n",
    "    model = Sequential()\n",
    "    for i, units in enumerate(hidden_units):\n",
    "        if i == 0:\n",
    "            model.add(Dense(units, activation='sigmoid', input_shape=input_shape))\n",
    "        else:\n",
    "            model.add(Dense(units, activation='sigmoid'))\n",
    "        model.add(BatchNormalization())\n",
    "        model.add(Dropout(rate))\n",
    "        \n",
    "    if len(hidden_units) == 0:\n",
    "        model.add(Dense(output_units, input_shape=input_shape))\n",
    "    else:\n",
    "        model.add(Dense(output_units))\n",
    "    return model"
   ]
  },
  {
   "cell_type": "code",
   "execution_count": 59,
   "id": "0362ea5d",
   "metadata": {},
   "outputs": [
    {
     "name": "stdout",
     "output_type": "stream",
     "text": [
      "Model: \"sequential_5\"\n",
      "_________________________________________________________________\n",
      " Layer (type)                Output Shape              Param #   \n",
      "=================================================================\n",
      " dense_15 (Dense)            (None, 10)                50        \n",
      "                                                                 \n",
      " batch_normalization_10 (Ba  (None, 10)                40        \n",
      " tchNormalization)                                               \n",
      "                                                                 \n",
      " dropout_10 (Dropout)        (None, 10)                0         \n",
      "                                                                 \n",
      " dense_16 (Dense)            (None, 10)                110       \n",
      "                                                                 \n",
      " batch_normalization_11 (Ba  (None, 10)                40        \n",
      " tchNormalization)                                               \n",
      "                                                                 \n",
      " dropout_11 (Dropout)        (None, 10)                0         \n",
      "                                                                 \n",
      " dense_17 (Dense)            (None, 3)                 33        \n",
      "                                                                 \n",
      "=================================================================\n",
      "Total params: 273 (1.07 KB)\n",
      "Trainable params: 233 (932.00 Byte)\n",
      "Non-trainable params: 40 (160.00 Byte)\n",
      "_________________________________________________________________\n"
     ]
    }
   ],
   "source": [
    "# Use your function to create a model and print the summary\n",
    "\n",
    "model = get_model(hidden_units=[10, 10], output_units=3, input_shape=(4,), rate=0.8)\n",
    "model.summary()"
   ]
  },
  {
   "cell_type": "markdown",
   "id": "6fe24fbf",
   "metadata": {},
   "source": [
    "#### Loss function\n",
    "\n",
    "We will train the model using a categorical cross entropy loss function. Since the final layer in the model does not use an activation function, it is returning the logits to be used in the computation of the loss function.\n",
    "\n",
    "The categorical cross entropy for a single data example $(x, y)$ is given by:\n",
    "\n",
    "$$\n",
    "l(y, \\hat{y}) = -\\sum_{j=1}^C y_{j} \\log \\hat{y}_{j}, \\label{cce}\\tag{1}\n",
    "$$\n",
    "\n",
    "where $C$ is the number of classes (in our case $C=3$), $y, \\hat{y}\\in\\mathbb{R}^C$, and $\\hat{y}_{j}$ is equal to the probability of the label $j$ as predicted by our neural network $f_\\theta$ with parameters $\\theta$, given the input $x$. In the above formulation the target label $y$ is represented as a one-hot vector. In our case, $y$ will be length three with two zeros and a single 1 in the place of the correct label.\n",
    "\n",
    "Note also that the our model defined above outputs logits $z_j$, not probabilities. The probabilities are computed using the softmax function:\n",
    "\n",
    "$$\n",
    "\\hat{y_j} = \\frac{\\exp(z_j)}{\\sum_{k=1}^3 \\exp(z_k)}.\n",
    "$$\n",
    "\n",
    "The loss function we want to minimise is the categorical cross entropy \\eqref{cce} averaged over all examples in the training data. In practice, we will estimate this loss function by sampling minibatches of data and computing the average categorical cross entropy over the minibatch."
   ]
  },
  {
   "cell_type": "markdown",
   "id": "fb74634f",
   "metadata": {},
   "source": [
    "You should now complete the following `loss_function` function, to compute the categorical cross entropy loss as above.\n",
    "\n",
    "In TensorFlow, loss functions have the signature `loss(y_true, y_pred)`, where `y_true` is the ground truth Tensor and `y_pred` is the model prediction given the inputs. The `compute_loss` function follows this signature, so we would be able to pass it to the `loss` argument directly when calling `model.compile`.\n",
    "\n",
    "* The function takes `y_true` and `y_pred` as arguments\n",
    "  * `y_true` is a batch of ground truth inputs, of shape `(num_examples,)` and type `tf.int32`\n",
    "  * `y_pred` is a batch of model predictions, of shape `(num_examples, 3)` and type `tf.float32`\n",
    "* The function should compute the categorical cross entropy as above\n",
    "  * Bear in mind that `y_pred` will be a batch of logits, not probabilities\n",
    "  * `y_true` contains the integer-encoded labels (either 0, 1 or 2)\n",
    "* The function should average the categorical cross entropy over the minibatch, and return the result as a scalar Tensor\n",
    "\n",
    "_Hint: you might find the functions [`tf.math.reduce_logsumexp`](https://www.tensorflow.org/api_docs/python/tf/math/reduce_logsumexp) and [`tf.gather`](https://www.tensorflow.org/api_docs/python/tf/gather) useful._"
   ]
  },
  {
   "cell_type": "code",
   "execution_count": 78,
   "id": "015d4214",
   "metadata": {},
   "outputs": [],
   "source": [
    "#### GRADED CELL ####\n",
    "\n",
    "# Complete the following function. \n",
    "# Make sure to not change the function name or arguments.\n",
    "\n",
    "def loss_function(y_true, y_pred):\n",
    "    \"\"\"\n",
    "    This function should compute the categorical cross entropy loss as described above.\n",
    "    The function should return a scalar Tensor with the computed loss value.\n",
    "    \"\"\"\n",
    "    Z = tf.math.reduce_logsumexp(y_pred, axis=-1, keepdims=True)  # (num_examples, 1)\n",
    "    logprob = y_pred - Z  # (num_examples, 3)\n",
    "\n",
    "    return -tf.reduce_mean(tf.gather(logprob, y_true, batch_dims=1))"
   ]
  },
  {
   "cell_type": "code",
   "execution_count": 79,
   "id": "fd45f912",
   "metadata": {},
   "outputs": [],
   "source": [
    "# Get a ground truth and predictions Tensor to test your function\n",
    "\n",
    "inputs, y_true = next(iter(train_ds))\n",
    "y_pred = model(inputs)"
   ]
  },
  {
   "cell_type": "code",
   "execution_count": 80,
   "id": "84d34d24",
   "metadata": {},
   "outputs": [
    {
     "data": {
      "text/plain": [
       "<tf.Tensor: shape=(), dtype=float32, numpy=0.056014396>"
      ]
     },
     "execution_count": 80,
     "metadata": {},
     "output_type": "execute_result"
    }
   ],
   "source": [
    "# Compute the loss on the batch of data using your function\n",
    "\n",
    "loss_function(y_true, y_pred)"
   ]
  },
  {
   "cell_type": "code",
   "execution_count": 81,
   "id": "48d65c3d",
   "metadata": {},
   "outputs": [
    {
     "data": {
      "text/plain": [
       "<tf.Tensor: shape=(), dtype=float32, numpy=0.05601444>"
      ]
     },
     "execution_count": 81,
     "metadata": {},
     "output_type": "execute_result"
    }
   ],
   "source": [
    "# Check to see that your computed loss agrees with the built-in TensorFlow function\n",
    "\n",
    "tf.reduce_mean(tf.keras.metrics.sparse_categorical_crossentropy(y_true, y_pred, from_logits=True))"
   ]
  },
  {
   "cell_type": "markdown",
   "id": "19a4d44a",
   "metadata": {},
   "source": [
    "#### Train your model with the high-level Keras API\n",
    "\n",
    "You should now complete the following `train_model_keras` function to train the MLP model using the high-level Keras API.\n",
    "\n",
    "* The function takes `mlp_model`, `loss_fn`, `opt`, `training_dataset` and `epochs` as arguments\n",
    "* The function should use the high-level Keras API to compile and train the model\n",
    "  * Use the `compile` method to compile `mlp_model` using the loss function `loss_fn`, `opt` optimizer and accuracy metric\n",
    "  * Train with the `fit` method, using `training_dataset` for `epochs` epochs\n",
    "* The function should then return the training history"
   ]
  },
  {
   "cell_type": "code",
   "execution_count": 83,
   "id": "babb2495",
   "metadata": {},
   "outputs": [],
   "source": [
    "#### GRADED CELL ####\n",
    "\n",
    "# Complete the following function. \n",
    "# Make sure to not change the function name or arguments.\n",
    "\n",
    "def train_model_keras(mlp_model, loss_fn, opt, training_dataset, epochs):\n",
    "    \"\"\"\n",
    "    This function should use the compile and fit methods to train the MLP model.\n",
    "    The function should return the history from the training.\n",
    "    \"\"\"\n",
    "    mlp_model.compile(loss=loss_fn, optimizer=opt, metrics=['accuracy'])\n",
    "    return mlp_model.fit(training_dataset, epochs=epochs, verbose=0)"
   ]
  },
  {
   "cell_type": "code",
   "execution_count": 84,
   "id": "b00818ab",
   "metadata": {},
   "outputs": [],
   "source": [
    "# Create an SGD optimizer\n",
    "\n",
    "optimizer = tf.keras.optimizers.SGD()"
   ]
  },
  {
   "cell_type": "code",
   "execution_count": 85,
   "id": "84685aed",
   "metadata": {},
   "outputs": [],
   "source": [
    "# Compile and fit the MLP model\n",
    "\n",
    "model = get_model(hidden_units=[40, 20], output_units=3, input_shape=(4,), rate=0.5)\n",
    "history = train_model_keras(model, loss_fn=loss_function, opt=optimizer, \n",
    "                            training_dataset=train_ds, epochs=200)"
   ]
  },
  {
   "cell_type": "code",
   "execution_count": 86,
   "id": "cb24e93f",
   "metadata": {},
   "outputs": [
    {
     "data": {
      "image/png": "[encoded data removed]",
      "text/plain": [
       "<Figure size 1000x300 with 2 Axes>"
      ]
     },
     "metadata": {},
     "output_type": "display_data"
    }
   ],
   "source": [
    "# Plot the learning curves\n",
    "\n",
    "plt.figure(figsize=(10, 3))\n",
    "plt.subplot(1, 2, 1)\n",
    "plt.plot(history.history['loss'])\n",
    "plt.xlabel(\"Epoch\")\n",
    "plt.ylabel(\"Loss\")\n",
    "\n",
    "plt.subplot(1, 2, 2)\n",
    "plt.plot(history.history['accuracy'])\n",
    "plt.xlabel(\"Epoch\")\n",
    "plt.ylabel(\"Accuracy\")\n",
    "plt.show()"
   ]
  },
  {
   "cell_type": "code",
   "execution_count": 87,
   "id": "be267cd4",
   "metadata": {},
   "outputs": [
    {
     "name": "stdout",
     "output_type": "stream",
     "text": [
      "3/3 [==============================] - 0s 3ms/step - loss: 0.0146 - accuracy: 1.0000\n"
     ]
    },
    {
     "data": {
      "text/plain": [
       "[0.014600280672311783, 1.0]"
      ]
     },
     "execution_count": 87,
     "metadata": {},
     "output_type": "execute_result"
    }
   ],
   "source": [
    "# Evaluate the model\n",
    "\n",
    "model.evaluate(test_ds)"
   ]
  },
  {
   "cell_type": "markdown",
   "id": "ee5c4b9d",
   "metadata": {},
   "source": [
    "#### Train your model with a custom training loop\n",
    "\n",
    "You will now implement a custom training loop to train an MLP model on the Palmer Penguins dataset, making use of the automatic differentiation tools in TensorFlow.\n",
    "\n",
    "First you should complete the following `train_step` function, which will implement the core operations of computing the loss and gradients, and updating the model parameters.\n",
    "\n",
    "* The function takes the arguments `mlp_model`, `loss_fn`, `opt` and `train_batch`\n",
    "* `train_batch` is a tuple of `(inputs, targets)` Tensors yielded from the Dataset\n",
    "* The function should compute the batch loss using `train_batch`, `mlp_model` and `loss_fn`\n",
    "  * The model should be run in training mode (see [the docs](https://www.tensorflow.org/api_docs/python/tf/keras/Model#call))\n",
    "* It should then compute the gradients and update the model parameters using the optimizer `opt`\n",
    "* It should return a tuple of three Tensors: `(loss, y_true, y_pred)`\n",
    "  * `loss` is the scalar batch loss as computed by `loss_fn`\n",
    "  * `y_true` is the ground truth Tensor for the batch\n",
    "  * `y_pred` is the model predictions Tensor for the batch"
   ]
  },
  {
   "cell_type": "code",
   "execution_count": 74,
   "id": "153cbb3e",
   "metadata": {},
   "outputs": [],
   "source": [
    "#### GRADED CELL ####\n",
    "\n",
    "# Complete the following function. \n",
    "# Make sure to not change the function name or arguments.\n",
    "\n",
    "@tf.function\n",
    "def train_step(mlp_model, loss_fn, opt, train_batch):\n",
    "    \"\"\"\n",
    "    This function should perform the update step as described above.\n",
    "    The function should return a tuple of Tensors (loss, y_true, y_pred).\n",
    "    \"\"\"\n",
    "    inputs, y_true = train_batch\n",
    "    with tf.GradientTape() as tape:\n",
    "        y_pred = mlp_model(inputs, training=True)\n",
    "        loss = loss_fn(y_true, y_pred)\n",
    "    grads = tape.gradient(loss, mlp_model.trainable_weights)\n",
    "    \n",
    "    opt.apply_gradients(zip(grads, mlp_model.trainable_weights))\n",
    "    return loss, y_true, y_pred"
   ]
  },
  {
   "cell_type": "markdown",
   "id": "d6f02162",
   "metadata": {},
   "source": [
    "You should now complete the following `train_model_custom` function to perform the custom training loop. We will use two metric objects (defined below) to record the loss and accuracy values over the course of training. See the docs for the base [`Metric`](https://www.tensorflow.org/api_docs/python/tf/keras/metrics/Metric) class to see the generic methods that are available.\n",
    "\n",
    "* The function takes `mlp_model`, `loss_fn`, `opt`, `training_dataset`, `train_step_fn`, `epochs`, `loss_metric` and `accuracy_metric` as arguments\n",
    "* The custom training loop should consist of an outer loop for the epochs, that runs for `epochs` number of times\n",
    "* At the start of each epoch, the metric states should be reset using the `reset_state` method\n",
    "* Within each epoch, the function should loop over `training_dataset` to pull batches of data\n",
    "* For each batch, it should use `train_step_fn` to update the model parameters\n",
    "  * This function returns a tuple of Tensors `(loss, y_true, y_pred)`\n",
    "  * For each batch, the metrics should also be updated, using the `update_state` method\n",
    "* The average loss and accuracy over each epoch should each be stored in a list of floats\n",
    "  * The average loss and accuracy can be retrieved from the metrics at the end of the epoch using the `result` method\n",
    "* The function should return a tuple of the two lists `(epoch_losses, epoch_acc)` for average loss and accuracy scores per epoch"
   ]
  },
  {
   "cell_type": "code",
   "execution_count": 75,
   "id": "388df053",
   "metadata": {},
   "outputs": [],
   "source": [
    "# Define the loss and accuracy metrics and optimizer\n",
    "\n",
    "loss_metric = tf.keras.metrics.Mean()\n",
    "accuracy_metric = tf.keras.metrics.SparseCategoricalAccuracy()\n",
    "optimizer = tf.keras.optimizers.SGD()"
   ]
  },
  {
   "cell_type": "code",
   "execution_count": 76,
   "id": "8a722382",
   "metadata": {},
   "outputs": [],
   "source": [
    "#### GRADED CELL ####\n",
    "\n",
    "# Complete the following function. \n",
    "# Make sure to not change the function name or arguments.\n",
    "\n",
    "def train_model_custom(mlp_model, loss_fn, opt, training_dataset, train_step_fn, epochs, \n",
    "                       loss_metric=loss_metric, accuracy_metric=accuracy_metric):\n",
    "    \"\"\"\n",
    "    This function should run the custom training loop as described above.\n",
    "    The function should return a tuple of two lists with the loss and accuracy scores.\n",
    "    \"\"\"\n",
    "    epoch_losses = []\n",
    "    epoch_acc = []\n",
    "    \n",
    "    for epoch in range(epochs):\n",
    "        loss_metric.reset_state()\n",
    "        accuracy_metric.reset_state()\n",
    "        \n",
    "        for train_batch in training_dataset:\n",
    "            loss, y_true, y_pred = train_step_fn(mlp_model, loss_fn, opt, train_batch)\n",
    "            loss_metric.update_state(loss)\n",
    "            accuracy_metric.update_state(y_true, y_pred)\n",
    "            \n",
    "        avg_epoch_loss = float(loss_metric.result().numpy())\n",
    "        avg_epoch_acc = float(accuracy_metric.result().numpy())\n",
    "        epoch_losses.append(avg_epoch_loss)\n",
    "        epoch_acc.append(avg_epoch_acc)\n",
    "        if epoch % 10 == 0:\n",
    "            print(f\"Epoch {epoch}: loss - {avg_epoch_loss:.4f}, accuracy = {avg_epoch_acc:.4f}\")\n",
    "    \n",
    "    return epoch_losses, epoch_acc"
   ]
  },
  {
   "cell_type": "code",
   "execution_count": 73,
   "id": "1cf8a5c0",
   "metadata": {},
   "outputs": [
    {
     "name": "stdout",
     "output_type": "stream",
     "text": [
      "Tensor(\"train_batch:0\", shape=(32, 4), dtype=float32)\n",
      "Tensor(\"train_batch:0\", shape=(32, 4), dtype=float32)\n",
      "Tensor(\"train_batch:0\", shape=(17, 4), dtype=float32)\n",
      "Epoch 0: loss - 1.6088, accuracy = 0.3553\n",
      "Epoch 10: loss - 0.3343, accuracy = 0.8718\n",
      "Epoch 20: loss - 0.2897, accuracy = 0.8828\n",
      "Epoch 30: loss - 0.2130, accuracy = 0.9231\n",
      "Epoch 40: loss - 0.2009, accuracy = 0.9377\n",
      "Epoch 50: loss - 0.1541, accuracy = 0.9670\n",
      "Epoch 60: loss - 0.1654, accuracy = 0.9487\n",
      "Epoch 70: loss - 0.1671, accuracy = 0.9560\n",
      "Epoch 80: loss - 0.1582, accuracy = 0.9377\n",
      "Epoch 90: loss - 0.1154, accuracy = 0.9670\n",
      "Epoch 100: loss - 0.1980, accuracy = 0.9634\n",
      "Epoch 110: loss - 0.1182, accuracy = 0.9597\n",
      "Epoch 120: loss - 0.1184, accuracy = 0.9597\n",
      "Epoch 130: loss - 0.1362, accuracy = 0.9560\n",
      "Epoch 140: loss - 0.0875, accuracy = 0.9780\n",
      "Epoch 150: loss - 0.0885, accuracy = 0.9634\n",
      "Epoch 160: loss - 0.0856, accuracy = 0.9707\n",
      "Epoch 170: loss - 0.0952, accuracy = 0.9780\n",
      "Epoch 180: loss - 0.1255, accuracy = 0.9524\n",
      "Epoch 190: loss - 0.0675, accuracy = 0.9853\n"
     ]
    }
   ],
   "source": [
    "# Use your function to run the custom training loop\n",
    "\n",
    "model = get_model(hidden_units=[40, 20], output_units=3, input_shape=(4,), rate=0.5)\n",
    "epoch_losses, epoch_acc = train_model_custom(model, loss_fn=loss_function, opt=optimizer,\n",
    "                                             training_dataset=train_ds, \n",
    "                                             train_step_fn=train_step, epochs=200)"
   ]
  },
  {
   "cell_type": "code",
   "execution_count": 77,
   "id": "4f1c7b15",
   "metadata": {},
   "outputs": [
    {
     "data": {
      "image/png": "[encoded data removed]",
      "text/plain": [
       "<Figure size 1000x300 with 2 Axes>"
      ]
     },
     "metadata": {},
     "output_type": "display_data"
    }
   ],
   "source": [
    "# Plot the learning curves\n",
    "\n",
    "plt.figure(figsize=(10, 3))\n",
    "plt.subplot(1, 2, 1)\n",
    "plt.plot(epoch_losses)\n",
    "plt.xlabel(\"Epoch\")\n",
    "plt.ylabel(\"Loss\")\n",
    "\n",
    "plt.subplot(1, 2, 2)\n",
    "plt.plot(epoch_acc)\n",
    "plt.xlabel(\"Epoch\")\n",
    "plt.ylabel(\"Accuracy\")\n",
    "plt.show()"
   ]
  },
  {
   "cell_type": "markdown",
   "id": "5b7e967c",
   "metadata": {},
   "source": [
    "#### Evaluate your model\n",
    "\n",
    "Finally, you will also implement custom code to evaluate your model. First you should complete the following `test_step` function, which is similar to the `train_step` function, except that it does not compute gradients or update the model parameters.\n",
    "\n",
    "* The function takes the arguments `mlp_model`, `loss_fn` and `test_batch`\n",
    "* `test_batch` is a tuple of `(inputs, targets)` Tensors yielded from the Dataset\n",
    "* The function should compute the batch loss using `test_batch`, `mlp_model` and `loss_fn`\n",
    "  * The model should be run in inference mode (see [the docs](https://www.tensorflow.org/api_docs/python/tf/keras/Model#call))\n",
    "* The function should return a tuple of three Tensors: `(loss, y_true, y_pred)`\n",
    "  * `loss` is the scalar batch loss as computed by `loss_fn`\n",
    "  * `y_true` is the ground truth Tensor for the batch\n",
    "  * `y_pred` is the model predictions Tensor for the batch"
   ]
  },
  {
   "cell_type": "code",
   "execution_count": null,
   "id": "49bfba27",
   "metadata": {},
   "outputs": [],
   "source": [
    "#### GRADED CELL ####\n",
    "\n",
    "# Complete the following function. \n",
    "# Make sure to not change the function name or arguments.\n",
    "\n",
    "@tf.function\n",
    "def test_step(mlp_model, loss_fn, test_batch):\n",
    "    \"\"\"\n",
    "    This function should perform the evaluation step as described above.\n",
    "    The function should return a tuple of Tensors (loss, y_true, y_pred).\n",
    "    \"\"\"\n",
    "    inputs, y_true = test_batch\n",
    "    y_pred = mlp_model(inputs, training=False)\n",
    "    loss = loss_fn(y_true, y_pred)\n",
    "    return loss, y_true, y_pred"
   ]
  },
  {
   "cell_type": "markdown",
   "id": "537a76f5",
   "metadata": {},
   "source": [
    "Now you should complete the following `test_model_custom` function that will evaluate the model on a test dataset. This will be similar to the `train_model_custom` function, except that no optimizer is used/needed and no parameter updates are made.\n",
    "\n",
    "* The function takes `mlp_model`, `loss_fn`, `test_dataset`, `test_step_fn`, `loss_metric` and `accuracy_metric` as arguments\n",
    "* The evaluation should make one complete iteration loop through `test_dataset`\n",
    "* At the start of the loop, the metric states should be reset using the `reset_state` method\n",
    "* For each batch, you should use `test_step_fn` to compute the loss and model prediction\n",
    "  * This function returns a tuple of Tensors `(loss, y_true, y_pred)`\n",
    "  * For each batch, the metrics should also be updated, using the `update_state` method\n",
    "* The average loss and accuracy should be retrieved from the metrics at the end of the loop using the `result` method\n",
    "* The function should return a tuple of two floats `(avg_loss, avg_acc)` for average loss and accuracy scores over the `test_dataset`"
   ]
  },
  {
   "cell_type": "code",
   "execution_count": null,
   "id": "c7544a98",
   "metadata": {},
   "outputs": [],
   "source": [
    "#### GRADED CELL ####\n",
    "\n",
    "# Complete the following function. \n",
    "# Make sure to not change the function name or arguments.\n",
    "\n",
    "def test_model_custom(mlp_model, loss_fn, test_dataset, test_step_fn, \n",
    "                      loss_metric=loss_metric, accuracy_metric=accuracy_metric):\n",
    "    \"\"\"\n",
    "    This function should run the custom evaluation loop as described above.\n",
    "    The function should return a tuple of two floats for the loss and accuracy scores.\n",
    "    \"\"\"\n",
    "    loss_metric.reset_state()\n",
    "    accuracy_metric.reset_state()\n",
    "\n",
    "    for test_batch in test_dataset:\n",
    "        loss, y_true, y_pred = test_step_fn(mlp_model, loss_fn, test_batch)\n",
    "        loss_metric.update_state(loss)\n",
    "        accuracy_metric.update_state(y_true, y_pred)\n",
    "\n",
    "    avg_loss = float(loss_metric.result().numpy())\n",
    "    avg_acc = float(accuracy_metric.result().numpy())\n",
    "        \n",
    "    return avg_loss, avg_acc"
   ]
  },
  {
   "cell_type": "code",
   "execution_count": null,
   "id": "945a260e",
   "metadata": {},
   "outputs": [],
   "source": [
    "# Use your function to evaluate the model\n",
    "\n",
    "avg_loss, avg_acc = test_model_custom(model, loss_function, test_ds, test_step)\n",
    "print(f\"Test loss: {avg_loss}\")\n",
    "print(f\"Test accuracy: {avg_acc}\")"
   ]
  },
  {
   "cell_type": "markdown",
   "id": "96d9ac0c",
   "metadata": {},
   "source": [
    "Congratulations on completing this week's assignment! You have now written custom code to implement a loss function, training loop and evaluation loop for an MLP model."
   ]
  }
 ],
 "metadata": {
  "kernelspec": {
   "display_name": "Python 3 (ipykernel)",
   "language": "python",
   "name": "python3"
  },
  "language_info": {
   "codemirror_mode": {
    "name": "ipython",
    "version": 3
   },
   "file_extension": ".py",
   "mimetype": "text/x-python",
   "name": "python",
   "nbconvert_exporter": "python",
   "pygments_lexer": "ipython3",
   "version": "3.11.6"
  }
 },
 "nbformat": 4,
 "nbformat_minor": 5
}
