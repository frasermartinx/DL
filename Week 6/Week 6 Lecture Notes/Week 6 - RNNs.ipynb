{
 "cells": [
  {
   "cell_type": "markdown",
   "metadata": {},
   "source": [
    "# Deep Learning\n",
    "### Week 6: Recurrent neural networks"
   ]
  },
  {
   "cell_type": "markdown",
   "metadata": {},
   "source": [
    "## Contents\n",
    "\n",
    "[1. Introduction](#introduction)\n",
    "\n",
    "[2. Recurrent neural networks (\\*)](#rnns)\n",
    "\n",
    "[3. Long Short Term Memory (LSTM) (\\*)](#lstm)\n",
    "\n",
    "[4. Preprocessing and Embedding layers (\\*)](#preprocessingembedding)\n",
    "\n",
    "[References](#references)"
   ]
  },
  {
   "cell_type": "markdown",
   "metadata": {},
   "source": [
    "<a class=\"anchor\" id=\"introduction\"></a>\n",
    "## Introduction\n",
    "\n",
    "In the last week of the module we studied a very important neural network network architecture that is the convolutional neural network. You learned the operations that are carried out by convolutional layers and pooling layers, as well as the hyperparameter choices within those layers and the effect they can have on the layer outputs. We also covered transposed convolutions, which can be thought of as a reverse analog to the regular convolutional layers.\n",
    "\n",
    "One of the main motivations for developing convolutional neural networks was to design a model that captures important structural properties that we know are contained in the data. CNNs have an equivariance property that means they're adapted well for image data, because we know that in images, we want to be able to detect the same features in different regions of the input.\n",
    "\n",
    "In this week of the course, we will look at another very important and widespread model architecture, which is the recurrent neural network (RNN). This is another network type where we deliberately build structure into the network itself in order to capture certain aspects of the data. In the case of recurrent neural networks, these are intended for sequence data.\n",
    "\n",
    "We will examine the different possible types of sequence modelling tasks, and see how RNNs are very flexible models that can be used in many different configurations. You'll learn the basic RNN computation, and more sophisticated architectures such as stacked RNNs, bidirectional layers, and the long short term memory architecture (LSTM).\n",
    "\n",
    "You will also see how to implement all of these models and layer types using the TensorFlow RNN API, as well as learning about some of the preprocessing and embedding layers available in TensorFlow."
   ]
  },
  {
   "cell_type": "markdown",
   "metadata": {},
   "source": [
    "<a class=\"anchor\" id=\"rnns\"></a>\n",
    "## Recurrent neural networks\n",
    "\n",
    "A particular challenge with sequential data and modelling tasks is that the sequence lengths can vary from one dataset example to the next. This makes the use of a fixed input size architecture such as the MLP unsuitable. In addition, there can be many different types of sequential modelling tasks that we might want to consider, each of which could have different architectural requirements, as illustrated in the following diagram. \n",
    "\n",
    "<img src=\"figures/schematic_rnn_architectures.png\" alt=\"Schematic RNN architectures\" style=\"width: 1000px;\"/>\n",
    "<center>Different architectures for recurrent neural networks</center>\n",
    "\n",
    "Typical sequence modelling tasks could include:\n",
    "\n",
    "* Text sentiment analysis (many-to-one)\n",
    "* Image captioning (one-to-many)\n",
    "* Language translation (many-to-many)\n",
    "* Part-of-speech tagging (many-to-many)\n",
    "\n",
    "Recurrent neural networks ([Rumelhart et al 1986b](#Rumelhart86b)) are designed to handle this variability of data lengths and diversity of problem tasks.\n",
    "\n",
    "#### Basic RNN computation\n",
    "\n",
    "Let $\\{\\mathbf{x}_t\\}_{t=1}^T$ be an example sequence input, with each $\\mathbf{x}_t\\in\\mathbb{R}^D$. Suppose that we are in the many-to-many setting, and there is a corresponding sequence of labels $\\{{y}_t\\}_{t=1}^T$, with $y_t\\in Y$, where $Y$ could be $\\{0, 1\\}$ for a binary classification task for example.\n",
    "\n",
    "The basic RNN computation is given as follows:\n",
    "\n",
    "$$\n",
    "\\begin{align}\n",
    "\\mathbf{h}^{(1)}_t &= \\sigma\\left( \\mathbf{W}_{hh}^{(1)}\\mathbf{h}^{(1)}_{t-1} + \\mathbf{W}_{xh}^{(1)}\\mathbf{x}_t + \\mathbf{b}^{(1)}_h \\right),\\tag{7}\\\\\n",
    "\\hat{\\mathbf{y}}_t &= \\sigma_{out}\\left( \\mathbf{W}_{hy}\\mathbf{h}^{(1)} + \\mathbf{b}_{y} \\right), \\tag{8}\n",
    "\\end{align}\n",
    "$$\n",
    "\n",
    "for $t=1,\\ldots,T$, where $\\mathbf{h}^{(1)}\\in\\mathbb{R}^{n_1}$,\n",
    "$\\mathbf{W}^{(1)}_{hh}\\in\\mathbb{R}^{n_1\\times n_1}$, $\\mathbf{W}^{(1)}_{xh}\\in\\mathbb{R}^{n_1\\times D}$, $\\mathbf{b}^{(1)}_h\\in\\mathbb{R}^{n_{1}}$, $\\mathbf{W}_{hy}\\in\\mathbb{R}^{n_y\\times n_1}$, $\\mathbf{b}_y\\in\\mathbb{R}^{n_{y}}$,  $\\sigma$ and $\\sigma_{out}$ are activation functions, $n_1$ is the number of units in the hidden layer, and $n_y$ is the dimension of the output space $Y$.\n",
    "\n",
    "<img src=\"figures/rnn_computation.png\" alt=\"Basic RNN computation\" style=\"width: 400px;\"/>\n",
    "<center>Basic computation for recurrent neural networks</center>\n",
    "\n",
    "Recurrent neural networks make use of WEIGHT SHARING similar to convolutional neural networks, but this time the weights are shared across time. This allows the RNN to be 'unrolled' for as many time steps as there are in the data input $\\mathbf{x}$. THIS IS QUITE AN ASSUMPTION.\n",
    "\n",
    "The RNN also has a **persistent state**, in the form of the hidden layer $\\mathbf{h}^{(1)}$. This hidden state can carry information over an arbitrary number of time steps, and so predictions at a given time step $t$ can depend on events that occurred at any point in the past, at least in principle. As with MLPs, the hidden state stores **distributed representations** of information, which allows them to store a lot of information, in contrast to hidden Markov models, which take discrete states.\n",
    "\n",
    "Note that the computation \\eqref{rnn1}-\\eqref{rnn2} requires an **initial hidden state** $\\mathbf{h}^{(1)}_0$ to be defined. In practice, this is often just set to the zero vector, although it can also be learned as additional parameters.\n",
    "\n",
    "In TensorFlow, the RNN is available as the layer `SimpleRNN` in the `tf.keras.layers` module (see [the docs](https://www.tensorflow.org/api_docs/python/tf/keras/layers/SimpleRNN)). It can be included in the list of layers passed to the `Sequential` constructor, or using the functional API."
   ]
  },
  {
   "cell_type": "code",
   "execution_count": 1,
   "metadata": {},
   "outputs": [],
   "source": [
    "import tensorflow as tf"
   ]
  },
  {
   "cell_type": "code",
   "execution_count": 2,
   "metadata": {},
   "outputs": [],
   "source": [
    "# Demonstrate the SimpleRNN layer\n",
    "\n",
    "from keras.models import Sequential\n",
    "from keras.layers import SimpleRNN\n",
    "\n",
    "rnn_model = Sequential([\n",
    "    #sequence length of 10 with 2 features per timestep\n",
    "    #32 neurons\n",
    "    SimpleRNN(32, activation = \"tanh\",input_shape = (10,2))\n",
    "])"
   ]
  },
  {
   "cell_type": "markdown",
   "metadata": {},
   "source": [
    "The Tensor shape expected by a recurrent neural network layer is of the form `(batch_size, sequence_length, num_features)`. In the above, the `input_shape` specifies that the sequence length is 10 and there are 2 features."
   ]
  },
  {
   "cell_type": "code",
   "execution_count": 3,
   "metadata": {
    "scrolled": true
   },
   "outputs": [
    {
     "name": "stdout",
     "output_type": "stream",
     "text": [
      "Model: \"sequential\"\n",
      "_________________________________________________________________\n",
      " Layer (type)                Output Shape              Param #   \n",
      "=================================================================\n",
      " simple_rnn (SimpleRNN)      (None, 32)                1120      \n",
      "                                                                 \n",
      "=================================================================\n",
      "Total params: 1,120\n",
      "Trainable params: 1,120\n",
      "Non-trainable params: 0\n",
      "_________________________________________________________________\n"
     ]
    }
   ],
   "source": [
    "# Print the model summary\n",
    "\n",
    "rnn_model.summary()"
   ]
  },
  {
   "cell_type": "markdown",
   "metadata": {},
   "source": [
    "By default, the RNN only returns the final hidden state output."
   ]
  },
  {
   "cell_type": "code",
   "execution_count": 4,
   "metadata": {
    "scrolled": true
   },
   "outputs": [
    {
     "data": {
      "text/plain": [
       "<tf.Tensor: shape=(1, 32), dtype=float32, numpy=\n",
       "array([[-0.05150769,  0.36090946, -0.15636829,  0.8628846 ,  0.23332849,\n",
       "         0.65243876, -0.76433045, -0.2797796 ,  0.17720892,  0.31160465,\n",
       "         0.36745903,  0.26517808, -0.40294653, -0.5440685 ,  0.04441459,\n",
       "        -0.05426924, -0.08055948,  0.46455833, -0.79267925, -0.24959493,\n",
       "        -0.8236644 ,  0.62665814, -0.18839899,  0.09281595, -0.3629945 ,\n",
       "         0.24493836, -0.3733298 , -0.6347684 , -0.03638778, -0.0010004 ,\n",
       "         0.20880021, -0.2255203 ]], dtype=float32)>"
      ]
     },
     "execution_count": 4,
     "metadata": {},
     "output_type": "execute_result"
    }
   ],
   "source": [
    "# Call the RNN on a dummy input\n",
    "#1 is batch size\n",
    "inputs = tf.random.normal((1,10,2))\n",
    "rnn_model(inputs)\n",
    "#by default it only returns the output for the final item in the sequence"
   ]
  },
  {
   "cell_type": "markdown",
   "metadata": {},
   "source": [
    "The default initial hidden state is zeros, but it can be explicitly set in the layer's `call` method:"
   ]
  },
  {
   "cell_type": "code",
   "execution_count": 5,
   "metadata": {},
   "outputs": [
    {
     "data": {
      "text/plain": [
       "TensorShape([16, 3])"
      ]
     },
     "execution_count": 5,
     "metadata": {},
     "output_type": "execute_result"
    }
   ],
   "source": [
    "# Set the initial hidden state of a SimpleRNN layer\n",
    "\n",
    "rnn_layer = SimpleRNN(3)\n",
    "dummy_inputs = tf.random.normal((16,5,2))\n",
    "#16 batches so need 16 hidden states\n",
    "layer_output = rnn_layer(dummy_inputs, initial_state = tf.ones((16,3)))\n",
    "layer_output.shape\n",
    "\n",
    "#each input will go to 3 neurons, for each time point"
   ]
  },
  {
   "cell_type": "markdown",
   "metadata": {},
   "source": [
    "#### Stacked RNNs\n",
    "RNNs can also be made more powerful by stacking recurrent layers on top of each other:\n",
    "\n",
    "$$\n",
    "\\begin{align}\n",
    "\\mathbf{h}^{(k)}_t &= \\sigma\\left( \\mathbf{W}_{hh}^{(k)}\\mathbf{h}^{(k)}_{t-1} + \\mathbf{W}_{xh}^{(k)}\\mathbf{h}^{(k-1)}_{t} + \\mathbf{b}^{(k)}_h \\right),\\quad k=1,\\ldots, L,\\tag{9}\\\\\n",
    "\\hat{\\mathbf{y}}_t &= \\sigma_{out}\\left( \\mathbf{W}_{hy}\\mathbf{h}^{(L)} + \\mathbf{b}_{y} \\right), \\tag{10}\n",
    "\\end{align}\n",
    "$$\n",
    "\n",
    "where $\\mathbf{h}^{(k)}\\in\\mathbb{R}^{n_k}$,\n",
    "$\\mathbf{W}^{(k)}_{hh}\\in\\mathbb{R}^{n_k\\times n_k}$, $\\mathbf{W}^{(k)}_{xh}\\in\\mathbb{R}^{n_k\\times n_{k-1}}$, $\\mathbf{b}^{(k)}_h\\in\\mathbb{R}^{n_{k}}$, $\\mathbf{W}_{hy}\\in\\mathbb{R}^{n_y\\times n_L}$, $\\mathbf{b}_y\\in\\mathbb{R}^{n_{y}}$, and we have set $n_{L+1}=n_y$, $n_0=D$, and $\\mathbf{h}^{(0)} = \\mathbf{x}_t$.\n",
    "\n",
    "<img src=\"figures/stacked_rnn_computation.png\" alt=\"Stacked RNN\" style=\"width: 400px;\"/>\n",
    "<center>Stacked recurrent neural network</center>\n",
    "\n",
    "To create a stacked RNN in TensorFlow, we need to obtain the full sequence of hidden states in the lower layer. This can be done using the `return_sequences` keyword argument in the layer constructor."
   ]
  },
  {
   "cell_type": "code",
   "execution_count": 6,
   "metadata": {},
   "outputs": [],
   "source": [
    "# Create a SimpleRNN layer that returns sequences\n",
    "rnn_layer_1 = SimpleRNN(16,return_sequences=True)\n"
   ]
  },
  {
   "cell_type": "code",
   "execution_count": 7,
   "metadata": {},
   "outputs": [],
   "source": [
    "# Create the second SimpleRNN layer, this only returns the final state\n",
    "\n",
    "rnn_layer_2 = SimpleRNN(8)"
   ]
  },
  {
   "cell_type": "code",
   "execution_count": 8,
   "metadata": {},
   "outputs": [],
   "source": [
    "# Build the stacked RNN model using the functional API\n",
    "\n",
    "from keras.models import Model\n",
    "from keras.layers import Input\n",
    "\n",
    "inputs = Input(shape = (32,5))\n",
    "h = rnn_layer_1(inputs)\n",
    "outputs = rnn_layer_2(h)\n",
    "stacked_rnn_model = Model(inputs = inputs, outputs = outputs)"
   ]
  },
  {
   "cell_type": "code",
   "execution_count": 9,
   "metadata": {},
   "outputs": [
    {
     "name": "stdout",
     "output_type": "stream",
     "text": [
      "Model: \"model\"\n",
      "_________________________________________________________________\n",
      " Layer (type)                Output Shape              Param #   \n",
      "=================================================================\n",
      " input_1 (InputLayer)        [(None, 32, 5)]           0         \n",
      "                                                                 \n",
      " simple_rnn_2 (SimpleRNN)    (None, 32, 16)            352       \n",
      "                                                                 \n",
      " simple_rnn_3 (SimpleRNN)    (None, 8)                 200       \n",
      "                                                                 \n",
      "=================================================================\n",
      "Total params: 552\n",
      "Trainable params: 552\n",
      "Non-trainable params: 0\n",
      "_________________________________________________________________\n"
     ]
    }
   ],
   "source": [
    "# Print the model summary\n",
    "\n",
    "stacked_rnn_model.summary()\n",
    "#still have sequence dimension in first layer since it returns the entire sequence"
   ]
  },
  {
   "cell_type": "markdown",
   "metadata": {},
   "source": [
    "Note the output shapes in the above summary. The first RNN layer returns a sequence (length 32) of hidden states (of size 16), and the second RNN layer only returns the final hidden state."
   ]
  },
  {
   "cell_type": "markdown",
   "metadata": {},
   "source": [
    "#### Bidirectional RNNs\n",
    "Standard recurrent neural networks are uni-directional; that is, they only take past context into account. In some applications (where the full input sequence is available to make predictions) it is possible and desirable for the network to take both past and future context into account. \n",
    "\n",
    "For example, consider a part-of-speech (POS) tagging problem, where the task is to label each word in a sentence according to its particular part of speech, e.g. noun, adjective, verb etc.\n",
    "\n",
    "<img src=\"figures/pos_tagging.png\" alt=\"POS tagging\" style=\"width: 350px;\"/>\n",
    "<center>Part-of-speech (POS) tagging example</center>\n",
    "\n",
    "In some cases the correct label can be ambiguous given only the past context, for example the word `light` in the sentence `\"There's a light ...\"` could be a noun or a verb depending on how the sentence continues (e.g. `\"There's a light on upstairs\"` or `\"There's a light breeze\"`).\n",
    "\n",
    "Bidirectional RNNs ([Schuster & Paliwal 1997](#schuster97)) are designed to look at both future and past context. They consist of two RNNs running forward and backwards in time, whose states are combined in sum way (e.g. adding or concatenating) to produce the final hidden state of the layer. POSSIBLE SINCE WE CAN SEE THE ENTIRE INPUT SEQUENCE AT ONCE.\n",
    "\n",
    "<img src=\"figures/bidirectional_rnn.png\" alt=\"Bidirectional RNN\" style=\"width: 550px;\"/>\n",
    "<center>Bidirectional recurrent neural network</center>\n",
    "\n",
    "Bidirectional recurrent neural networks (BRNNs) are implemented in TensorFlow using the `Bidirectional` wrapper (see [the docs](https://www.tensorflow.org/api_docs/python/tf/keras/layers/Bidirectional)):"
   ]
  },
  {
   "cell_type": "code",
   "execution_count": 10,
   "metadata": {},
   "outputs": [],
   "source": [
    "# Build a bidirectional recurrent neural network\n",
    "from keras.layers import Bidirectional\n",
    "\n",
    "brnn_model = Sequential([\n",
    "    #could sum or average outputs\n",
    "    Bidirectional(SimpleRNN(16,return_sequences=True),merge_mode=\"concat\",input_shape = (64,7))\n",
    "])\n"
   ]
  },
  {
   "cell_type": "markdown",
   "metadata": {},
   "source": [
    "The `Bidirectional` wrapper constructs two RNNs running in different time directions. The `merge_mode='concat'` setting is the default for the `Bidirectional` constructor, and means that the bidirectional layer concatenates the hidden states from the forward and backward RNNs. This means that the number of units per time step in the output of the layer is $2\\times 16 = 32$:"
   ]
  },
  {
   "cell_type": "code",
   "execution_count": 11,
   "metadata": {},
   "outputs": [
    {
     "name": "stdout",
     "output_type": "stream",
     "text": [
      "Model: \"sequential_1\"\n",
      "_________________________________________________________________\n",
      " Layer (type)                Output Shape              Param #   \n",
      "=================================================================\n",
      " bidirectional (Bidirectiona  (None, 64, 32)           768       \n",
      " l)                                                              \n",
      "                                                                 \n",
      "=================================================================\n",
      "Total params: 768\n",
      "Trainable params: 768\n",
      "Non-trainable params: 0\n",
      "_________________________________________________________________\n"
     ]
    }
   ],
   "source": [
    "# Print the model summary\n",
    "\n",
    "brnn_model.summary()\n",
    "#32 from concatenating the two directions of 16 neurons"
   ]
  },
  {
   "cell_type": "markdown",
   "metadata": {},
   "source": [
    "The `Bidirectional` wrapper can also operate on RNN layers with `return_sequences=False`, in which case it combines the final hidden states of the forward and backward RNNs."
   ]
  },
  {
   "cell_type": "markdown",
   "metadata": {},
   "source": [
    "#### Training RNNs\n",
    "RNNs are trained in the same way as multilayer perceptrons and convolutional neural networks. A loss function $L(\\mathbf{y}_1, \\ldots, \\mathbf{y}_T, \\hat{\\mathbf{y}}_1,\\ldots, \\hat{\\mathbf{y}}_T)$ is defined according to the problem task and learning principle, and the network is trained using the backpropagation algorithm and a selected network optimiser. In the many-to-one case (e.g. sentiment analysis), the loss function may be defined as $L(\\mathbf{y}_T, \\hat{\\mathbf{y}}_T)$. \n",
    "\n",
    "Backpropagation for crossing layers:\n",
    "\n",
    "$$\n",
    "\\mathbf{\\delta}^{(k)}_t = \\mathbf{\\sigma}'(\\mathbf{a}^{(k)}_t)(\\mathbf{W}^{(k)}_{xh})^T \\mathbf{\\delta}^{(k+1)}_t,\\qquad k=1,\\ldots,L \\tag{11}\n",
    "$$\n",
    "\n",
    "where $k$ indexes the hidden layers. In the case of recurrent neural networks, the errors primarily backpropagate along the time direction, and we obtain the following propagation of errors in the hidden states:\n",
    "\n",
    "$$\n",
    "\\mathbf{\\delta}^{(k)}_{t-1} = \\mathbf{\\sigma}'(\\mathbf{a}^{(k)}_{t-1})(\\mathbf{W}^{(k)}_{hh})^T \\mathbf{\\delta}^{(k)}_{t}, \\quad t=T,\\ldots,1 \\tag{12}\n",
    "$$\n",
    "\n",
    "<img src=\"figures/backpropagation-through-time.png\" alt=\"Backpropagation through time (BPTT)\" style=\"width: 550px;\"/>\n",
    "<center>When training RNNs, the errors backpropagate along the time axis</center>\n",
    "\n",
    "For this reason, the backpropagation algorithm for RNNs is referred to as **backpropagation through time** (BPTT).\n",
    "\n",
    "Recurrent neural networks can also be trained as generative models for unlabelled sequence data, by re-wiring the network to send the output back as the input to the next step:\n",
    "\n",
    "<img src=\"figures/schematic_unsupervised_example.png\" alt=\"Generative RNN model\" style=\"width: 450px;\"/>\n",
    "<center>Generative RNN model, with the outputs fed back at inputs at the next time step</center>\n",
    "\n",
    "This is an example of **self-supervised learning**, which is where we use an unlabelled dataset to frame a supervised learning problem. This can be used to train  language models, or generative music models for example. In practical we treat this case the same as a supervised learning problem, where the outputs are the same as the inputs but shifted by one time step. This particular technique is also sometimes referred to as **teacher forcing**."
   ]
  },
  {
   "cell_type": "markdown",
   "metadata": {},
   "source": [
    "<a class=\"anchor\" id=\"lstm\"></a>\n",
    "## Long Short Term Memory (LSTM)\n",
    "\n",
    "As mentioned previously, recurrent neural networks can in principle use information from events that occurred many time steps earlier to make predictions at the current time step. However, in practice RNNs struggle to make use of long-term dependencies in the data. \n",
    "\n",
    "Recall the equation describing the backpropagation of errors across layers:\n",
    "\n",
    "$$\n",
    "\\mathbf{\\delta}^{(k)}_t = \\mathbf{\\sigma}'(\\mathbf{a}^{(k)}_t)(\\mathbf{W}^{(k)}_{xh})^T \\mathbf{\\delta}^{(k+1)}_t,\\qquad k=1,\\ldots,L \\tag{11}\n",
    "$$\n",
    "\n",
    "where $k$ indexes the hidden layers, W is the matrix between two layers and the corresponding equation for the backpropagation through time (BPTT) algorithm:\n",
    "\n",
    "$$\n",
    "\\mathbf{\\delta}^{(k)}_{t-1} = \\mathbf{\\sigma}'(\\mathbf{a}^{(k)}_{t-1})(\\mathbf{W}^{(k)}_{hh})^T \\mathbf{\\delta}^{(k)}_{t}, \\qquad t=1,\\ldots,T\n",
    "$$\n",
    "\n",
    "where $k$ now indexes the stacked recurrent layers and $t$ indexes the time steps. The above equations indicates a fundamental problem of training neural networks: the **vanishing gradients problem**. Gradients can explode or vanish with a large number of layers, or a large number of time steps. This problem was pointed out by [Hochreiter](#Hochreiter91), and is particularly bad in the case of RNNs, where the length of sequences can be long (e.g. 100 time steps). REALLY BAD FOR RNNs SINCE CAN HAVE LOADS OF W AS LOADS OF TIME STEPS.\n",
    "\n",
    "The Long Short Term Memory (LSTM) network was introduced by [Hochreiter and Schmidhuber](#Hochreiter97) (and later updated by [Gers](#Gers99)) to mitigate the effect of vanishing gradients and allow the recurrent neural network to remember things for a long time.\n",
    "\n",
    "The LSTM has inputs $\\mathbf{x}_t\\in\\mathbb{R}^{n_{k-1}}$ and $\\mathbf{h}_{t-1}\\in\\mathbb{R}^{n_{k}}$ just as regular RNNs. However, it also includes an internal **cell state** $\\mathbf{c}_t\\in\\mathbb{R}^{n_{k}}$ that allows the unit to store and retain information (we drop the superscript $(k)$ in this section to ease notation). \n",
    "\n",
    "The LSTM cell works with a gating mechanism, consisting of logistic and linear units with multiplicative interactions. Information is allowed into the cell state when the 'write' gate is on, it can choose to erase information in the cell state when the 'forget' gate is on, and can read information from the cell state when the 'read' gate is on.\n",
    "\n",
    "The following schematic diagram outlines the gating system of the LSTM unit.\n",
    "\n",
    "<img src=\"figures/lstm.png\" alt=\"LSTM\" style=\"width: 600px;\"/>\n",
    "<center>The Long Short Term Memory (LSTM) gating system</center>\n",
    "\n",
    "First of all, note that there is no neural network layer that operates directly on the cell state. This means that information is more freely able to travel across time steps in the cell state. The role of the hidden state is to manage the information flow in and out of the cell state, according to the signals provided in the inputs $\\mathbf{h}_{t-1}$ and $\\mathbf{x}_t$. \n",
    "\n",
    "The first of these operations is the _forget gate_.\n",
    "\n",
    "#### The forget gate\n",
    "The forget gate determines what information should be erased from the cell state.\n",
    "\n",
    "<img src=\"figures/lstm-forget-gate.png\" alt=\"LSTM forget gate\" style=\"width: 450px;\"/>\n",
    "<center>The Long Short Term Memory (LSTM) forget gate</center>\n",
    "\n",
    "The information is controlled by signals in the inputs $\\mathbf{h}_{t-1}$ and $\\mathbf{x}_t$ according to the following equation:\n",
    "\n",
    "$$\n",
    "\\mathbf{f}_t = \\sigma \\left( \\mathbf{W}_{f}\\cdot [\\mathbf{x}_t, \\mathbf{h}_{t-1}] + \\mathbf{b}_{f}\\right),\n",
    "$$\n",
    "\n",
    "where $[\\mathbf{x}_t, \\mathbf{h}_{t-1}]\\in\\mathbb{R}^{n_k \\times (n_k + n_{k-1})}$ is the concatenation of $\\mathbf{x}_t$ and $\\mathbf{h}_{t-1}$, $\\mathbf{W}_{f}\\in\\mathbb{R}^{n_k \\times (n_k + n_{k-1})}$, $\\mathbf{b}_{f}\\in\\mathbb{R}^{n_k}$ and $\\sigma$ is the sigmoid activation function. Note that entries of $\\mathbf{f}_t$ will be close to one for large positive pre-activation values, and close to zero for large negative pre-activation values. The cell state is then updated\n",
    "\n",
    "$$\n",
    "\\mathbf{c}_t \\leftarrow \\mathbf{f}_t \\odot \\mathbf{c}_{t-1}\n",
    "$$\n",
    "\n",
    "where $\\odot$ is the Hadamard (element-wise) product, so that selected entries of the cell state $\\mathbf{c}_{t-1}$ are erased, while others are retained.\n",
    "\n",
    "#### The input and content gates\n",
    "The input gate determines when information should be written into the cell state. The content gate contains the information to be written.\n",
    "\n",
    "<img src=\"figures/lstm-input-content-gate.png\" alt=\"LSTM input-content gates\" style=\"width: 450px;\"/>\n",
    "<center>The Long Short Term Memory (LSTM) input and content gates</center>\n",
    "\n",
    "The input and content gates are a combination of sigmoid and tanh activation gates:\n",
    "\n",
    "$$\n",
    "\\begin{align}\n",
    "\\mathbf{i}_t &= \\sigma \\left( \\mathbf{W}_{i}\\cdot [\\mathbf{x}_t, \\mathbf{h}_{t-1}] + \\mathbf{b}_{i}\\right)\\\\\n",
    "\\mathbf{\\tilde{c}}_t &= \\tanh\\left( \\mathbf{W}_{c}\\cdot [\\mathbf{x}_t, \\mathbf{h}_{t-1}] + \\mathbf{b}_c\\right),\n",
    "\\end{align}\n",
    "$$\n",
    "\n",
    "where $\\mathbf{W}_{i}, \\mathbf{W}_c\\in\\mathbb{R}^{n_k \\times (n_k + n_{k-1})}$ and $\\mathbf{b}_i, \\mathbf{b}_c\\in\\mathbb{R}^{n_k}$. In a similar way to the forget gate, the input gate $\\mathbf{i}_t$ is used to 'zero out' selected entries in the content signal $\\mathbf{\\tilde{c}}_t$. The content entries that are allowed through the gate are then added into the cell state:\n",
    "\n",
    "$$\n",
    "\\mathbf{c}_t \\leftarrow \\mathbf{c}_{t} + \\mathbf{i}_t \\odot \\mathbf{\\tilde{c}}_t\n",
    "$$\n",
    "\n",
    "#### The output gate\n",
    "Finally, the output gate decides which cell state values should be output in the hidden state.\n",
    "\n",
    "<img src=\"figures/lstm-output-gate.png\" alt=\"LSTM output gate\" style=\"width: 450px;\"/>\n",
    "<center>The Long Short Term Memory (LSTM) output gate</center>\n",
    "\n",
    "The output gate is another sigmoid gate that releases information from the cell state after passing through a tanh activation:\n",
    "\n",
    "$$\n",
    "\\begin{align}\n",
    "\\mathbf{o}_t &= \\sigma\\left(\\mathbf{W}_o \\cdot [\\mathbf{x}_t, \\mathbf{h}_{t-1}] + \\mathbf{b}_o\\right)\\\\\n",
    "\\mathbf{h}_t &= \\mathbf{o}_t \\odot \\tanh(\\mathbf{c}_t)\n",
    "\\end{align}\n",
    "$$\n",
    "\n",
    "The LSTM network has been immensely successful in sequence modelling tasks, including handwriting recognition ([Graves et al 2009](#Graves09)), speech recognition ([Graves et al 2013](#Graves13)), machine translation ([Wu et al 2016](#Wu16)) and reinforcement learning for video games ([Vinyals et al 2019](#Vinyals19)).\n",
    "\n",
    "Another type of gated recurrent cell that should be mentioned is the Gated Recurrent Unit (GRU), proposed in [Cho et al 2014](#Cho14), which simplifies the architecture by combining the forget and input gates into a single 'update' gate, and also merges the cell state and hidden state. We will not go into detail of this cell architecture, for more details refer to the paper."
   ]
  },
  {
   "cell_type": "markdown",
   "metadata": {},
   "source": [
    "In TensorFlow, the LSTM is implemented as another layer in the `tf.keras.layers` module:"
   ]
  },
  {
   "cell_type": "code",
   "execution_count": 12,
   "metadata": {},
   "outputs": [],
   "source": [
    "import tensorflow as tf\n"
   ]
  },
  {
   "cell_type": "code",
   "execution_count": 13,
   "metadata": {},
   "outputs": [],
   "source": [
    "# Build an LSTM model\n",
    "from keras.models import Sequential\n",
    "from keras.layers import LSTM\n",
    "\n",
    "lstm = Sequential([\n",
    "    #None,12 means the sequence length is allowed to be variable and 12 features per input\n",
    "    LSTM(16,return_sequences= True, input_shape = (None,12)),\n",
    "    LSTM(16)\n",
    "])\n"
   ]
  },
  {
   "cell_type": "code",
   "execution_count": 14,
   "metadata": {},
   "outputs": [
    {
     "name": "stdout",
     "output_type": "stream",
     "text": [
      "Model: \"sequential_2\"\n",
      "_________________________________________________________________\n",
      " Layer (type)                Output Shape              Param #   \n",
      "=================================================================\n",
      " lstm (LSTM)                 (None, None, 16)          1856      \n",
      "                                                                 \n",
      " lstm_1 (LSTM)               (None, 16)                2112      \n",
      "                                                                 \n",
      "=================================================================\n",
      "Total params: 3,968\n",
      "Trainable params: 3,968\n",
      "Non-trainable params: 0\n",
      "_________________________________________________________________\n"
     ]
    }
   ],
   "source": [
    "# Print the model summary\n",
    "lstm.summary()\n",
    "#first layer returns a sequence of variable length with 16 features "
   ]
  },
  {
   "cell_type": "markdown",
   "metadata": {},
   "source": [
    "RNN cells also have the optional keyword argument `return_state`, which defaults to `False`. When `True`, the layer returns the final internal state, in addition to its output. In the case of LSTM, this internal state is the hidden state $\\mathbf{h}_t$ and cell state $\\mathbf{c}_t$. So the `LSTM` layer would return `(outputs, hidden_state, cell_state)` when `return_state=True`."
   ]
  },
  {
   "cell_type": "code",
   "execution_count": 15,
   "metadata": {},
   "outputs": [],
   "source": [
    "# Build an LSTM model that returns its final internal state\n",
    "\n",
    "#functional API\n",
    "from keras.models import Model\n",
    "from keras.layers import Input\n",
    "\n",
    "inputs = Input(shape = (8,4))\n",
    "outputs = LSTM(6, return_sequences= True,return_state = True)(inputs)\n",
    "lstm2 = Model(inputs = inputs, outputs = outputs)"
   ]
  },
  {
   "cell_type": "code",
   "execution_count": 16,
   "metadata": {},
   "outputs": [
    {
     "name": "stdout",
     "output_type": "stream",
     "text": [
      "Model: \"model_1\"\n",
      "_________________________________________________________________\n",
      " Layer (type)                Output Shape              Param #   \n",
      "=================================================================\n",
      " input_2 (InputLayer)        [(None, 8, 4)]            0         \n",
      "                                                                 \n",
      " lstm_2 (LSTM)               [(None, 8, 6),            264       \n",
      "                              (None, 6),                         \n",
      "                              (None, 6)]                         \n",
      "                                                                 \n",
      "=================================================================\n",
      "Total params: 264\n",
      "Trainable params: 264\n",
      "Non-trainable params: 0\n",
      "_________________________________________________________________\n"
     ]
    }
   ],
   "source": [
    "# Print the model summary\n",
    "\n",
    "lstm2.summary()"
   ]
  },
  {
   "cell_type": "code",
   "execution_count": 17,
   "metadata": {},
   "outputs": [
    {
     "data": {
      "text/plain": [
       "[<KerasTensor: shape=(None, 8, 6) dtype=float32 (created by layer 'lstm_2')>,\n",
       " <KerasTensor: shape=(None, 6) dtype=float32 (created by layer 'lstm_2')>,\n",
       " <KerasTensor: shape=(None, 6) dtype=float32 (created by layer 'lstm_2')>]"
      ]
     },
     "execution_count": 17,
     "metadata": {},
     "output_type": "execute_result"
    }
   ],
   "source": [
    "# View the model outputs\n",
    "\n",
    "lstm2.outputs\n",
    "#3 outputs\n",
    "#first is output we expect, sequence length of 8 with 6 neurons\n",
    "#second and third are final states of LSTM cell returned after the final time step\n",
    "#hidden and cell state respectively\n",
    "\n",
    "#could use hidden to feed into another network\n",
    "#for LSTM if we want to use initial state argument we would have to pass it a list of hidden and cell state initial states too"
   ]
  },
  {
   "cell_type": "code",
   "execution_count": 18,
   "metadata": {},
   "outputs": [
    {
     "data": {
      "text/plain": [
       "[<tf.Tensor: shape=(1, 8, 6), dtype=float32, numpy=\n",
       " array([[[-0.02595688, -0.00043308,  0.01434088, -0.06234793,\n",
       "          -0.02226931,  0.01487342],\n",
       "         [ 0.03327071, -0.06661212, -0.05013493,  0.06380194,\n",
       "          -0.06094267,  0.11756339],\n",
       "         [-0.04634739, -0.04454433,  0.04211495,  0.18572304,\n",
       "          -0.33872896,  0.1159852 ],\n",
       "         [ 0.05276805, -0.07772245,  0.00978858,  0.03495352,\n",
       "          -0.08085179,  0.03277801],\n",
       "         [ 0.02835089, -0.01452927,  0.03072466,  0.08784969,\n",
       "          -0.15302007,  0.12806486],\n",
       "         [ 0.20246781,  0.12449603,  0.22870973,  0.1851892 ,\n",
       "          -0.2105427 ,  0.2797145 ],\n",
       "         [ 0.24535842,  0.00374487,  0.21517207, -0.02565251,\n",
       "          -0.10756673,  0.18153639],\n",
       "         [ 0.14514132, -0.09584896,  0.02530684, -0.3498464 ,\n",
       "          -0.02469698, -0.24004449]]], dtype=float32)>,\n",
       " <tf.Tensor: shape=(1, 6), dtype=float32, numpy=\n",
       " array([[ 0.14514132, -0.09584896,  0.02530684, -0.3498464 , -0.02469698,\n",
       "         -0.24004449]], dtype=float32)>,\n",
       " <tf.Tensor: shape=(1, 6), dtype=float32, numpy=\n",
       " array([[ 0.84271556, -0.6645824 ,  0.05055829, -0.73352045, -0.18785524,\n",
       "         -0.39767128]], dtype=float32)>]"
      ]
     },
     "execution_count": 18,
     "metadata": {},
     "output_type": "execute_result"
    }
   ],
   "source": [
    "# Test the model on a dummy input\n",
    "\n",
    "lstm2(tf.random.normal((1,8,4)))\n",
    "#first is output of cell, second is final hidden state and third is final cell state of the LSTM"
   ]
  },
  {
   "cell_type": "markdown",
   "metadata": {},
   "source": [
    "The `LSTM` can be also be called using the `initial_state` argument; in this case, a list of `[hidden_state, cell_state]` should be passed to this argument.\n",
    "\n",
    "The GRU is also available as the `GRU` layer in `tf.keras.layers`, and has a similar API."
   ]
  },
  {
   "cell_type": "markdown",
   "metadata": {},
   "source": [
    "<a class=\"anchor\" id=\"preprocessingembedding\"></a>\n",
    "## Preprocessing and Embedding layers\n",
    "\n",
    "In this final section of the week we will look at layers that are particularly useful when working with text data. Preprocessing layers can be used to convert text data into a numerical representation that can be used by neural networks. Embedding layers take data that has been tokenized into integer sequences, and act as a look-up table to map each integer token to its own embedding vector in $\\mathbb{R}^D$."
   ]
  },
  {
   "cell_type": "code",
   "execution_count": 2,
   "metadata": {},
   "outputs": [],
   "source": [
    "import tensorflow as tf"
   ]
  },
  {
   "cell_type": "markdown",
   "metadata": {},
   "source": [
    "For this tutorial we will use the [Twitter airline sentiment dataset](https://www.kaggle.com/crowdflower/twitter-airline-sentiment) from Kaggle, which consists of 14,640 tweets labelled as having positive, negative or neutral sentiment."
   ]
  },
  {
   "cell_type": "markdown",
   "metadata": {},
   "source": [
    "#### Loading and preparing the data"
   ]
  },
  {
   "cell_type": "code",
   "execution_count": 1,
   "metadata": {
    "scrolled": true
   },
   "outputs": [
    {
     "name": "stdout",
     "output_type": "stream",
     "text": [
      "(14640, 15)\n",
      "             tweet_id airline_sentiment  airline_sentiment_confidence  \\\n",
      "0  570306133677760513           neutral                        1.0000   \n",
      "1  570301130888122368          positive                        0.3486   \n",
      "2  570301083672813571           neutral                        0.6837   \n",
      "3  570301031407624196          negative                        1.0000   \n",
      "4  570300817074462722          negative                        1.0000   \n",
      "\n",
      "  negativereason  negativereason_confidence         airline  \\\n",
      "0            NaN                        NaN  Virgin America   \n",
      "1            NaN                     0.0000  Virgin America   \n",
      "2            NaN                        NaN  Virgin America   \n",
      "3     Bad Flight                     0.7033  Virgin America   \n",
      "4     Can't Tell                     1.0000  Virgin America   \n",
      "\n",
      "  airline_sentiment_gold        name negativereason_gold  retweet_count  \\\n",
      "0                    NaN     cairdin                 NaN              0   \n",
      "1                    NaN    jnardino                 NaN              0   \n",
      "2                    NaN  yvonnalynn                 NaN              0   \n",
      "3                    NaN    jnardino                 NaN              0   \n",
      "4                    NaN    jnardino                 NaN              0   \n",
      "\n",
      "                                                text tweet_coord  \\\n",
      "0                @VirginAmerica What @dhepburn said.         NaN   \n",
      "1  @VirginAmerica plus you've added commercials t...         NaN   \n",
      "2  @VirginAmerica I didn't today... Must mean I n...         NaN   \n",
      "3  @VirginAmerica it's really aggressive to blast...         NaN   \n",
      "4  @VirginAmerica and it's a really big bad thing...         NaN   \n",
      "\n",
      "               tweet_created tweet_location               user_timezone  \n",
      "0  2015-02-24 11:35:52 -0800            NaN  Eastern Time (US & Canada)  \n",
      "1  2015-02-24 11:15:59 -0800            NaN  Pacific Time (US & Canada)  \n",
      "2  2015-02-24 11:15:48 -0800      Lets Play  Central Time (US & Canada)  \n",
      "3  2015-02-24 11:15:36 -0800            NaN  Pacific Time (US & Canada)  \n",
      "4  2015-02-24 11:14:45 -0800            NaN  Pacific Time (US & Canada)  \n"
     ]
    }
   ],
   "source": [
    "# Load the data\n",
    "\n",
    "import pandas as pd\n",
    "df = pd.read_csv(\"./data/tweets.csv\")\n",
    "print(df.shape)\n",
    "print(df.head())"
   ]
  },
  {
   "cell_type": "code",
   "execution_count": 3,
   "metadata": {},
   "outputs": [],
   "source": [
    "# Extract the relevant columns\n",
    "\n",
    "df = df[[\"text\",\"airline_sentiment\",\"airline_sentiment_confidence\"]]"
   ]
  },
  {
   "cell_type": "code",
   "execution_count": 4,
   "metadata": {},
   "outputs": [
    {
     "data": {
      "text/plain": [
       "array([['@southwestair has 22 employees on Social Care Team, 4 staff the Listening Ctr. at any time-rest of spots filled by other areas. #RaganDisney',\n",
       "        'neutral', 0.6819]], dtype=object)"
      ]
     },
     "execution_count": 4,
     "metadata": {},
     "output_type": "execute_result"
    }
   ],
   "source": [
    "# View a sample tweet and its label\n",
    "df.sample(1).values\n"
   ]
  },
  {
   "cell_type": "code",
   "execution_count": 23,
   "metadata": {},
   "outputs": [],
   "source": [
    "# Split the data into training, validation and test sets\n",
    "from sklearn.model_selection import train_test_split\n",
    "\n",
    "train_df, val_df = train_test_split(df,test_size=0.4)\n",
    "\n",
    "val_df, test_df = train_test_split(val_df,test_size=0.5)\n"
   ]
  },
  {
   "cell_type": "code",
   "execution_count": 24,
   "metadata": {},
   "outputs": [],
   "source": [
    "# Save the splits to CSV files\n",
    "#index to false so we dont create index column in csv\n",
    "train_df.to_csv(\"./data/train.csv\",index = False)\n",
    "val_df.to_csv(\"./data/val.csv\",index = False)\n",
    "test_df.to_csv(\"./data/test.csv\",index = False)\n"
   ]
  },
  {
   "cell_type": "code",
   "execution_count": 25,
   "metadata": {},
   "outputs": [],
   "source": [
    "# Create Datasets from CSV files\n",
    "#provide default types for each column\n",
    "#first line is the header\n",
    "train_dataset = tf.data.experimental.CsvDataset(\"./data/train.csv\", (tf.string,tf.string,tf.float32),\n",
    "                                                header = True)\n",
    "val_dataset = tf.data.experimental.CsvDataset(\"./data/val.csv\", (tf.string,tf.string,tf.float32),\n",
    "                                                header = True)\n",
    "test_dataset = tf.data.experimental.CsvDataset(\"./data/test.csv\", (tf.string,tf.string,tf.float32),\n",
    "                                                header = True)"
   ]
  },
  {
   "cell_type": "code",
   "execution_count": 26,
   "metadata": {},
   "outputs": [
    {
     "name": "stdout",
     "output_type": "stream",
     "text": [
      "(<tf.Tensor: shape=(), dtype=string, numpy=b'@SouthwestAir I appreciate the response, but the constant changing of the flight time is frustrating to say the least. #toughtomakeplans'>, <tf.Tensor: shape=(), dtype=string, numpy=b'negative'>, <tf.Tensor: shape=(), dtype=float32, numpy=1.0>)\n"
     ]
    }
   ],
   "source": [
    "# View a sample from the training Dataset\n",
    "for elem in train_dataset.take(1):\n",
    "    print(elem)\n"
   ]
  },
  {
   "cell_type": "code",
   "execution_count": 27,
   "metadata": {},
   "outputs": [
    {
     "data": {
      "image/png": "[encoded data removed]",
      "text/plain": [
       "<Figure size 640x480 with 1 Axes>"
      ]
     },
     "metadata": {},
     "output_type": "display_data"
    }
   ],
   "source": [
    "# Plot a histogram of confidence scores\n",
    "\n",
    "import matplotlib.pyplot as plt\n",
    "\n",
    "plt.hist(df['airline_sentiment_confidence'], bins=50)\n",
    "plt.title(\"Sentiment confidence scores\")\n",
    "plt.xlabel(\"Score\")\n",
    "plt.ylabel(\"Count\")\n",
    "plt.show()"
   ]
  },
  {
   "cell_type": "code",
   "execution_count": 28,
   "metadata": {},
   "outputs": [],
   "source": [
    "# Filter out low confidence labels\n",
    "\n",
    "def remove_low_conf(text,label,score):\n",
    "    return tf.math.greater(score,0.5)\n",
    "\n",
    "train_dataset = train_dataset.filter(remove_low_conf)\n",
    "val_dataset = val_dataset.filter(remove_low_conf)\n",
    "test_dataset = test_dataset.filter(remove_low_conf)"
   ]
  },
  {
   "cell_type": "code",
   "execution_count": 29,
   "metadata": {},
   "outputs": [],
   "source": [
    "# Create inputs and outputs\n",
    "\n",
    "def text_label(text,label,score):\n",
    "    return text,label\n",
    "\n",
    "train_dataset = train_dataset.map(text_label)\n",
    "val_dataset = val_dataset.map(text_label)\n",
    "test_dataset = test_dataset.map(text_label)"
   ]
  },
  {
   "cell_type": "code",
   "execution_count": 30,
   "metadata": {},
   "outputs": [],
   "source": [
    "# Shuffle the training Dataset\n",
    "\n",
    "train_dataset = train_dataset.shuffle(500)"
   ]
  },
  {
   "cell_type": "code",
   "execution_count": 31,
   "metadata": {},
   "outputs": [
    {
     "name": "stdout",
     "output_type": "stream",
     "text": [
      "(<tf.Tensor: shape=(), dtype=string, numpy=b'@JetBlue When it\\'s 30 mins past scheduled time w/ no departure in sight a flight no longer qualifies as \"on time\" #updateyourwebsite #489'>, <tf.Tensor: shape=(), dtype=string, numpy=b'negative'>)\n"
     ]
    }
   ],
   "source": [
    "# View a sample from the training Dataset\n",
    "\n",
    "for elem in train_dataset.take(1):\n",
    "    print(elem)"
   ]
  },
  {
   "cell_type": "code",
   "execution_count": 32,
   "metadata": {},
   "outputs": [],
   "source": [
    "# Batch the Datasets\n",
    "\n",
    "train_dataset = train_dataset.batch(16)\n",
    "val_dataset = val_dataset.batch(16)\n",
    "test_dataset = test_dataset.batch(16)"
   ]
  },
  {
   "cell_type": "markdown",
   "metadata": {},
   "source": [
    "#### Preprocessing layers\n",
    "We will need to convert the string data into a numeric representation for the models to process it. We will do this using [preprocessing layers](https://keras.io/guides/preprocessing_layers/). \n",
    "\n",
    "First we will look at the output labels, and convert them to a one-hot encoding using the `StringLookup` and `CategoryEncoding` layers."
   ]
  },
  {
   "cell_type": "code",
   "execution_count": null,
   "metadata": {},
   "outputs": [],
   "source": []
  },
  {
   "cell_type": "code",
   "execution_count": 33,
   "metadata": {},
   "outputs": [],
   "source": [
    "# Create a StringLookup layer\n",
    "\n",
    "from keras.layers import StringLookup\n",
    "#converts string lookups to integer values\n",
    "\n",
    "output_labels = [\"positive\", \"negative\", \"neutral\"]\n",
    "#by default, out of vocab text labels are set to 0, so then the above would be (1,2,3), but we dont need this\n",
    "stringlookup = StringLookup(vocabulary = output_labels,num_oov_indices=0)\n",
    "#now will be mapped to (0,1,2)"
   ]
  },
  {
   "cell_type": "code",
   "execution_count": 34,
   "metadata": {
    "scrolled": true
   },
   "outputs": [
    {
     "name": "stdout",
     "output_type": "stream",
     "text": [
      "tf.Tensor(\n",
      "[b'negative' b'negative' b'positive' b'neutral' b'positive' b'negative'\n",
      " b'neutral' b'neutral' b'positive' b'negative' b'negative' b'neutral'\n",
      " b'negative' b'positive' b'negative' b'negative'], shape=(16,), dtype=string)\n",
      "tf.Tensor([1 1 0 2 0 1 2 2 0 1 1 2 1 0 1 1], shape=(16,), dtype=int64)\n"
     ]
    }
   ],
   "source": [
    "# View the output of the StringLookup layer\n",
    "\n",
    "for t,l in train_dataset.take(1):\n",
    "    print(l)\n",
    "    print(stringlookup(l))"
   ]
  },
  {
   "cell_type": "code",
   "execution_count": 35,
   "metadata": {},
   "outputs": [],
   "source": [
    "# Apply the label preprocessing to the Datasets\n",
    "\n",
    "def convert_to_integer(text,labels):\n",
    "    return text, stringlookup(labels)\n",
    "\n",
    "train_dataset = train_dataset.map(convert_to_integer)\n",
    "val_dataset = val_dataset.map(convert_to_integer)\n",
    "test_dataset = test_dataset.map(convert_to_integer)\n",
    "\n",
    "train_dataset = train_dataset.prefetch(tf.data.AUTOTUNE)\n",
    "val_dataset = val_dataset.prefetch(tf.data.AUTOTUNE)\n",
    "test_dataset = test_dataset.prefetch(tf.data.AUTOTUNE)"
   ]
  },
  {
   "cell_type": "markdown",
   "metadata": {},
   "source": [
    "Now we will process the input tweet text - this can be handled using the `TextVectorization` layer."
   ]
  },
  {
   "cell_type": "code",
   "execution_count": 36,
   "metadata": {},
   "outputs": [],
   "source": [
    "# Create a TextVectorization layer\n",
    "\n",
    "#can put all of the preprocessing stuff into the model via a layer\n",
    "\n",
    "from keras.layers import TextVectorization\n",
    "textvectorisation = TextVectorization(max_tokens=1000)\n",
    "#could be any number of unique strings\n",
    "#but there are often those used rarely, so dont carry enough info for model, often better not using\n",
    "#so we set the size as 1000\n",
    "#we set max tokens as 1000, 0 is reserved for masking, and 1 is out of vocab tokens \n",
    "#so once the 998 token values are used, rest are set to 1\n",
    "\n",
    "#this layer gets rid of whitespace, lowercases and gets rid of punctutation"
   ]
  },
  {
   "cell_type": "code",
   "execution_count": 37,
   "metadata": {},
   "outputs": [],
   "source": [
    "# Configure the layer to the dataset\n",
    "\n",
    "#next we setup the tokens by adapting\n",
    "textvectorisation.adapt(train_dataset.map(lambda t, l: t))\n",
    "#there is a method where you can set the vocab yourself if you know it"
   ]
  },
  {
   "cell_type": "code",
   "execution_count": 38,
   "metadata": {},
   "outputs": [
    {
     "name": "stdout",
     "output_type": "stream",
     "text": [
      "tf.Tensor(\n",
      "[b\"@USAirways The airline is embarrassing itself. I get that bad weather isn't your fault, but your response to it couldn't have been worse.\"\n",
      " b\"@AmericanAir for my delay and you know what I get a we don't credit anybody back a supervisor who cut me off when speaking\"\n",
      " b'@united I have and been denied! I called and got hung up on. Did speaks with manager on second call'\n",
      " b\"@SouthwestAir I'm smashed into a window by the giant guest sitting next to me. #4386. No way this guy should have been given 1 seat.\"\n",
      " b'@united - blamed weather lol 78 no wind and not a cloud in the sky!! Delayed both ways 4x!! RU kidding me to charge me for 1.5lb w/8 delays?'\n",
      " b\"@USAirways but in the meantime I'll be sleeping on a park bench on dadeland st.  Thanks guys!\"\n",
      " b\"@AmericanAir I don't like making a scene but this hasn't been addressed properly. Please have them do that.\"\n",
      " b\"@JetBlue what's up? Three delays so far, resulting in over three hours of unnecessary, extra waiting.\"\n",
      " b'Well lets see.  You could pay for my Negroni with bitcoin. @JetBlue'\n",
      " b\"@USAirways I have sent letter after letter and get back nothing but form letters and half baked reply's #usairwaysssuck\"\n",
      " b'@AmericanAir yes starting w/ flight 1278, getting me home more than 48 hours Late Flightr. record locator BSUXLU'\n",
      " b'@USAirways Hey, my bag was damaged flying with you yesterday. What can I do?'\n",
      " b'@JetBlue Definitely! Lots of announcements and the app is great.'\n",
      " b'@united thank you thank you thank you for contacting me. Thank you for the offer of a $1000 travel certificate #unitedairlines'\n",
      " b\"@united thanks I'll fill out the form that no one reads or responds to.\"\n",
      " b\"@AmericanAir I changed my own flight to tonight. Why couldn't AA do that on my behalf instead of a flight tomorrow? Poor effort all around.\"], shape=(16,), dtype=string)\n",
      "tf.Tensor(\n",
      "[[ 13   3  98  15   1   1   4  31  27 203 135 359  22 621  33  22 214   2\n",
      "   21 353  23  47 543   0   0   0   0   0]\n",
      " [ 14   8  12 136  11   6 107  57   4  31   5  38  85 296   1  81   5 611\n",
      "  193   1  20 152  65   1   0   0   0   0]\n",
      " [  7   4  23  11  47   1   4 284  11  93 367  48  10 111   1  26   1  10\n",
      "  505  90   0   0   0   0   0   0   0   0]\n",
      " [ 16  50   1 248   5 965 101   3   1   1 184 181   2  20   1  28 115  30\n",
      "  714 125  23  47 549 242 146   0   0   0]\n",
      " [  7   1 135 617   1  28   1  11  25   5   1  17   3   1  80 482   1   1\n",
      "    1   1  20   2 510  20   8   1   1 269]\n",
      " [ 13  33  17   3   1 235  34   1  10   5   1   1  10   1   1  37 102   0\n",
      "    0   0   0   0   0   0   0   0   0   0]\n",
      " [ 14   4  85  95 375   5   1  33  30 902  47   1   1  75  23 156  44  27\n",
      "    0   0   0   0   0   0   0   0   0   0]\n",
      " [ 18 225  48 401 269  45 417   1  17 100 401  56  19   1 335 110   0   0\n",
      "    0   0   0   0   0   0   0   0   0   0]\n",
      " [194 587 144   6 166 258   8  12   1  26   1  18   0   0   0   0   0   0\n",
      "    0   0   0   0   0   0   0   0   0   0]\n",
      " [ 13   4  23 240 792  83 792  11  31  81 256  33 698   1  11 416   1   1\n",
      "    1   0   0   0   0   0   0   0   0   0]\n",
      " [ 14 164   1 249   9   1 171  20 132 106 168   1  56  96 223 784   1   1\n",
      "    0   0   0   0   0   0   0   0   0   0]\n",
      " [ 13 428  12  87  24   1 120  26   6 338  57  36   4  44   0   0   0   0\n",
      "    0   0   0   0   0   0   0   0   0   0]\n",
      " [ 18   1 791  19   1  11   3 324  15 116   0   0   0   0   0   0   0   0\n",
      "    0   0   0   0   0   0   0   0   0   0]\n",
      " [  7  71   6  71   6  71   6   8   1  20  71   6   8   3 412  19   5   1\n",
      "  160   1 580   0   0   0   0   0   0   0]\n",
      " [  7  37 235   1  59   3 698  27  28  72   1  89   1   2   0   0   0   0\n",
      "    0   0   0   0   0   0   0   0   0   0]\n",
      " [ 14   4 523  12 598   9   2 234  69 353 204  44  27  10  12   1 390  19\n",
      "    5   9 134 394   1  67 524   0   0   0]], shape=(16, 28), dtype=int64)\n"
     ]
    }
   ],
   "source": [
    "for t, l in train_dataset.take(1):\n",
    "    print(t)\n",
    "    print(textvectorisation(t))\n",
    "\n",
    "#padded with 0s until longest tweet so they can be in a tensor\n",
    "#1s will be unusual words"
   ]
  },
  {
   "cell_type": "markdown",
   "metadata": {},
   "source": [
    "#### Embedding layer\n",
    "We are now able to process the text data into numerical form. However, the input integer tokens should be further processed to transform them into a representation that is more useful for the network. This is where the `Embedding` layer can be used - it creates a lookup table of vectors in $\\mathbb{R}^D$ such that each integer token in the vocabulary has its own $D$-dimensional embedding vector."
   ]
  },
  {
   "cell_type": "code",
   "execution_count": 48,
   "metadata": {},
   "outputs": [],
   "source": [
    "# Create an Embedding layer\n",
    "\n",
    "from keras.layers import Embedding\n",
    "\n",
    "#1000 vocab size, including the masking token and OOV token\n",
    "#and dimension of embedding space 2 since it is not very complex \n",
    "#each row is embedding for each integer token\n",
    "#given sequence it returns sequence of embeddings\n",
    "\n",
    "### MASKING ###\n",
    "#we padded with 0s to make the tensors the same size\n",
    "#hence 0 has no meaning, so tell the model that. Any zeros should be ignored\n",
    "#this info is passed onto subsequent layers and loss function\n",
    "embedding = Embedding(1000,2,mask_zero=True)\n"
   ]
  },
  {
   "cell_type": "code",
   "execution_count": 49,
   "metadata": {},
   "outputs": [
    {
     "name": "stdout",
     "output_type": "stream",
     "text": [
      "tf.Tensor(\n",
      "[[ True  True  True  True  True  True  True  True  True  True  True  True\n",
      "   True  True  True False False False False False False False False False\n",
      "  False False]\n",
      " [ True  True  True  True  True  True  True  True  True  True  True  True\n",
      "   True  True False False False False False False False False False False\n",
      "  False False]\n",
      " [ True  True  True  True  True  True  True  True False False False False\n",
      "  False False False False False False False False False False False False\n",
      "  False False]\n",
      " [ True  True  True  True  True  True  True  True  True  True  True  True\n",
      "   True  True  True  True  True  True  True  True  True  True False False\n",
      "  False False]\n",
      " [ True  True  True  True  True  True  True  True  True  True  True  True\n",
      "   True  True  True  True  True  True  True  True  True  True  True  True\n",
      "   True  True]\n",
      " [ True  True  True  True  True  True  True  True  True  True  True  True\n",
      "   True  True  True  True  True  True  True  True  True  True  True False\n",
      "  False False]\n",
      " [ True  True  True  True  True  True  True  True  True  True  True  True\n",
      "   True  True  True  True  True  True  True  True  True  True  True  True\n",
      "  False False]\n",
      " [ True  True  True  True  True  True  True  True  True  True  True  True\n",
      "   True  True  True  True False False False False False False False False\n",
      "  False False]\n",
      " [ True  True  True False False False False False False False False False\n",
      "  False False False False False False False False False False False False\n",
      "  False False]\n",
      " [ True  True  True  True  True  True  True False False False False False\n",
      "  False False False False False False False False False False False False\n",
      "  False False]\n",
      " [ True  True  True  True  True  True  True  True  True  True  True  True\n",
      "   True  True False False False False False False False False False False\n",
      "  False False]\n",
      " [ True  True  True  True  True  True  True  True False False False False\n",
      "  False False False False False False False False False False False False\n",
      "  False False]\n",
      " [ True  True  True  True  True  True  True  True  True  True  True  True\n",
      "   True  True  True  True False False False False False False False False\n",
      "  False False]\n",
      " [ True  True  True  True  True  True  True  True  True  True  True  True\n",
      "   True  True  True  True  True  True  True  True  True  True  True  True\n",
      "  False False]\n",
      " [ True  True  True  True  True  True  True  True  True  True  True  True\n",
      "   True  True  True  True  True  True  True  True  True  True  True  True\n",
      "   True False]\n",
      " [ True  True  True  True  True  True  True  True  True  True  True  True\n",
      "   True  True  True  True  True  True False False False False False False\n",
      "  False False]], shape=(16, 26), dtype=bool)\n"
     ]
    }
   ],
   "source": [
    "# View the output of the Embedding layer\n",
    "\n",
    "for t, l in train_dataset.take(1):\n",
    "    #print(embedding(textvectorisation(t)).shape)\n",
    "    print(embedding(textvectorisation(t))._keras_mask)\n",
    "    #False are zero tokens added by the text vectorisation layer\n",
    "    #keras mask property is passed to layers that follow"
   ]
  },
  {
   "cell_type": "code",
   "execution_count": 50,
   "metadata": {},
   "outputs": [],
   "source": [
    "# Build the classifier model\n",
    "from keras.models import Sequential\n",
    "from keras.layers import Bidirectional, LSTM, Dense\n"
   ]
  },
  {
   "cell_type": "code",
   "execution_count": 51,
   "metadata": {},
   "outputs": [],
   "source": [
    "# Compile and train the model\n",
    "\n",
    "lstm_classifier = Sequential([\n",
    "    textvectorisation,\n",
    "    embedding,\n",
    "    #take future and past directions\n",
    "    Bidirectional(LSTM(8)),\n",
    "    #3 way softmax, one for each class\n",
    "    Dense(3, activation = \"softmax\")\n",
    "])"
   ]
  },
  {
   "cell_type": "code",
   "execution_count": 52,
   "metadata": {},
   "outputs": [
    {
     "name": "stdout",
     "output_type": "stream",
     "text": [
      "Epoch 1/5\n",
      "540/540 [==============================] - 16s 17ms/step - loss: 0.7787 - accuracy: 0.6675 - val_loss: 0.6393 - val_accuracy: 0.7068\n",
      "Epoch 2/5\n",
      "540/540 [==============================] - 8s 14ms/step - loss: 0.6110 - accuracy: 0.7399 - val_loss: 0.5998 - val_accuracy: 0.7279\n",
      "Epoch 3/5\n",
      "540/540 [==============================] - 7s 13ms/step - loss: 0.5600 - accuracy: 0.7656 - val_loss: 0.5796 - val_accuracy: 0.7560\n",
      "Epoch 4/5\n",
      "540/540 [==============================] - 7s 12ms/step - loss: 0.5329 - accuracy: 0.7824 - val_loss: 0.5738 - val_accuracy: 0.7574\n",
      "Epoch 5/5\n",
      "540/540 [==============================] - 8s 14ms/step - loss: 0.5165 - accuracy: 0.7934 - val_loss: 0.5721 - val_accuracy: 0.7660\n"
     ]
    }
   ],
   "source": [
    "# Evaluate the model on the test Dataset\n",
    "\n",
    "lstm_classifier.compile(optimizer = \"adam\", loss = \"sparse_categorical_crossentropy\", metrics = [\"accuracy\"])\n",
    "history = lstm_classifier.fit(train_dataset, validation_data=val_dataset, epochs = 5)"
   ]
  },
  {
   "cell_type": "code",
   "execution_count": 53,
   "metadata": {},
   "outputs": [
    {
     "data": {
      "image/png": "[encoded data removed]",
      "text/plain": [
       "<Figure size 1500x400 with 2 Axes>"
      ]
     },
     "metadata": {},
     "output_type": "display_data"
    }
   ],
   "source": [
    "# Plot the learning curves\n",
    "\n",
    "fig = plt.figure(figsize=(15, 4))\n",
    "\n",
    "plt.subplot(1, 2, 1)\n",
    "plt.plot(history.history['loss'], label='train')\n",
    "plt.plot(history.history['val_loss'], label='validation')\n",
    "plt.legend()\n",
    "plt.title(\"Loss vs epoch\")\n",
    "\n",
    "plt.subplot(1, 2, 2)\n",
    "plt.plot(history.history['accuracy'], label='train')\n",
    "plt.plot(history.history['val_accuracy'], label='validation')\n",
    "plt.legend()\n",
    "plt.title(\"Accuracy vs epoch\")\n",
    "\n",
    "plt.show()"
   ]
  },
  {
   "cell_type": "code",
   "execution_count": 54,
   "metadata": {},
   "outputs": [
    {
     "name": "stdout",
     "output_type": "stream",
     "text": [
      "@AmericanAir great customer service thanks\n",
      "True label: positive\n",
      "Predicted label: positive\n",
      "\n",
      "@SouthwestAir not to mention I now have to sit in the airport for 4 hours. You've ruined my trip. I am not happy and want compensation.\n",
      "True label: negative\n",
      "Predicted label: negative\n",
      "\n",
      "@united I see several economy plus can you put us in those. We don't have to be seated together\n",
      "True label: neutral\n",
      "Predicted label: neutral\n",
      "\n",
      "@JetBlue I'm sick of y'all.\n",
      "True label: negative\n",
      "Predicted label: neutral\n",
      "\n",
      "@AmericanAir Thanks, but that results in missing the conference I'm attending. Are there options to book earlier,or if not,receive a refund?\n",
      "True label: negative\n",
      "Predicted label: negative\n",
      "\n",
      "@USAirways how can i get ahold of a reservations supervisor?\n",
      "True label: neutral\n",
      "Predicted label: negative\n",
      "\n",
      "@JetBlue great flight and crew! Flight 51 from BOS to MCO\n",
      "True label: positive\n",
      "Predicted label: positive\n",
      "\n",
      "@united whom can I call to discuss - as I was told that united has no phone contact with passengers  - this is absurd...\n",
      "True label: negative\n",
      "Predicted label: negative\n",
      "\n",
      "@SouthwestAir nice touch on the passbook integration!\n",
      "True label: positive\n",
      "Predicted label: positive\n",
      "\n",
      "@united is that all that matters, not the fact that we're at a different destination, we were put through a tremendous amount of stress,\n",
      "True label: negative\n",
      "Predicted label: negative\n",
      "\n",
      "@JetBlue Best airline name ever. Whenever I see it, I want to get on their plane to blue skies &amp; sea. (And they DELIVER on that promise)\n",
      "True label: positive\n",
      "Predicted label: positive\n",
      "\n",
      "@AmericanAir a worker just checked for ice on our plane using his cell phone flashlight! Really?! Come on!\n",
      "True label: negative\n",
      "Predicted label: neutral\n",
      "\n",
      "@HillAConlin @SouthwestAir hi! get a solar charger from Amazon! Game changer to plug usb into charge. :)\n",
      "True label: neutral\n",
      "Predicted label: neutral\n",
      "\n",
      "@USAirways Has To Be THE WORST Airline Of All Time😡😡😡\n",
      "True label: negative\n",
      "Predicted label: negative\n",
      "\n",
      "@JetBlue if you can't guarantee parents will sit with their children, don't sell tickets with that promise! #jetblue http://t.co/HDoXiM6NZ2\n",
      "True label: negative\n",
      "Predicted label: negative\n",
      "\n",
      "@AmericanAir you ever wonder why you find yourselves responding to so many customer complaints on twitter? It's because your airline sucks.\n",
      "True label: negative\n",
      "Predicted label: negative\n",
      "\n"
     ]
    }
   ],
   "source": [
    "# View some model predictions on the test set\n",
    "\n",
    "import numpy as np\n",
    "\n",
    "for text, label in test_dataset.take(1):\n",
    "    ground_truth = np.array(output_labels)[label]\n",
    "    predicted_label_ints = np.argmax(lstm_classifier(text).numpy(), axis=1)\n",
    "    predicted_labels = np.array(output_labels)[predicted_label_ints]\n",
    "\n",
    "for t, l, g in zip(text, predicted_labels, ground_truth):\n",
    "    print(t.numpy().decode('utf-8'))\n",
    "    print(\"True label: {}\\nPredicted label: {}\\n\".format(g, l))"
   ]
  },
  {
   "cell_type": "markdown",
   "metadata": {},
   "source": [
    "<a class=\"anchor\" id=\"references\"></a>\n",
    "## References\n",
    "\n",
    "<a class=\"anchor\" id=\"Cho14\"></a>\n",
    "* Cho, K., van Merriënboer, B., Gülçehre, Ç., Bahdanau, D., Bougares, F., Schwenk, H., & Bengio, Y. (2014), \"Learning phrase representations using rnn encoder–decoder for statistical machine translation\", in *Proceedings of the 2014 Conference on Empirical Methods in Natural Language Processing (EMNLP)*, 1724–1734.\n",
    "<a class=\"anchor\" id=\"Gers99\"></a>\n",
    "* Gers, F.A. (1999), \"Learning to forget: Continual prediction with LSTM\", *9th International Conference on Artificial Neural Networks: ICANN '99*, 850–855.\n",
    "<a class=\"anchor\" id=\"Graves09\"></a>\n",
    "* Graves, A., Liwicki, M., Fernández, S., Bertolami, R., Bunke, H., & Schmidhuber, J. (2009), \"A Novel Connectionist System for Unconstrained Handwriting Recognition\", *IEEE Transactions on Pattern Analysis and Machine Intelligence*, **31** (5), 855–868.\n",
    "<a class=\"anchor\" id=\"Graves13\"></a>\n",
    "* Graves, A., Mohamed, A.-R., Hinton, G. (2013), \"Speech Recognition with Deep Recurrent Neural Networks\", arXiv preprint, abs/1303.5778.\n",
    "<a class=\"anchor\" id=\"Hochreiter91\"></a>\n",
    "* Hochreiter, S. (1991), \"Untersuchungen zu dynamischen neuronalen Netzen\", Diploma thesis, Institut für Informatik, Lehrstuhl Prof. Brauer, Technische Universität München.\n",
    "<a class=\"anchor\" id=\"Hochreiter97\"></a>\n",
    "* Hochreiter, S. and Schmidhuber, J. (1997), \"Long short-term memory\", *Neural Computation*, **9** (8), 1735–1780.\n",
    "<a class=\"anchor\" id=\"Rumelhart86b\"></a>\n",
    "* Rumelhart, D. E., Hinton, G., and Williams, R. (1986b), \"Learning representations by back-propagating errors\", Nature, **323**, 533-536.\n",
    "<a class=\"anchor\" id=\"Schuster97\"></a>\n",
    "* Schuster, M. & Paliwal, K. K. (1997), \"Bidirectional Recurrent Neural Networks\", *IEEE Transactions on Signal Processing*, **45** (11), 2673-2681.\n",
    "<a class=\"anchor\" id=\"Vinyals19\"></a>\n",
    "* Vinyals, O., Babuschkin, I., Czarnecki, W. M., Mathieu, M., Dudzik, A., Chung, J., Choi, D. H., Powell, R., Ewalds, T., Georgiev, P., Oh, J., Horgan, D., Kroiss, M., Danihelka, I., Huang, A., Sifre, L., Cai, T., Agapiou, J. P., Jaderberg, M., Vezhnevets, A. S., Leblond, R., Pohlen, T., Dalibard, V., Budden, D., Sulsky, Y., Molloy, J., Paine, T. L., Gulcehre, C., Wang, Z., Pfaff, T., Wu, Y., Ring, R., Yogatama, D., Wünsch, D., McKinney, K., Smith, O., Schaul, T., Lillicrap, T., Kavukcuoglu, K., Hassabis, D., Apps, C., & Silver, D.(2019) \"Grandmaster level in StarCraft II using multi-agent reinforcement learning\", *Nature*, **575** (7782), 350-354.\n",
    "<a class=\"anchor\" id=\"Wu16\"></a>\n",
    "* Wu, Y., Schuster, M., Chen, Z., Le, Q. V., Norouzi, M, Macherey, W., Krikun, M., Cao, Y., & Gao, Q. (2016), \"Google's Neural Machine Translation System: Bridging the Gap between Human and Machine Translation\", arXiv preprint, abs/1609.08144."
   ]
  }
 ],
 "metadata": {
  "kernelspec": {
   "display_name": "Python 3 (ipykernel)",
   "language": "python",
   "name": "python3"
  },
  "language_info": {
   "codemirror_mode": {
    "name": "ipython",
    "version": 3
   },
   "file_extension": ".py",
   "mimetype": "text/x-python",
   "name": "python",
   "nbconvert_exporter": "python",
   "pygments_lexer": "ipython3",
   "version": "3.10.13"
  }
 },
 "nbformat": 4,
 "nbformat_minor": 2
}
