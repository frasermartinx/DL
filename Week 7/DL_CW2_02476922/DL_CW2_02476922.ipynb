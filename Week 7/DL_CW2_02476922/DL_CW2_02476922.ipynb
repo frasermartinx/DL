{
 "cells": [
  {
   "cell_type": "markdown",
   "id": "d7e6c497",
   "metadata": {},
   "source": [
    "# Deep Learning\n",
    "## Summative assessment\n",
    "### Coursework 2"
   ]
  },
  {
   "cell_type": "markdown",
   "id": "bedeb7a9",
   "metadata": {},
   "source": [
    "#### Instructions\n",
    "\n",
    "This coursework is released on **Wednesday 21st February 9.00** and is due by **Wednesday 6th March 23.59**. It is worth **40%** of your overall mark. There are 4 questions in this assessment, and a total of 100 marks are available. **You should attempt to answer all questions.** In addition to the total number of marks per question below, an additional 10 marks is available for presentation and clarity/quality of code.\n",
    "\n",
    "This assessment assesses your ability to design, implement, train and evaluate a deep learning model for a classification task using multimodal data.\n",
    "\n",
    "You can make imports as and when you need them throughout the notebook, and add code cells where necessary. Make sure your notebook executes correctly in sequence before submitting.\n",
    "\n",
    "#### Submission instructions\n",
    "\n",
    "The submission for this assessment will consist of a notebook (.ipynb file) and a PDF submission.\n",
    "\n",
    "Ensure your notebook executes correctly in order. Save your notebook .ipynb file **after you have executed it** (so that outputs are all showing). It is recommended to also submit a PDF copy of your executed notebook, in case the .ipynb file is corrupted for some reason. \n",
    "\n",
    "Upload a zip file containing your notebook and separate PDF file(s) to Coursera by the deadline above."
   ]
  },
  {
   "cell_type": "code",
   "execution_count": 2,
   "id": "0942eeef",
   "metadata": {
    "scrolled": true
   },
   "outputs": [],
   "source": [
    "# You will need the following imports for this assessment. You can make additional imports when you need them\n",
    "\n",
    "import tensorflow as tf\n",
    "import numpy as np\n",
    "import matplotlib.pyplot as plt\n",
    "import pandas as pd\n",
    "import os\n",
    "\n",
    "from tensorflow.keras.layers import (Layer, Input, Dense, GRU, Embedding, Conv2D, BatchNormalization, Activation, GlobalMaxPooling2D, TextVectorization, StringLookup)\n",
    "from tensorflow.keras.models import Sequential, Model\n",
    "from tensorflow.keras.optimizers import Adam\n",
    "from tensorflow.keras.callbacks import CSVLogger, ModelCheckpoint\n",
    "from tabulate import tabulate"
   ]
  },
  {
   "cell_type": "code",
   "execution_count": 3,
   "id": "2cbb167a-1d60-4635-b929-cd1bb7d98146",
   "metadata": {},
   "outputs": [
    {
     "name": "stdout",
     "output_type": "stream",
     "text": [
      "[PhysicalDevice(name='/physical_device:GPU:0', device_type='GPU')]\n"
     ]
    }
   ],
   "source": [
    "# You will need access to a GPU for this coursework\n",
    "\n",
    "print(tf.config.list_physical_devices('GPU'))\n",
    "tf.keras.backend.clear_session()"
   ]
  },
  {
   "cell_type": "markdown",
   "id": "7edcd578",
   "metadata": {},
   "source": [
    "#### The CLEVR Dataset\n",
    "\n",
    "This assessment makes use of the [CLEVR Dataset](https://cs.stanford.edu/people/jcjohns/clevr/). This dataset is a visual question answering dataset, and consists of images with corresponding text questions and answers about the image.  \n",
    "\n",
    "* Johnson, J., Hariharan, B., van der Maaten, L., Li, F.-F., Zitnick, C. L. & Girshick, R. (2016), \"CLEVR: A Diagnostic Dataset for Compositional Language and Elementary Visual Reasoning\", *IEEE Conference on Computer Vision and Pattern Recognition (CVPR)*, 1988-1997.\n",
    "\n",
    "The original dataset consists of a training set of 70,000 images and 699,989 questions, a validation set of 15,000 images and 149,991 questions, and a test set of 15,000 images and 14,988 questions. In this coursework you will work with a subset of the training and validation splits, which have been preprocessed and prepared for you. \n",
    "\n",
    "The data is stored in TFRecord format, which is a data format that is efficient for TensorFlow to work with. You can read about the TFRecord format [here](https://www.tensorflow.org/tutorials/load_data/tfrecord) if you are interested, but there is no need to find out about TFRecord for this assessment. The code to read in the TFRecord data to Dataset objects is provided for you below."
   ]
  },
  {
   "cell_type": "code",
   "execution_count": 4,
   "id": "7ebe0cc4",
   "metadata": {},
   "outputs": [],
   "source": [
    "train_ds = tf.data.TFRecordDataset([os.path.join('../../../data_CW2/data', 'train', f) \n",
    "                                    for f in os.listdir(os.path.join('../../../data_CW2/data', 'train')) if f.endswith('tfrecords')])\n",
    "val_ds = tf.data.TFRecordDataset([os.path.join('../../../data_CW2/data', 'val', f) \n",
    "                                    for f in os.listdir(os.path.join('../../../data_CW2/data', 'val')) if f.endswith('tfrecords')])"
   ]
  },
  {
   "cell_type": "code",
   "execution_count": 5,
   "id": "935a3e43",
   "metadata": {},
   "outputs": [],
   "source": [
    "# The following helper function will parse the TFRecord files to return a dictionary of TensorFlow objects\n",
    "\n",
    "def parse_function(example_proto):\n",
    "    features = {\n",
    "        \"image\": tf.io.FixedLenFeature((), tf.string),\n",
    "        \"question\": tf.io.VarLenFeature(dtype=tf.string),\n",
    "        \"answer\": tf.io.VarLenFeature(dtype=tf.string)\n",
    "    }\n",
    "    parsed_features = tf.io.parse_single_example(serialized=example_proto, features=features)\n",
    "    parsed_features[\"question\"] = tf.sparse.to_dense(parsed_features[\"question\"])\n",
    "    parsed_features[\"answer\"] = tf.sparse.to_dense(parsed_features[\"answer\"])\n",
    "    image = tf.io.decode_raw(parsed_features[\"image\"], tf.int32)\n",
    "    image = tf.reshape(image, [224, 224, 3])\n",
    "    parsed_features[\"image\"] = image\n",
    "    return parsed_features"
   ]
  },
  {
   "cell_type": "code",
   "execution_count": 6,
   "id": "c9be7868",
   "metadata": {},
   "outputs": [],
   "source": [
    "train_ds = train_ds.map(parse_function)\n",
    "val_ds = val_ds.map(parse_function)"
   ]
  },
  {
   "cell_type": "code",
   "execution_count": 7,
   "id": "418cad08-c46a-452e-bd37-42fb4e5c108b",
   "metadata": {},
   "outputs": [
    {
     "data": {
      "text/plain": [
       "{'answer': TensorSpec(shape=(None,), dtype=tf.string, name=None),\n",
       " 'question': TensorSpec(shape=(None,), dtype=tf.string, name=None),\n",
       " 'image': TensorSpec(shape=(224, 224, 3), dtype=tf.int32, name=None)}"
      ]
     },
     "execution_count": 7,
     "metadata": {},
     "output_type": "execute_result"
    }
   ],
   "source": [
    "train_ds.element_spec"
   ]
  },
  {
   "cell_type": "markdown",
   "id": "8023241f",
   "metadata": {},
   "source": [
    "Your task in this assessment is to develop a deep learning model to predict the answer for a given question about an image.\n",
    "\n",
    "You will need to implement special customised layers and a sophisticated model architecture, making use of both CNN and RNN models. You will process the data, train and evaluate the specified model, and then write a proposal for your own modified architecture."
   ]
  },
  {
   "cell_type": "markdown",
   "id": "88838a0b",
   "metadata": {},
   "source": [
    "### Question 1 (Total 15 marks)"
   ]
  },
  {
   "cell_type": "markdown",
   "id": "15773a28",
   "metadata": {},
   "source": [
    "The training and validation datasets both return dictionaries with keys `\"image\"`, `\"question\"` and `\"answer\"`. For each image, there are multiple questions and answers. The question and answer entries in the dictionary are both lists of strings of the same length, with aligned questions and answers for the given image. The image entry is a 224x224x3 integer Tensor. These images have been resized from the original size of 480x320, so they appear slightly stretched (this can be ignored). \n",
    "\n",
    "a) Inspect the contents of the dataset by displaying at least one image and it's corresponding questions and answers.\n",
    "\n",
    "**(3 marks)**"
   ]
  },
  {
   "cell_type": "code",
   "execution_count": 8,
   "id": "0c16938a",
   "metadata": {},
   "outputs": [],
   "source": [
    "for ele in train_ds.take(1):\n",
    "    eg_q, eg_a, eg_i = ele[\"question\"], ele[\"answer\"], ele[\"image\"]\n"
   ]
  },
  {
   "cell_type": "code",
   "execution_count": 9,
   "id": "8e15f4ea",
   "metadata": {},
   "outputs": [
    {
     "data": {
      "image/png": "[encoded data removed]",
      "text/plain": [
       "<Figure size 640x480 with 1 Axes>"
      ]
     },
     "metadata": {},
     "output_type": "display_data"
    }
   ],
   "source": [
    "# First, we show the example image\n",
    "plt.imshow(eg_i)\n",
    "plt.show()"
   ]
  },
  {
   "cell_type": "code",
   "execution_count": 10,
   "id": "6a428147",
   "metadata": {},
   "outputs": [
    {
     "name": "stdout",
     "output_type": "stream",
     "text": [
      "Question: \"The blue metal object is what size?\"\n",
      "Answer: \"large\" \n",
      "\n",
      "Question: \"What is the material of the small cyan cube?\"\n",
      "Answer: \"rubber\" \n",
      "\n",
      "Question: \"Is the size of the cyan thing that is in front of the purple cylinder the same as the small matte ball?\"\n",
      "Answer: \"yes\" \n",
      "\n",
      "Question: \"What number of things are either gray balls or big yellow metal objects?\"\n",
      "Answer: \"1\" \n",
      "\n",
      "Question: \"There is a rubber object that is the same color as the large block; what is its shape?\"\n",
      "Answer: \"cube\" \n",
      "\n",
      "Question: \"There is a shiny thing that is on the left side of the big brown thing and behind the large cyan thing; what size is it?\"\n",
      "Answer: \"large\" \n",
      "\n",
      "Question: \"What number of tiny yellow metal cylinders are there?\"\n",
      "Answer: \"0\" \n",
      "\n",
      "Question: \"How many blocks are either tiny cyan rubber things or small matte things?\"\n",
      "Answer: \"1\" \n",
      "\n",
      "Question: \"There is a blue ball right of the cyan block that is behind the purple thing; how many brown objects are to the right of it?\"\n",
      "Answer: \"1\" \n",
      "\n",
      "Question: \"The cylinder that is the same size as the blue metal ball is what color?\"\n",
      "Answer: \"purple\" \n",
      "\n"
     ]
    }
   ],
   "source": [
    "#Next, we show the example questions and answers for the image\n",
    "l = eg_q.shape[0]\n",
    "for combo in range(l):\n",
    "    tf.print(\"Question:\", eg_q[combo])\n",
    "    tf.print(\"Answer:\", eg_a[combo], \"\\n\")"
   ]
  },
  {
   "cell_type": "markdown",
   "id": "bfc75066-c79e-4d03-b066-dc53b3367c48",
   "metadata": {},
   "source": [
    "b) The training and validation Datasets should be processed as follows:\n",
    "\n",
    "* The image pixel values should be scaled to the interval $[0, 1]$.\n",
    "* The answers should be (sparse) encoded as integer labels. You will need to compute the total number of distinct answers to do this.\n",
    "* The questions should be tokenized and represented as a sequence of integer tokens. The questions should be split on whitespace and standardized by lowercasing and removing punctuation. \n",
    "* A single question-answer pair should be uniformly sampled from the available questions and answers for each image (so each image should appear exactly once per epoch with a single question-answer pair).\n",
    "* The inputs to the model will be the question and the image. The targets will be the answer. Process the Datasets so that they return a tuple of 2 elements corresponding to inputs and targets.\n",
    "* Shuffle the training Dataset, and batch both Datasets with batch size 64.\n",
    "\n",
    "Print out the number of distinct answer labels, as well as the number of tokens in the vocabulary computed from the questions.\n",
    "\n",
    "Print out the element_spec of one of the Datasets after processing. \n",
    "\n",
    "**(12 marks)**"
   ]
  },
  {
   "cell_type": "code",
   "execution_count": 11,
   "id": "d4fe8690-c899-4be6-b482-0064d14fce49",
   "metadata": {},
   "outputs": [],
   "source": [
    "#Scale the images\n",
    "def image_scale(dic):\n",
    "    im = dic[\"image\"]\n",
    "    im = im / 255\n",
    "    dic[\"image\"] = im\n",
    "    return dic\n",
    "\n",
    "train_ds = train_ds.map(image_scale)\n",
    "val_ds = val_ds.map(image_scale)"
   ]
  },
  {
   "cell_type": "code",
   "execution_count": 12,
   "id": "7cfe34cc",
   "metadata": {},
   "outputs": [
    {
     "name": "stdout",
     "output_type": "stream",
     "text": [
      "There are 30 distinct answers including unknown and a placeholder\n",
      "['', '[UNK]', 'no', 'yes', '1', '0', 'rubber', 'metal', 'small', 'large', '2', 'cylinder', 'sphere', 'cube', '3', 'blue', 'yellow', 'brown', 'gray', 'purple', 'cyan', 'red', 'green', '4', '5', '6', '7', '8', '9', '10']\n"
     ]
    }
   ],
   "source": [
    "### Sparse encode answers ###\n",
    "#find number of unique answers\n",
    "text_vectorization_ans = TextVectorization(standardize='lower_and_strip_punctuation',split = \"whitespace\")\n",
    "\n",
    "#get answers for train set\n",
    "answers = train_ds.map(lambda l: l[\"answer\"])\n",
    "\n",
    "#adapt on training set only\n",
    "text_vectorization_ans.adapt(answers)\n",
    "\n",
    "vocab_ans_size = text_vectorization_ans.vocabulary_size()\n",
    "vocab_ans = text_vectorization_ans.get_vocabulary()\n",
    "print(f\"There are {vocab_ans_size} distinct answers including unknown and a placeholder\")\n",
    "print(vocab_ans)\n",
    "\n",
    "#this shows that there are 30 unique answers, including unknown and placeholder \"\". \n"
   ]
  },
  {
   "cell_type": "code",
   "execution_count": 13,
   "id": "6bd6f789",
   "metadata": {},
   "outputs": [],
   "source": [
    "#do sparse encoding as requested, we have [UNK] for OOV indices\n",
    "stringlookup = StringLookup(vocabulary = vocab_ans, num_oov_indices=0)\n",
    "\n",
    "def convert_labels(element):\n",
    "    #update the dictionary given\n",
    "    element[\"answer\"] = stringlookup(element[\"answer\"])\n",
    "    return element\n",
    "\n",
    "train_ds = train_ds.map(convert_labels)\n",
    "\n",
    "#this will be the same for validation \n",
    "\n",
    "val_ds = val_ds.map(convert_labels)"
   ]
  },
  {
   "cell_type": "code",
   "execution_count": 14,
   "id": "ff5aa12d",
   "metadata": {},
   "outputs": [],
   "source": [
    "### Now to tokenize all of the questions ###\n",
    "text_vectorization_q = TextVectorization(standardize='lower_and_strip_punctuation',split = \"whitespace\")\n",
    "#adapt to the questions of the training set\n",
    "questions = train_ds.map(lambda l: l[\"question\"])\n",
    "text_vectorization_q.adapt(questions)\n",
    "vocab_q_size = text_vectorization_q.vocabulary_size()\n",
    "vocab_q = text_vectorization_q.get_vocabulary()"
   ]
  },
  {
   "cell_type": "code",
   "execution_count": 15,
   "id": "5ab422c1",
   "metadata": {},
   "outputs": [],
   "source": [
    "def tokenize_q(element):\n",
    "    q = element[\"question\"]\n",
    "    element[\"question\"] = text_vectorization_q(q)\n",
    "    return element\n",
    "#map it\n",
    "train_ds = train_ds.map(tokenize_q)\n",
    "val_ds = val_ds.map(tokenize_q)"
   ]
  },
  {
   "cell_type": "code",
   "execution_count": 16,
   "id": "39ab6f91",
   "metadata": {},
   "outputs": [],
   "source": [
    "### Now to sample randomly for each image ###\n",
    "\n",
    "def sample_image(element):\n",
    "    q, a = element[\"question\"], element[\"answer\"]\n",
    "    #10 questions and answers per one\n",
    "    num_qs = tf.shape(q)[0]\n",
    "    #have to use tensorflow operation or it picks the same for all\n",
    "    idx = tf.random.uniform(shape=(), minval=0, maxval=num_qs, dtype=tf.int32)\n",
    "    q = q[idx,:]\n",
    "    a = a[idx]\n",
    "    element[\"question\"] = q\n",
    "    element[\"answer\"] = a\n",
    "    return element\n",
    "\n",
    "train_ds = train_ds.map(sample_image)\n",
    "val_ds = val_ds.map(sample_image)"
   ]
  },
  {
   "cell_type": "code",
   "execution_count": 17,
   "id": "08d8847e",
   "metadata": {},
   "outputs": [],
   "source": [
    "### Now do inputs and targets ###\n",
    "def inputs_and_targets(element):\n",
    "    inputs = (element[\"question\"], element[\"image\"])\n",
    "    targets = element[\"answer\"]\n",
    "    return inputs, targets\n",
    "\n",
    "train_ds = train_ds.map(inputs_and_targets)\n",
    "val_ds = val_ds.map(inputs_and_targets)\n"
   ]
  },
  {
   "cell_type": "code",
   "execution_count": 18,
   "id": "6af4a9d0",
   "metadata": {},
   "outputs": [],
   "source": [
    "### Now shuffle and batch ###\n",
    "#only shuffe training set as stated on ED\n",
    "batch_size = 64\n",
    "train_ds = train_ds.shuffle(100)\n",
    "\n",
    "#padded batching to make sure the inputs are all of the same shape for each batch\n",
    "train_ds = train_ds.padded_batch(batch_size)\n",
    "val_ds = val_ds.padded_batch(batch_size)\n"
   ]
  },
  {
   "cell_type": "code",
   "execution_count": 19,
   "id": "c4d4d5f7",
   "metadata": {},
   "outputs": [],
   "source": [
    "#finally, prefetch\n",
    "train_ds = train_ds.prefetch(tf.data.AUTOTUNE)\n",
    "val_ds = val_ds.prefetch(tf.data.AUTOTUNE)"
   ]
  },
  {
   "cell_type": "code",
   "execution_count": 20,
   "id": "100b5bf9",
   "metadata": {},
   "outputs": [
    {
     "name": "stdout",
     "output_type": "stream",
     "text": [
      "((TensorSpec(shape=(None, None), dtype=tf.int64, name=None), TensorSpec(shape=(None, 224, 224, 3), dtype=tf.float64, name=None)), TensorSpec(shape=(None,), dtype=tf.int64, name=None))\n"
     ]
    }
   ],
   "source": [
    "### Print off element specs ###\n",
    "\n",
    "print(train_ds.element_spec)\n"
   ]
  },
  {
   "cell_type": "markdown",
   "id": "1075f29a-81c2-4a11-9bde-768e9fb269e5",
   "metadata": {},
   "source": [
    "### Question 2 (Total 35 marks)"
   ]
  },
  {
   "cell_type": "markdown",
   "id": "17bf37ac-40e3-40eb-894b-28cd8bdb8432",
   "metadata": {},
   "source": [
    "The model that you will implement for the visual question answering task was first proposed in the paper\n",
    "\n",
    "* Perez, E., Strub, F., de Vries, H. & Courville, A. (2018), \"FiLM: visual reasoning with a general conditioning layer\", in _Proceedings of the Thirty-Second AAAI Conference on Artificial Intelligence_, New Orleans, Louisiana, USA.\n",
    "\n",
    "The main idea is the introduction of a specialised layer called a FiLM layer (Feature-wise Linear Modulation). The purpose of this layer is to modify the predictions that are made by a CNN prediction model (the central stack coloured in brown in the figure below). The CNN prediction model takes the image as input, and outputs a categorical distribution over the set of possible answers.\n",
    "\n",
    "The FiLM layer uses information stored in a vector embedding (which comes from the question text) to modify the post-activations of the CNN prediction model. This vector embedding is produced by a gated recurrent unit (GRU) network (referred to in the original paper as the FiLM generator) as the final hidden layer representation after processing the input question. This vector embedding is also referred to as the conditioning signal.\n",
    "\n",
    "The overall model architecture is shown in the figure below:\n",
    "\n",
    "<center><img src=\"figures/model.png\" alt=\"Model architecture\" style=\"width: 450px;\"/></center>\n",
    "<center>Overall model architecture</center>\n",
    "\n",
    "The question is tokenized, and learned embeddings are processed sequentially by the GRU network/FiLM generator. There are potentially multiple FiLM layers within the CNN prediction model. Each FiLM layer uses the GRU embedding $\\mathbf{q}$ (the conditioning signal) to modify the output of a convolutional layer within the CNN prediction model, as described in part c)."
   ]
  },
  {
   "cell_type": "markdown",
   "id": "1e0c54e1-344e-45e4-b513-748092b31bb4",
   "metadata": {},
   "source": [
    "a) Implement the FiLM generator as a 2-layer stacked GRU network, using an embedding dimension of 64, and 128 neurons for both of the layers of the GRU. The network should output the final 128-dimensional embedding. Print the model summary.\n",
    "\n",
    "**(3 marks)**"
   ]
  },
  {
   "cell_type": "code",
   "execution_count": 21,
   "id": "28806d5a-f033-443b-9c7f-8a9ddcfed163",
   "metadata": {},
   "outputs": [],
   "source": [
    "#we implement a function to get the generator for use later\n",
    "def get_gru():\n",
    "    gru_network = Sequential([\n",
    "        #embed\n",
    "        Embedding(input_dim = vocab_q_size,output_dim = 64,mask_zero = True),\n",
    "        GRU(units = 128, return_sequences = True),\n",
    "        GRU(units = 128)\n",
    "    ], name = \"gru_network\")\n",
    "    return gru_network"
   ]
  },
  {
   "cell_type": "code",
   "execution_count": 22,
   "id": "9b63d3f1",
   "metadata": {},
   "outputs": [
    {
     "name": "stdout",
     "output_type": "stream",
     "text": [
      "Model: \"gru_network\"\n",
      "_________________________________________________________________\n",
      " Layer (type)                Output Shape              Param #   \n",
      "=================================================================\n",
      " embedding (Embedding)       (None, None, 64)          5248      \n",
      "                                                                 \n",
      " gru (GRU)                   (None, None, 128)         74496     \n",
      "                                                                 \n",
      " gru_1 (GRU)                 (None, 128)               99072     \n",
      "                                                                 \n",
      "=================================================================\n",
      "Total params: 178,816\n",
      "Trainable params: 178,816\n",
      "Non-trainable params: 0\n",
      "_________________________________________________________________\n"
     ]
    }
   ],
   "source": [
    "gru_network = get_gru()\n",
    "gru_network.summary()"
   ]
  },
  {
   "cell_type": "markdown",
   "id": "879bea7c-6b09-4fc0-9f32-5aba04f8b7f4",
   "metadata": {},
   "source": [
    "b) The first block of the CNN prediction model is a feature extractor CNN which does not make use of the conditioning signal $\\mathbf{q}$ from the GRU network. This block takes the image as input, and passes it through two sub-blocks, each consisting of the following layers:\n",
    "\n",
    "* A 2D convolutional layer with 128 filters, a 4x4 kernel, 2x2 strides, 'SAME' padding, and no activation function\n",
    "* A batch normalisation layer\n",
    "* An element-wise ReLU activation\n",
    "\n",
    "Implement the feature extractor CNN and print the model summary.\n",
    "\n",
    "**(2 marks)**"
   ]
  },
  {
   "cell_type": "code",
   "execution_count": 23,
   "id": "8fd4bf2c-f0d9-436d-a876-19a4f7b4735a",
   "metadata": {},
   "outputs": [],
   "source": [
    "def get_cnn_feature_extractor():\n",
    "    cnn_feature_extractor = Sequential([\n",
    "        #sub block one\n",
    "        Conv2D(filters = 128, kernel_size = (4,4), strides = (2,2), padding = \"same\", input_shape = (224,224,3)),\n",
    "        BatchNormalization(),\n",
    "        Activation(\"relu\"),\n",
    "        #sub block two\n",
    "        Conv2D(filters = 128, kernel_size = (4,4), strides = (2,2), padding = \"same\"),\n",
    "        BatchNormalization(),\n",
    "        Activation(\"relu\")], name = \"feature_extractor\")\n",
    "    return cnn_feature_extractor\n"
   ]
  },
  {
   "cell_type": "code",
   "execution_count": 24,
   "id": "c6d1f306",
   "metadata": {},
   "outputs": [
    {
     "name": "stdout",
     "output_type": "stream",
     "text": [
      "Model: \"feature_extractor\"\n",
      "_________________________________________________________________\n",
      " Layer (type)                Output Shape              Param #   \n",
      "=================================================================\n",
      " conv2d (Conv2D)             (None, 112, 112, 128)     6272      \n",
      "                                                                 \n",
      " batch_normalization (BatchN  (None, 112, 112, 128)    512       \n",
      " ormalization)                                                   \n",
      "                                                                 \n",
      " activation (Activation)     (None, 112, 112, 128)     0         \n",
      "                                                                 \n",
      " conv2d_1 (Conv2D)           (None, 56, 56, 128)       262272    \n",
      "                                                                 \n",
      " batch_normalization_1 (Batc  (None, 56, 56, 128)      512       \n",
      " hNormalization)                                                 \n",
      "                                                                 \n",
      " activation_1 (Activation)   (None, 56, 56, 128)       0         \n",
      "                                                                 \n",
      "=================================================================\n",
      "Total params: 269,568\n",
      "Trainable params: 269,056\n",
      "Non-trainable params: 512\n",
      "_________________________________________________________________\n",
      "None\n"
     ]
    }
   ],
   "source": [
    "cnn_feature_extractor = get_cnn_feature_extractor()\n",
    "print(cnn_feature_extractor.summary())"
   ]
  },
  {
   "cell_type": "markdown",
   "id": "48c19dc6-a633-4d39-bd3c-42cc01e2bcc4",
   "metadata": {},
   "source": [
    "c) Implement a custom layer class for the FiLM layer as described below. This class should subclass the base `Layer` class in the `tensorflow.keras.layers` module. \n",
    "\n",
    "This layer will need to take two inputs when it is called: the conditioning signal $\\mathbf{q}$, as well as the previous convolutional layer output $\\mathbf{h}$. \n",
    "\n",
    "The FiLM layer passes the conditioning signal $\\mathbf{q}$ output by the GRU FiLM generator through a linear layer (dense layer with no activation function) to produce $\\gamma$ and $\\beta$:\n",
    "\n",
    "$$\n",
    "\\gamma = \\textrm{Linear}(\\mathbf{q}) \\quad\\quad \\beta = \\textrm{Linear}(\\mathbf{q}).\n",
    "$$\n",
    "\n",
    "Both $\\gamma$ and $\\beta$ are vectors, with length equal to the number of feature maps (or channels) in the output of a convolutional layer $\\mathbf{h}$. These post-activations are then modulated via the feature-wise affine transformation:\n",
    "\n",
    "$$\n",
    "\\textrm{FiLM}(\\mathbf{h} | \\gamma, \\beta)_{h, w, c} = \\gamma_c \\mathbf{h}_{h, w, c} + \\beta_c,\n",
    "$$\n",
    "where the subscripts $h, w, c$ index the height, width and channel dimensions respectively.\n",
    "\n",
    "Create an instance of your custom layer class and test it on some dummy inputs to verify it works as expected.\n",
    "\n",
    "**(10 marks)**"
   ]
  },
  {
   "cell_type": "code",
   "execution_count": 25,
   "id": "dcc796e6",
   "metadata": {},
   "outputs": [],
   "source": [
    "#the output channels of the convolutional network is 128\n",
    "output_channels = 128\n",
    "class FiLM(Layer):\n",
    "    def __init__(self):\n",
    "        super().__init__()\n",
    "        #initialise the linear transformations so the weights can then be learned from this point onwards\n",
    "        #we only want the given term, not the bias too\n",
    "        self.dense_gamma = Dense(output_channels, name = \"gamma\", use_bias = False)\n",
    "        self.dense_beta = Dense(output_channels, name = \"beta\", use_bias = False)\n",
    "        \n",
    "        \n",
    "    def call(self,q,h):\n",
    "        gamma = self.dense_gamma(q)\n",
    "        beta = self.dense_beta(q)\n",
    "        #return broadcasted result, could have done [None, etc]\n",
    "        return tf.expand_dims(tf.expand_dims(gamma,1),1) * h + tf.expand_dims(tf.expand_dims(beta,1),1)\n",
    "        "
   ]
  },
  {
   "cell_type": "code",
   "execution_count": 26,
   "id": "65365654-5ddb-49b0-b914-ce3d05348e50",
   "metadata": {},
   "outputs": [],
   "source": [
    "film = FiLM()"
   ]
  },
  {
   "cell_type": "code",
   "execution_count": 27,
   "id": "27482d1a",
   "metadata": {},
   "outputs": [
    {
     "name": "stdout",
     "output_type": "stream",
     "text": [
      "tf.Tensor(\n",
      "[[[[-1.5297676e-03  1.4548779e-03 -2.8912562e-03 ...  3.8484016e-03\n",
      "     3.8770735e-03 -2.0585251e-03]\n",
      "   [-1.5391965e-03  1.4855154e-03 -2.8836324e-03 ...  3.5916632e-03\n",
      "     3.8752807e-03 -2.0585251e-03]\n",
      "   [-1.5394303e-03  1.4858138e-03 -2.8829353e-03 ...  3.5916632e-03\n",
      "     3.8752886e-03 -2.0585251e-03]\n",
      "   ...\n",
      "   [-1.5391156e-03  1.4754273e-03 -2.8822152e-03 ...  3.5916632e-03\n",
      "     3.8754176e-03 -2.0585251e-03]\n",
      "   [-1.5385026e-03  1.4737456e-03 -2.8820343e-03 ...  3.5916632e-03\n",
      "     3.8754072e-03 -2.0585251e-03]\n",
      "   [-1.5407258e-03  1.3723210e-03 -2.8774312e-03 ...  3.5916632e-03\n",
      "     3.8754065e-03 -2.0814657e-03]]\n",
      "\n",
      "  [[-1.5282510e-03  1.5564801e-03 -2.9149493e-03 ...  3.6613320e-03\n",
      "     3.8759487e-03 -2.0585251e-03]\n",
      "   [-1.5297990e-03  1.6767054e-03 -2.9374713e-03 ...  3.6196220e-03\n",
      "     3.8734151e-03 -2.0585251e-03]\n",
      "   [-1.5304107e-03  1.6773469e-03 -2.9386652e-03 ...  3.6210502e-03\n",
      "     3.8734025e-03 -2.0585251e-03]\n",
      "   ...\n",
      "   [-1.5294685e-03  1.6589693e-03 -2.9354061e-03 ...  3.6112389e-03\n",
      "     3.8736113e-03 -2.0585251e-03]\n",
      "   [-1.5296792e-03  1.6579942e-03 -2.9349476e-03 ...  3.6120559e-03\n",
      "     3.8736234e-03 -2.0585251e-03]\n",
      "   [-1.5346863e-03  1.5440059e-03 -2.8908921e-03 ...  3.5916632e-03\n",
      "     3.8752463e-03 -2.0840005e-03]]\n",
      "\n",
      "  [[-1.5282510e-03  1.5540486e-03 -2.9143516e-03 ...  3.6592456e-03\n",
      "     3.8759243e-03 -2.0585251e-03]\n",
      "   [-1.5299110e-03  1.6738197e-03 -2.9379439e-03 ...  3.6086624e-03\n",
      "     3.8734269e-03 -2.0585251e-03]\n",
      "   [-1.5299694e-03  1.6755802e-03 -2.9378738e-03 ...  3.6192311e-03\n",
      "     3.8734113e-03 -2.0585251e-03]\n",
      "   ...\n",
      "   [-1.5292810e-03  1.6603135e-03 -2.9351118e-03 ...  3.6114843e-03\n",
      "     3.8736202e-03 -2.0585251e-03]\n",
      "   [-1.5294617e-03  1.6574701e-03 -2.9358184e-03 ...  3.6071553e-03\n",
      "     3.8736269e-03 -2.0585251e-03]\n",
      "   [-1.5350967e-03  1.5429541e-03 -2.8910106e-03 ...  3.5916632e-03\n",
      "     3.8752665e-03 -2.0835649e-03]]\n",
      "\n",
      "  ...\n",
      "\n",
      "  [[-1.5282510e-03  1.5985963e-03 -2.9202309e-03 ...  3.6648642e-03\n",
      "     3.8756463e-03 -2.0585251e-03]\n",
      "   [-1.5301188e-03  1.7347410e-03 -2.9468583e-03 ...  3.6154813e-03\n",
      "     3.8727999e-03 -2.0585251e-03]\n",
      "   [-1.5299282e-03  1.7400703e-03 -2.9473153e-03 ...  3.6174203e-03\n",
      "     3.8727727e-03 -2.0585251e-03]\n",
      "   ...\n",
      "   [-1.5294646e-03  1.8644356e-03 -2.9678009e-03 ...  3.6142359e-03\n",
      "     3.8714595e-03 -2.0585251e-03]\n",
      "   [-1.5295872e-03  1.8585116e-03 -2.9664997e-03 ...  3.6140045e-03\n",
      "     3.8714930e-03 -2.0585251e-03]\n",
      "   [-1.5387957e-03  1.6844523e-03 -2.8993746e-03 ...  3.5916632e-03\n",
      "     3.8739233e-03 -2.0952276e-03]]\n",
      "\n",
      "  [[-1.5282510e-03  1.5961699e-03 -2.9205529e-03 ...  3.6697474e-03\n",
      "     3.8756623e-03 -2.0585251e-03]\n",
      "   [-1.5298667e-03  1.7352374e-03 -2.9469356e-03 ...  3.6179060e-03\n",
      "     3.8727950e-03 -2.0585251e-03]\n",
      "   [-1.5302341e-03  1.7383470e-03 -2.9473293e-03 ...  3.6164436e-03\n",
      "     3.8727515e-03 -2.0585251e-03]\n",
      "   ...\n",
      "   [-1.5292295e-03  1.8659013e-03 -2.9682969e-03 ...  3.6211766e-03\n",
      "     3.8714011e-03 -2.0585251e-03]\n",
      "   [-1.5294314e-03  1.8607962e-03 -2.9671509e-03 ...  3.6195940e-03\n",
      "     3.8714714e-03 -2.0585251e-03]\n",
      "   [-1.5388939e-03  1.6856445e-03 -2.8993569e-03 ...  3.5916632e-03\n",
      "     3.8739112e-03 -2.0952302e-03]]\n",
      "\n",
      "  [[-1.5368673e-03  1.4576416e-03 -2.8978917e-03 ...  3.5916632e-03\n",
      "     3.8760828e-03 -2.0585251e-03]\n",
      "   [-1.5282510e-03  1.5107861e-03 -2.9387902e-03 ...  3.5916632e-03\n",
      "     3.8745340e-03 -2.0678018e-03]\n",
      "   [-1.5282510e-03  1.5132414e-03 -2.9390571e-03 ...  3.5916632e-03\n",
      "     3.8745103e-03 -2.0678237e-03]\n",
      "   ...\n",
      "   [-1.5282510e-03  1.5805468e-03 -2.9577822e-03 ...  3.5916632e-03\n",
      "     3.8735538e-03 -2.0705324e-03]\n",
      "   [-1.5282510e-03  1.5780425e-03 -2.9568605e-03 ...  3.5916632e-03\n",
      "     3.8735867e-03 -2.0705103e-03]\n",
      "   [-1.5282510e-03  1.4879502e-03 -2.9176723e-03 ...  3.5916632e-03\n",
      "     3.8748786e-03 -2.0809984e-03]]]\n",
      "\n",
      "\n",
      " [[[-1.2611692e-03 -2.3486228e-03 -2.9651207e-04 ... -4.2850891e-04\n",
      "     9.5900223e-03  2.1532620e-04]\n",
      "   [-1.1839811e-03 -2.3532317e-03 -2.6608119e-04 ... -5.1438133e-04\n",
      "     9.7336182e-03  2.1532620e-04]\n",
      "   [-1.1826245e-03 -2.3531653e-03 -2.6349450e-04 ... -5.1438133e-04\n",
      "     9.7318199e-03  2.1532620e-04]\n",
      "   ...\n",
      "   [-1.1858610e-03 -2.3518230e-03 -2.5995303e-04 ... -5.1438133e-04\n",
      "     9.7232405e-03  2.1532620e-04]\n",
      "   [-1.1879851e-03 -2.3516680e-03 -2.6070565e-04 ... -5.1438133e-04\n",
      "     9.7233597e-03  2.1532620e-04]\n",
      "   [-1.1721872e-03 -2.3361810e-03 -2.4195062e-04 ... -5.1438133e-04\n",
      "     9.7235115e-03  4.4244615e-04]]\n",
      "\n",
      "  [[-1.2733761e-03 -2.3638848e-03 -3.9352116e-04 ... -4.9157935e-04\n",
      "     9.6807927e-03  2.1532620e-04]\n",
      "   [-1.2595798e-03 -2.3819548e-03 -4.8357347e-04 ... -5.0591573e-04\n",
      "     9.8835146e-03  2.1532620e-04]\n",
      "   [-1.2585833e-03 -2.3824866e-03 -4.8781736e-04 ... -5.0522306e-04\n",
      "     9.8845502e-03  2.1532620e-04]\n",
      "   ...\n",
      "   [-1.2624720e-03 -2.3798277e-03 -4.7619874e-04 ... -5.0871592e-04\n",
      "     9.8681264e-03  2.1532620e-04]\n",
      "   [-1.2635316e-03 -2.3796069e-03 -4.7460303e-04 ... -5.0713535e-04\n",
      "     9.8672602e-03  2.1532620e-04]\n",
      "   [-1.2217629e-03 -2.3622464e-03 -2.9641640e-04 ... -5.1438133e-04\n",
      "     9.7363433e-03  4.6611758e-04]]\n",
      "\n",
      "  [[-1.2733761e-03 -2.3636990e-03 -3.8871021e-04 ... -4.9175147e-04\n",
      "     9.6824057e-03  2.1532620e-04]\n",
      "   [-1.2606218e-03 -2.3820095e-03 -4.8624622e-04 ... -5.0943805e-04\n",
      "     9.8795891e-03  2.1532620e-04]\n",
      "   [-1.2631726e-03 -2.3820784e-03 -4.8350292e-04 ... -5.0612009e-04\n",
      "     9.8836273e-03  2.1532620e-04]\n",
      "   ...\n",
      "   [-1.2641269e-03 -2.3799709e-03 -4.7362276e-04 ... -5.0734647e-04\n",
      "     9.8673757e-03  2.1532620e-04]\n",
      "   [-1.2648588e-03 -2.3793606e-03 -4.7721440e-04 ... -5.0959818e-04\n",
      "     9.8657971e-03  2.1532620e-04]\n",
      "   [-1.2193394e-03 -2.3620548e-03 -2.9566785e-04 ... -5.1438133e-04\n",
      "     9.7359028e-03  4.6274971e-04]]\n",
      "\n",
      "  ...\n",
      "\n",
      "  [[-1.2733761e-03 -2.3708094e-03 -4.1757355e-04 ... -4.9063866e-04\n",
      "     9.7061498e-03  2.1532620e-04]\n",
      "   [-1.2597187e-03 -2.3918021e-03 -5.2136899e-04 ... -5.0486316e-04\n",
      "     9.9353818e-03  2.1532620e-04]\n",
      "   [-1.2592620e-03 -2.3924299e-03 -5.2760949e-04 ... -5.0661067e-04\n",
      "     9.9398131e-03  2.1532620e-04]\n",
      "   ...\n",
      "   [-1.2650719e-03 -2.4121900e-03 -6.0994062e-04 ... -5.0484680e-04\n",
      "     1.0050901e-02  2.1532620e-04]\n",
      "   [-1.2634152e-03 -2.4110950e-03 -6.0504372e-04 ... -5.0656853e-04\n",
      "     1.0046675e-02  2.1532620e-04]\n",
      "   [-1.1861929e-03 -2.3840021e-03 -3.2911167e-04 ... -5.1438133e-04\n",
      "     9.8460903e-03  5.7982007e-04]]\n",
      "\n",
      "  [[-1.2733761e-03 -2.3705033e-03 -4.1691455e-04 ... -4.8783026e-04\n",
      "     9.7046075e-03  2.1532620e-04]\n",
      "   [-1.2603176e-03 -2.3917127e-03 -5.2370061e-04 ... -5.0562038e-04\n",
      "     9.9348612e-03  2.1532620e-04]\n",
      "   [-1.2578761e-03 -2.3923982e-03 -5.2894250e-04 ... -5.0624978e-04\n",
      "     9.9409129e-03  2.1532620e-04]\n",
      "   ...\n",
      "   [-1.2616253e-03 -2.4130773e-03 -6.1400165e-04 ... -5.0591817e-04\n",
      "     1.0056984e-02  2.1532620e-04]\n",
      "   [-1.2600541e-03 -2.4117730e-03 -6.0893950e-04 ... -5.0582481e-04\n",
      "     1.0048968e-02  2.1532620e-04]\n",
      "   [-1.1824197e-03 -2.3846284e-03 -3.2906994e-04 ... -5.1438133e-04\n",
      "     9.8482631e-03  5.8255647e-04]]\n",
      "\n",
      "  [[-1.2038338e-03 -2.3493452e-03 -3.2669044e-04 ... -5.1438133e-04\n",
      "     9.6697323e-03  2.1532620e-04]\n",
      "   [-1.2733761e-03 -2.3575532e-03 -4.9137889e-04 ... -5.1438133e-04\n",
      "     9.7949551e-03  3.0826434e-04]\n",
      "   [-1.2733761e-03 -2.3577823e-03 -4.9206754e-04 ... -5.1438133e-04\n",
      "     9.7973030e-03  3.0955049e-04]\n",
      "   ...\n",
      "   [-1.2733761e-03 -2.3687715e-03 -5.7320687e-04 ... -5.1438133e-04\n",
      "     9.8808426e-03  3.3924729e-04]\n",
      "   [-1.2733761e-03 -2.3680965e-03 -5.6933187e-04 ... -5.1438133e-04\n",
      "     9.8772077e-03  3.3779338e-04]\n",
      "   [-1.2733761e-03 -2.3539315e-03 -4.0669774e-04 ... -5.1438133e-04\n",
      "     9.7696837e-03  4.4020606e-04]]]\n",
      "\n",
      "\n",
      " [[[-3.9560327e-05 -4.0125968e-03 -8.2301069e-03 ... -2.7500782e-03\n",
      "     1.2329652e-03 -3.2277107e-03]\n",
      "   [-1.1575481e-05 -3.9817458e-03 -8.1996443e-03 ... -2.8239549e-03\n",
      "     1.6266375e-03 -3.2277107e-03]\n",
      "   [-1.1799537e-05 -3.9818212e-03 -8.1942864e-03 ... -2.8239549e-03\n",
      "     1.6222943e-03 -3.2277107e-03]\n",
      "   ...\n",
      "   [-1.3219122e-05 -3.9889282e-03 -8.1934901e-03 ... -2.8239549e-03\n",
      "     1.5986790e-03 -3.2277107e-03]\n",
      "   [-1.3411396e-05 -3.9905040e-03 -8.1934547e-03 ... -2.8239549e-03\n",
      "     1.6036563e-03 -3.2277107e-03]\n",
      "   [-6.5953027e-06 -4.0993690e-03 -8.1729135e-03 ... -2.8239549e-03\n",
      "     1.5971545e-03 -3.3805617e-03]]\n",
      "\n",
      "  [[-4.3471635e-05 -3.9061515e-03 -8.3299028e-03 ... -2.8055082e-03\n",
      "     1.4794387e-03 -3.2277107e-03]\n",
      "   [-3.8654096e-05 -3.7821096e-03 -8.4206164e-03 ... -2.8168424e-03\n",
      "     2.0352898e-03 -3.2277107e-03]\n",
      "   [-3.7043028e-05 -3.7796851e-03 -8.4275538e-03 ... -2.8157099e-03\n",
      "     2.0332402e-03 -3.2277107e-03]\n",
      "   ...\n",
      "   [-4.0145704e-05 -3.7954152e-03 -8.4152017e-03 ... -2.8167958e-03\n",
      "     1.9976397e-03 -3.2277107e-03]\n",
      "   [-4.0480234e-05 -3.7958594e-03 -8.4146094e-03 ... -2.8184815e-03\n",
      "     1.9948401e-03 -3.2277107e-03]\n",
      "   [-2.5152574e-05 -3.9166575e-03 -8.2308929e-03 ... -2.8239549e-03\n",
      "     1.6330956e-03 -3.3958764e-03]]\n",
      "\n",
      "  [[-4.3471635e-05 -3.9082658e-03 -8.3267605e-03 ... -2.8039417e-03\n",
      "     1.4856395e-03 -3.2277107e-03]\n",
      "   [-3.8050715e-05 -3.7822111e-03 -8.4252041e-03 ... -2.8185870e-03\n",
      "     2.0283333e-03 -3.2277107e-03]\n",
      "   [-3.8684801e-05 -3.7811673e-03 -8.4245848e-03 ... -2.8167220e-03\n",
      "     2.0344988e-03 -3.2277107e-03]\n",
      "   ...\n",
      "   [-3.8733211e-05 -3.7953164e-03 -8.4160045e-03 ... -2.8158969e-03\n",
      "     1.9923705e-03 -3.2277107e-03]\n",
      "   [-4.0108051e-05 -3.7984662e-03 -8.4147379e-03 ... -2.8179095e-03\n",
      "     1.9960597e-03 -3.2277107e-03]\n",
      "   [-2.4901907e-05 -3.9189016e-03 -8.2300855e-03 ... -2.8239549e-03\n",
      "     1.6313232e-03 -3.3937932e-03]]\n",
      "\n",
      "  ...\n",
      "\n",
      "  [[-4.3471635e-05 -3.8628897e-03 -8.3523998e-03 ... -2.8035247e-03\n",
      "     1.5435717e-03 -3.2277107e-03]\n",
      "   [-3.8268714e-05 -3.7191177e-03 -8.4609725e-03 ... -2.8170035e-03\n",
      "     2.1652735e-03 -3.2277107e-03]\n",
      "   [-3.8678372e-05 -3.7132041e-03 -8.4642014e-03 ... -2.8172513e-03\n",
      "     2.1718466e-03 -3.2277107e-03]\n",
      "   ...\n",
      "   [-3.9805174e-05 -3.5403303e-03 -8.5746637e-03 ... -2.8179360e-03\n",
      "     2.5541489e-03 -3.2277107e-03]\n",
      "   [-3.9608196e-05 -3.5476994e-03 -8.5679330e-03 ... -2.8169784e-03\n",
      "     2.5447044e-03 -3.2277107e-03]\n",
      "   [-1.1330954e-05 -3.7437428e-03 -8.2701780e-03 ... -2.8239549e-03\n",
      "     1.9805285e-03 -3.4849574e-03]]\n",
      "\n",
      "  [[-4.3471635e-05 -3.8642534e-03 -8.3505213e-03 ... -2.8020281e-03\n",
      "     1.5427014e-03 -3.2277107e-03]\n",
      "   [-3.8285034e-05 -3.7192302e-03 -8.4619951e-03 ... -2.8181979e-03\n",
      "     2.1639802e-03 -3.2277107e-03]\n",
      "   [-3.8842358e-05 -3.7142434e-03 -8.4653115e-03 ... -2.8170715e-03\n",
      "     2.1775353e-03 -3.2277107e-03]\n",
      "   ...\n",
      "   [-4.0934734e-05 -3.5395576e-03 -8.5750110e-03 ... -2.8174324e-03\n",
      "     2.5613261e-03 -3.2277107e-03]\n",
      "   [-4.0361789e-05 -3.5439134e-03 -8.5719610e-03 ... -2.8176748e-03\n",
      "     2.5473358e-03 -3.2277107e-03]\n",
      "   [-1.0203443e-05 -3.7391796e-03 -8.2715293e-03 ... -2.8239549e-03\n",
      "     1.9784721e-03 -3.4859923e-03]]\n",
      "\n",
      "  [[-1.9709372e-05 -4.0091132e-03 -8.2609784e-03 ... -2.8239549e-03\n",
      "     1.4469121e-03 -3.2277107e-03]\n",
      "   [-4.3471635e-05 -3.9545400e-03 -8.4284451e-03 ... -2.8239549e-03\n",
      "     1.7865475e-03 -3.2890760e-03]\n",
      "   [-4.3471635e-05 -3.9509302e-03 -8.4319934e-03 ... -2.8239549e-03\n",
      "     1.7925850e-03 -3.2925350e-03]\n",
      "   ...\n",
      "   [-4.3471635e-05 -3.8576047e-03 -8.5299704e-03 ... -2.8239549e-03\n",
      "     2.0639754e-03 -3.3139898e-03]\n",
      "   [-4.3471635e-05 -3.8627244e-03 -8.5255383e-03 ... -2.8239549e-03\n",
      "     2.0556045e-03 -3.3121358e-03]\n",
      "   [-4.3471635e-05 -3.9620176e-03 -8.3497940e-03 ... -2.8239549e-03\n",
      "     1.7529519e-03 -3.3854246e-03]]]\n",
      "\n",
      "\n",
      " ...\n",
      "\n",
      "\n",
      " [[[-5.2793967e-03 -5.0328188e-03 -3.1448852e-03 ...  1.0187089e-03\n",
      "    -3.3752378e-03 -2.3653517e-03]\n",
      "   [-5.2928221e-03 -4.9868827e-03 -3.1458114e-03 ...  7.3524821e-04\n",
      "    -3.1494037e-03 -2.3653517e-03]\n",
      "   [-5.2926601e-03 -4.9858890e-03 -3.1459709e-03 ...  7.3524821e-04\n",
      "    -3.1488228e-03 -2.3653517e-03]\n",
      "   ...\n",
      "   [-5.2920692e-03 -4.9925046e-03 -3.1459839e-03 ...  7.3524821e-04\n",
      "    -3.1629156e-03 -2.3653517e-03]\n",
      "   [-5.2924114e-03 -4.9961978e-03 -3.1459804e-03 ...  7.3524821e-04\n",
      "    -3.1616613e-03 -2.3653517e-03]\n",
      "   [-5.2952333e-03 -5.1557897e-03 -3.1466377e-03 ...  7.3524821e-04\n",
      "    -3.1618110e-03 -2.3018662e-03]]\n",
      "\n",
      "  [[-5.2771862e-03 -4.8763929e-03 -3.1417024e-03 ...  8.0590154e-04\n",
      "    -3.2319766e-03 -2.3653517e-03]\n",
      "   [-5.2795927e-03 -4.6927063e-03 -3.1388872e-03 ...  7.6428143e-04\n",
      "    -2.9116035e-03 -2.3653517e-03]\n",
      "   [-5.2797846e-03 -4.6929405e-03 -3.1386062e-03 ...  7.6669897e-04\n",
      "    -2.9106080e-03 -2.3653517e-03]\n",
      "   ...\n",
      "   [-5.2785836e-03 -4.7132592e-03 -3.1390407e-03 ...  7.6141977e-04\n",
      "    -2.9294118e-03 -2.3653517e-03]\n",
      "   [-5.2794465e-03 -4.7122091e-03 -3.1390558e-03 ...  7.5947255e-04\n",
      "    -2.9313588e-03 -2.3653517e-03]\n",
      "   [-5.2861315e-03 -4.8899851e-03 -3.1448654e-03 ...  7.3524821e-04\n",
      "    -3.1424281e-03 -2.2955679e-03]]\n",
      "\n",
      "  [[-5.2771862e-03 -4.8781629e-03 -3.1418626e-03 ...  8.1002642e-04\n",
      "    -3.2289417e-03 -2.3653517e-03]\n",
      "   [-5.2793962e-03 -4.6946639e-03 -3.1387683e-03 ...  7.6121197e-04\n",
      "    -2.9154592e-03 -2.3653517e-03]\n",
      "   [-5.2793380e-03 -4.6907444e-03 -3.1387585e-03 ...  7.6764188e-04\n",
      "    -2.9110340e-03 -2.3653517e-03]\n",
      "   ...\n",
      "   [-5.2792630e-03 -4.7100624e-03 -3.1390365e-03 ...  7.5947645e-04\n",
      "    -2.9330121e-03 -2.3653517e-03]\n",
      "   [-5.2788192e-03 -4.7153439e-03 -3.1390295e-03 ...  7.5457006e-04\n",
      "    -2.9322510e-03 -2.3653517e-03]\n",
      "   [-5.2863248e-03 -4.8917104e-03 -3.1448696e-03 ...  7.3524821e-04\n",
      "    -3.1448312e-03 -2.2965476e-03]]\n",
      "\n",
      "  ...\n",
      "\n",
      "  [[-5.2771862e-03 -4.8154597e-03 -3.1410442e-03 ...  8.1160327e-04\n",
      "    -3.1971638e-03 -2.3653517e-03]\n",
      "   [-5.2795685e-03 -4.6049361e-03 -3.1376686e-03 ...  7.5855630e-04\n",
      "    -2.8400505e-03 -2.3653517e-03]\n",
      "   [-5.2791531e-03 -4.6035340e-03 -3.1376281e-03 ...  7.6129352e-04\n",
      "    -2.8377394e-03 -2.3653517e-03]\n",
      "   ...\n",
      "   [-5.2786693e-03 -4.3863440e-03 -3.1346737e-03 ...  7.6115993e-04\n",
      "    -2.6517273e-03 -2.3653517e-03]\n",
      "   [-5.2787061e-03 -4.3952656e-03 -3.1347719e-03 ...  7.6146884e-04\n",
      "    -2.6577443e-03 -2.3653517e-03]\n",
      "   [-5.2920268e-03 -4.6681464e-03 -3.1437236e-03 ...  7.3524821e-04\n",
      "    -2.9693963e-03 -2.2641795e-03]]\n",
      "\n",
      "  [[-5.2771862e-03 -4.8197377e-03 -3.1411003e-03 ...  8.1802055e-04\n",
      "    -3.1979673e-03 -2.3653517e-03]\n",
      "   [-5.2793273e-03 -4.6085557e-03 -3.1377098e-03 ...  7.6166861e-04\n",
      "    -2.8426901e-03 -2.3653517e-03]\n",
      "   [-5.2792495e-03 -4.6028052e-03 -3.1376109e-03 ...  7.6289201e-04\n",
      "    -2.8368169e-03 -2.3653517e-03]\n",
      "   ...\n",
      "   [-5.2785403e-03 -4.3889638e-03 -3.1346856e-03 ...  7.6512195e-04\n",
      "    -2.6496989e-03 -2.3653517e-03]\n",
      "   [-5.2789017e-03 -4.3937899e-03 -3.1348160e-03 ...  7.6460670e-04\n",
      "    -2.6575646e-03 -2.3653517e-03]\n",
      "   [-5.2926261e-03 -4.6678195e-03 -3.1437261e-03 ...  7.3524821e-04\n",
      "    -2.9715656e-03 -2.2637572e-03]]\n",
      "\n",
      "  [[-5.2890596e-03 -5.0279251e-03 -3.1439099e-03 ...  7.3524821e-04\n",
      "    -3.2526061e-03 -2.3653517e-03]\n",
      "   [-5.2771862e-03 -4.9468181e-03 -3.1386882e-03 ...  7.3524821e-04\n",
      "    -3.0593409e-03 -2.3395980e-03]\n",
      "   [-5.2771862e-03 -4.9453387e-03 -3.1386469e-03 ...  7.3524821e-04\n",
      "    -3.0548149e-03 -2.3396637e-03]\n",
      "   ...\n",
      "   [-5.2771862e-03 -4.8308149e-03 -3.1360299e-03 ...  7.3524821e-04\n",
      "    -2.9232986e-03 -2.3314818e-03]\n",
      "   [-5.2771862e-03 -4.8341979e-03 -3.1361030e-03 ...  7.3524821e-04\n",
      "    -2.9273839e-03 -2.3318441e-03]\n",
      "   [-5.2771862e-03 -4.9778833e-03 -3.1413722e-03 ...  7.3524821e-04\n",
      "    -3.0961023e-03 -2.3036900e-03]]]\n",
      "\n",
      "\n",
      " [[[-1.0587545e-03  1.1936368e-03  2.2204975e-03 ...  5.2688277e-04\n",
      "    -6.1183423e-04 -5.9504528e-05]\n",
      "   [-1.0573928e-03  1.2089662e-03  2.2022752e-03 ...  6.3014380e-04\n",
      "    -6.3626544e-04 -5.9504528e-05]\n",
      "   [-1.0573553e-03  1.2093346e-03  2.1990531e-03 ...  6.3014380e-04\n",
      "    -6.3605158e-04 -5.9504528e-05]\n",
      "   ...\n",
      "   [-1.0573841e-03  1.2050503e-03  2.1981320e-03 ...  6.3014380e-04\n",
      "    -6.3474965e-04 -5.9504528e-05]\n",
      "   [-1.0573609e-03  1.2043450e-03  2.1995483e-03 ...  6.3014380e-04\n",
      "    -6.3465687e-04 -5.9504528e-05]\n",
      "   [-1.0571163e-03  1.1533457e-03  2.1871708e-03 ...  6.3014380e-04\n",
      "    -6.3458941e-04 -5.3917545e-05]]\n",
      "\n",
      "  [[-1.0589755e-03  1.2449783e-03  2.2798723e-03 ...  6.0325756e-04\n",
      "    -6.2743510e-04 -5.9504528e-05]\n",
      "   [-1.0587339e-03  1.3036412e-03  2.3331209e-03 ...  6.2065996e-04\n",
      "    -6.6187087e-04 -5.9504528e-05]\n",
      "   [-1.0587247e-03  1.3050619e-03  2.3376783e-03 ...  6.1967893e-04\n",
      "    -6.6179392e-04 -5.9504528e-05]\n",
      "   ...\n",
      "   [-1.0587919e-03  1.2974178e-03  2.3306378e-03 ...  6.2115607e-04\n",
      "    -6.5962930e-04 -5.9504528e-05]\n",
      "   [-1.0588075e-03  1.2971433e-03  2.3295709e-03 ...  6.1994279e-04\n",
      "    -6.5930880e-04 -5.9504528e-05]\n",
      "   [-1.0580703e-03  1.2394415e-03  2.2202395e-03 ...  6.3014380e-04\n",
      "    -6.3713308e-04 -5.3347969e-05]]\n",
      "\n",
      "  [[-1.0589755e-03  1.2435400e-03  2.2771540e-03 ...  6.0233491e-04\n",
      "    -6.2755652e-04 -5.9504528e-05]\n",
      "   [-1.0587439e-03  1.3031440e-03  2.3352534e-03 ...  6.2424340e-04\n",
      "    -6.6116755e-04 -5.9504528e-05]\n",
      "   [-1.0587623e-03  1.3037388e-03  2.3337146e-03 ...  6.1884412e-04\n",
      "    -6.6156127e-04 -5.9504528e-05]\n",
      "   ...\n",
      "   [-1.0587496e-03  1.2983114e-03  2.3297127e-03 ...  6.2075036e-04\n",
      "    -6.5912853e-04 -5.9504528e-05]\n",
      "   [-1.0588104e-03  1.2962942e-03  2.3300541e-03 ...  6.2313804e-04\n",
      "    -6.5937836e-04 -5.9504528e-05]\n",
      "   [-1.0579840e-03  1.2389582e-03  2.2202339e-03 ...  6.3014380e-04\n",
      "    -6.3680566e-04 -5.3454864e-05]]\n",
      "\n",
      "  ...\n",
      "\n",
      "  [[-1.0589755e-03  1.2592825e-03  2.2889895e-03 ...  6.0113840e-04\n",
      "    -6.3023745e-04 -5.9504528e-05]\n",
      "   [-1.0587260e-03  1.3259624e-03  2.3508321e-03 ...  6.1958580e-04\n",
      "    -6.6786690e-04 -5.9504528e-05]\n",
      "   [-1.0587752e-03  1.3275456e-03  2.3527404e-03 ...  6.2066817e-04\n",
      "    -6.6816772e-04 -5.9504528e-05]\n",
      "   ...\n",
      "   [-1.0587656e-03  1.4169726e-03  2.4216962e-03 ...  6.1805651e-04\n",
      "    -6.9410750e-04 -5.9504528e-05]\n",
      "   [-1.0587806e-03  1.4146033e-03  2.4186997e-03 ...  6.1916572e-04\n",
      "    -6.9347996e-04 -5.9504528e-05]\n",
      "   [-1.0572468e-03  1.3218689e-03  2.2437319e-03 ...  6.3014380e-04\n",
      "    -6.5818272e-04 -5.0143011e-05]]\n",
      "\n",
      "  [[-1.0589755e-03  1.2596804e-03  2.2885392e-03 ...  5.9909001e-04\n",
      "    -6.3029857e-04 -5.9504528e-05]\n",
      "   [-1.0587133e-03  1.3265384e-03  2.3517648e-03 ...  6.1919633e-04\n",
      "    -6.6744373e-04 -5.9504528e-05]\n",
      "   [-1.0587070e-03  1.3280158e-03  2.3525837e-03 ...  6.2152429e-04\n",
      "    -6.6849508e-04 -5.9504528e-05]\n",
      "   ...\n",
      "   [-1.0586969e-03  1.4218250e-03  2.4239954e-03 ...  6.1753124e-04\n",
      "    -6.9513283e-04 -5.9504528e-05]\n",
      "   [-1.0587326e-03  1.4182846e-03  2.4224608e-03 ...  6.1704568e-04\n",
      "    -6.9435401e-04 -5.9504528e-05]\n",
      "   [-1.0572053e-03  1.3242643e-03  2.2438578e-03 ...  6.3014380e-04\n",
      "    -6.5889047e-04 -5.0053488e-05]]\n",
      "\n",
      "  [[-1.0577529e-03  1.1919270e-03  2.2363851e-03 ...  6.3014380e-04\n",
      "    -6.2434952e-04 -5.9504528e-05]\n",
      "   [-1.0589755e-03  1.2178756e-03  2.3328238e-03 ...  6.3014380e-04\n",
      "    -6.4481987e-04 -5.7315086e-05]\n",
      "   [-1.0589755e-03  1.2185578e-03  2.3333586e-03 ...  6.3014380e-04\n",
      "    -6.4535486e-04 -5.7291392e-05]\n",
      "   ...\n",
      "   [-1.0589755e-03  1.2691872e-03  2.3993077e-03 ...  6.3014380e-04\n",
      "    -6.6438847e-04 -5.6355988e-05]\n",
      "   [-1.0589755e-03  1.2669443e-03  2.3969982e-03 ...  6.3014380e-04\n",
      "    -6.6383195e-04 -5.6417604e-05]\n",
      "   [-1.0589755e-03  1.2182186e-03  2.2927430e-03 ...  6.3014380e-04\n",
      "    -6.4503017e-04 -5.3674456e-05]]]\n",
      "\n",
      "\n",
      " [[[ 2.6592685e-04 -4.6623766e-04 -5.4499363e-03 ...  1.5395281e-03\n",
      "     6.8870527e-03  6.7652948e-04]\n",
      "   [ 2.2275117e-04 -4.7621550e-04 -5.4042735e-03 ...  1.4321710e-03\n",
      "     7.3021008e-03  6.7652948e-04]\n",
      "   [ 2.2058209e-04 -4.7618215e-04 -5.3975498e-03 ...  1.4321710e-03\n",
      "     7.2977464e-03  6.7652948e-04]\n",
      "   ...\n",
      "   [ 2.2266858e-04 -4.7291256e-04 -5.3940993e-03 ...  1.4321710e-03\n",
      "     7.2734323e-03  6.7652948e-04]\n",
      "   [ 2.2489653e-04 -4.7257394e-04 -5.3936858e-03 ...  1.4321710e-03\n",
      "     7.2745588e-03  6.7652948e-04]\n",
      "   [ 2.1453021e-04 -4.3968880e-04 -5.3643053e-03 ...  1.4321710e-03\n",
      "     7.2745495e-03  5.3519488e-04]]\n",
      "\n",
      "  [[ 2.7353049e-04 -4.9877458e-04 -5.6006811e-03 ...  1.4619782e-03\n",
      "     7.1497532e-03  6.7652948e-04]\n",
      "   [ 2.6557312e-04 -5.3672824e-04 -5.7445480e-03 ...  1.4422475e-03\n",
      "     7.7416096e-03  6.7652948e-04]\n",
      "   [ 2.6758638e-04 -5.3727796e-04 -5.7506617e-03 ...  1.4440488e-03\n",
      "     7.7424170e-03  6.7652948e-04]\n",
      "   ...\n",
      "   [ 2.6737826e-04 -5.3165533e-04 -5.7286276e-03 ...  1.4405103e-03\n",
      "     7.6949806e-03  6.7652948e-04]\n",
      "   [ 2.6720724e-04 -5.3116278e-04 -5.7268944e-03 ...  1.4419655e-03\n",
      "     7.6931245e-03  6.7652948e-04]\n",
      "   [ 2.4273372e-04 -4.9523782e-04 -5.4487484e-03 ...  1.4321710e-03\n",
      "     7.3123840e-03  5.1995547e-04]]\n",
      "\n",
      "  [[ 2.7353049e-04 -4.9830403e-04 -5.5949413e-03 ...  1.4607953e-03\n",
      "     7.1559469e-03  6.7652948e-04]\n",
      "   [ 2.6563471e-04 -5.3722336e-04 -5.7492084e-03 ...  1.4401793e-03\n",
      "     7.7350498e-03  6.7652948e-04]\n",
      "   [ 2.6460784e-04 -5.3685840e-04 -5.7428107e-03 ...  1.4429594e-03\n",
      "     7.7382219e-03  6.7652948e-04]\n",
      "   ...\n",
      "   [ 2.6757017e-04 -5.3236249e-04 -5.7321661e-03 ...  1.4416162e-03\n",
      "     7.6968079e-03  6.7652948e-04]\n",
      "   [ 2.6805676e-04 -5.3123571e-04 -5.7317261e-03 ...  1.4396167e-03\n",
      "     7.6937885e-03  6.7652948e-04]\n",
      "   [ 2.4252207e-04 -4.9486465e-04 -5.4499563e-03 ...  1.4321710e-03\n",
      "     7.3085721e-03  5.2282563e-04]]\n",
      "\n",
      "  ...\n",
      "\n",
      "  [[ 2.7353049e-04 -5.1426078e-04 -5.6420015e-03 ...  1.4639969e-03\n",
      "     7.2288853e-03  6.7652948e-04]\n",
      "   [ 2.6453938e-04 -5.5890199e-04 -5.8111595e-03 ...  1.4428643e-03\n",
      "     7.9048295e-03  6.7652948e-04]\n",
      "   [ 2.6495304e-04 -5.6017714e-04 -5.8120289e-03 ...  1.4425010e-03\n",
      "     7.9106595e-03  6.7652948e-04]\n",
      "   ...\n",
      "   [ 2.6796176e-04 -5.8374403e-04 -5.8930237e-03 ...  1.4423896e-03\n",
      "     8.0965217e-03  6.7652948e-04]\n",
      "   [ 2.6731100e-04 -5.8305898e-04 -5.8882865e-03 ...  1.4426345e-03\n",
      "     8.0911554e-03  6.7652948e-04]\n",
      "   [ 2.2730978e-04 -5.3128385e-04 -5.4907501e-03 ...  1.4321710e-03\n",
      "     7.5619123e-03  4.6443829e-04]]\n",
      "\n",
      "  [[ 2.7353049e-04 -5.1376934e-04 -5.6409431e-03 ...  1.4636965e-03\n",
      "     7.2286092e-03  6.7652948e-04]\n",
      "   [ 2.6661027e-04 -5.5862922e-04 -5.8090356e-03 ...  1.4411097e-03\n",
      "     7.9036308e-03  6.7652948e-04]\n",
      "   [ 2.6397486e-04 -5.5966596e-04 -5.8135255e-03 ...  1.4440024e-03\n",
      "     7.9114214e-03  6.7652948e-04]\n",
      "   ...\n",
      "   [ 2.6743792e-04 -5.8463286e-04 -5.8955215e-03 ...  1.4426326e-03\n",
      "     8.1023648e-03  6.7652948e-04]\n",
      "   [ 2.6531520e-04 -5.8376550e-04 -5.8893031e-03 ...  1.4438413e-03\n",
      "     8.0951266e-03  6.7652948e-04]\n",
      "   [ 2.2600219e-04 -5.3170562e-04 -5.4908847e-03 ...  1.4321710e-03\n",
      "     7.5592482e-03  4.6405417e-04]]\n",
      "\n",
      "  [[ 2.3228367e-04 -4.6864944e-04 -5.4984945e-03 ...  1.4321710e-03\n",
      "     7.1253297e-03  6.7652948e-04]\n",
      "   [ 2.7353049e-04 -4.8593659e-04 -5.7558352e-03 ...  1.4321710e-03\n",
      "     7.4874591e-03  6.1704405e-04]\n",
      "   [ 2.7353049e-04 -4.8658974e-04 -5.7576150e-03 ...  1.4321710e-03\n",
      "     7.4967491e-03  6.1658683e-04]\n",
      "   ...\n",
      "   [ 2.7353049e-04 -4.9934757e-04 -5.8348156e-03 ...  1.4321710e-03\n",
      "     7.6341191e-03  6.0721481e-04]\n",
      "   [ 2.7353049e-04 -4.9870368e-04 -5.8295657e-03 ...  1.4321710e-03\n",
      "     7.6309019e-03  6.0734781e-04]\n",
      "   [ 2.7353049e-04 -4.7140705e-04 -5.6002503e-03 ...  1.4321710e-03\n",
      "     7.3462520e-03  5.4781564e-04]]]], shape=(64, 56, 56, 128), dtype=float32)\n"
     ]
    },
    {
     "data": {
      "text/plain": [
       "TensorShape([64, 56, 56, 128])"
      ]
     },
     "execution_count": 27,
     "metadata": {},
     "output_type": "execute_result"
    }
   ],
   "source": [
    "#take dummy data\n",
    "#take the first example batch for each\n",
    "for ele in train_ds.take(1):\n",
    "    inputs, outputs = ele\n",
    "\n",
    "print(film(gru_network(inputs[0]),cnn_feature_extractor(inputs[1])))\n",
    "film(gru_network(inputs[0]), cnn_feature_extractor(inputs[1])).shape\n",
    "#this gives us the shape that we expect"
   ]
  },
  {
   "cell_type": "markdown",
   "id": "51fee9b3-93e3-42dc-bb78-3508871ebe8f",
   "metadata": {},
   "source": [
    "d) The second main block of the CNN network consists of a number of ResBlocks. Each ResBlock consists of the following layers:\n",
    "\n",
    "<center><img src=\"figures/resblock.png\" alt=\"ResBlock\" style=\"width: 150px;\"/></center>\n",
    "\n",
    "\n",
    "* A 1x1 convolutional layer with 128 channels and ReLU activation function\n",
    "* A 3x3 convolutional layer with 128 channels and no activation function\n",
    "* A BatchNormalization layer, where the usual $\\gamma$ and $\\beta$ parameters are not used\n",
    "* a FiLM layer, that also uses the conditioning signal $\\mathbf{q}$ from the GRU network\n",
    "* An elementwise ReLU activation function\n",
    "* The output is then added to the output of the first convolutional layer\n",
    "\n",
    "Each convolutional layer uses 'SAME' padding.\n",
    "\n",
    "Implement the ResBlock as another custom layer. Similar to the FiLM layer, this layer will also need to take two inputs when it is called: the conditioning signal $\\mathbf{q}$, as well as the previous convolutional layer output $\\mathbf{h}$. \n",
    "\n",
    "Create an instance of your custom layer class and test it on some dummy inputs to verify it works as expected.\n",
    "\n",
    "**(8 marks)**"
   ]
  },
  {
   "cell_type": "code",
   "execution_count": 28,
   "id": "04463e72-abf5-45ad-b1c7-52faf3efad90",
   "metadata": {},
   "outputs": [],
   "source": [
    "class ResBlock(Layer):\n",
    "    def __init__(self):\n",
    "        super().__init__()\n",
    "        #dont need to give conv the input dimension\n",
    "        self.conv1 = Conv2D(128, (1,1), activation = \"relu\", padding = \"same\")\n",
    "        self.conv2 = Conv2D(128,(3,3), padding = \"same\")\n",
    "        #turn the bn parameters off for the bn layer preceeding the film layer\n",
    "        self.bn = BatchNormalization(center = False, scale = False)\n",
    "        self.film = FiLM()\n",
    "        self.relu = Activation(\"relu\")\n",
    "    def call(self, q, h):\n",
    "        #send the inputs forward, noting that the first convolutional layer is defined with Relu\n",
    "        h = self.conv1(h)\n",
    "        #save the output of the first convolutional layer for later\n",
    "        conv1_h = h\n",
    "        #proceed forward\n",
    "        h = self.conv2(h)\n",
    "        h = self.bn(h)\n",
    "        h = self.film(q,h)\n",
    "        h = self.relu(h)\n",
    "        #now combine \n",
    "        h = h + conv1_h\n",
    "        return h"
   ]
  },
  {
   "cell_type": "code",
   "execution_count": 29,
   "id": "7494edb1-6826-496d-9782-3ee1f9317abe",
   "metadata": {},
   "outputs": [
    {
     "name": "stdout",
     "output_type": "stream",
     "text": [
      "tf.Tensor(\n",
      "[[[[1.82579607e-02 0.00000000e+00 6.15369380e-02 ... 2.69422717e-02\n",
      "    1.32816741e-02 4.86052409e-03]\n",
      "   [2.01695357e-02 0.00000000e+00 7.56827146e-02 ... 1.76776610e-02\n",
      "    3.13546695e-02 9.05271620e-03]\n",
      "   [2.03538500e-02 0.00000000e+00 7.61033222e-02 ... 1.77850872e-02\n",
      "    3.15513648e-02 9.13736876e-03]\n",
      "   ...\n",
      "   [1.93643384e-02 0.00000000e+00 7.35746622e-02 ... 1.70008913e-02\n",
      "    3.05101257e-02 8.97243991e-03]\n",
      "   [1.92625057e-02 0.00000000e+00 7.38957524e-02 ... 1.66991670e-02\n",
      "    3.02725211e-02 9.12921410e-03]\n",
      "   [4.24313024e-02 0.00000000e+00 7.97998458e-02 ... 3.81249329e-03\n",
      "    4.09345552e-02 3.28225419e-02]]\n",
      "\n",
      "  [[4.12435047e-02 0.00000000e+00 6.74987510e-02 ... 1.43214613e-02\n",
      "    2.89864913e-02 4.82052378e-03]\n",
      "   [4.89866734e-02 0.00000000e+00 6.57356232e-02 ... 8.85203760e-03\n",
      "    4.70896550e-02 4.80000442e-03]\n",
      "   [4.90169823e-02 0.00000000e+00 6.54086545e-02 ... 9.14334413e-03\n",
      "    4.72819544e-02 4.80002211e-03]\n",
      "   ...\n",
      "   [4.72188890e-02 0.00000000e+00 6.30697161e-02 ... 8.87163077e-03\n",
      "    4.52458300e-02 4.80161468e-03]\n",
      "   [4.69765216e-02 0.00000000e+00 6.28641471e-02 ... 8.67522694e-03\n",
      "    4.52578962e-02 4.80441889e-03]\n",
      "   [8.49899352e-02 0.00000000e+00 7.04637542e-02 ... 7.50510953e-03\n",
      "    4.74378206e-02 4.02203165e-02]]\n",
      "\n",
      "  [[4.13207747e-02 0.00000000e+00 6.75269440e-02 ... 1.39766587e-02\n",
      "    2.88257319e-02 4.82305931e-03]\n",
      "   [4.90926355e-02 0.00000000e+00 6.48765713e-02 ... 8.52003694e-03\n",
      "    4.69226912e-02 4.80235461e-03]\n",
      "   [4.92457226e-02 0.00000000e+00 6.50794953e-02 ... 9.05441400e-03\n",
      "    4.71201241e-02 4.79546050e-03]\n",
      "   ...\n",
      "   [4.74821106e-02 0.00000000e+00 6.27962872e-02 ... 8.81543756e-03\n",
      "    4.55415696e-02 4.79757879e-03]\n",
      "   [4.70378101e-02 0.00000000e+00 6.25665411e-02 ... 8.51029623e-03\n",
      "    4.49521765e-02 4.80463589e-03]\n",
      "   [8.44682306e-02 0.00000000e+00 7.01139346e-02 ... 7.67047983e-03\n",
      "    4.74634729e-02 3.99549790e-02]]\n",
      "\n",
      "  ...\n",
      "\n",
      "  [[4.69011590e-02 0.00000000e+00 7.52096996e-02 ... 1.60414316e-02\n",
      "    3.25240828e-02 4.82009351e-03]\n",
      "   [5.53152785e-02 0.00000000e+00 7.27508143e-02 ... 9.91295092e-03\n",
      "    5.30262440e-02 4.79681930e-03]\n",
      "   [5.55807352e-02 0.00000000e+00 7.33205229e-02 ... 1.01041589e-02\n",
      "    5.32714762e-02 4.78871772e-03]\n",
      "   ...\n",
      "   [6.97804689e-02 0.00000000e+00 8.99149925e-02 ... 1.21919122e-02\n",
      "    6.74347430e-02 4.77611693e-03]\n",
      "   [6.94153085e-02 0.00000000e+00 8.94076526e-02 ... 1.19111165e-02\n",
      "    6.66502342e-02 4.78724064e-03]\n",
      "   [1.24242209e-01 0.00000000e+00 1.00000218e-01 ... 1.02787763e-02\n",
      "    6.80645034e-02 5.70941269e-02]]\n",
      "\n",
      "  [[4.67821062e-02 0.00000000e+00 7.53492415e-02 ... 1.58864912e-02\n",
      "    3.23988609e-02 4.80458280e-03]\n",
      "   [5.50768673e-02 0.00000000e+00 7.30313808e-02 ... 9.97715443e-03\n",
      "    5.26497923e-02 4.78836615e-03]\n",
      "   [5.58799878e-02 0.00000000e+00 7.33786598e-02 ... 9.89631005e-03\n",
      "    5.31687848e-02 4.78376355e-03]\n",
      "   ...\n",
      "   [7.02647418e-02 0.00000000e+00 9.03354213e-02 ... 1.18822921e-02\n",
      "    6.76676109e-02 4.76881722e-03]\n",
      "   [6.98010325e-02 0.00000000e+00 8.95818621e-02 ... 1.21268407e-02\n",
      "    6.70241416e-02 4.76732990e-03]\n",
      "   [1.24687374e-01 0.00000000e+00 1.00487456e-01 ... 1.02172820e-02\n",
      "    6.84864968e-02 5.73564433e-02]]\n",
      "\n",
      "  [[3.31914015e-02 0.00000000e+00 5.46889454e-02 ... 1.03770085e-02\n",
      "    1.61968879e-02 8.97319708e-03]\n",
      "   [1.68993175e-02 0.00000000e+00 4.40474637e-02 ... 1.72975305e-02\n",
      "    4.33800854e-02 4.79998440e-03]\n",
      "   [1.67055652e-02 0.00000000e+00 4.41773981e-02 ... 1.77550390e-02\n",
      "    4.35805358e-02 4.78770537e-03]\n",
      "   ...\n",
      "   [2.11766176e-02 0.00000000e+00 5.44150174e-02 ... 2.22094133e-02\n",
      "    5.46275936e-02 4.77348128e-03]\n",
      "   [2.09992714e-02 0.00000000e+00 5.40304892e-02 ... 2.18940508e-02\n",
      "    5.43196499e-02 4.77197114e-03]\n",
      "   [6.52166754e-02 0.00000000e+00 5.12685031e-02 ... 6.96958676e-02\n",
      "    3.70576754e-02 2.95416303e-02]]]\n",
      "\n",
      "\n",
      " [[[1.82290375e-02 0.00000000e+00 6.08119406e-02 ... 2.44221147e-02\n",
      "    1.33472467e-02 0.00000000e+00]\n",
      "   [2.01144498e-02 0.00000000e+00 7.50040859e-02 ... 1.52585972e-02\n",
      "    3.13863643e-02 4.16889787e-03]\n",
      "   [2.03461181e-02 0.00000000e+00 7.55240321e-02 ... 1.52562559e-02\n",
      "    3.15109789e-02 4.38467599e-03]\n",
      "   ...\n",
      "   [1.93555094e-02 0.00000000e+00 7.33593628e-02 ... 1.46104116e-02\n",
      "    3.06413546e-02 4.28230874e-03]\n",
      "   [1.93027277e-02 0.00000000e+00 7.36758709e-02 ... 1.42620876e-02\n",
      "    3.08965631e-02 4.26664017e-03]\n",
      "   [4.24865782e-02 0.00000000e+00 7.94935673e-02 ... 1.35983340e-03\n",
      "    4.14979830e-02 2.79896576e-02]]\n",
      "\n",
      "  [[4.13393676e-02 0.00000000e+00 6.66994154e-02 ... 1.19157508e-02\n",
      "    2.88300663e-02 0.00000000e+00]\n",
      "   [4.88305613e-02 0.00000000e+00 6.51221648e-02 ... 6.53300434e-03\n",
      "    4.70107496e-02 0.00000000e+00]\n",
      "   [4.92329784e-02 0.00000000e+00 6.46880940e-02 ... 6.62541762e-03\n",
      "    4.75811586e-02 0.00000000e+00]\n",
      "   ...\n",
      "   [4.73320447e-02 0.00000000e+00 6.25987500e-02 ... 6.67776912e-03\n",
      "    4.56372574e-02 0.00000000e+00]\n",
      "   [4.71194014e-02 0.00000000e+00 6.23507649e-02 ... 6.16532192e-03\n",
      "    4.57763523e-02 0.00000000e+00]\n",
      "   [8.50373730e-02 0.00000000e+00 7.00829923e-02 ... 5.02127409e-03\n",
      "    4.80540544e-02 3.53619792e-02]]\n",
      "\n",
      "  [[4.12571430e-02 0.00000000e+00 6.72506765e-02 ... 1.13872830e-02\n",
      "    2.89272442e-02 0.00000000e+00]\n",
      "   [4.89770770e-02 0.00000000e+00 6.45242110e-02 ... 6.46768138e-03\n",
      "    4.72154170e-02 0.00000000e+00]\n",
      "   [4.90915887e-02 0.00000000e+00 6.45201206e-02 ... 6.51134551e-03\n",
      "    4.72330824e-02 0.00000000e+00]\n",
      "   ...\n",
      "   [4.74986136e-02 0.00000000e+00 6.25188574e-02 ... 6.39358908e-03\n",
      "    4.56984453e-02 0.00000000e+00]\n",
      "   [4.67509590e-02 0.00000000e+00 6.21187799e-02 ... 5.76505810e-03\n",
      "    4.52450477e-02 0.00000000e+00]\n",
      "   [8.44115242e-02 0.00000000e+00 6.99249953e-02 ... 5.16525097e-03\n",
      "    4.81339507e-02 3.51685174e-02]]\n",
      "\n",
      "  ...\n",
      "\n",
      "  [[4.72440012e-02 0.00000000e+00 7.53689483e-02 ... 1.36428997e-02\n",
      "    3.27369981e-02 0.00000000e+00]\n",
      "   [5.58919646e-02 0.00000000e+00 7.27967769e-02 ... 7.31721520e-03\n",
      "    5.38057014e-02 0.00000000e+00]\n",
      "   [5.62566854e-02 0.00000000e+00 7.33681694e-02 ... 7.58463144e-03\n",
      "    5.40475734e-02 0.00000000e+00]\n",
      "   ...\n",
      "   [7.09535480e-02 0.00000000e+00 9.11399499e-02 ... 9.67062265e-03\n",
      "    6.88816309e-02 0.00000000e+00]\n",
      "   [7.03091025e-02 0.00000000e+00 8.99314880e-02 ... 9.62142274e-03\n",
      "    6.79040775e-02 0.00000000e+00]\n",
      "   [1.24466591e-01 0.00000000e+00 1.00593723e-01 ... 7.56091624e-03\n",
      "    6.94841817e-02 5.23829907e-02]]\n",
      "\n",
      "  [[4.71561477e-02 0.00000000e+00 7.49756396e-02 ... 1.34674609e-02\n",
      "    3.30330096e-02 0.00000000e+00]\n",
      "   [5.54089360e-02 0.00000000e+00 7.28819892e-02 ... 7.34367222e-03\n",
      "    5.35596572e-02 0.00000000e+00]\n",
      "   [5.65174073e-02 0.00000000e+00 7.34268278e-02 ... 7.43097812e-03\n",
      "    5.44425473e-02 0.00000000e+00]\n",
      "   ...\n",
      "   [7.16108531e-02 0.00000000e+00 9.12624374e-02 ... 9.58111510e-03\n",
      "    6.96402565e-02 0.00000000e+00]\n",
      "   [7.09202886e-02 0.00000000e+00 9.06799883e-02 ... 9.91067290e-03\n",
      "    6.88560605e-02 0.00000000e+00]\n",
      "   [1.25731826e-01 0.00000000e+00 1.01343460e-01 ... 7.60655105e-03\n",
      "    7.01199695e-02 5.31300828e-02]]\n",
      "\n",
      "  [[3.34283113e-02 0.00000000e+00 5.46087921e-02 ... 7.88403302e-03\n",
      "    1.66716836e-02 4.37622145e-03]\n",
      "   [1.71361063e-02 0.00000000e+00 4.38928306e-02 ... 1.47892721e-02\n",
      "    4.45066057e-02 0.00000000e+00]\n",
      "   [1.68999583e-02 0.00000000e+00 4.42760587e-02 ... 1.51919238e-02\n",
      "    4.49036583e-02 0.00000000e+00]\n",
      "   ...\n",
      "   [2.17571668e-02 0.00000000e+00 5.50650880e-02 ... 2.05794722e-02\n",
      "    5.68684712e-02 0.00000000e+00]\n",
      "   [2.13788338e-02 0.00000000e+00 5.45188971e-02 ... 1.98898651e-02\n",
      "    5.60781136e-02 0.00000000e+00]\n",
      "   [6.59559295e-02 0.00000000e+00 5.16960099e-02 ... 6.82737157e-02\n",
      "    3.79273742e-02 2.52464376e-02]]]\n",
      "\n",
      "\n",
      " [[[1.80475414e-02 2.81732506e-03 5.45331016e-02 ... 2.67181471e-02\n",
      "    1.57679394e-02 3.48050823e-03]\n",
      "   [1.99626423e-02 2.85312836e-03 6.87975213e-02 ... 1.73784066e-02\n",
      "    3.41156125e-02 7.62720173e-03]\n",
      "   [2.02967785e-02 2.87644053e-03 6.93397224e-02 ... 1.73102524e-02\n",
      "    3.40507776e-02 7.86129665e-03]\n",
      "   ...\n",
      "   [1.94649510e-02 2.87327287e-03 6.70239776e-02 ... 1.69775859e-02\n",
      "    3.33648138e-02 7.72743812e-03]\n",
      "   [1.95710771e-02 2.83832964e-03 6.74893260e-02 ... 1.69143490e-02\n",
      "    3.37191746e-02 7.49090873e-03]\n",
      "   [4.24710400e-02 2.83161504e-03 7.36222416e-02 ... 3.43847903e-03\n",
      "    4.40381467e-02 3.18196565e-02]]\n",
      "\n",
      "  [[4.13990505e-02 2.85888650e-03 6.04577214e-02 ... 1.42739844e-02\n",
      "    3.15331481e-02 3.64521286e-03]\n",
      "   [4.87510115e-02 2.86096684e-03 5.89463897e-02 ... 8.84698704e-03\n",
      "    4.96022105e-02 3.73131083e-03]\n",
      "   [4.90250066e-02 2.88890372e-03 5.85758984e-02 ... 8.87547806e-03\n",
      "    5.00772186e-02 3.73041583e-03]\n",
      "   ...\n",
      "   [4.75504585e-02 2.88569555e-03 5.66906705e-02 ... 8.68899189e-03\n",
      "    4.79623750e-02 3.72526003e-03]\n",
      "   [4.71940786e-02 2.86987936e-03 5.60841374e-02 ... 8.40673782e-03\n",
      "    4.84939814e-02 3.71386227e-03]\n",
      "   [8.53266865e-02 2.82555865e-03 6.38280436e-02 ... 7.52285216e-03\n",
      "    5.07274643e-02 3.90936024e-02]]\n",
      "\n",
      "  [[4.13645878e-02 2.89555918e-03 6.10878393e-02 ... 1.37786549e-02\n",
      "    3.16758305e-02 3.63565423e-03]\n",
      "   [4.90306430e-02 2.90890038e-03 5.83768636e-02 ... 8.68378207e-03\n",
      "    4.95925099e-02 3.72055033e-03]\n",
      "   [4.89671007e-02 2.95725162e-03 5.84366396e-02 ... 8.81515723e-03\n",
      "    5.00264466e-02 3.75054637e-03]\n",
      "   ...\n",
      "   [4.74420376e-02 2.95157102e-03 5.63379601e-02 ... 8.85304064e-03\n",
      "    4.83679473e-02 3.74173885e-03]\n",
      "   [4.70193028e-02 2.93491641e-03 5.61194047e-02 ... 7.94742443e-03\n",
      "    4.80482355e-02 3.71343852e-03]\n",
      "   [8.49373117e-02 2.86287232e-03 6.35649562e-02 ... 7.12182419e-03\n",
      "    5.04168794e-02 3.88347171e-02]]\n",
      "\n",
      "  ...\n",
      "\n",
      "  [[4.65287454e-02 2.91004428e-03 6.82881922e-02 ... 1.54594667e-02\n",
      "    3.52026299e-02 3.64682148e-03]\n",
      "   [5.52008525e-02 2.92582391e-03 6.60229996e-02 ... 9.56839044e-03\n",
      "    5.57747371e-02 3.74395214e-03]\n",
      "   [5.57698384e-02 2.98166182e-03 6.65897727e-02 ... 9.67840850e-03\n",
      "    5.61169274e-02 3.77486041e-03]\n",
      "   ...\n",
      "   [7.39867389e-02 3.03989090e-03 8.82748514e-02 ... 1.23279486e-02\n",
      "    7.46898055e-02 3.84699204e-03]\n",
      "   [7.35472068e-02 3.01073072e-03 8.75565559e-02 ... 1.21987043e-02\n",
      "    7.39956498e-02 3.79711017e-03]\n",
      "   [1.31499738e-01 2.89723137e-03 9.88842174e-02 ... 1.05010141e-02\n",
      "    7.54492581e-02 5.89815676e-02]]\n",
      "\n",
      "  [[4.68217209e-02 2.87606823e-03 6.85256273e-02 ... 1.53907705e-02\n",
      "    3.55032757e-02 3.71059077e-03]\n",
      "   [5.55358343e-02 2.91141192e-03 6.61271662e-02 ... 9.64280963e-03\n",
      "    5.58158420e-02 3.77835846e-03]\n",
      "   [5.58402538e-02 2.93340487e-03 6.63086921e-02 ... 9.56251007e-03\n",
      "    5.61010577e-02 3.79768317e-03]\n",
      "   ...\n",
      "   [7.42764473e-02 2.97858287e-03 8.83219242e-02 ... 1.24398433e-02\n",
      "    7.49911144e-02 3.87833407e-03]\n",
      "   [7.38483295e-02 2.94804689e-03 8.78606886e-02 ... 1.24720857e-02\n",
      "    7.44024143e-02 3.88327939e-03]\n",
      "   [1.31981328e-01 2.87838769e-03 9.93208513e-02 ... 1.05772428e-02\n",
      "    7.56734833e-02 5.92827648e-02]]\n",
      "\n",
      "  [[3.31570432e-02 2.88083521e-03 4.78060767e-02 ... 1.00673083e-02\n",
      "    1.89118795e-02 8.00474547e-03]\n",
      "   [1.70273632e-02 2.88577913e-03 3.72278392e-02 ... 1.68953538e-02\n",
      "    4.65640016e-02 3.72965843e-03]\n",
      "   [1.68671720e-02 2.90611573e-03 3.73827182e-02 ... 1.74855124e-02\n",
      "    4.66971658e-02 3.78019991e-03]\n",
      "   ...\n",
      "   [2.25088373e-02 2.94202147e-03 5.02075553e-02 ... 2.28887647e-02\n",
      "    6.10358156e-02 3.85740865e-03]\n",
      "   [2.21017674e-02 2.96381954e-03 4.99040931e-02 ... 2.27576364e-02\n",
      "    6.07187524e-02 3.86329601e-03]\n",
      "   [6.92615658e-02 2.82623852e-03 4.71812375e-02 ... 7.35557824e-02\n",
      "    4.21893150e-02 2.98725720e-02]]]\n",
      "\n",
      "\n",
      " ...\n",
      "\n",
      "\n",
      " [[[1.79095380e-02 0.00000000e+00 5.41380346e-02 ... 2.41732374e-02\n",
      "    1.26334978e-02 0.00000000e+00]\n",
      "   [2.00293735e-02 0.00000000e+00 6.86309636e-02 ... 1.48331206e-02\n",
      "    3.10364887e-02 4.33002971e-03]\n",
      "   [2.03178730e-02 0.00000000e+00 6.88923970e-02 ... 1.51416436e-02\n",
      "    3.08506507e-02 4.46531363e-03]\n",
      "   ...\n",
      "   [1.96774267e-02 0.00000000e+00 6.74088746e-02 ... 1.44855566e-02\n",
      "    3.01988069e-02 4.46014851e-03]\n",
      "   [1.92566421e-02 0.00000000e+00 6.77139610e-02 ... 1.46501306e-02\n",
      "    3.04455590e-02 4.01372649e-03]\n",
      "   [4.25166637e-02 0.00000000e+00 7.35079572e-02 ... 1.31099671e-03\n",
      "    4.12244722e-02 2.82800607e-02]]\n",
      "\n",
      "  [[4.12723646e-02 0.00000000e+00 6.02731593e-02 ... 1.18803680e-02\n",
      "    2.86038630e-02 0.00000000e+00]\n",
      "   [4.89371791e-02 0.00000000e+00 5.87641746e-02 ... 6.60439208e-03\n",
      "    4.68128510e-02 0.00000000e+00]\n",
      "   [4.90480401e-02 0.00000000e+00 5.81189394e-02 ... 7.09455088e-03\n",
      "    4.69207466e-02 0.00000000e+00]\n",
      "   ...\n",
      "   [4.76014949e-02 0.00000000e+00 5.68429716e-02 ... 6.30784780e-03\n",
      "    4.53757234e-02 0.00000000e+00]\n",
      "   [4.72895801e-02 0.00000000e+00 5.61963208e-02 ... 6.80284947e-03\n",
      "    4.55884151e-02 0.00000000e+00]\n",
      "   [8.53460133e-02 0.00000000e+00 6.41254634e-02 ... 5.35235181e-03\n",
      "    4.80875932e-02 3.56512628e-02]]\n",
      "\n",
      "  [[4.14493233e-02 0.00000000e+00 6.11047298e-02 ... 1.14306454e-02\n",
      "    2.86418926e-02 0.00000000e+00]\n",
      "   [4.90142368e-02 0.00000000e+00 5.83217144e-02 ... 6.25108927e-03\n",
      "    4.66485545e-02 0.00000000e+00]\n",
      "   [4.89811748e-02 0.00000000e+00 5.81867136e-02 ... 6.60659373e-03\n",
      "    4.68956567e-02 0.00000000e+00]\n",
      "   ...\n",
      "   [4.76987585e-02 0.00000000e+00 5.66988774e-02 ... 6.61760569e-03\n",
      "    4.56338525e-02 0.00000000e+00]\n",
      "   [4.74733077e-02 0.00000000e+00 5.63067347e-02 ... 6.16123527e-03\n",
      "    4.54664864e-02 0.00000000e+00]\n",
      "   [8.49903524e-02 0.00000000e+00 6.35913387e-02 ... 4.92529571e-03\n",
      "    4.78327237e-02 3.53271440e-02]]\n",
      "\n",
      "  ...\n",
      "\n",
      "  [[4.63336222e-02 0.00000000e+00 6.77697062e-02 ... 1.33835170e-02\n",
      "    3.19367014e-02 0.00000000e+00]\n",
      "   [5.49147725e-02 0.00000000e+00 6.53414130e-02 ... 7.45410472e-03\n",
      "    5.27394712e-02 0.00000000e+00]\n",
      "   [5.51224500e-02 0.00000000e+00 6.58751577e-02 ... 7.13308156e-03\n",
      "    5.28824292e-02 0.00000000e+00]\n",
      "   ...\n",
      "   [7.06880689e-02 0.00000000e+00 8.42966139e-02 ... 9.80988517e-03\n",
      "    6.83220178e-02 0.00000000e+00]\n",
      "   [7.00898170e-02 0.00000000e+00 8.36967081e-02 ... 9.53452662e-03\n",
      "    6.81632981e-02 0.00000000e+00]\n",
      "   [1.25578150e-01 0.00000000e+00 9.38217640e-02 ... 7.92314112e-03\n",
      "    6.94760010e-02 5.26688620e-02]]\n",
      "\n",
      "  [[4.63291928e-02 0.00000000e+00 6.76211193e-02 ... 1.32518634e-02\n",
      "    3.20817865e-02 0.00000000e+00]\n",
      "   [5.47139943e-02 0.00000000e+00 6.55844361e-02 ... 7.36019015e-03\n",
      "    5.24111427e-02 0.00000000e+00]\n",
      "   [5.55057041e-02 0.00000000e+00 6.58190995e-02 ... 7.23321736e-03\n",
      "    5.29916808e-02 0.00000000e+00]\n",
      "   ...\n",
      "   [7.07601607e-02 0.00000000e+00 8.42460245e-02 ... 9.59827751e-03\n",
      "    6.86100647e-02 0.00000000e+00]\n",
      "   [7.03867972e-02 0.00000000e+00 8.35213810e-02 ... 9.83253866e-03\n",
      "    6.85916021e-02 0.00000000e+00]\n",
      "   [1.25499010e-01 0.00000000e+00 9.42611843e-02 ... 7.93027133e-03\n",
      "    6.96016848e-02 5.28676733e-02]]\n",
      "\n",
      "  [[3.29231769e-02 0.00000000e+00 4.72956523e-02 ... 7.94094056e-03\n",
      "    1.60714127e-02 4.15477250e-03]\n",
      "   [1.68709811e-02 0.00000000e+00 3.71583067e-02 ... 1.46129373e-02\n",
      "    4.35073152e-02 0.00000000e+00]\n",
      "   [1.68159064e-02 0.00000000e+00 3.70820351e-02 ... 1.48990639e-02\n",
      "    4.37381677e-02 0.00000000e+00]\n",
      "   ...\n",
      "   [2.14652475e-02 0.00000000e+00 4.76924889e-02 ... 2.00576372e-02\n",
      "    5.58351725e-02 0.00000000e+00]\n",
      "   [2.11771093e-02 0.00000000e+00 4.75238673e-02 ... 1.96963623e-02\n",
      "    5.53896911e-02 0.00000000e+00]\n",
      "   [6.56435937e-02 0.00000000e+00 4.46493700e-02 ... 6.76210821e-02\n",
      "    3.77310589e-02 2.47171186e-02]]]\n",
      "\n",
      "\n",
      " [[[1.80405378e-02 0.00000000e+00 6.25409484e-02 ... 2.44519468e-02\n",
      "    9.84796323e-03 3.42938176e-04]\n",
      "   [1.99151337e-02 0.00000000e+00 7.68403187e-02 ... 1.48996338e-02\n",
      "    2.80639417e-02 4.59301611e-03]\n",
      "   [2.01414004e-02 0.00000000e+00 7.71838725e-02 ... 1.52730979e-02\n",
      "    2.81829312e-02 4.51345183e-03]\n",
      "   ...\n",
      "   [1.96524654e-02 0.00000000e+00 7.50603527e-02 ... 1.46841444e-02\n",
      "    2.72573512e-02 4.57647350e-03]\n",
      "   [1.92614477e-02 0.00000000e+00 7.53267333e-02 ... 1.43236723e-02\n",
      "    2.75568701e-02 4.54523554e-03]\n",
      "   [4.24786657e-02 0.00000000e+00 8.15152526e-02 ... 1.32092461e-03\n",
      "    3.78131568e-02 2.84093991e-02]]\n",
      "\n",
      "  [[4.13434878e-02 0.00000000e+00 6.82792813e-02 ... 1.19574759e-02\n",
      "    2.55308729e-02 1.49742205e-04]\n",
      "   [4.86748517e-02 0.00000000e+00 6.65318370e-02 ... 6.56747818e-03\n",
      "    4.35133278e-02 4.92876861e-05]\n",
      "   [4.90307733e-02 0.00000000e+00 6.61193430e-02 ... 6.83366135e-03\n",
      "    4.40333039e-02 5.02284383e-05]\n",
      "   ...\n",
      "   [4.73109595e-02 0.00000000e+00 6.45214766e-02 ... 6.65852800e-03\n",
      "    4.19238135e-02 5.55074366e-05]\n",
      "   [4.70055602e-02 0.00000000e+00 6.43024445e-02 ... 6.23041391e-03\n",
      "    4.24226746e-02 6.93816983e-05]\n",
      "   [8.50736797e-02 0.00000000e+00 7.15809762e-02 ... 5.21871634e-03\n",
      "    4.45872173e-02 3.56554836e-02]]\n",
      "\n",
      "  [[4.09829356e-02 0.00000000e+00 6.87363148e-02 ... 1.13897920e-02\n",
      "    2.54537016e-02 1.60252850e-04]\n",
      "   [4.90385331e-02 0.00000000e+00 6.61461204e-02 ... 6.22287393e-03\n",
      "    4.35340405e-02 6.08089031e-05]\n",
      "   [4.85822335e-02 0.00000000e+00 6.63519651e-02 ... 6.16949052e-03\n",
      "    4.36833650e-02 2.70747551e-05]\n",
      "   ...\n",
      "   [4.73401770e-02 0.00000000e+00 6.43174201e-02 ... 6.43907860e-03\n",
      "    4.23426963e-02 3.60298291e-05]\n",
      "   [4.71346192e-02 0.00000000e+00 6.43126145e-02 ... 5.89181110e-03\n",
      "    4.17882465e-02 6.92828908e-05]\n",
      "   [8.48323107e-02 0.00000000e+00 7.17728361e-02 ... 4.80250828e-03\n",
      "    4.43378761e-02 3.56690325e-02]]\n",
      "\n",
      "  ...\n",
      "\n",
      "  [[4.47888076e-02 0.00000000e+00 7.42801726e-02 ... 1.30500309e-02\n",
      "    2.79553980e-02 1.51047629e-04]\n",
      "   [5.34609035e-02 0.00000000e+00 7.17673525e-02 ... 7.27817044e-03\n",
      "    4.78167087e-02 4.19593853e-05]\n",
      "   [5.37086874e-02 0.00000000e+00 7.22743869e-02 ... 6.97283447e-03\n",
      "    4.81554270e-02 4.30271029e-06]\n",
      "   ...\n",
      "   [7.35539049e-02 0.00000000e+00 9.64986384e-02 ... 9.88618284e-03\n",
      "    6.78027123e-02 0.00000000e+00]\n",
      "   [7.33034760e-02 0.00000000e+00 9.55968872e-02 ... 9.93307680e-03\n",
      "    6.71770126e-02 0.00000000e+00]\n",
      "   [1.30688563e-01 0.00000000e+00 1.06853731e-01 ... 8.06822628e-03\n",
      "    6.88164085e-02 5.54907098e-02]]\n",
      "\n",
      "  [[4.51365300e-02 0.00000000e+00 7.42217004e-02 ... 1.29849054e-02\n",
      "    2.84418948e-02 7.83890573e-05]\n",
      "   [5.31436875e-02 0.00000000e+00 7.22127333e-02 ... 7.24462420e-03\n",
      "    4.77374122e-02 1.57044269e-07]\n",
      "   [5.40948994e-02 0.00000000e+00 7.20209628e-02 ... 7.02863187e-03\n",
      "    4.85798754e-02 0.00000000e+00]\n",
      "   ...\n",
      "   [7.45109096e-02 0.00000000e+00 9.71383899e-02 ... 9.98906791e-03\n",
      "    6.90782368e-02 0.00000000e+00]\n",
      "   [7.38484263e-02 0.00000000e+00 9.61719379e-02 ... 9.87698883e-03\n",
      "    6.82125539e-02 0.00000000e+00]\n",
      "   [1.32323891e-01 0.00000000e+00 1.08041920e-01 ... 8.11235607e-03\n",
      "    6.96499497e-02 5.62350675e-02]]\n",
      "\n",
      "  [[3.20474729e-02 0.00000000e+00 5.40781729e-02 ... 7.76814669e-03\n",
      "    1.24720912e-02 4.41040844e-03]\n",
      "   [1.65421888e-02 0.00000000e+00 4.41180393e-02 ... 1.41737685e-02\n",
      "    3.90436351e-02 5.54600556e-05]\n",
      "   [1.63405947e-02 0.00000000e+00 4.40931506e-02 ... 1.48854833e-02\n",
      "    3.93039547e-02 0.00000000e+00]\n",
      "   ...\n",
      "   [2.28482597e-02 0.00000000e+00 5.91102839e-02 ... 2.11814269e-02\n",
      "    5.53922541e-02 0.00000000e+00]\n",
      "   [2.24600993e-02 0.00000000e+00 5.86458929e-02 ... 2.09766142e-02\n",
      "    5.47771789e-02 0.00000000e+00]\n",
      "   [6.93644807e-02 0.00000000e+00 5.58657646e-02 ... 7.22005069e-02\n",
      "    3.63567136e-02 2.69317236e-02]]]\n",
      "\n",
      "\n",
      " [[[1.80260278e-02 2.38837046e-03 7.07908347e-02 ... 2.44357791e-02\n",
      "    1.05412696e-02 0.00000000e+00]\n",
      "   [2.00801194e-02 2.44645285e-03 8.51766020e-02 ... 1.50978304e-02\n",
      "    2.84013543e-02 4.36052680e-03]\n",
      "   [2.04299837e-02 2.48254649e-03 8.54495391e-02 ... 1.52593292e-02\n",
      "    2.86278892e-02 4.39375080e-03]\n",
      "   ...\n",
      "   [1.92021541e-02 2.47657462e-03 8.30164179e-02 ... 1.42954364e-02\n",
      "    2.76415609e-02 4.13841754e-03]\n",
      "   [1.92529857e-02 2.42201588e-03 8.32569376e-02 ... 1.43701751e-02\n",
      "    2.74779890e-02 4.17688303e-03]\n",
      "   [4.23800610e-02 2.41067237e-03 8.91934410e-02 ... 1.26090739e-03\n",
      "    3.83807644e-02 2.79561281e-02]]\n",
      "\n",
      "  [[4.10417803e-02 2.45417072e-03 7.64741749e-02 ... 1.14273131e-02\n",
      "    2.61266641e-02 0.00000000e+00]\n",
      "   [4.89134640e-02 2.45789858e-03 7.46833161e-02 ... 6.35979325e-03\n",
      "    4.40876856e-02 0.00000000e+00]\n",
      "   [4.84749638e-02 2.50217272e-03 7.46931583e-02 ... 6.60943985e-03\n",
      "    4.43071239e-02 0.00000000e+00]\n",
      "   ...\n",
      "   [4.73845154e-02 2.49581574e-03 7.25363940e-02 ... 6.57287985e-03\n",
      "    4.25788574e-02 0.00000000e+00]\n",
      "   [4.67901267e-02 2.47139530e-03 7.24570230e-02 ... 6.11317903e-03\n",
      "    4.24927250e-02 0.00000000e+00]\n",
      "   [8.49725455e-02 2.40077940e-03 8.00383389e-02 ... 5.09370677e-03\n",
      "    4.47833613e-02 3.55048217e-02]]\n",
      "\n",
      "  [[4.13917899e-02 2.51351809e-03 7.70278499e-02 ... 1.12728328e-02\n",
      "    2.60844585e-02 0.00000000e+00]\n",
      "   [4.93375100e-02 2.53479602e-03 7.41981342e-02 ... 6.58110157e-03\n",
      "    4.41820845e-02 0.00000000e+00]\n",
      "   [4.89269122e-02 2.61322688e-03 7.44138211e-02 ... 6.53658062e-03\n",
      "    4.43474837e-02 0.00000000e+00]\n",
      "   ...\n",
      "   [4.74777818e-02 2.60247360e-03 7.22670704e-02 ... 6.47012889e-03\n",
      "    4.26590107e-02 0.00000000e+00]\n",
      "   [4.71271314e-02 2.57569482e-03 7.20399171e-02 ... 5.83698601e-03\n",
      "    4.23940904e-02 0.00000000e+00]\n",
      "   [8.47086087e-02 2.45951093e-03 7.95922428e-02 ... 5.19473478e-03\n",
      "    4.48722057e-02 3.53154168e-02]]\n",
      "\n",
      "  ...\n",
      "\n",
      "  [[4.74604890e-02 2.53993692e-03 8.58895481e-02 ... 1.35529265e-02\n",
      "    3.02946828e-02 0.00000000e+00]\n",
      "   [5.62349632e-02 2.56519322e-03 8.32147896e-02 ... 7.63550401e-03\n",
      "    5.12114652e-02 0.00000000e+00]\n",
      "   [5.68123981e-02 2.65487027e-03 8.36374536e-02 ... 7.72279128e-03\n",
      "    5.16261533e-02 0.00000000e+00]\n",
      "   ...\n",
      "   [6.50691912e-02 2.69801426e-03 9.37032700e-02 ... 9.11326706e-03\n",
      "    5.99778071e-02 0.00000000e+00]\n",
      "   [6.49031028e-02 2.65710172e-03 9.34311748e-02 ... 8.82459059e-03\n",
      "    5.98200671e-02 0.00000000e+00]\n",
      "   [1.16510227e-01 2.49766978e-03 1.03352942e-01 ... 7.45000318e-03\n",
      "    6.14924207e-02 4.90776263e-02]]\n",
      "\n",
      "  [[4.77745458e-02 2.48448411e-03 8.56970623e-02 ... 1.37274377e-02\n",
      "    3.02251130e-02 0.00000000e+00]\n",
      "   [5.62583655e-02 2.54189782e-03 8.34702477e-02 ... 7.65043125e-03\n",
      "    5.08404523e-02 0.00000000e+00]\n",
      "   [5.67514896e-02 2.57838238e-03 8.37345570e-02 ... 7.33055174e-03\n",
      "    5.15504703e-02 0.00000000e+00]\n",
      "   ...\n",
      "   [6.52412772e-02 2.60908366e-03 9.37843323e-02 ... 8.93823430e-03\n",
      "    6.05628714e-02 0.00000000e+00]\n",
      "   [6.50400668e-02 2.56691384e-03 9.31750163e-02 ... 9.10786539e-03\n",
      "    6.03710786e-02 0.00000000e+00]\n",
      "   [1.16418712e-01 2.47119996e-03 1.03560135e-01 ... 7.50954077e-03\n",
      "    6.17256351e-02 4.92679849e-02]]\n",
      "\n",
      "  [[3.37864161e-02 2.49213190e-03 6.48675859e-02 ... 8.01815093e-03\n",
      "    1.36876572e-02 4.27031331e-03]\n",
      "   [1.73380747e-02 2.49886629e-03 5.42328060e-02 ... 1.50870420e-02\n",
      "    4.15813997e-02 0.00000000e+00]\n",
      "   [1.70783978e-02 2.53330520e-03 5.43127023e-02 ... 1.54921860e-02\n",
      "    4.18043211e-02 0.00000000e+00]\n",
      "   ...\n",
      "   [1.98343061e-02 2.55908049e-03 6.04440644e-02 ... 1.81215964e-02\n",
      "    4.85647731e-02 0.00000000e+00]\n",
      "   [1.95311718e-02 2.59087980e-03 6.02085963e-02 ... 1.80715322e-02\n",
      "    4.82026935e-02 0.00000000e+00]\n",
      "   [6.09145835e-02 2.39690882e-03 5.78758493e-02 ... 6.26355931e-02\n",
      "    3.21463831e-02 2.29369849e-02]]]], shape=(64, 56, 56, 128), dtype=float32)\n"
     ]
    },
    {
     "data": {
      "text/plain": [
       "TensorShape([64, 56, 56, 128])"
      ]
     },
     "execution_count": 29,
     "metadata": {},
     "output_type": "execute_result"
    }
   ],
   "source": [
    "#We will pass in the first example input again as before:\n",
    "resblock = ResBlock()\n",
    "print(resblock(gru_network(inputs[0]),cnn_feature_extractor(inputs[1])))\n",
    "resblock(gru_network(inputs[0]),cnn_feature_extractor(inputs[1])).shape\n",
    "#again we have the output dimension that we expect"
   ]
  },
  {
   "cell_type": "markdown",
   "id": "fc319491-6d56-4fca-a70c-bca662bd7749",
   "metadata": {},
   "source": [
    "e) At several points in the model, two coordinate feature maps will be added to the output of a convolutional layer. This operation will be applied before each ResBlock and the classifier component of the CNN prediction model. \n",
    "\n",
    "These two feature maps indicate relative $x$ and $y$ spatial position, and are each scaled from $-1$ to $1$ across the height and width dimensions. These two feature maps are concatenated as two extra channels to the convolutional layer output.\n",
    "\n",
    "Implement this operation as another custom layer class called `AddSpatialCoordinates`. The layer should be able to accept input Tensors with arbitrary height, width and channel dimensions. This custom layer will not have any trainable variables.\n",
    "\n",
    "Create an instance of your custom layer class and test it on some dummy inputs to verify it works as expected.\n",
    "\n",
    "**(7 marks)**"
   ]
  },
  {
   "cell_type": "code",
   "execution_count": 30,
   "id": "6e4a0fc0-fad4-4755-a24e-c4fd1a273af5",
   "metadata": {},
   "outputs": [],
   "source": [
    "class AddSpatialCoordinates(Layer):\n",
    "    def __init__(self, name = \"ASC\"):\n",
    "        super().__init__(name = name)\n",
    "        \n",
    "    def call(self,inputs):\n",
    "        #here, inputs is the (batch,w,h,channel) tensor\n",
    "        #[0] is batch size and [3] is number of channels\n",
    "        x_size = inputs.shape[1]\n",
    "        y_size = inputs.shape[2]\n",
    "\n",
    "        x_grid = tf.linspace(-1,1,num = x_size)\n",
    "        y_grid = tf.linspace(-1,1,num = y_size)\n",
    "        #make these grids float32 to be compatible with the inputs tensor\n",
    "        x_grid = tf.cast(x_grid,tf.float32)\n",
    "        y_grid = tf.cast(y_grid,tf.float32)\n",
    "        #this makes a list of two grids, -1 for x is left, -1 for y is top\n",
    "        mesh = tf.meshgrid(x_grid,y_grid)\n",
    "        #now we have to broadcast mesh so that we can add it to the inputs tensor\n",
    "        mesh_x = mesh[0]\n",
    "        mesh_y = mesh[1]\n",
    "        mesh_x = tf.expand_dims(tf.expand_dims(mesh_x,0),-1)\n",
    "        mesh_y = tf.expand_dims(tf.expand_dims(mesh_y,0),-1)\n",
    "        #now tile to commute with the batch size\n",
    "        mesh_x = tf.tile(mesh_x, [tf.shape(inputs)[0],1,1,1])\n",
    "        mesh_y = tf.tile(mesh_y, [tf.shape(inputs)[0],1,1,1])\n",
    "        inputs = tf.concat([inputs,mesh_x,mesh_y],axis = -1)\n",
    "        return inputs\n",
    "        "
   ]
  },
  {
   "cell_type": "code",
   "execution_count": 31,
   "id": "53ab8bd4-59c4-4bfb-bb45-34b19b80b3c2",
   "metadata": {},
   "outputs": [
    {
     "name": "stdout",
     "output_type": "stream",
     "text": [
      "(64, 56, 56, 130)\n"
     ]
    }
   ],
   "source": [
    "#Again test this on the example input:\n",
    "asc = AddSpatialCoordinates()\n",
    "test = asc(cnn_feature_extractor(inputs[1]))\n",
    "print(test.shape)\n",
    "#this is giving what we expect, with the two added dimensions for channel"
   ]
  },
  {
   "cell_type": "code",
   "execution_count": 32,
   "id": "9173704d",
   "metadata": {},
   "outputs": [
    {
     "name": "stdout",
     "output_type": "stream",
     "text": [
      "tf.Tensor(\n",
      "[[-1.         -1.         -1.         ... -1.         -1.\n",
      "  -1.        ]\n",
      " [-0.96363634 -0.96363634 -0.96363634 ... -0.96363634 -0.96363634\n",
      "  -0.96363634]\n",
      " [-0.92727274 -0.92727274 -0.92727274 ... -0.92727274 -0.92727274\n",
      "  -0.92727274]\n",
      " ...\n",
      " [ 0.92727274  0.92727274  0.92727274 ...  0.92727274  0.92727274\n",
      "   0.92727274]\n",
      " [ 0.96363634  0.96363634  0.96363634 ...  0.96363634  0.96363634\n",
      "   0.96363634]\n",
      " [ 1.          1.          1.         ...  1.          1.\n",
      "   1.        ]], shape=(56, 56), dtype=float32)\n",
      "tf.Tensor(\n",
      "[[-1.         -0.96363634 -0.92727274 ...  0.92727274  0.96363634\n",
      "   1.        ]\n",
      " [-1.         -0.96363634 -0.92727274 ...  0.92727274  0.96363634\n",
      "   1.        ]\n",
      " [-1.         -0.96363634 -0.92727274 ...  0.92727274  0.96363634\n",
      "   1.        ]\n",
      " ...\n",
      " [-1.         -0.96363634 -0.92727274 ...  0.92727274  0.96363634\n",
      "   1.        ]\n",
      " [-1.         -0.96363634 -0.92727274 ...  0.92727274  0.96363634\n",
      "   1.        ]\n",
      " [-1.         -0.96363634 -0.92727274 ...  0.92727274  0.96363634\n",
      "   1.        ]], shape=(56, 56), dtype=float32)\n"
     ]
    }
   ],
   "source": [
    "#lets inspect the final two dimensions of this, for the first example in the batch\n",
    "print(test[0,:,:,-1])\n",
    "print(test[0,:,:,-2])\n",
    "#this is the relative positionings for each one as we eould expect"
   ]
  },
  {
   "cell_type": "markdown",
   "id": "155f8b64-b651-4c48-b5f2-f8003313bbc5",
   "metadata": {},
   "source": [
    "f) The final main block of the CNN network is a classifier block. This block consists of the following layers:\n",
    "\n",
    "* 1x1 convolution with 512 output channels, ReLU activation, and 'SAME' padding\n",
    "* Global max pooling across height and width dimensions\n",
    "* Dense layer with 512 neurons and ReLU activation\n",
    "* Final Dense layer with $n_c$ neurons and softmax activation, where $n_c$ is the number of output labels\n",
    "\n",
    "Once you have implemented the classifier, you should bring all components together to build the complete model. This model consists of the following:\n",
    "\n",
    "* GRU FiLM generator as defined in part a) that processes the sequence of question tokens and outputs an embedding $\\mathbf{q}$ of dimension 128\n",
    "* Feature extractor block as defined in part b) that processes the input image\n",
    "* The output of the feature extractor should then be extended with spatial coordinate feature maps by passing it through your `AddSpatialCoordinates` layer\n",
    "* This should be followed by just one ResBlock custom layer, that takes in two inputs: the output from the previous `AddSpatialCoordinates` layer and the question embedding $\\mathbf{q}$. We will only use one ResBlock due to computational limitations\n",
    "* The output of the ResBlock should then also be extended with spatial coordinate feature maps by passing it through your `AddSpatialCoordinates` layer\n",
    "* The output from the previous `AddSpatialCoordinates` layer should then be sent through the classifier block to obtain the final output prediction\n",
    "\n",
    "Implement the complete model according to the above spec, and print the model summary.\n",
    "\n",
    "**(5 marks)**"
   ]
  },
  {
   "cell_type": "code",
   "execution_count": 33,
   "id": "10caf0dc-59a5-4580-9135-6b84625bce1a",
   "metadata": {},
   "outputs": [],
   "source": [
    "def get_classifier():\n",
    "    classifier = Sequential([\n",
    "        #dont need to specify input size for conv2d\n",
    "        Conv2D(512,(1,1), activation = \"relu\", padding = \"same\"),\n",
    "        #looking at documentation, this globally pools over height and width, leaving batch and channels intact\n",
    "        GlobalMaxPooling2D(),\n",
    "        Dense(512,activation = \"relu\"),\n",
    "        Dense(vocab_ans_size, activation = \"softmax\")], name = \"classifier\")\n",
    "    return classifier"
   ]
  },
  {
   "cell_type": "code",
   "execution_count": 34,
   "id": "85191bba-5657-49b9-9ec6-2bbaaf6950ac",
   "metadata": {},
   "outputs": [],
   "source": [
    "class full_model(Model):\n",
    "    def __init__(self):\n",
    "        super(full_model,self).__init__()\n",
    "        self.gru = get_gru()\n",
    "        self.feature_extractor = get_cnn_feature_extractor()\n",
    "        #asp can be called multiple times since not trained\n",
    "        self.asp = AddSpatialCoordinates()\n",
    "        self.resblock = ResBlock()\n",
    "        self.classifier = get_classifier()\n",
    "    def call(self,inputs):\n",
    "        #we expect just the input to be passed in, not the target\n",
    "        text, images = inputs\n",
    "        q = self.gru(text)\n",
    "        h = self.feature_extractor(images)\n",
    "        h = self.asp(h)\n",
    "        h = self.resblock(q,h)\n",
    "        h = self.asp(h)\n",
    "        #predict\n",
    "        preds = self.classifier(h)\n",
    "        return preds\n",
    "        "
   ]
  },
  {
   "cell_type": "code",
   "execution_count": 35,
   "id": "49475401",
   "metadata": {},
   "outputs": [
    {
     "name": "stdout",
     "output_type": "stream",
     "text": [
      "tf.Tensor(\n",
      "[[0.03846654 0.03241946 0.03365136 ... 0.03182833 0.03227999 0.03333598]\n",
      " [0.03861015 0.03250746 0.03379517 ... 0.03182025 0.03230668 0.03339811]\n",
      " [0.03856399 0.03258557 0.03389546 ... 0.03171349 0.03237452 0.03350883]\n",
      " ...\n",
      " [0.03863347 0.03257908 0.03376553 ... 0.0317856  0.03242941 0.03351192]\n",
      " [0.03860771 0.03258933 0.0338561  ... 0.03177335 0.0323364  0.03353329]\n",
      " [0.03868252 0.03259474 0.03384767 ... 0.03172692 0.03233342 0.03342935]], shape=(64, 30), dtype=float32)\n"
     ]
    },
    {
     "data": {
      "text/plain": [
       "TensorShape([64, 30])"
      ]
     },
     "execution_count": 35,
     "metadata": {},
     "output_type": "execute_result"
    }
   ],
   "source": [
    "#to print the model summary we call it on the example\n",
    "fm = full_model()\n",
    "print(fm(inputs))\n",
    "fm(inputs).shape\n",
    "#we expected this shape, since the batch is 64 and there were 30 possible answers\n",
    "#and each of the 30 have a roughly equal chance, which makes sense since the model has been initialised but not trained\n"
   ]
  },
  {
   "cell_type": "code",
   "execution_count": 36,
   "id": "2821366f",
   "metadata": {},
   "outputs": [
    {
     "name": "stdout",
     "output_type": "stream",
     "text": [
      "Model: \"full_model\"\n",
      "_________________________________________________________________\n",
      " Layer (type)                Output Shape              Param #   \n",
      "=================================================================\n",
      " gru_network (Sequential)    (None, 128)               178816    \n",
      "                                                                 \n",
      " feature_extractor (Sequenti  (None, 56, 56, 128)      269568    \n",
      " al)                                                             \n",
      "                                                                 \n",
      " ASC (AddSpatialCoordinates)  multiple                 0         \n",
      "                                                                 \n",
      " res_block_1 (ResBlock)      multiple                  197376    \n",
      "                                                                 \n",
      " classifier (Sequential)     (64, 30)                  345118    \n",
      "                                                                 \n",
      "=================================================================\n",
      "Total params: 990,878\n",
      "Trainable params: 990,110\n",
      "Non-trainable params: 768\n",
      "_________________________________________________________________\n"
     ]
    }
   ],
   "source": [
    "fm.summary()"
   ]
  },
  {
   "cell_type": "markdown",
   "id": "696825b0-167a-4fab-b9ca-f5b527cd7a38",
   "metadata": {},
   "source": [
    "### Question 3 (Total 30 marks)"
   ]
  },
  {
   "cell_type": "markdown",
   "id": "4bce2b50-6bff-4fff-b2fa-5e0bdb8d6937",
   "metadata": {},
   "source": [
    "a) You should now train your model from question 2 using a cross entropy loss function. Train the model for 20 epochs, with an Adam optimizer with learning rate 3e-4. You should track model performance on the validation set, including the accuracy. \n",
    "\n",
    "Your code should be structured to account for restarting broken training runs. You will need to save your model every epoch, and save all of the model's training and validation performance up to that point (a convenient method is to use the `CSVLogger` callback). In the case of a broken training run, the required data should be loaded, and the training run resumed from the last saved checkpoint. You do not need to use early stopping in the training run.\n",
    "\n",
    "When training has completed, compute and print the final evaluation of your model on the validation set.\n",
    "\n",
    "_NB: The model would need to be larger and trained for longer to achieve good performance on this task. The model and training have been scaled down to accommodate infrastructure limitations on the Coursera platform. You should implement the architecture as specified in this assessment, but you can train the model for longer if you wish. The performance of the resulting model is **not** part of the marking criteria._\n",
    "\n",
    "**(15 marks)**"
   ]
  },
  {
   "cell_type": "code",
   "execution_count": 37,
   "id": "2f02bbdf-ee43-4157-a026-5f3361bf19cb",
   "metadata": {},
   "outputs": [
    {
     "name": "stderr",
     "output_type": "stream",
     "text": [
      "d:\\University-local\\Imperial\\Term 2\\Deep Learning\\.conda\\lib\\site-packages\\keras\\optimizers\\optimizer_v2\\adam.py:114: UserWarning: The `lr` argument is deprecated, use `learning_rate` instead.\n",
      "  super().__init__(name, **kwargs)\n"
     ]
    }
   ],
   "source": [
    "#setup optimizer and callback\n",
    "optimizer = Adam(lr = 3e-4)\n",
    "# callback to save training and validation performance in case of broken runs\n",
    "logger = CSVLogger(\"epoch_log.csv\", separator = \",\", append = True)\n",
    "# callback to save the model every epoch, but only record the best to avoid having too big of a file\n",
    "#model performance is to be tracked on the validation loss, but still include accuracy, so monitor validation loss\n",
    "ckpt = ModelCheckpoint(\"model.csv\", monitor = \"val_loss\", save_best_only= True, mode = \"min\")\n",
    "fm.compile(loss = \"SparseCategoricalCrossentropy\", optimizer = optimizer,metrics = [\"accuracy\"])"
   ]
  },
  {
   "cell_type": "code",
   "execution_count": 38,
   "id": "a2304e81-33c5-4c1b-8124-81d85be49f29",
   "metadata": {},
   "outputs": [
    {
     "name": "stdout",
     "output_type": "stream",
     "text": [
      "Epoch 1/20\n"
     ]
    },
    {
     "name": "stdout",
     "output_type": "stream",
     "text": [
      "    234/Unknown - 99s 391ms/step - loss: 2.0113 - accuracy: 0.2824"
     ]
    },
    {
     "name": "stderr",
     "output_type": "stream",
     "text": [
      "WARNING:absl:Found untraced functions such as _jit_compiled_convolution_op, _jit_compiled_convolution_op, conv2d_6_layer_call_fn, conv2d_6_layer_call_and_return_conditional_losses, _jit_compiled_convolution_op while saving (showing 5 of 21). These functions will not be directly callable after loading.\n"
     ]
    },
    {
     "name": "stdout",
     "output_type": "stream",
     "text": [
      "INFO:tensorflow:Assets written to: model.csv\\assets\n"
     ]
    },
    {
     "name": "stderr",
     "output_type": "stream",
     "text": [
      "INFO:tensorflow:Assets written to: model.csv\\assets\n"
     ]
    },
    {
     "name": "stdout",
     "output_type": "stream",
     "text": [
      "234/234 [==============================] - 130s 527ms/step - loss: 2.0113 - accuracy: 0.2824 - val_loss: 2.0825 - val_accuracy: 0.3445\n",
      "Epoch 2/20\n",
      "234/234 [==============================] - ETA: 0s - loss: 1.3491 - accuracy: 0.3803"
     ]
    },
    {
     "name": "stderr",
     "output_type": "stream",
     "text": [
      "WARNING:absl:Found untraced functions such as _jit_compiled_convolution_op, _jit_compiled_convolution_op, conv2d_6_layer_call_fn, conv2d_6_layer_call_and_return_conditional_losses, _jit_compiled_convolution_op while saving (showing 5 of 21). These functions will not be directly callable after loading.\n"
     ]
    },
    {
     "name": "stdout",
     "output_type": "stream",
     "text": [
      "INFO:tensorflow:Assets written to: model.csv\\assets\n"
     ]
    },
    {
     "name": "stderr",
     "output_type": "stream",
     "text": [
      "INFO:tensorflow:Assets written to: model.csv\\assets\n"
     ]
    },
    {
     "name": "stdout",
     "output_type": "stream",
     "text": [
      "234/234 [==============================] - 123s 524ms/step - loss: 1.3491 - accuracy: 0.3803 - val_loss: 1.3399 - val_accuracy: 0.4157\n",
      "Epoch 3/20\n",
      "234/234 [==============================] - ETA: 0s - loss: 1.1102 - accuracy: 0.4227"
     ]
    },
    {
     "name": "stderr",
     "output_type": "stream",
     "text": [
      "WARNING:absl:Found untraced functions such as _jit_compiled_convolution_op, _jit_compiled_convolution_op, conv2d_6_layer_call_fn, conv2d_6_layer_call_and_return_conditional_losses, _jit_compiled_convolution_op while saving (showing 5 of 21). These functions will not be directly callable after loading.\n"
     ]
    },
    {
     "name": "stdout",
     "output_type": "stream",
     "text": [
      "INFO:tensorflow:Assets written to: model.csv\\assets\n"
     ]
    },
    {
     "name": "stderr",
     "output_type": "stream",
     "text": [
      "INFO:tensorflow:Assets written to: model.csv\\assets\n"
     ]
    },
    {
     "name": "stdout",
     "output_type": "stream",
     "text": [
      "234/234 [==============================] - 123s 523ms/step - loss: 1.1102 - accuracy: 0.4227 - val_loss: 1.1183 - val_accuracy: 0.4205\n",
      "Epoch 4/20\n",
      "234/234 [==============================] - ETA: 0s - loss: 1.0699 - accuracy: 0.4266"
     ]
    },
    {
     "name": "stderr",
     "output_type": "stream",
     "text": [
      "WARNING:absl:Found untraced functions such as _jit_compiled_convolution_op, _jit_compiled_convolution_op, conv2d_6_layer_call_fn, conv2d_6_layer_call_and_return_conditional_losses, _jit_compiled_convolution_op while saving (showing 5 of 21). These functions will not be directly callable after loading.\n"
     ]
    },
    {
     "name": "stdout",
     "output_type": "stream",
     "text": [
      "INFO:tensorflow:Assets written to: model.csv\\assets\n"
     ]
    },
    {
     "name": "stderr",
     "output_type": "stream",
     "text": [
      "INFO:tensorflow:Assets written to: model.csv\\assets\n"
     ]
    },
    {
     "name": "stdout",
     "output_type": "stream",
     "text": [
      "234/234 [==============================] - 124s 528ms/step - loss: 1.0699 - accuracy: 0.4266 - val_loss: 1.0712 - val_accuracy: 0.4325\n",
      "Epoch 5/20\n",
      "234/234 [==============================] - ETA: 0s - loss: 1.0471 - accuracy: 0.4330"
     ]
    },
    {
     "name": "stderr",
     "output_type": "stream",
     "text": [
      "WARNING:absl:Found untraced functions such as _jit_compiled_convolution_op, _jit_compiled_convolution_op, conv2d_6_layer_call_fn, conv2d_6_layer_call_and_return_conditional_losses, _jit_compiled_convolution_op while saving (showing 5 of 21). These functions will not be directly callable after loading.\n"
     ]
    },
    {
     "name": "stdout",
     "output_type": "stream",
     "text": [
      "INFO:tensorflow:Assets written to: model.csv\\assets\n"
     ]
    },
    {
     "name": "stderr",
     "output_type": "stream",
     "text": [
      "INFO:tensorflow:Assets written to: model.csv\\assets\n"
     ]
    },
    {
     "name": "stdout",
     "output_type": "stream",
     "text": [
      "234/234 [==============================] - 123s 523ms/step - loss: 1.0471 - accuracy: 0.4330 - val_loss: 1.0099 - val_accuracy: 0.4629\n",
      "Epoch 6/20\n",
      "234/234 [==============================] - ETA: 0s - loss: 1.0255 - accuracy: 0.4340"
     ]
    },
    {
     "name": "stderr",
     "output_type": "stream",
     "text": [
      "WARNING:absl:Found untraced functions such as _jit_compiled_convolution_op, _jit_compiled_convolution_op, conv2d_6_layer_call_fn, conv2d_6_layer_call_and_return_conditional_losses, _jit_compiled_convolution_op while saving (showing 5 of 21). These functions will not be directly callable after loading.\n"
     ]
    },
    {
     "name": "stdout",
     "output_type": "stream",
     "text": [
      "INFO:tensorflow:Assets written to: model.csv\\assets\n"
     ]
    },
    {
     "name": "stderr",
     "output_type": "stream",
     "text": [
      "INFO:tensorflow:Assets written to: model.csv\\assets\n"
     ]
    },
    {
     "name": "stdout",
     "output_type": "stream",
     "text": [
      "234/234 [==============================] - 121s 516ms/step - loss: 1.0255 - accuracy: 0.4340 - val_loss: 1.0039 - val_accuracy: 0.4456\n",
      "Epoch 7/20\n",
      "234/234 [==============================] - 96s 407ms/step - loss: 1.0119 - accuracy: 0.4428 - val_loss: 1.0071 - val_accuracy: 0.4459\n",
      "Epoch 8/20\n",
      "234/234 [==============================] - ETA: 0s - loss: 1.0126 - accuracy: 0.4366"
     ]
    },
    {
     "name": "stderr",
     "output_type": "stream",
     "text": [
      "WARNING:absl:Found untraced functions such as _jit_compiled_convolution_op, _jit_compiled_convolution_op, conv2d_6_layer_call_fn, conv2d_6_layer_call_and_return_conditional_losses, _jit_compiled_convolution_op while saving (showing 5 of 21). These functions will not be directly callable after loading.\n"
     ]
    },
    {
     "name": "stdout",
     "output_type": "stream",
     "text": [
      "INFO:tensorflow:Assets written to: model.csv\\assets\n"
     ]
    },
    {
     "name": "stderr",
     "output_type": "stream",
     "text": [
      "INFO:tensorflow:Assets written to: model.csv\\assets\n"
     ]
    },
    {
     "name": "stdout",
     "output_type": "stream",
     "text": [
      "234/234 [==============================] - 118s 504ms/step - loss: 1.0126 - accuracy: 0.4366 - val_loss: 1.0009 - val_accuracy: 0.4517\n",
      "Epoch 9/20\n",
      "234/234 [==============================] - 96s 409ms/step - loss: 1.0039 - accuracy: 0.4474 - val_loss: 1.0043 - val_accuracy: 0.4283\n",
      "Epoch 10/20\n",
      "234/234 [==============================] - 96s 409ms/step - loss: 0.9928 - accuracy: 0.4473 - val_loss: 1.0182 - val_accuracy: 0.4371\n",
      "Epoch 11/20\n",
      "234/234 [==============================] - ETA: 0s - loss: 0.9776 - accuracy: 0.4560"
     ]
    },
    {
     "name": "stderr",
     "output_type": "stream",
     "text": [
      "WARNING:absl:Found untraced functions such as _jit_compiled_convolution_op, _jit_compiled_convolution_op, conv2d_6_layer_call_fn, conv2d_6_layer_call_and_return_conditional_losses, _jit_compiled_convolution_op while saving (showing 5 of 21). These functions will not be directly callable after loading.\n"
     ]
    },
    {
     "name": "stdout",
     "output_type": "stream",
     "text": [
      "INFO:tensorflow:Assets written to: model.csv\\assets\n"
     ]
    },
    {
     "name": "stderr",
     "output_type": "stream",
     "text": [
      "INFO:tensorflow:Assets written to: model.csv\\assets\n"
     ]
    },
    {
     "name": "stdout",
     "output_type": "stream",
     "text": [
      "234/234 [==============================] - 119s 510ms/step - loss: 0.9776 - accuracy: 0.4560 - val_loss: 0.9811 - val_accuracy: 0.4285\n",
      "Epoch 12/20\n",
      "234/234 [==============================] - 98s 419ms/step - loss: 0.9805 - accuracy: 0.4468 - val_loss: 0.9975 - val_accuracy: 0.4253\n",
      "Epoch 13/20\n",
      "234/234 [==============================] - 99s 424ms/step - loss: 0.9789 - accuracy: 0.4417 - val_loss: 0.9905 - val_accuracy: 0.4555\n",
      "Epoch 14/20\n",
      "234/234 [==============================] - 99s 424ms/step - loss: 0.9747 - accuracy: 0.4492 - val_loss: 0.9879 - val_accuracy: 0.4280\n",
      "Epoch 15/20\n",
      "234/234 [==============================] - ETA: 0s - loss: 0.9673 - accuracy: 0.4536"
     ]
    },
    {
     "name": "stderr",
     "output_type": "stream",
     "text": [
      "WARNING:absl:Found untraced functions such as _jit_compiled_convolution_op, _jit_compiled_convolution_op, conv2d_6_layer_call_fn, conv2d_6_layer_call_and_return_conditional_losses, _jit_compiled_convolution_op while saving (showing 5 of 21). These functions will not be directly callable after loading.\n"
     ]
    },
    {
     "name": "stdout",
     "output_type": "stream",
     "text": [
      "INFO:tensorflow:Assets written to: model.csv\\assets\n"
     ]
    },
    {
     "name": "stderr",
     "output_type": "stream",
     "text": [
      "INFO:tensorflow:Assets written to: model.csv\\assets\n"
     ]
    },
    {
     "name": "stdout",
     "output_type": "stream",
     "text": [
      "234/234 [==============================] - 124s 529ms/step - loss: 0.9673 - accuracy: 0.4536 - val_loss: 0.9482 - val_accuracy: 0.4648\n",
      "Epoch 16/20\n",
      "234/234 [==============================] - 100s 427ms/step - loss: 0.9679 - accuracy: 0.4495 - val_loss: 0.9673 - val_accuracy: 0.4525\n",
      "Epoch 17/20\n",
      "234/234 [==============================] - 101s 433ms/step - loss: 0.9618 - accuracy: 0.4540 - val_loss: 0.9596 - val_accuracy: 0.4381\n",
      "Epoch 18/20\n",
      "234/234 [==============================] - 99s 424ms/step - loss: 0.9549 - accuracy: 0.4585 - val_loss: 0.9531 - val_accuracy: 0.4544\n",
      "Epoch 19/20\n",
      "234/234 [==============================] - 99s 424ms/step - loss: 0.9653 - accuracy: 0.4525 - val_loss: 0.9622 - val_accuracy: 0.4640\n",
      "Epoch 20/20\n",
      "234/234 [==============================] - ETA: 0s - loss: 0.9596 - accuracy: 0.4614"
     ]
    },
    {
     "name": "stderr",
     "output_type": "stream",
     "text": [
      "WARNING:absl:Found untraced functions such as _jit_compiled_convolution_op, _jit_compiled_convolution_op, conv2d_6_layer_call_fn, conv2d_6_layer_call_and_return_conditional_losses, _jit_compiled_convolution_op while saving (showing 5 of 21). These functions will not be directly callable after loading.\n"
     ]
    },
    {
     "name": "stdout",
     "output_type": "stream",
     "text": [
      "INFO:tensorflow:Assets written to: model.csv\\assets\n"
     ]
    },
    {
     "name": "stderr",
     "output_type": "stream",
     "text": [
      "INFO:tensorflow:Assets written to: model.csv\\assets\n"
     ]
    },
    {
     "name": "stdout",
     "output_type": "stream",
     "text": [
      "234/234 [==============================] - 123s 526ms/step - loss: 0.9596 - accuracy: 0.4614 - val_loss: 0.9407 - val_accuracy: 0.4515\n"
     ]
    }
   ],
   "source": [
    "fm_history = fm.fit(train_ds,epochs = 20, validation_data = val_ds, callbacks = [logger,ckpt])"
   ]
  },
  {
   "cell_type": "code",
   "execution_count": 39,
   "id": "ba5ef126",
   "metadata": {},
   "outputs": [
    {
     "name": "stdout",
     "output_type": "stream",
     "text": [
      "59/59 [==============================] - 8s 126ms/step - loss: 0.9453 - accuracy: 0.4584\n",
      "[0.9453259110450745, 0.45840001106262207]\n"
     ]
    }
   ],
   "source": [
    "#test the best model on the validation set (as stated on ED)\n",
    "#we do so by loading from the file, to ensure it can be rexecuted if needed\n",
    "best_model = tf.keras.models.load_model(\"model.csv\")\n",
    "print(best_model.evaluate(val_ds))"
   ]
  },
  {
   "cell_type": "markdown",
   "id": "6a6b4267-3914-4135-ac7e-395b3d05df2f",
   "metadata": {},
   "source": [
    "b) Plot the loss and accuracy over the course of training on the training and validation sets.\n",
    "\n",
    "Select at least one sample image and question from the validation set, and compute the model predictions. Display the image, question, ground truth answer and model predictive distribution over the set of answers.\n",
    "\n",
    "**(7 marks)**"
   ]
  },
  {
   "cell_type": "code",
   "execution_count": 40,
   "id": "97343dde-440b-41e1-85a2-3721d9993096",
   "metadata": {},
   "outputs": [
    {
     "data": {
      "image/png": "[encoded data removed]",
      "text/plain": [
       "<Figure size 640x480 with 1 Axes>"
      ]
     },
     "metadata": {},
     "output_type": "display_data"
    },
    {
     "data": {
      "image/png": "[encoded data removed]",
      "text/plain": [
       "<Figure size 640x480 with 1 Axes>"
      ]
     },
     "metadata": {},
     "output_type": "display_data"
    }
   ],
   "source": [
    "\n",
    "plt.plot(fm_history.history[\"loss\"], \"r\", label = \"training loss\")\n",
    "plt.plot(fm_history.history[\"val_loss\"],\"b\",label = \"test loss\")\n",
    "plt.xlabel(\"Epoch\")\n",
    "plt.xticks([0,5,10,15,20])\n",
    "plt.ylabel(\"Value\")\n",
    "plt.legend()\n",
    "plt.show()\n",
    "\n",
    "plt.plot(fm_history.history[\"accuracy\"], \"r\", label = \"training accuracy\")\n",
    "plt.plot(fm_history.history[\"val_accuracy\"],\"b\",label = \"test accuracy\")\n",
    "plt.xlabel(\"Epoch\")\n",
    "plt.xticks([0,5,10,15,20])\n",
    "plt.ylabel(\"Value\")\n",
    "plt.legend()\n",
    "plt.show()\n"
   ]
  },
  {
   "cell_type": "markdown",
   "id": "484befbe",
   "metadata": {},
   "source": [
    "Next, we pick a random question from the validation set and predict the response:"
   ]
  },
  {
   "cell_type": "code",
   "execution_count": 41,
   "id": "7e47ebed-5bbf-4db0-927f-7fc44acb4d6f",
   "metadata": {},
   "outputs": [
    {
     "data": {
      "image/png": "[encoded data removed]",
      "text/plain": [
       "<Figure size 640x480 with 1 Axes>"
      ]
     },
     "metadata": {},
     "output_type": "display_data"
    },
    {
     "name": "stdout",
     "output_type": "stream",
     "text": [
      "Question: Are there any other small things that have the same shape as the yellow object?\n",
      "Answer: yes\n"
     ]
    }
   ],
   "source": [
    "#select a batch\n",
    "for ele in val_ds.take(1):\n",
    "    eg, eg_a= ele[0], ele[1]\n",
    "#randomly select an item from the batch\n",
    "r = np.random.randint(0,eg_a.shape[0]-1)\n",
    "\n",
    "eg_q,eg_i= eg[0][r], eg[1][r]\n",
    "eg_a = eg_a[r]\n",
    "plt.imshow(eg_i)\n",
    "plt.show()\n",
    "\n",
    "#print question \n",
    "eg_q_words = [vocab_q[idx] for idx in eg_q if idx != 0]\n",
    "eg_q_words[0] = eg_q_words[0].capitalize()\n",
    "eg_q_sentence = ' '.join(word for word in eg_q_words)\n",
    "print(f\"Question: {eg_q_sentence}?\")\n",
    "print(f\"Answer: {vocab_ans[eg_a]}\")\n"
   ]
  },
  {
   "cell_type": "markdown",
   "id": "f48da532",
   "metadata": {},
   "source": [
    "Now, for the predicted response, and predictive categorical distribution:"
   ]
  },
  {
   "cell_type": "code",
   "execution_count": 42,
   "id": "7d8559b8",
   "metadata": {},
   "outputs": [
    {
     "name": "stdout",
     "output_type": "stream",
     "text": [
      "1/1 [==============================] - 2s 2s/step\n",
      "Predicted answer: yes\n"
     ]
    }
   ],
   "source": [
    "pred = fm.predict((eg_q[None,:],eg_i[None,:])).squeeze(0) \n",
    "print(f\"Predicted answer: {vocab_ans[tf.argmax(pred)]}\")\n"
   ]
  },
  {
   "cell_type": "code",
   "execution_count": 43,
   "id": "5443e29f",
   "metadata": {},
   "outputs": [
    {
     "data": {
      "image/png": "[encoded data removed]",
      "text/plain": [
       "<Figure size 640x480 with 1 Axes>"
      ]
     },
     "metadata": {},
     "output_type": "display_data"
    }
   ],
   "source": [
    "plt.bar(vocab_ans, pred)\n",
    "plt.xticks(rotation=90)\n",
    "plt.ylabel(\"Probability\")\n",
    "plt.show()"
   ]
  },
  {
   "cell_type": "code",
   "execution_count": 44,
   "id": "ba8f891f",
   "metadata": {},
   "outputs": [
    {
     "name": "stdout",
     "output_type": "stream",
     "text": [
      "╒════════════╤═══════════════╕\n",
      "│ Response   │   Probability │\n",
      "╞════════════╪═══════════════╡\n",
      "│            │   1.10193e-07 │\n",
      "├────────────┼───────────────┤\n",
      "│ [UNK]      │   6.39281e-08 │\n",
      "├────────────┼───────────────┤\n",
      "│ no         │   0.481751    │\n",
      "├────────────┼───────────────┤\n",
      "│ yes        │   0.518153    │\n",
      "├────────────┼───────────────┤\n",
      "│ 1          │   1.09543e-05 │\n",
      "├────────────┼───────────────┤\n",
      "│ 0          │   8.76842e-06 │\n",
      "├────────────┼───────────────┤\n",
      "│ rubber     │   7.18892e-06 │\n",
      "├────────────┼───────────────┤\n",
      "│ metal      │   6.36562e-06 │\n",
      "├────────────┼───────────────┤\n",
      "│ small      │   1.20976e-05 │\n",
      "├────────────┼───────────────┤\n",
      "│ large      │   1.35359e-05 │\n",
      "╘════════════╧═══════════════╛\n"
     ]
    }
   ],
   "source": [
    "#predictive distribution as a table, we do as 3 in order to fully show\n",
    "table = [[vocab_ans[i],pred[i]] for i in range(10)]\n",
    "print(tabulate(table, headers = [\"Response\",\"Probability\"],tablefmt = \"fancy_grid\"))"
   ]
  },
  {
   "cell_type": "code",
   "execution_count": 45,
   "id": "b8c2d1ed",
   "metadata": {},
   "outputs": [
    {
     "name": "stdout",
     "output_type": "stream",
     "text": [
      "╒════════════╤═══════════════╕\n",
      "│ Response   │   Probability │\n",
      "╞════════════╪═══════════════╡\n",
      "│ 2          │   3.96303e-06 │\n",
      "├────────────┼───────────────┤\n",
      "│ cylinder   │   1.29579e-06 │\n",
      "├────────────┼───────────────┤\n",
      "│ sphere     │   2.47861e-06 │\n",
      "├────────────┼───────────────┤\n",
      "│ cube       │   3.20652e-06 │\n",
      "├────────────┼───────────────┤\n",
      "│ 3          │   3.56741e-06 │\n",
      "├────────────┼───────────────┤\n",
      "│ blue       │   6.80669e-07 │\n",
      "├────────────┼───────────────┤\n",
      "│ yellow     │   3.21257e-06 │\n",
      "├────────────┼───────────────┤\n",
      "│ brown      │   1.29853e-06 │\n",
      "├────────────┼───────────────┤\n",
      "│ gray       │   1.94502e-06 │\n",
      "├────────────┼───────────────┤\n",
      "│ purple     │   1.39831e-06 │\n",
      "╘════════════╧═══════════════╛\n"
     ]
    }
   ],
   "source": [
    "table = [[vocab_ans[i],pred[i]] for i in range(10,20)]\n",
    "print(tabulate(table, headers = [\"Response\",\"Probability\"],tablefmt = \"fancy_grid\"))"
   ]
  },
  {
   "cell_type": "code",
   "execution_count": 46,
   "id": "0e170a94",
   "metadata": {},
   "outputs": [
    {
     "name": "stdout",
     "output_type": "stream",
     "text": [
      "╒════════════╤═══════════════╕\n",
      "│ Response   │   Probability │\n",
      "╞════════════╪═══════════════╡\n",
      "│ cyan       │   1.83832e-06 │\n",
      "├────────────┼───────────────┤\n",
      "│ red        │   1.13101e-06 │\n",
      "├────────────┼───────────────┤\n",
      "│ green      │   1.60699e-06 │\n",
      "├────────────┼───────────────┤\n",
      "│ 4          │   4.53224e-06 │\n",
      "├────────────┼───────────────┤\n",
      "│ 5          │   1.32359e-06 │\n",
      "├────────────┼───────────────┤\n",
      "│ 6          │   2.97065e-06 │\n",
      "├────────────┼───────────────┤\n",
      "│ 7          │   2.61602e-07 │\n",
      "├────────────┼───────────────┤\n",
      "│ 8          │   2.29526e-07 │\n",
      "├────────────┼───────────────┤\n",
      "│ 9          │   1.31114e-07 │\n",
      "├────────────┼───────────────┤\n",
      "│ 10         │   2.03581e-07 │\n",
      "╘════════════╧═══════════════╛\n"
     ]
    }
   ],
   "source": [
    "table = [[vocab_ans[i],pred[i]] for i in range(20,30)]\n",
    "print(tabulate(table, headers = [\"Response\",\"Probability\"],tablefmt = \"fancy_grid\"))"
   ]
  },
  {
   "cell_type": "markdown",
   "id": "161f7414-b0c2-4548-bf74-1914c4d81595",
   "metadata": {},
   "source": [
    "c) Explain why adding spatial coordinate feature maps as in 2e) is beneficial for the proposed model and task from questions 1 and 2.\n",
    "\n",
    "**(3 marks)**"
   ]
  },
  {
   "cell_type": "markdown",
   "id": "153da97f-2d13-4f65-b160-b9bc998a057f",
   "metadata": {},
   "source": [
    "It is beneficial because in the context of the questions asked about each image, relative positions of the different objects are crucial to answering the questions correctly. In usual image detection, the CNN can simply learn edges and then other features, without caring too much about where different objects in the image are in relation to each other, since they were made with translation invariance in mind. However, when the learning task requires these relative positionings within the image, the spacial coordinate feature maps are incredibly helpful, since they provide the model with the local information needed so it can learn relative positionings in relation to the words \"left\", \"right\", \"behind\" etc. It also helps with differentiating between two similar looking objects that are located within different parts of the image (which is very important in the context of the dataset questions)."
   ]
  },
  {
   "cell_type": "markdown",
   "id": "7531217f-e2ef-41b2-a122-7d5c611d3089",
   "metadata": {},
   "source": [
    "d) An alternative method to FiLM to incorporate conditioning information would be to concatenate the conditional embedding $\\mathbf{q}$ with the channel dimension in a convolutional layer input $\\mathbf{h}^{(k-1)}$ at every spatial location (in other words, concatenate constant feature maps with the input $\\mathbf{h}^{(k-1)}$ to a convolutional layer). \n",
    "\n",
    "Explain how this method would compare in terms of computation and parameter efficiency with applying the FiLM layer computation outlined in 2c) to the output $\\mathbf{h}^{(k)}$ of the convolutional layer. You can assume the convolutional layer has no activation function.\n",
    "\n",
    "**(5 marks)**"
   ]
  },
  {
   "cell_type": "markdown",
   "id": "3cf89ffc-3fc5-499d-b013-6763ce082504",
   "metadata": {},
   "source": [
    "The FiLM layer shifts and scales the prior output from the batch normalisation layer coming from the CNN part of the block. The shift and scale are aquired via two separate linear layers with the signal q from the GRU part of the network. These linear layers would have parameters that have to be learned within the FiLM layer. The alternative method concatenates q with h before h goes through the convolutional layer. These two methods would have different numbers of parameters, and different computational costs.\n",
    "\n",
    "Firstly, increasing the channel dimension of h by concatenating q is going to increase the computational time, especially considering this is a convolutional layer. Concatenating the conditional embedding at every spatial location means the shape of the tensor would go from (H,W,C) to (H,W,C+D) where C is the number of channels h has before, and D is the dimension of the conditional embedding. In our case, this means an increase in channel dimension from 128 to 256. It comes down to a comparison of the computations required for doubling the channel dimension going into the convolutional layer, and the FiLM layer. In general, considering the kernel shape can be increased and changed, this would lead to more computations required, than the pretty much fixed number required for the FiLM layer. Thus, in general, FiLM is more efficient computationally.\n",
    "\n",
    "As for parameter efficiency, the FiLM layer introduces a $\\gamma$ and a $\\beta$ for each channel of the incoming output $\\mathbf{h}^{(k)}$ of the convolutional layer. This means, assuming a fully connected linear layer for each (with no biases), there would be $128^2 \\times 2 = 32768$ parameters to be learned using the FiLM layer. However, if instead the second method was used, concatenating q and h at every spacial location before the convolutional layer, this would result in a channel dimension of $128 + 128 = 256$. Now the number of parameters would depend on the convolutional layer used, but for arguments sake, lets take the first convolutional layer in the resblock. This has 128 filters and a kernel size of 1x1. Then we are comparing inputs with the same height, width, and batch dimensions, but differet numbers of channels. The FiLM layer method would have 128 channels at this point, resulting in $128 \\times 128 + 128 = 16512$ parameters to be learned (including bias here), whereas the alternative method would have 256 channels, resulting in $256 \\times 128 + 128 = 32,896$ parameters to be learned (again including bias). However, the FiLM layer has the additional parameters to be learned from the layer itself, resulting in $49280$ parameters to learned in total, meaning a difference of $16384$ parameters between the two methods. This was done for the first convolutional layer in the resblock, but generally, using the alternative doubles the number of parameters (before including the bias terms) in the convolutional layer, but doesn't have the parameters to be learned in the FiLM layer. However, the number of parameters to be learned in the FiLM layer can be considered fixed, assuming the input channels remains constant. If the kernel size in the convolutional layer is increased, then then the number of parameters needed to be learned is increased, thus when the second method is used and this number is then doubled, it can lead to a much greater total number of parameters for the second method, compared to the first, even with the $32768$ less from not having the FiLM parameters. This can be seen below:"
   ]
  },
  {
   "cell_type": "code",
   "execution_count": 47,
   "id": "6bb3cd1e",
   "metadata": {},
   "outputs": [
    {
     "name": "stdout",
     "output_type": "stream",
     "text": [
      "(64, 56, 56, 256)\n"
     ]
    }
   ],
   "source": [
    "#Setup dummy inputs\n",
    "for ele in train_ds.take(1):\n",
    "    inputs, outputs = ele\n",
    "\n",
    "q_test = gru_network(inputs[0])\n",
    "h_test = cnn_feature_extractor(inputs[1])\n",
    "\n",
    "#for FiLM layer, this is done after the Conv layer, so q would come later, but we already calculated the number of parameters introduced by this\n",
    "q_test = q_test[:,None,None,:]\n",
    "q_test = tf.tile(q_test,[1,56,56,1])\n",
    "h_test_alternative = tf.concat([h_test,q_test],axis = -1)\n",
    "print(h_test_alternative.shape)\n"
   ]
  },
  {
   "cell_type": "code",
   "execution_count": 48,
   "id": "b5562e9c",
   "metadata": {},
   "outputs": [
    {
     "name": "stdout",
     "output_type": "stream",
     "text": [
      "Model: \"sequential\"\n",
      "_________________________________________________________________\n",
      " Layer (type)                Output Shape              Param #   \n",
      "=================================================================\n",
      " conv2d_9 (Conv2D)           (64, 56, 56, 128)         16512     \n",
      "                                                                 \n",
      "=================================================================\n",
      "Total params: 16,512\n",
      "Trainable params: 16,512\n",
      "Non-trainable params: 0\n",
      "_________________________________________________________________\n",
      "None\n",
      "------------------------------------------------------------------------------------------------------------------------------------------------------------------------------------------------------------------------------------------------------------------------------------------------------------ \n",
      "\n",
      "ALTERATIVE METHOD:\n",
      "Model: \"sequential_1\"\n",
      "_________________________________________________________________\n",
      " Layer (type)                Output Shape              Param #   \n",
      "=================================================================\n",
      " conv2d_10 (Conv2D)          (64, 56, 56, 128)         32896     \n",
      "                                                                 \n",
      "=================================================================\n",
      "Total params: 32,896\n",
      "Trainable params: 32,896\n",
      "Non-trainable params: 0\n",
      "_________________________________________________________________\n",
      "None\n"
     ]
    }
   ],
   "source": [
    "#summary for \n",
    "test_layer= Sequential([\n",
    "    Conv2D(128, (1,1), activation = \"relu\", padding = \"same\")\n",
    "])\n",
    "test_layer(h_test)\n",
    "print(test_layer.summary())\n",
    "\n",
    "test_layer= Sequential([\n",
    "    Conv2D(128, (1,1), activation = \"relu\", padding = \"same\")\n",
    "])\n",
    "test_layer(h_test_alternative)\n",
    "print(\"---\"*100, \"\\n\")\n",
    "print(\"ALTERATIVE METHOD:\")\n",
    "print(test_layer.summary())\n"
   ]
  },
  {
   "cell_type": "code",
   "execution_count": 49,
   "id": "900cee29",
   "metadata": {},
   "outputs": [
    {
     "name": "stdout",
     "output_type": "stream",
     "text": [
      "Model: \"sequential_2\"\n",
      "_________________________________________________________________\n",
      " Layer (type)                Output Shape              Param #   \n",
      "=================================================================\n",
      " conv2d_11 (Conv2D)          (64, 56, 56, 128)         1638528   \n",
      "                                                                 \n",
      "=================================================================\n",
      "Total params: 1,638,528\n",
      "Trainable params: 1,638,528\n",
      "Non-trainable params: 0\n",
      "_________________________________________________________________\n",
      "None\n",
      "------------------------------------------------------------------------------------------------------------------------------------------------------------------------------------------------------------------------------------------------------------------------------------------------------------ \n",
      "\n",
      "ALTERATIVE METHOD:\n",
      "Model: \"sequential_3\"\n",
      "_________________________________________________________________\n",
      " Layer (type)                Output Shape              Param #   \n",
      "=================================================================\n",
      " conv2d_12 (Conv2D)          (64, 56, 56, 128)         3276928   \n",
      "                                                                 \n",
      "=================================================================\n",
      "Total params: 3,276,928\n",
      "Trainable params: 3,276,928\n",
      "Non-trainable params: 0\n",
      "_________________________________________________________________\n",
      "None\n"
     ]
    }
   ],
   "source": [
    "# NOW FOR A BIGGER KERNEL\n",
    "#summary for \n",
    "test_layer= Sequential([\n",
    "    Conv2D(128, 10, activation = \"relu\", padding = \"same\")\n",
    "])\n",
    "test_layer(h_test)\n",
    "print(test_layer.summary())\n",
    "\n",
    "test_layer= Sequential([\n",
    "    Conv2D(128, 10, activation = \"relu\", padding = \"same\")\n",
    "])\n",
    "test_layer(h_test_alternative)\n",
    "print(\"---\"*100, \"\\n\")\n",
    "print(\"ALTERATIVE METHOD:\")\n",
    "print(test_layer.summary())\n"
   ]
  },
  {
   "cell_type": "markdown",
   "id": "b85218f5",
   "metadata": {},
   "source": [
    "Hence again, in general, the FiLM layer is going to be more efficient with respect to the number of parameters needed."
   ]
  },
  {
   "cell_type": "markdown",
   "id": "e2202a29",
   "metadata": {},
   "source": [
    "### Question 4 (Total 10 marks)\n",
    "\n",
    "Provide a separate PDF report with your evaluation and conclusions on the model and training results in this assessment.\n",
    "\n",
    "In addition, compare the experiment conducted in this assessment with that described in section 2 of the [original paper](https://arxiv.org/abs/1709.07871). In particular, discuss how the model architecture and training algorithm differ.\n",
    "\n",
    "Your report should be no more than 1 page.\n",
    "\n",
    "**(10 marks)**"
   ]
  }
 ],
 "metadata": {
  "kernelspec": {
   "display_name": "Python 3",
   "language": "python",
   "name": "python3"
  },
  "language_info": {
   "codemirror_mode": {
    "name": "ipython",
    "version": 3
   },
   "file_extension": ".py",
   "mimetype": "text/x-python",
   "name": "python",
   "nbconvert_exporter": "python",
   "pygments_lexer": "ipython3",
   "version": "3.10.13"
  }
 },
 "nbformat": 4,
 "nbformat_minor": 5
}
