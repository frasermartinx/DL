{
 "cells": [
  {
   "cell_type": "markdown",
   "id": "d7e6c497",
   "metadata": {},
   "source": [
    "# Deep Learning\n",
    "## Summative assessment\n",
    "### Coursework 2"
   ]
  },
  {
   "cell_type": "markdown",
   "id": "bedeb7a9",
   "metadata": {},
   "source": [
    "#### Instructions\n",
    "\n",
    "This coursework is released on **Wednesday 21st February 9.00** and is due by **Wednesday 6th March 23.59**. It is worth **40%** of your overall mark. There are 4 questions in this assessment, and a total of 100 marks are available. **You should attempt to answer all questions.** In addition to the total number of marks per question below, an additional 10 marks is available for presentation and clarity/quality of code.\n",
    "\n",
    "This assessment assesses your ability to design, implement, train and evaluate a deep learning model for a classification task using multimodal data.\n",
    "\n",
    "You can make imports as and when you need them throughout the notebook, and add code cells where necessary. Make sure your notebook executes correctly in sequence before submitting.\n",
    "\n",
    "#### Submission instructions\n",
    "\n",
    "The submission for this assessment will consist of a notebook (.ipynb file) and a PDF submission.\n",
    "\n",
    "Ensure your notebook executes correctly in order. Save your notebook .ipynb file **after you have executed it** (so that outputs are all showing). It is recommended to also submit a PDF copy of your executed notebook, in case the .ipynb file is corrupted for some reason. \n",
    "\n",
    "Upload a zip file containing your notebook and separate PDF file(s) to Coursera by the deadline above."
   ]
  },
  {
   "cell_type": "code",
   "execution_count": 81,
   "id": "0942eeef",
   "metadata": {
    "scrolled": true
   },
   "outputs": [],
   "source": [
    "# You will need the following imports for this assessment. You can make additional imports when you need them\n",
    "\n",
    "import tensorflow as tf\n",
    "import numpy as np\n",
    "import matplotlib.pyplot as plt\n",
    "import pandas as pd\n",
    "import os\n",
    "\n",
    "from tensorflow.keras.layers import (Layer, Input, Dense, GRU, Embedding, Conv2D, BatchNormalization, Activation, GlobalMaxPooling2D, TextVectorization, StringLookup)\n",
    "from tensorflow.keras.models import Sequential, Model\n",
    "from tensorflow.keras.optimizers import Adam\n",
    "from tensorflow.keras.callbacks import CSVLogger, ModelCheckpoint\n",
    "from tabulate import tabulate"
   ]
  },
  {
   "cell_type": "code",
   "execution_count": 82,
   "id": "2cbb167a-1d60-4635-b929-cd1bb7d98146",
   "metadata": {},
   "outputs": [
    {
     "name": "stdout",
     "output_type": "stream",
     "text": [
      "[PhysicalDevice(name='/physical_device:GPU:0', device_type='GPU')]\n"
     ]
    }
   ],
   "source": [
    "# You will need access to a GPU for this coursework\n",
    "\n",
    "print(tf.config.list_physical_devices('GPU'))\n",
    "tf.keras.backend.clear_session()"
   ]
  },
  {
   "cell_type": "markdown",
   "id": "7edcd578",
   "metadata": {},
   "source": [
    "#### The CLEVR Dataset\n",
    "\n",
    "This assessment makes use of the [CLEVR Dataset](https://cs.stanford.edu/people/jcjohns/clevr/). This dataset is a visual question answering dataset, and consists of images with corresponding text questions and answers about the image.  \n",
    "\n",
    "* Johnson, J., Hariharan, B., van der Maaten, L., Li, F.-F., Zitnick, C. L. & Girshick, R. (2016), \"CLEVR: A Diagnostic Dataset for Compositional Language and Elementary Visual Reasoning\", *IEEE Conference on Computer Vision and Pattern Recognition (CVPR)*, 1988-1997.\n",
    "\n",
    "The original dataset consists of a training set of 70,000 images and 699,989 questions, a validation set of 15,000 images and 149,991 questions, and a test set of 15,000 images and 14,988 questions. In this coursework you will work with a subset of the training and validation splits, which have been preprocessed and prepared for you. \n",
    "\n",
    "The data is stored in TFRecord format, which is a data format that is efficient for TensorFlow to work with. You can read about the TFRecord format [here](https://www.tensorflow.org/tutorials/load_data/tfrecord) if you are interested, but there is no need to find out about TFRecord for this assessment. The code to read in the TFRecord data to Dataset objects is provided for you below."
   ]
  },
  {
   "cell_type": "code",
   "execution_count": 83,
   "id": "7ebe0cc4",
   "metadata": {},
   "outputs": [],
   "source": [
    "train_ds = tf.data.TFRecordDataset([os.path.join('../../../data_CW2/data', 'train', f) \n",
    "                                    for f in os.listdir(os.path.join('../../../data_CW2/data', 'train')) if f.endswith('tfrecords')])\n",
    "val_ds = tf.data.TFRecordDataset([os.path.join('../../../data_CW2/data', 'val', f) \n",
    "                                    for f in os.listdir(os.path.join('../../../data_CW2/data', 'val')) if f.endswith('tfrecords')])"
   ]
  },
  {
   "cell_type": "code",
   "execution_count": 84,
   "id": "935a3e43",
   "metadata": {},
   "outputs": [],
   "source": [
    "# The following helper function will parse the TFRecord files to return a dictionary of TensorFlow objects\n",
    "\n",
    "def parse_function(example_proto):\n",
    "    features = {\n",
    "        \"image\": tf.io.FixedLenFeature((), tf.string),\n",
    "        \"question\": tf.io.VarLenFeature(dtype=tf.string),\n",
    "        \"answer\": tf.io.VarLenFeature(dtype=tf.string)\n",
    "    }\n",
    "    parsed_features = tf.io.parse_single_example(serialized=example_proto, features=features)\n",
    "    parsed_features[\"question\"] = tf.sparse.to_dense(parsed_features[\"question\"])\n",
    "    parsed_features[\"answer\"] = tf.sparse.to_dense(parsed_features[\"answer\"])\n",
    "    image = tf.io.decode_raw(parsed_features[\"image\"], tf.int32)\n",
    "    image = tf.reshape(image, [224, 224, 3])\n",
    "    parsed_features[\"image\"] = image\n",
    "    return parsed_features"
   ]
  },
  {
   "cell_type": "code",
   "execution_count": 85,
   "id": "c9be7868",
   "metadata": {},
   "outputs": [],
   "source": [
    "train_ds = train_ds.map(parse_function)\n",
    "val_ds = val_ds.map(parse_function)"
   ]
  },
  {
   "cell_type": "code",
   "execution_count": 86,
   "id": "418cad08-c46a-452e-bd37-42fb4e5c108b",
   "metadata": {},
   "outputs": [
    {
     "data": {
      "text/plain": [
       "{'answer': TensorSpec(shape=(None,), dtype=tf.string, name=None),\n",
       " 'question': TensorSpec(shape=(None,), dtype=tf.string, name=None),\n",
       " 'image': TensorSpec(shape=(224, 224, 3), dtype=tf.int32, name=None)}"
      ]
     },
     "execution_count": 86,
     "metadata": {},
     "output_type": "execute_result"
    }
   ],
   "source": [
    "train_ds.element_spec"
   ]
  },
  {
   "cell_type": "markdown",
   "id": "8023241f",
   "metadata": {},
   "source": [
    "Your task in this assessment is to develop a deep learning model to predict the answer for a given question about an image.\n",
    "\n",
    "You will need to implement special customised layers and a sophisticated model architecture, making use of both CNN and RNN models. You will process the data, train and evaluate the specified model, and then write a proposal for your own modified architecture."
   ]
  },
  {
   "cell_type": "markdown",
   "id": "88838a0b",
   "metadata": {},
   "source": [
    "### Question 1 (Total 15 marks)"
   ]
  },
  {
   "cell_type": "markdown",
   "id": "15773a28",
   "metadata": {},
   "source": [
    "The training and validation datasets both return dictionaries with keys `\"image\"`, `\"question\"` and `\"answer\"`. For each image, there are multiple questions and answers. The question and answer entries in the dictionary are both lists of strings of the same length, with aligned questions and answers for the given image. The image entry is a 224x224x3 integer Tensor. These images have been resized from the original size of 480x320, so they appear slightly stretched (this can be ignored). \n",
    "\n",
    "a) Inspect the contents of the dataset by displaying at least one image and it's corresponding questions and answers.\n",
    "\n",
    "**(3 marks)**"
   ]
  },
  {
   "cell_type": "code",
   "execution_count": 87,
   "id": "0c16938a",
   "metadata": {},
   "outputs": [],
   "source": [
    "for ele in train_ds.take(1):\n",
    "    eg_q, eg_a, eg_i = ele[\"question\"], ele[\"answer\"], ele[\"image\"]\n"
   ]
  },
  {
   "cell_type": "code",
   "execution_count": 88,
   "id": "8e15f4ea",
   "metadata": {},
   "outputs": [
    {
     "data": {
      "image/png": "[encoded data removed]",
      "text/plain": [
       "<Figure size 640x480 with 1 Axes>"
      ]
     },
     "metadata": {},
     "output_type": "display_data"
    }
   ],
   "source": [
    "# First, we show the example image\n",
    "plt.imshow(eg_i)\n",
    "plt.show()"
   ]
  },
  {
   "cell_type": "code",
   "execution_count": 89,
   "id": "6a428147",
   "metadata": {},
   "outputs": [
    {
     "name": "stdout",
     "output_type": "stream",
     "text": [
      "Question: \"The blue metal object is what size?\"\n",
      "Answer: \"large\" \n",
      "\n",
      "Question: \"What is the material of the small cyan cube?\"\n",
      "Answer: \"rubber\" \n",
      "\n",
      "Question: \"Is the size of the cyan thing that is in front of the purple cylinder the same as the small matte ball?\"\n",
      "Answer: \"yes\" \n",
      "\n",
      "Question: \"What number of things are either gray balls or big yellow metal objects?\"\n",
      "Answer: \"1\" \n",
      "\n",
      "Question: \"There is a rubber object that is the same color as the large block; what is its shape?\"\n",
      "Answer: \"cube\" \n",
      "\n",
      "Question: \"There is a shiny thing that is on the left side of the big brown thing and behind the large cyan thing; what size is it?\"\n",
      "Answer: \"large\" \n",
      "\n",
      "Question: \"What number of tiny yellow metal cylinders are there?\"\n",
      "Answer: \"0\" \n",
      "\n",
      "Question: \"How many blocks are either tiny cyan rubber things or small matte things?\"\n",
      "Answer: \"1\" \n",
      "\n",
      "Question: \"There is a blue ball right of the cyan block that is behind the purple thing; how many brown objects are to the right of it?\"\n",
      "Answer: \"1\" \n",
      "\n",
      "Question: \"The cylinder that is the same size as the blue metal ball is what color?\"\n",
      "Answer: \"purple\" \n",
      "\n"
     ]
    }
   ],
   "source": [
    "#Next, we show the example questions and answers for the image\n",
    "l = eg_q.shape[0]\n",
    "for combo in range(l):\n",
    "    tf.print(\"Question:\", eg_q[combo])\n",
    "    tf.print(\"Answer:\", eg_a[combo], \"\\n\")"
   ]
  },
  {
   "cell_type": "markdown",
   "id": "bfc75066-c79e-4d03-b066-dc53b3367c48",
   "metadata": {},
   "source": [
    "b) The training and validation Datasets should be processed as follows:\n",
    "\n",
    "* The image pixel values should be scaled to the interval $[0, 1]$.\n",
    "* The answers should be (sparse) encoded as integer labels. You will need to compute the total number of distinct answers to do this.\n",
    "* The questions should be tokenized and represented as a sequence of integer tokens. The questions should be split on whitespace and standardized by lowercasing and removing punctuation. \n",
    "* A single question-answer pair should be uniformly sampled from the available questions and answers for each image (so each image should appear exactly once per epoch with a single question-answer pair).\n",
    "* The inputs to the model will be the question and the image. The targets will be the answer. Process the Datasets so that they return a tuple of 2 elements corresponding to inputs and targets.\n",
    "* Shuffle the training Dataset, and batch both Datasets with batch size 64.\n",
    "\n",
    "Print out the number of distinct answer labels, as well as the number of tokens in the vocabulary computed from the questions.\n",
    "\n",
    "Print out the element_spec of one of the Datasets after processing. \n",
    "\n",
    "**(12 marks)**"
   ]
  },
  {
   "cell_type": "code",
   "execution_count": 90,
   "id": "d4fe8690-c899-4be6-b482-0064d14fce49",
   "metadata": {},
   "outputs": [],
   "source": [
    "#Scale the images\n",
    "def image_scale(dic):\n",
    "    im = dic[\"image\"]\n",
    "    im = im / 255\n",
    "    dic[\"image\"] = im\n",
    "    return dic\n",
    "\n",
    "train_ds = train_ds.map(image_scale)\n",
    "val_ds = val_ds.map(image_scale)"
   ]
  },
  {
   "cell_type": "code",
   "execution_count": 91,
   "id": "7cfe34cc",
   "metadata": {},
   "outputs": [
    {
     "name": "stdout",
     "output_type": "stream",
     "text": [
      "There are 30 distinct answers including unknown and a placeholder\n",
      "['', '[UNK]', 'no', 'yes', '1', '0', 'rubber', 'metal', 'small', 'large', '2', 'cylinder', 'sphere', 'cube', '3', 'blue', 'yellow', 'brown', 'gray', 'purple', 'cyan', 'red', 'green', '4', '5', '6', '7', '8', '9', '10']\n"
     ]
    }
   ],
   "source": [
    "### Sparse encode answers ###\n",
    "#find number of unique answers\n",
    "text_vectorization_ans = TextVectorization(standardize='lower_and_strip_punctuation',split = \"whitespace\")\n",
    "\n",
    "#get answers for train set\n",
    "answers = train_ds.map(lambda l: l[\"answer\"])\n",
    "\n",
    "#adapt\n",
    "text_vectorization_ans.adapt(answers)\n",
    "\n",
    "vocab_ans_size = text_vectorization_ans.vocabulary_size()\n",
    "vocab_ans = text_vectorization_ans.get_vocabulary()\n",
    "print(f\"There are {vocab_ans_size} distinct answers including unknown and a placeholder\")\n",
    "print(vocab_ans)\n",
    "\n",
    "#this shows that there are 30 unique answers, including unknown and placeholder \"\". \n"
   ]
  },
  {
   "cell_type": "code",
   "execution_count": 92,
   "id": "6bd6f789",
   "metadata": {},
   "outputs": [],
   "source": [
    "#do sparse encoding as requested, we have [UNK] for OOV indices\n",
    "stringlookup = StringLookup(vocabulary = vocab_ans, num_oov_indices=0)\n",
    "\n",
    "def convert_labels(element):\n",
    "    #update the dictionary given\n",
    "    element[\"answer\"] = stringlookup(element[\"answer\"])\n",
    "    return element\n",
    "\n",
    "train_ds = train_ds.map(convert_labels)\n",
    "\n",
    "#this will be the same for validation \n",
    "\n",
    "val_ds = val_ds.map(convert_labels)"
   ]
  },
  {
   "cell_type": "code",
   "execution_count": 93,
   "id": "ff5aa12d",
   "metadata": {},
   "outputs": [],
   "source": [
    "### Now to tokenize all of the questions ###\n",
    "text_vectorization_q = TextVectorization(standardize='lower_and_strip_punctuation',split = \"whitespace\")\n",
    "#adapt to the questions\n",
    "questions = train_ds.map(lambda l: l[\"question\"])\n",
    "text_vectorization_q.adapt(questions)\n",
    "vocab_q_size = text_vectorization_q.vocabulary_size()\n",
    "vocab_q = text_vectorization_q.get_vocabulary()"
   ]
  },
  {
   "cell_type": "code",
   "execution_count": 94,
   "id": "5ab422c1",
   "metadata": {},
   "outputs": [],
   "source": [
    "def tokenize_q(element):\n",
    "    q = element[\"question\"]\n",
    "    element[\"question\"] = text_vectorization_q(q)\n",
    "    return element\n",
    "#map it\n",
    "train_ds = train_ds.map(tokenize_q)\n",
    "val_ds = val_ds.map(tokenize_q)"
   ]
  },
  {
   "cell_type": "code",
   "execution_count": 95,
   "id": "540da4c0",
   "metadata": {},
   "outputs": [
    {
     "name": "stdout",
     "output_type": "stream",
     "text": [
      "{'answer': <tf.Tensor: shape=(10,), dtype=int64, numpy=array([ 9,  6,  3,  4, 13,  9,  5,  4,  4, 19], dtype=int64)>, 'question': <tf.Tensor: shape=(10, 26), dtype=int64, numpy=\n",
      "array([[ 2, 40, 30,  8,  3,  9, 33,  0,  0,  0,  0,  0,  0,  0,  0,  0,\n",
      "         0,  0,  0,  0,  0,  0,  0,  0,  0,  0],\n",
      "       [ 9,  3,  2, 34,  4,  2, 16, 38, 47,  0,  0,  0,  0,  0,  0,  0,\n",
      "         0,  0,  0,  0,  0,  0,  0,  0,  0,  0],\n",
      "       [ 3,  2, 33,  4,  2, 38,  7,  5,  3, 24, 25,  4,  2, 36, 13,  2,\n",
      "         6, 10,  2, 16, 18, 45,  0,  0,  0,  0],\n",
      "       [ 9, 22,  4, 29, 12, 68, 42, 64, 58, 14, 41, 30, 35,  0,  0,  0,\n",
      "         0,  0,  0,  0,  0,  0,  0,  0,  0,  0],\n",
      "       [11,  3, 20, 17,  8,  5,  3,  2,  6, 23, 10,  2, 19, 46,  9,  3,\n",
      "        61, 21,  0,  0,  0,  0,  0,  0,  0,  0],\n",
      "       [11,  3, 20, 31,  7,  5,  3, 50,  2, 26, 49,  4,  2, 14, 39,  7,\n",
      "        55, 27,  2, 19, 38,  7,  9, 33,  3, 48],\n",
      "       [ 9, 22,  4, 15, 41, 30, 57, 12, 11,  0,  0,  0,  0,  0,  0,  0,\n",
      "         0,  0,  0,  0,  0,  0,  0,  0,  0,  0],\n",
      "       [52, 54, 67, 12, 68, 15, 38, 17, 29, 58, 16, 18, 29,  0,  0,  0,\n",
      "         0,  0,  0,  0,  0,  0,  0,  0,  0,  0],\n",
      "       [11,  3, 20, 40, 45, 28,  4,  2, 38, 46,  5,  3, 27,  2, 36,  7,\n",
      "        52, 54, 39, 35, 12, 51,  2, 28,  4, 48],\n",
      "       [ 2, 13,  5,  3,  2,  6, 33, 10,  2, 40, 30, 45,  3,  9, 23,  0,\n",
      "         0,  0,  0,  0,  0,  0,  0,  0,  0,  0]], dtype=int64)>, 'image': <tf.Tensor: shape=(224, 224, 3), dtype=float64, numpy=\n",
      "array([[[0.41176471, 0.41176471, 0.41176471],\n",
      "        [0.41176471, 0.41176471, 0.41176471],\n",
      "        [0.41176471, 0.41176471, 0.41176471],\n",
      "        ...,\n",
      "        [0.4       , 0.4       , 0.4       ],\n",
      "        [0.4       , 0.4       , 0.4       ],\n",
      "        [0.4       , 0.4       , 0.4       ]],\n",
      "\n",
      "       [[0.41176471, 0.41176471, 0.41176471],\n",
      "        [0.41568627, 0.41176471, 0.41176471],\n",
      "        [0.41568627, 0.41568627, 0.41568627],\n",
      "        ...,\n",
      "        [0.4       , 0.4       , 0.4       ],\n",
      "        [0.4       , 0.4       , 0.4       ],\n",
      "        [0.40392157, 0.40392157, 0.40392157]],\n",
      "\n",
      "       [[0.41176471, 0.41176471, 0.41176471],\n",
      "        [0.41568627, 0.41568627, 0.41176471],\n",
      "        [0.41568627, 0.41568627, 0.41176471],\n",
      "        ...,\n",
      "        [0.40392157, 0.40392157, 0.40392157],\n",
      "        [0.4       , 0.4       , 0.4       ],\n",
      "        [0.4       , 0.4       , 0.4       ]],\n",
      "\n",
      "       ...,\n",
      "\n",
      "       [[0.49411765, 0.49019608, 0.48235294],\n",
      "        [0.49411765, 0.49019608, 0.48235294],\n",
      "        [0.49019608, 0.48627451, 0.48235294],\n",
      "        ...,\n",
      "        [0.52941176, 0.52156863, 0.50980392],\n",
      "        [0.5254902 , 0.51764706, 0.50588235],\n",
      "        [0.52156863, 0.51372549, 0.50588235]],\n",
      "\n",
      "       [[0.49019608, 0.48627451, 0.48235294],\n",
      "        [0.49411765, 0.49019608, 0.48235294],\n",
      "        [0.49411765, 0.49019608, 0.48235294],\n",
      "        ...,\n",
      "        [0.52941176, 0.52156863, 0.50980392],\n",
      "        [0.5254902 , 0.51764706, 0.50588235],\n",
      "        [0.5254902 , 0.51764706, 0.50588235]],\n",
      "\n",
      "       [[0.49019608, 0.48627451, 0.48235294],\n",
      "        [0.49411765, 0.48627451, 0.48235294],\n",
      "        [0.49411765, 0.49019608, 0.48235294],\n",
      "        ...,\n",
      "        [0.52941176, 0.52156863, 0.50980392],\n",
      "        [0.5254902 , 0.51764706, 0.50588235],\n",
      "        [0.5254902 , 0.51764706, 0.50588235]]])>}\n"
     ]
    }
   ],
   "source": [
    "for ele in train_ds.take(1):\n",
    "    print(ele)"
   ]
  },
  {
   "cell_type": "code",
   "execution_count": 96,
   "id": "39ab6f91",
   "metadata": {},
   "outputs": [],
   "source": [
    "### Now to sample randomly for each image ###\n",
    "\n",
    "def sample_image(element):\n",
    "    q, a = element[\"question\"], element[\"answer\"]\n",
    "    #10 questions and answers per one\n",
    "    num_qs = tf.shape(q)[0]\n",
    "    #have to use tensorflow operation or it picks the same for all\n",
    "    idx = tf.random.uniform(shape=(), minval=0, maxval=num_qs, dtype=tf.int32)\n",
    "    q = q[idx,:]\n",
    "    a = a[idx]\n",
    "    element[\"question\"] = q\n",
    "    element[\"answer\"] = a\n",
    "    return element\n",
    "\n",
    "train_ds = train_ds.map(sample_image)\n",
    "val_ds = val_ds.map(sample_image)"
   ]
  },
  {
   "cell_type": "code",
   "execution_count": 97,
   "id": "08d8847e",
   "metadata": {},
   "outputs": [],
   "source": [
    "### Now do inputs and targets ###\n",
    "def inputs_and_targets(element):\n",
    "    inputs = (element[\"question\"], element[\"image\"])\n",
    "    targets = element[\"answer\"]\n",
    "    return inputs, targets\n",
    "\n",
    "train_ds = train_ds.map(inputs_and_targets)\n",
    "val_ds = val_ds.map(inputs_and_targets)\n"
   ]
  },
  {
   "cell_type": "code",
   "execution_count": 98,
   "id": "6af4a9d0",
   "metadata": {},
   "outputs": [],
   "source": [
    "### Now shuffle and batch ###\n",
    "batch_size = 64\n",
    "train_ds = train_ds.shuffle(100)\n",
    "\n",
    "#padded batching to make sure the inputs are all of the same shape for each batch\n",
    "train_ds = train_ds.padded_batch(batch_size)\n",
    "val_ds = val_ds.padded_batch(batch_size)\n"
   ]
  },
  {
   "cell_type": "code",
   "execution_count": 99,
   "id": "c4d4d5f7",
   "metadata": {},
   "outputs": [],
   "source": [
    "#finally, prefetch\n",
    "train_ds = train_ds.prefetch(tf.data.AUTOTUNE)\n",
    "val_ds = val_ds.prefetch(tf.data.AUTOTUNE)"
   ]
  },
  {
   "cell_type": "code",
   "execution_count": 100,
   "id": "100b5bf9",
   "metadata": {},
   "outputs": [
    {
     "name": "stdout",
     "output_type": "stream",
     "text": [
      "((TensorSpec(shape=(None, None), dtype=tf.int64, name=None), TensorSpec(shape=(None, 224, 224, 3), dtype=tf.float64, name=None)), TensorSpec(shape=(None,), dtype=tf.int64, name=None))\n"
     ]
    }
   ],
   "source": [
    "### Print off element specs ###\n",
    "\n",
    "print(train_ds.element_spec)\n"
   ]
  },
  {
   "cell_type": "markdown",
   "id": "1075f29a-81c2-4a11-9bde-768e9fb269e5",
   "metadata": {},
   "source": [
    "### Question 2 (Total 35 marks)"
   ]
  },
  {
   "cell_type": "markdown",
   "id": "17bf37ac-40e3-40eb-894b-28cd8bdb8432",
   "metadata": {},
   "source": [
    "The model that you will implement for the visual question answering task was first proposed in the paper\n",
    "\n",
    "* Perez, E., Strub, F., de Vries, H. & Courville, A. (2018), \"FiLM: visual reasoning with a general conditioning layer\", in _Proceedings of the Thirty-Second AAAI Conference on Artificial Intelligence_, New Orleans, Louisiana, USA.\n",
    "\n",
    "The main idea is the introduction of a specialised layer called a FiLM layer (Feature-wise Linear Modulation). The purpose of this layer is to modify the predictions that are made by a CNN prediction model (the central stack coloured in brown in the figure below). The CNN prediction model takes the image as input, and outputs a categorical distribution over the set of possible answers.\n",
    "\n",
    "The FiLM layer uses information stored in a vector embedding (which comes from the question text) to modify the post-activations of the CNN prediction model. This vector embedding is produced by a gated recurrent unit (GRU) network (referred to in the original paper as the FiLM generator) as the final hidden layer representation after processing the input question. This vector embedding is also referred to as the conditioning signal.\n",
    "\n",
    "The overall model architecture is shown in the figure below:\n",
    "\n",
    "<center><img src=\"figures/model.png\" alt=\"Model architecture\" style=\"width: 450px;\"/></center>\n",
    "<center>Overall model architecture</center>\n",
    "\n",
    "The question is tokenized, and learned embeddings are processed sequentially by the GRU network/FiLM generator. There are potentially multiple FiLM layers within the CNN prediction model. Each FiLM layer uses the GRU embedding $\\mathbf{q}$ (the conditioning signal) to modify the output of a convolutional layer within the CNN prediction model, as described in part c)."
   ]
  },
  {
   "cell_type": "markdown",
   "id": "1e0c54e1-344e-45e4-b513-748092b31bb4",
   "metadata": {},
   "source": [
    "a) Implement the FiLM generator as a 2-layer stacked GRU network, using an embedding dimension of 64, and 128 neurons for both of the layers of the GRU. The network should output the final 128-dimensional embedding. Print the model summary.\n",
    "\n",
    "**(3 marks)**"
   ]
  },
  {
   "cell_type": "code",
   "execution_count": 101,
   "id": "28806d5a-f033-443b-9c7f-8a9ddcfed163",
   "metadata": {},
   "outputs": [],
   "source": [
    "gru_network = Sequential([\n",
    "    #embed\n",
    "    Embedding(input_dim = vocab_q_size,output_dim = 64,mask_zero = True),\n",
    "    GRU(units = 128, return_sequences = True),\n",
    "    GRU(units = 128)\n",
    "], name = \"gru_network\")"
   ]
  },
  {
   "cell_type": "code",
   "execution_count": 102,
   "id": "9b63d3f1",
   "metadata": {},
   "outputs": [
    {
     "name": "stdout",
     "output_type": "stream",
     "text": [
      "Model: \"gru_network\"\n",
      "_________________________________________________________________\n",
      " Layer (type)                Output Shape              Param #   \n",
      "=================================================================\n",
      " embedding (Embedding)       (None, None, 64)          5248      \n",
      "                                                                 \n",
      " gru (GRU)                   (None, None, 128)         74496     \n",
      "                                                                 \n",
      " gru_1 (GRU)                 (None, 128)               99072     \n",
      "                                                                 \n",
      "=================================================================\n",
      "Total params: 178,816\n",
      "Trainable params: 178,816\n",
      "Non-trainable params: 0\n",
      "_________________________________________________________________\n"
     ]
    }
   ],
   "source": [
    "gru_network.summary()"
   ]
  },
  {
   "cell_type": "markdown",
   "id": "879bea7c-6b09-4fc0-9f32-5aba04f8b7f4",
   "metadata": {},
   "source": [
    "b) The first block of the CNN prediction model is a feature extractor CNN which does not make use of the conditioning signal $\\mathbf{q}$ from the GRU network. This block takes the image as input, and passes it through two sub-blocks, each consisting of the following layers:\n",
    "\n",
    "* A 2D convolutional layer with 128 filters, a 4x4 kernel, 2x2 strides, 'SAME' padding, and no activation function\n",
    "* A batch normalisation layer\n",
    "* An element-wise ReLU activation\n",
    "\n",
    "Implement the feature extractor CNN and print the model summary.\n",
    "\n",
    "**(2 marks)**"
   ]
  },
  {
   "cell_type": "code",
   "execution_count": 103,
   "id": "8fd4bf2c-f0d9-436d-a876-19a4f7b4735a",
   "metadata": {},
   "outputs": [],
   "source": [
    "cnn_feature_extractor = Sequential([\n",
    "    #sub block one\n",
    "    Conv2D(filters = 128, kernel_size = (4,4), strides = (2,2), padding = \"same\", input_shape = (224,224,3)),\n",
    "    BatchNormalization(),\n",
    "    Activation(\"relu\"),\n",
    "    #sub block two\n",
    "    Conv2D(filters = 128, kernel_size = (4,4), strides = (2,2), padding = \"same\"),\n",
    "    BatchNormalization(),\n",
    "    Activation(\"relu\")\n",
    "], name = \"feature_extractor\")"
   ]
  },
  {
   "cell_type": "code",
   "execution_count": 104,
   "id": "c6d1f306",
   "metadata": {},
   "outputs": [
    {
     "name": "stdout",
     "output_type": "stream",
     "text": [
      "Model: \"feature_extractor\"\n",
      "_________________________________________________________________\n",
      " Layer (type)                Output Shape              Param #   \n",
      "=================================================================\n",
      " conv2d (Conv2D)             (None, 112, 112, 128)     6272      \n",
      "                                                                 \n",
      " batch_normalization (BatchN  (None, 112, 112, 128)    512       \n",
      " ormalization)                                                   \n",
      "                                                                 \n",
      " activation (Activation)     (None, 112, 112, 128)     0         \n",
      "                                                                 \n",
      " conv2d_1 (Conv2D)           (None, 56, 56, 128)       262272    \n",
      "                                                                 \n",
      " batch_normalization_1 (Batc  (None, 56, 56, 128)      512       \n",
      " hNormalization)                                                 \n",
      "                                                                 \n",
      " activation_1 (Activation)   (None, 56, 56, 128)       0         \n",
      "                                                                 \n",
      "=================================================================\n",
      "Total params: 269,568\n",
      "Trainable params: 269,056\n",
      "Non-trainable params: 512\n",
      "_________________________________________________________________\n",
      "None\n"
     ]
    }
   ],
   "source": [
    "print(cnn_feature_extractor.summary())"
   ]
  },
  {
   "cell_type": "markdown",
   "id": "48c19dc6-a633-4d39-bd3c-42cc01e2bcc4",
   "metadata": {},
   "source": [
    "c) Implement a custom layer class for the FiLM layer as described below. This class should subclass the base `Layer` class in the `tensorflow.keras.layers` module. \n",
    "\n",
    "This layer will need to take two inputs when it is called: the conditioning signal $\\mathbf{q}$, as well as the previous convolutional layer output $\\mathbf{h}$. \n",
    "\n",
    "The FiLM layer passes the conditioning signal $\\mathbf{q}$ output by the GRU FiLM generator through a linear layer (dense layer with no activation function) to produce $\\gamma$ and $\\beta$:\n",
    "\n",
    "$$\n",
    "\\gamma = \\textrm{Linear}(\\mathbf{q}) \\quad\\quad \\beta = \\textrm{Linear}(\\mathbf{q}).\n",
    "$$\n",
    "\n",
    "Both $\\gamma$ and $\\beta$ are vectors, with length equal to the number of feature maps (or channels) in the output of a convolutional layer $\\mathbf{h}$. These post-activations are then modulated via the feature-wise affine transformation:\n",
    "\n",
    "$$\n",
    "\\textrm{FiLM}(\\mathbf{h} | \\gamma, \\beta)_{h, w, c} = \\gamma_c \\mathbf{h}_{h, w, c} + \\beta_c,\n",
    "$$\n",
    "where the subscripts $h, w, c$ index the height, width and channel dimensions respectively.\n",
    "\n",
    "Create an instance of your custom layer class and test it on some dummy inputs to verify it works as expected.\n",
    "\n",
    "**(10 marks)**"
   ]
  },
  {
   "cell_type": "code",
   "execution_count": 105,
   "id": "dcc796e6",
   "metadata": {},
   "outputs": [],
   "source": [
    "#the output channels of the convolutional network is 128\n",
    "output_channels = 128\n",
    "class FiLM(Layer):\n",
    "    def __init__(self):\n",
    "        super().__init__()\n",
    "        #initialise the linear transformations so the weights can then be learned from this point onwards\n",
    "        #we only want the given term, not the bias too\n",
    "        self.dense_gamma = Dense(output_channels, name = \"gamma\", use_bias = False)\n",
    "        self.dense_beta = Dense(output_channels, name = \"beta\", use_bias = False)\n",
    "        \n",
    "    def call(self,q,h):\n",
    "        gamma = self.dense_gamma(q)\n",
    "        beta = self.dense_beta(q)\n",
    "        #return broadcasted result, could have done [None, etc]\n",
    "        return tf.expand_dims(tf.expand_dims(gamma,1),1) * h + tf.expand_dims(tf.expand_dims(beta,1),1)\n",
    "        "
   ]
  },
  {
   "cell_type": "code",
   "execution_count": 106,
   "id": "65365654-5ddb-49b0-b914-ce3d05348e50",
   "metadata": {},
   "outputs": [],
   "source": [
    "film = FiLM()"
   ]
  },
  {
   "cell_type": "code",
   "execution_count": 107,
   "id": "27482d1a",
   "metadata": {},
   "outputs": [
    {
     "data": {
      "text/plain": [
       "TensorShape([64, 56, 56, 128])"
      ]
     },
     "execution_count": 107,
     "metadata": {},
     "output_type": "execute_result"
    }
   ],
   "source": [
    "#take dummy data\n",
    "#take the first example for each\n",
    "for ele in train_ds.take(1):\n",
    "    inputs, outputs = ele\n",
    "\n",
    "film(gru_network(inputs[0]), cnn_feature_extractor(inputs[1])).shape\n",
    "#this gives us the shape that we expect"
   ]
  },
  {
   "cell_type": "markdown",
   "id": "51fee9b3-93e3-42dc-bb78-3508871ebe8f",
   "metadata": {},
   "source": [
    "d) The second main block of the CNN network consists of a number of ResBlocks. Each ResBlock consists of the following layers:\n",
    "\n",
    "<center><img src=\"figures/resblock.png\" alt=\"ResBlock\" style=\"width: 150px;\"/></center>\n",
    "\n",
    "\n",
    "* A 1x1 convolutional layer with 128 channels and ReLU activation function\n",
    "* A 3x3 convolutional layer with 128 channels and no activation function\n",
    "* A BatchNormalization layer, where the usual $\\gamma$ and $\\beta$ parameters are not used\n",
    "* a FiLM layer, that also uses the conditioning signal $\\mathbf{q}$ from the GRU network\n",
    "* An elementwise ReLU activation function\n",
    "* The output is then added to the output of the first convolutional layer\n",
    "\n",
    "Each convolutional layer uses 'SAME' padding.\n",
    "\n",
    "Implement the ResBlock as another custom layer. Similar to the FiLM layer, this layer will also need to take two inputs when it is called: the conditioning signal $\\mathbf{q}$, as well as the previous convolutional layer output $\\mathbf{h}$. \n",
    "\n",
    "Create an instance of your custom layer class and test it on some dummy inputs to verify it works as expected.\n",
    "\n",
    "**(8 marks)**"
   ]
  },
  {
   "cell_type": "code",
   "execution_count": 108,
   "id": "04463e72-abf5-45ad-b1c7-52faf3efad90",
   "metadata": {},
   "outputs": [],
   "source": [
    "class ResBlock(Layer):\n",
    "    def __init__(self):\n",
    "        super().__init__()\n",
    "        #dont need to give conv the input dimension\n",
    "        self.conv1 = Conv2D(128, (1,1), activation = \"relu\", padding = \"same\")\n",
    "        self.conv2 = Conv2D(128,(3,3), padding = \"same\")\n",
    "        #turn the bn parameters off for the bn layer preceeding the film layer\n",
    "        self.bn = BatchNormalization(center = False, scale = False)\n",
    "        self.film = FiLM()\n",
    "        self.relu = Activation(\"relu\")\n",
    "    def call(self, q, h):\n",
    "        #send the inputs forward, noting that the first convolutional layer is defined with Relu\n",
    "        h = self.conv1(h)\n",
    "        #save the output of the first convolutional layer for later\n",
    "        conv1_h = h\n",
    "        #proceed forward\n",
    "        h = self.conv2(h)\n",
    "        h = self.bn(h)\n",
    "        h = self.film(q,h)\n",
    "        h = self.relu(h)\n",
    "        #now combine \n",
    "        h = h + conv1_h\n",
    "        return h"
   ]
  },
  {
   "cell_type": "code",
   "execution_count": 109,
   "id": "7494edb1-6826-496d-9782-3ee1f9317abe",
   "metadata": {},
   "outputs": [
    {
     "data": {
      "text/plain": [
       "TensorShape([64, 56, 56, 128])"
      ]
     },
     "execution_count": 109,
     "metadata": {},
     "output_type": "execute_result"
    }
   ],
   "source": [
    "#We will pass in the first example input again as before:\n",
    "resblock = ResBlock()\n",
    "resblock(gru_network(inputs[0]),cnn_feature_extractor(inputs[1])).shape\n",
    "#again we have the output dimension that we expect"
   ]
  },
  {
   "cell_type": "markdown",
   "id": "fc319491-6d56-4fca-a70c-bca662bd7749",
   "metadata": {},
   "source": [
    "e) At several points in the model, two coordinate feature maps will be added to the output of a convolutional layer. This operation will be applied before each ResBlock and the classifier component of the CNN prediction model. \n",
    "\n",
    "These two feature maps indicate relative $x$ and $y$ spatial position, and are each scaled from $-1$ to $1$ across the height and width dimensions. These two feature maps are concatenated as two extra channels to the convolutional layer output.\n",
    "\n",
    "Implement this operation as another custom layer class called `AddSpatialCoordinates`. The layer should be able to accept input Tensors with arbitrary height, width and channel dimensions. This custom layer will not have any trainable variables.\n",
    "\n",
    "Create an instance of your custom layer class and test it on some dummy inputs to verify it works as expected.\n",
    "\n",
    "**(7 marks)**"
   ]
  },
  {
   "cell_type": "code",
   "execution_count": 110,
   "id": "6e4a0fc0-fad4-4755-a24e-c4fd1a273af5",
   "metadata": {},
   "outputs": [],
   "source": [
    "class AddSpatialCoordinates(Layer):\n",
    "    def __init__(self, name = \"ASC\"):\n",
    "        super().__init__(name = name)\n",
    "        \n",
    "    def call(self,inputs):\n",
    "        #here, inputs is the (batch,w,h,channel) tensor\n",
    "        #[0] is batch size and [3] is number of channels\n",
    "        x_size = inputs.shape[1]\n",
    "        y_size = inputs.shape[2]\n",
    "\n",
    "        x_grid = tf.linspace(-1,1,num = x_size)\n",
    "        y_grid = tf.linspace(-1,1,num = y_size)\n",
    "        #make these grids float32 to be compatible with the inputs tensor\n",
    "        x_grid = tf.cast(x_grid,tf.float32)\n",
    "        y_grid = tf.cast(y_grid,tf.float32)\n",
    "        #this makes a list of two grids, -1 for x is left, -1 for y is top\n",
    "        mesh = tf.meshgrid(x_grid,y_grid)\n",
    "        #now we have to broadcast mesh so that we can add it to the inputs tensor\n",
    "        mesh_x = mesh[0]\n",
    "        mesh_y = mesh[1]\n",
    "        mesh_x = tf.expand_dims(tf.expand_dims(mesh_x,0),-1)\n",
    "        mesh_y = tf.expand_dims(tf.expand_dims(mesh_y,0),-1)\n",
    "        #now tile to commute with the batch size\n",
    "        mesh_x = tf.tile(mesh_x, [tf.shape(inputs)[0],1,1,1])\n",
    "        mesh_y = tf.tile(mesh_y, [tf.shape(inputs)[0],1,1,1])\n",
    "        inputs = tf.concat([inputs,mesh_x,mesh_y],axis = -1)\n",
    "        return inputs\n",
    "        "
   ]
  },
  {
   "cell_type": "code",
   "execution_count": 111,
   "id": "53ab8bd4-59c4-4bfb-bb45-34b19b80b3c2",
   "metadata": {},
   "outputs": [
    {
     "name": "stdout",
     "output_type": "stream",
     "text": [
      "(64, 56, 56, 130)\n"
     ]
    }
   ],
   "source": [
    "#Again test this on the example input:\n",
    "asc = AddSpatialCoordinates()\n",
    "test = asc(cnn_feature_extractor(inputs[1]))\n",
    "print(test.shape)\n",
    "#this is giving what we expect, with the two added dimensions"
   ]
  },
  {
   "cell_type": "code",
   "execution_count": 112,
   "id": "9173704d",
   "metadata": {},
   "outputs": [
    {
     "name": "stdout",
     "output_type": "stream",
     "text": [
      "tf.Tensor(\n",
      "[[-1.         -1.         -1.         ... -1.         -1.\n",
      "  -1.        ]\n",
      " [-0.96363634 -0.96363634 -0.96363634 ... -0.96363634 -0.96363634\n",
      "  -0.96363634]\n",
      " [-0.92727274 -0.92727274 -0.92727274 ... -0.92727274 -0.92727274\n",
      "  -0.92727274]\n",
      " ...\n",
      " [ 0.92727274  0.92727274  0.92727274 ...  0.92727274  0.92727274\n",
      "   0.92727274]\n",
      " [ 0.96363634  0.96363634  0.96363634 ...  0.96363634  0.96363634\n",
      "   0.96363634]\n",
      " [ 1.          1.          1.         ...  1.          1.\n",
      "   1.        ]], shape=(56, 56), dtype=float32)\n",
      "tf.Tensor(\n",
      "[[-1.         -0.96363634 -0.92727274 ...  0.92727274  0.96363634\n",
      "   1.        ]\n",
      " [-1.         -0.96363634 -0.92727274 ...  0.92727274  0.96363634\n",
      "   1.        ]\n",
      " [-1.         -0.96363634 -0.92727274 ...  0.92727274  0.96363634\n",
      "   1.        ]\n",
      " ...\n",
      " [-1.         -0.96363634 -0.92727274 ...  0.92727274  0.96363634\n",
      "   1.        ]\n",
      " [-1.         -0.96363634 -0.92727274 ...  0.92727274  0.96363634\n",
      "   1.        ]\n",
      " [-1.         -0.96363634 -0.92727274 ...  0.92727274  0.96363634\n",
      "   1.        ]], shape=(56, 56), dtype=float32)\n"
     ]
    }
   ],
   "source": [
    "#lets inspect dimension 129 and 130 of this\n",
    "print(test[0,:,:,129])\n",
    "print(test[0,:,:,128])\n",
    "#this is the relative positionings for each one as we eould expect"
   ]
  },
  {
   "cell_type": "markdown",
   "id": "155f8b64-b651-4c48-b5f2-f8003313bbc5",
   "metadata": {},
   "source": [
    "f) The final main block of the CNN network is a classifier block. This block consists of the following layers:\n",
    "\n",
    "* 1x1 convolution with 512 output channels, ReLU activation, and 'SAME' padding\n",
    "* Global max pooling across height and width dimensions\n",
    "* Dense layer with 512 neurons and ReLU activation\n",
    "* Final Dense layer with $n_c$ neurons and softmax activation, where $n_c$ is the number of output labels\n",
    "\n",
    "Once you have implemented the classifier, you should bring all components together to build the complete model. This model consists of the following:\n",
    "\n",
    "* GRU FiLM generator as defined in part a) that processes the sequence of question tokens and outputs an embedding $\\mathbf{q}$ of dimension 128\n",
    "* Feature extractor block as defined in part b) that processes the input image\n",
    "* The output of the feature extractor should then be extended with spatial coordinate feature maps by passing it through your `AddSpatialCoordinates` layer\n",
    "* This should be followed by just one ResBlock custom layer, that takes in two inputs: the output from the previous `AddSpatialCoordinates` layer and the question embedding $\\mathbf{q}$. We will only use one ResBlock due to computational limitations\n",
    "* The output of the ResBlock should then also be extended with spatial coordinate feature maps by passing it through your `AddSpatialCoordinates` layer\n",
    "* The output from the previous `AddSpatialCoordinates` layer should then be sent through the classifier block to obtain the final output prediction\n",
    "\n",
    "Implement the complete model according to the above spec, and print the model summary.\n",
    "\n",
    "**(5 marks)**"
   ]
  },
  {
   "cell_type": "code",
   "execution_count": 154,
   "id": "10caf0dc-59a5-4580-9135-6b84625bce1a",
   "metadata": {},
   "outputs": [],
   "source": [
    "classifier = Sequential([\n",
    "    #dont need to specify input size for conv2d\n",
    "    Conv2D(512,(1,1), activation = \"relu\", padding = \"same\"),\n",
    "    #looking at documentation, this globally pools over height and width, leaving batch and channels intact\n",
    "    GlobalMaxPooling2D(),\n",
    "    Dense(512,activation = \"relu\"),\n",
    "    Dense(vocab_ans_size, activation = \"softmax\")\n",
    "], name = \"classifier\")"
   ]
  },
  {
   "cell_type": "code",
   "execution_count": 157,
   "id": "85191bba-5657-49b9-9ec6-2bbaaf6950ac",
   "metadata": {},
   "outputs": [],
   "source": [
    "class full_model(Model):\n",
    "    def __init__(self,gru_network, cnn_feature_extractor,classifier):\n",
    "        super(full_model,self).__init__()\n",
    "        self.gru = gru_network\n",
    "        self.feature_extractor = cnn_feature_extractor\n",
    "        #asp can be called multiple times since not trained\n",
    "        self.asp = AddSpatialCoordinates()\n",
    "        self.resblock = ResBlock()\n",
    "        self.classifier = classifier\n",
    "    def call(self,inputs):\n",
    "        #we expect just the input to be passed in, not the target\n",
    "        text, images = inputs\n",
    "        q = self.gru(text)\n",
    "        h = self.feature_extractor(images)\n",
    "        h = self.asp(h)\n",
    "        h = self.resblock(q,h)\n",
    "        h = self.asp(h)\n",
    "        #predict\n",
    "        preds = self.classifier(h)\n",
    "        return preds\n",
    "        "
   ]
  },
  {
   "cell_type": "code",
   "execution_count": 158,
   "id": "49475401",
   "metadata": {},
   "outputs": [
    {
     "data": {
      "text/plain": [
       "<tf.Tensor: shape=(64, 30), dtype=float32, numpy=\n",
       "array([[0.07563765, 0.07077777, 0.01319074, ..., 0.01018455, 0.02571771,\n",
       "        0.04571378],\n",
       "       [0.08556047, 0.04942463, 0.01541861, ..., 0.0117187 , 0.01811743,\n",
       "        0.04404585],\n",
       "       [0.07934733, 0.05565722, 0.01390768, ..., 0.01193161, 0.01869125,\n",
       "        0.04046232],\n",
       "       ...,\n",
       "       [0.06943674, 0.05119417, 0.01480673, ..., 0.01201701, 0.01929506,\n",
       "        0.05406042],\n",
       "       [0.0662809 , 0.07114175, 0.0150057 , ..., 0.01041126, 0.02567867,\n",
       "        0.04135544],\n",
       "       [0.08268826, 0.06013144, 0.01520072, ..., 0.00977179, 0.0144307 ,\n",
       "        0.08194704]], dtype=float32)>"
      ]
     },
     "execution_count": 158,
     "metadata": {},
     "output_type": "execute_result"
    }
   ],
   "source": [
    "#to print the model summary we call it on the example\n",
    "fm = full_model(gru_network, cnn_feature_extractor, classifier)\n",
    "fm(inputs)"
   ]
  },
  {
   "cell_type": "code",
   "execution_count": 159,
   "id": "2821366f",
   "metadata": {},
   "outputs": [
    {
     "name": "stdout",
     "output_type": "stream",
     "text": [
      "Model: \"full_model_2\"\n",
      "_________________________________________________________________\n",
      " Layer (type)                Output Shape              Param #   \n",
      "=================================================================\n",
      " gru_network (Sequential)    (None, 128)               178816    \n",
      "                                                                 \n",
      " feature_extractor (Sequenti  (None, 56, 56, 128)      269568    \n",
      " al)                                                             \n",
      "                                                                 \n",
      " ASC (AddSpatialCoordinates)  multiple                 0         \n",
      "                                                                 \n",
      " res_block_4 (ResBlock)      multiple                  197376    \n",
      "                                                                 \n",
      " res_block_5 (ResBlock)      multiple                  197376    \n",
      "                                                                 \n",
      " classifier (Sequential)     (64, 30)                  345118    \n",
      "                                                                 \n",
      "=================================================================\n",
      "Total params: 1,188,254\n",
      "Trainable params: 1,187,230\n",
      "Non-trainable params: 1,024\n",
      "_________________________________________________________________\n"
     ]
    }
   ],
   "source": [
    "fm.summary()"
   ]
  },
  {
   "cell_type": "markdown",
   "id": "696825b0-167a-4fab-b9ca-f5b527cd7a38",
   "metadata": {},
   "source": [
    "### Question 3 (Total 30 marks)"
   ]
  },
  {
   "cell_type": "markdown",
   "id": "4bce2b50-6bff-4fff-b2fa-5e0bdb8d6937",
   "metadata": {},
   "source": [
    "a) You should now train your model from question 2 using a cross entropy loss function. Train the model for 20 epochs, with an Adam optimizer with learning rate 3e-4. You should track model performance on the validation set, including the accuracy. \n",
    "\n",
    "Your code should be structured to account for restarting broken training runs. You will need to save your model every epoch, and save all of the model's training and validation performance up to that point (a convenient method is to use the `CSVLogger` callback). In the case of a broken training run, the required data should be loaded, and the training run resumed from the last saved checkpoint. You do not need to use early stopping in the training run.\n",
    "\n",
    "When training has completed, compute and print the final evaluation of your model on the validation set.\n",
    "\n",
    "_NB: The model would need to be larger and trained for longer to achieve good performance on this task. The model and training have been scaled down to accommodate infrastructure limitations on the Coursera platform. You should implement the architecture as specified in this assessment, but you can train the model for longer if you wish. The performance of the resulting model is **not** part of the marking criteria._\n",
    "\n",
    "**(15 marks)**"
   ]
  },
  {
   "cell_type": "code",
   "execution_count": 160,
   "id": "2f02bbdf-ee43-4157-a026-5f3361bf19cb",
   "metadata": {},
   "outputs": [
    {
     "name": "stderr",
     "output_type": "stream",
     "text": [
      "d:\\University-local\\Imperial\\Term 2\\Deep Learning\\.conda\\lib\\site-packages\\keras\\optimizers\\optimizer_v2\\adam.py:114: UserWarning: The `lr` argument is deprecated, use `learning_rate` instead.\n",
      "  super().__init__(name, **kwargs)\n"
     ]
    }
   ],
   "source": [
    "#setup optimizer and callback\n",
    "optimizer = Adam(lr = 3e-4)\n",
    "# callback to save training and validation performance\n",
    "logger = CSVLogger(\"epoch_log.csv\", separator = \",\", append = True)\n",
    "# callback to save the model every epoch\n",
    "ckpt = ModelCheckpoint(\"model.csv\", monitor = \"val_loss\")\n",
    "fm.compile(loss = \"SparseCategoricalCrossentropy\", optimizer = optimizer,metrics = [\"accuracy\"])"
   ]
  },
  {
   "cell_type": "code",
   "execution_count": 161,
   "id": "a2304e81-33c5-4c1b-8124-81d85be49f29",
   "metadata": {},
   "outputs": [
    {
     "name": "stdout",
     "output_type": "stream",
     "text": [
      "Epoch 1/20\n"
     ]
    },
    {
     "name": "stdout",
     "output_type": "stream",
     "text": [
      "    234/Unknown - 136s 545ms/step - loss: 1.2447 - accuracy: 0.4117"
     ]
    },
    {
     "name": "stderr",
     "output_type": "stream",
     "text": [
      "WARNING:absl:Found untraced functions such as _jit_compiled_convolution_op, _jit_compiled_convolution_op, conv2d_12_layer_call_fn, conv2d_12_layer_call_and_return_conditional_losses, _jit_compiled_convolution_op while saving (showing 5 of 35). These functions will not be directly callable after loading.\n"
     ]
    },
    {
     "name": "stdout",
     "output_type": "stream",
     "text": [
      "INFO:tensorflow:Assets written to: model.csv\\assets\n"
     ]
    },
    {
     "name": "stderr",
     "output_type": "stream",
     "text": [
      "INFO:tensorflow:Assets written to: model.csv\\assets\n"
     ]
    },
    {
     "name": "stdout",
     "output_type": "stream",
     "text": [
      "234/234 [==============================] - 171s 696ms/step - loss: 1.2447 - accuracy: 0.4117 - val_loss: 1.0811 - val_accuracy: 0.4232\n",
      "Epoch 2/20\n",
      "234/234 [==============================] - ETA: 0s - loss: 1.0486 - accuracy: 0.4310"
     ]
    },
    {
     "name": "stderr",
     "output_type": "stream",
     "text": [
      "WARNING:absl:Found untraced functions such as _jit_compiled_convolution_op, _jit_compiled_convolution_op, conv2d_12_layer_call_fn, conv2d_12_layer_call_and_return_conditional_losses, _jit_compiled_convolution_op while saving (showing 5 of 35). These functions will not be directly callable after loading.\n"
     ]
    },
    {
     "name": "stdout",
     "output_type": "stream",
     "text": [
      "INFO:tensorflow:Assets written to: model.csv\\assets\n"
     ]
    },
    {
     "name": "stderr",
     "output_type": "stream",
     "text": [
      "INFO:tensorflow:Assets written to: model.csv\\assets\n"
     ]
    },
    {
     "name": "stdout",
     "output_type": "stream",
     "text": [
      "234/234 [==============================] - 157s 671ms/step - loss: 1.0486 - accuracy: 0.4310 - val_loss: 1.0409 - val_accuracy: 0.4227\n",
      "Epoch 3/20\n",
      "234/234 [==============================] - ETA: 0s - loss: 1.0230 - accuracy: 0.4330"
     ]
    },
    {
     "name": "stderr",
     "output_type": "stream",
     "text": [
      "WARNING:absl:Found untraced functions such as _jit_compiled_convolution_op, _jit_compiled_convolution_op, conv2d_12_layer_call_fn, conv2d_12_layer_call_and_return_conditional_losses, _jit_compiled_convolution_op while saving (showing 5 of 35). These functions will not be directly callable after loading.\n"
     ]
    },
    {
     "name": "stdout",
     "output_type": "stream",
     "text": [
      "INFO:tensorflow:Assets written to: model.csv\\assets\n"
     ]
    },
    {
     "name": "stderr",
     "output_type": "stream",
     "text": [
      "INFO:tensorflow:Assets written to: model.csv\\assets\n"
     ]
    },
    {
     "name": "stdout",
     "output_type": "stream",
     "text": [
      "234/234 [==============================] - 141s 599ms/step - loss: 1.0230 - accuracy: 0.4330 - val_loss: 1.0500 - val_accuracy: 0.4157\n",
      "Epoch 4/20\n",
      "234/234 [==============================] - ETA: 0s - loss: 0.9998 - accuracy: 0.4456"
     ]
    },
    {
     "name": "stderr",
     "output_type": "stream",
     "text": [
      "WARNING:absl:Found untraced functions such as _jit_compiled_convolution_op, _jit_compiled_convolution_op, conv2d_12_layer_call_fn, conv2d_12_layer_call_and_return_conditional_losses, _jit_compiled_convolution_op while saving (showing 5 of 35). These functions will not be directly callable after loading.\n"
     ]
    },
    {
     "name": "stdout",
     "output_type": "stream",
     "text": [
      "INFO:tensorflow:Assets written to: model.csv\\assets\n"
     ]
    },
    {
     "name": "stderr",
     "output_type": "stream",
     "text": [
      "INFO:tensorflow:Assets written to: model.csv\\assets\n"
     ]
    },
    {
     "name": "stdout",
     "output_type": "stream",
     "text": [
      "234/234 [==============================] - 144s 612ms/step - loss: 0.9998 - accuracy: 0.4456 - val_loss: 1.0097 - val_accuracy: 0.4136\n",
      "Epoch 5/20\n",
      "234/234 [==============================] - ETA: 0s - loss: 0.9942 - accuracy: 0.4437"
     ]
    },
    {
     "name": "stderr",
     "output_type": "stream",
     "text": [
      "WARNING:absl:Found untraced functions such as _jit_compiled_convolution_op, _jit_compiled_convolution_op, conv2d_12_layer_call_fn, conv2d_12_layer_call_and_return_conditional_losses, _jit_compiled_convolution_op while saving (showing 5 of 35). These functions will not be directly callable after loading.\n"
     ]
    },
    {
     "name": "stdout",
     "output_type": "stream",
     "text": [
      "INFO:tensorflow:Assets written to: model.csv\\assets\n"
     ]
    },
    {
     "name": "stderr",
     "output_type": "stream",
     "text": [
      "INFO:tensorflow:Assets written to: model.csv\\assets\n"
     ]
    },
    {
     "name": "stdout",
     "output_type": "stream",
     "text": [
      "234/234 [==============================] - 141s 599ms/step - loss: 0.9942 - accuracy: 0.4437 - val_loss: 0.9924 - val_accuracy: 0.4405\n",
      "Epoch 6/20\n",
      "234/234 [==============================] - ETA: 0s - loss: 0.9969 - accuracy: 0.4391"
     ]
    },
    {
     "name": "stderr",
     "output_type": "stream",
     "text": [
      "WARNING:absl:Found untraced functions such as _jit_compiled_convolution_op, _jit_compiled_convolution_op, conv2d_12_layer_call_fn, conv2d_12_layer_call_and_return_conditional_losses, _jit_compiled_convolution_op while saving (showing 5 of 35). These functions will not be directly callable after loading.\n"
     ]
    },
    {
     "name": "stdout",
     "output_type": "stream",
     "text": [
      "INFO:tensorflow:Assets written to: model.csv\\assets\n"
     ]
    },
    {
     "name": "stderr",
     "output_type": "stream",
     "text": [
      "INFO:tensorflow:Assets written to: model.csv\\assets\n"
     ]
    },
    {
     "name": "stdout",
     "output_type": "stream",
     "text": [
      "234/234 [==============================] - 140s 595ms/step - loss: 0.9969 - accuracy: 0.4391 - val_loss: 0.9725 - val_accuracy: 0.4437\n",
      "Epoch 7/20\n",
      "234/234 [==============================] - ETA: 0s - loss: 0.9758 - accuracy: 0.4472"
     ]
    },
    {
     "name": "stderr",
     "output_type": "stream",
     "text": [
      "WARNING:absl:Found untraced functions such as _jit_compiled_convolution_op, _jit_compiled_convolution_op, conv2d_12_layer_call_fn, conv2d_12_layer_call_and_return_conditional_losses, _jit_compiled_convolution_op while saving (showing 5 of 35). These functions will not be directly callable after loading.\n"
     ]
    },
    {
     "name": "stdout",
     "output_type": "stream",
     "text": [
      "INFO:tensorflow:Assets written to: model.csv\\assets\n"
     ]
    },
    {
     "name": "stderr",
     "output_type": "stream",
     "text": [
      "INFO:tensorflow:Assets written to: model.csv\\assets\n"
     ]
    },
    {
     "name": "stdout",
     "output_type": "stream",
     "text": [
      "234/234 [==============================] - 144s 615ms/step - loss: 0.9758 - accuracy: 0.4472 - val_loss: 0.9841 - val_accuracy: 0.4195\n",
      "Epoch 8/20\n",
      "234/234 [==============================] - ETA: 0s - loss: 0.9765 - accuracy: 0.4458"
     ]
    },
    {
     "name": "stderr",
     "output_type": "stream",
     "text": [
      "WARNING:absl:Found untraced functions such as _jit_compiled_convolution_op, _jit_compiled_convolution_op, conv2d_12_layer_call_fn, conv2d_12_layer_call_and_return_conditional_losses, _jit_compiled_convolution_op while saving (showing 5 of 35). These functions will not be directly callable after loading.\n"
     ]
    },
    {
     "name": "stdout",
     "output_type": "stream",
     "text": [
      "INFO:tensorflow:Assets written to: model.csv\\assets\n"
     ]
    },
    {
     "name": "stderr",
     "output_type": "stream",
     "text": [
      "INFO:tensorflow:Assets written to: model.csv\\assets\n"
     ]
    },
    {
     "name": "stdout",
     "output_type": "stream",
     "text": [
      "234/234 [==============================] - 146s 624ms/step - loss: 0.9765 - accuracy: 0.4458 - val_loss: 0.9719 - val_accuracy: 0.4491\n",
      "Epoch 9/20\n",
      "234/234 [==============================] - ETA: 0s - loss: 0.9689 - accuracy: 0.4481"
     ]
    },
    {
     "name": "stderr",
     "output_type": "stream",
     "text": [
      "WARNING:absl:Found untraced functions such as _jit_compiled_convolution_op, _jit_compiled_convolution_op, conv2d_12_layer_call_fn, conv2d_12_layer_call_and_return_conditional_losses, _jit_compiled_convolution_op while saving (showing 5 of 35). These functions will not be directly callable after loading.\n"
     ]
    },
    {
     "name": "stdout",
     "output_type": "stream",
     "text": [
      "INFO:tensorflow:Assets written to: model.csv\\assets\n"
     ]
    },
    {
     "name": "stderr",
     "output_type": "stream",
     "text": [
      "INFO:tensorflow:Assets written to: model.csv\\assets\n"
     ]
    },
    {
     "name": "stdout",
     "output_type": "stream",
     "text": [
      "234/234 [==============================] - 145s 618ms/step - loss: 0.9689 - accuracy: 0.4481 - val_loss: 0.9653 - val_accuracy: 0.4608\n",
      "Epoch 10/20\n",
      "234/234 [==============================] - ETA: 0s - loss: 0.9544 - accuracy: 0.4532"
     ]
    },
    {
     "name": "stderr",
     "output_type": "stream",
     "text": [
      "WARNING:absl:Found untraced functions such as _jit_compiled_convolution_op, _jit_compiled_convolution_op, conv2d_12_layer_call_fn, conv2d_12_layer_call_and_return_conditional_losses, _jit_compiled_convolution_op while saving (showing 5 of 35). These functions will not be directly callable after loading.\n"
     ]
    },
    {
     "name": "stdout",
     "output_type": "stream",
     "text": [
      "INFO:tensorflow:Assets written to: model.csv\\assets\n"
     ]
    },
    {
     "name": "stderr",
     "output_type": "stream",
     "text": [
      "INFO:tensorflow:Assets written to: model.csv\\assets\n"
     ]
    },
    {
     "name": "stdout",
     "output_type": "stream",
     "text": [
      "234/234 [==============================] - 145s 620ms/step - loss: 0.9544 - accuracy: 0.4532 - val_loss: 0.9562 - val_accuracy: 0.4632\n",
      "Epoch 11/20\n",
      "234/234 [==============================] - ETA: 0s - loss: 0.9588 - accuracy: 0.4544"
     ]
    },
    {
     "name": "stderr",
     "output_type": "stream",
     "text": [
      "WARNING:absl:Found untraced functions such as _jit_compiled_convolution_op, _jit_compiled_convolution_op, conv2d_12_layer_call_fn, conv2d_12_layer_call_and_return_conditional_losses, _jit_compiled_convolution_op while saving (showing 5 of 35). These functions will not be directly callable after loading.\n"
     ]
    },
    {
     "name": "stdout",
     "output_type": "stream",
     "text": [
      "INFO:tensorflow:Assets written to: model.csv\\assets\n"
     ]
    },
    {
     "name": "stderr",
     "output_type": "stream",
     "text": [
      "INFO:tensorflow:Assets written to: model.csv\\assets\n"
     ]
    },
    {
     "name": "stdout",
     "output_type": "stream",
     "text": [
      "234/234 [==============================] - 148s 631ms/step - loss: 0.9588 - accuracy: 0.4544 - val_loss: 0.9585 - val_accuracy: 0.4403\n",
      "Epoch 12/20\n",
      "234/234 [==============================] - ETA: 0s - loss: 0.9511 - accuracy: 0.4509"
     ]
    },
    {
     "name": "stderr",
     "output_type": "stream",
     "text": [
      "WARNING:absl:Found untraced functions such as _jit_compiled_convolution_op, _jit_compiled_convolution_op, conv2d_12_layer_call_fn, conv2d_12_layer_call_and_return_conditional_losses, _jit_compiled_convolution_op while saving (showing 5 of 35). These functions will not be directly callable after loading.\n"
     ]
    },
    {
     "name": "stdout",
     "output_type": "stream",
     "text": [
      "INFO:tensorflow:Assets written to: model.csv\\assets\n"
     ]
    },
    {
     "name": "stderr",
     "output_type": "stream",
     "text": [
      "INFO:tensorflow:Assets written to: model.csv\\assets\n"
     ]
    },
    {
     "name": "stdout",
     "output_type": "stream",
     "text": [
      "234/234 [==============================] - 146s 624ms/step - loss: 0.9511 - accuracy: 0.4509 - val_loss: 0.9697 - val_accuracy: 0.4155\n",
      "Epoch 13/20\n",
      "234/234 [==============================] - ETA: 0s - loss: 0.9533 - accuracy: 0.4565"
     ]
    },
    {
     "name": "stderr",
     "output_type": "stream",
     "text": [
      "WARNING:absl:Found untraced functions such as _jit_compiled_convolution_op, _jit_compiled_convolution_op, conv2d_12_layer_call_fn, conv2d_12_layer_call_and_return_conditional_losses, _jit_compiled_convolution_op while saving (showing 5 of 35). These functions will not be directly callable after loading.\n"
     ]
    },
    {
     "name": "stdout",
     "output_type": "stream",
     "text": [
      "INFO:tensorflow:Assets written to: model.csv\\assets\n"
     ]
    },
    {
     "name": "stderr",
     "output_type": "stream",
     "text": [
      "INFO:tensorflow:Assets written to: model.csv\\assets\n"
     ]
    },
    {
     "name": "stdout",
     "output_type": "stream",
     "text": [
      "234/234 [==============================] - 141s 602ms/step - loss: 0.9533 - accuracy: 0.4565 - val_loss: 0.9625 - val_accuracy: 0.4405\n",
      "Epoch 14/20\n",
      "234/234 [==============================] - ETA: 0s - loss: 0.9531 - accuracy: 0.4539"
     ]
    },
    {
     "name": "stderr",
     "output_type": "stream",
     "text": [
      "WARNING:absl:Found untraced functions such as _jit_compiled_convolution_op, _jit_compiled_convolution_op, conv2d_12_layer_call_fn, conv2d_12_layer_call_and_return_conditional_losses, _jit_compiled_convolution_op while saving (showing 5 of 35). These functions will not be directly callable after loading.\n"
     ]
    },
    {
     "name": "stdout",
     "output_type": "stream",
     "text": [
      "INFO:tensorflow:Assets written to: model.csv\\assets\n"
     ]
    },
    {
     "name": "stderr",
     "output_type": "stream",
     "text": [
      "INFO:tensorflow:Assets written to: model.csv\\assets\n"
     ]
    },
    {
     "name": "stdout",
     "output_type": "stream",
     "text": [
      "234/234 [==============================] - 140s 597ms/step - loss: 0.9531 - accuracy: 0.4539 - val_loss: 0.9370 - val_accuracy: 0.4581\n",
      "Epoch 15/20\n",
      "234/234 [==============================] - ETA: 0s - loss: 0.9500 - accuracy: 0.4556"
     ]
    },
    {
     "name": "stderr",
     "output_type": "stream",
     "text": [
      "WARNING:absl:Found untraced functions such as _jit_compiled_convolution_op, _jit_compiled_convolution_op, conv2d_12_layer_call_fn, conv2d_12_layer_call_and_return_conditional_losses, _jit_compiled_convolution_op while saving (showing 5 of 35). These functions will not be directly callable after loading.\n"
     ]
    },
    {
     "name": "stdout",
     "output_type": "stream",
     "text": [
      "INFO:tensorflow:Assets written to: model.csv\\assets\n"
     ]
    },
    {
     "name": "stderr",
     "output_type": "stream",
     "text": [
      "INFO:tensorflow:Assets written to: model.csv\\assets\n"
     ]
    },
    {
     "name": "stdout",
     "output_type": "stream",
     "text": [
      "234/234 [==============================] - 138s 590ms/step - loss: 0.9500 - accuracy: 0.4556 - val_loss: 0.9554 - val_accuracy: 0.4480\n",
      "Epoch 16/20\n",
      "234/234 [==============================] - ETA: 0s - loss: 0.9467 - accuracy: 0.4520"
     ]
    },
    {
     "name": "stderr",
     "output_type": "stream",
     "text": [
      "WARNING:absl:Found untraced functions such as _jit_compiled_convolution_op, _jit_compiled_convolution_op, conv2d_12_layer_call_fn, conv2d_12_layer_call_and_return_conditional_losses, _jit_compiled_convolution_op while saving (showing 5 of 35). These functions will not be directly callable after loading.\n"
     ]
    },
    {
     "name": "stdout",
     "output_type": "stream",
     "text": [
      "INFO:tensorflow:Assets written to: model.csv\\assets\n"
     ]
    },
    {
     "name": "stderr",
     "output_type": "stream",
     "text": [
      "INFO:tensorflow:Assets written to: model.csv\\assets\n"
     ]
    },
    {
     "name": "stdout",
     "output_type": "stream",
     "text": [
      "234/234 [==============================] - 139s 594ms/step - loss: 0.9467 - accuracy: 0.4520 - val_loss: 0.9626 - val_accuracy: 0.4405\n",
      "Epoch 17/20\n",
      "234/234 [==============================] - ETA: 0s - loss: 0.9399 - accuracy: 0.4627"
     ]
    },
    {
     "name": "stderr",
     "output_type": "stream",
     "text": [
      "WARNING:absl:Found untraced functions such as _jit_compiled_convolution_op, _jit_compiled_convolution_op, conv2d_12_layer_call_fn, conv2d_12_layer_call_and_return_conditional_losses, _jit_compiled_convolution_op while saving (showing 5 of 35). These functions will not be directly callable after loading.\n"
     ]
    },
    {
     "name": "stdout",
     "output_type": "stream",
     "text": [
      "INFO:tensorflow:Assets written to: model.csv\\assets\n"
     ]
    },
    {
     "name": "stderr",
     "output_type": "stream",
     "text": [
      "INFO:tensorflow:Assets written to: model.csv\\assets\n"
     ]
    },
    {
     "name": "stdout",
     "output_type": "stream",
     "text": [
      "234/234 [==============================] - 141s 602ms/step - loss: 0.9399 - accuracy: 0.4627 - val_loss: 0.9601 - val_accuracy: 0.4552\n",
      "Epoch 18/20\n",
      "234/234 [==============================] - ETA: 0s - loss: 0.9474 - accuracy: 0.4618"
     ]
    },
    {
     "name": "stderr",
     "output_type": "stream",
     "text": [
      "WARNING:absl:Found untraced functions such as _jit_compiled_convolution_op, _jit_compiled_convolution_op, conv2d_12_layer_call_fn, conv2d_12_layer_call_and_return_conditional_losses, _jit_compiled_convolution_op while saving (showing 5 of 35). These functions will not be directly callable after loading.\n"
     ]
    },
    {
     "name": "stdout",
     "output_type": "stream",
     "text": [
      "INFO:tensorflow:Assets written to: model.csv\\assets\n"
     ]
    },
    {
     "name": "stderr",
     "output_type": "stream",
     "text": [
      "INFO:tensorflow:Assets written to: model.csv\\assets\n"
     ]
    },
    {
     "name": "stdout",
     "output_type": "stream",
     "text": [
      "234/234 [==============================] - 139s 591ms/step - loss: 0.9474 - accuracy: 0.4618 - val_loss: 0.9433 - val_accuracy: 0.4712\n",
      "Epoch 19/20\n",
      "234/234 [==============================] - ETA: 0s - loss: 0.9415 - accuracy: 0.4636"
     ]
    },
    {
     "name": "stderr",
     "output_type": "stream",
     "text": [
      "WARNING:absl:Found untraced functions such as _jit_compiled_convolution_op, _jit_compiled_convolution_op, conv2d_12_layer_call_fn, conv2d_12_layer_call_and_return_conditional_losses, _jit_compiled_convolution_op while saving (showing 5 of 35). These functions will not be directly callable after loading.\n"
     ]
    },
    {
     "name": "stdout",
     "output_type": "stream",
     "text": [
      "INFO:tensorflow:Assets written to: model.csv\\assets\n"
     ]
    },
    {
     "name": "stderr",
     "output_type": "stream",
     "text": [
      "INFO:tensorflow:Assets written to: model.csv\\assets\n"
     ]
    },
    {
     "name": "stdout",
     "output_type": "stream",
     "text": [
      "234/234 [==============================] - 140s 596ms/step - loss: 0.9415 - accuracy: 0.4636 - val_loss: 0.9391 - val_accuracy: 0.4520\n",
      "Epoch 20/20\n",
      "234/234 [==============================] - ETA: 0s - loss: 0.9483 - accuracy: 0.4615"
     ]
    },
    {
     "name": "stderr",
     "output_type": "stream",
     "text": [
      "WARNING:absl:Found untraced functions such as _jit_compiled_convolution_op, _jit_compiled_convolution_op, conv2d_12_layer_call_fn, conv2d_12_layer_call_and_return_conditional_losses, _jit_compiled_convolution_op while saving (showing 5 of 35). These functions will not be directly callable after loading.\n"
     ]
    },
    {
     "name": "stdout",
     "output_type": "stream",
     "text": [
      "INFO:tensorflow:Assets written to: model.csv\\assets\n"
     ]
    },
    {
     "name": "stderr",
     "output_type": "stream",
     "text": [
      "INFO:tensorflow:Assets written to: model.csv\\assets\n"
     ]
    },
    {
     "name": "stdout",
     "output_type": "stream",
     "text": [
      "234/234 [==============================] - 139s 592ms/step - loss: 0.9483 - accuracy: 0.4615 - val_loss: 0.9501 - val_accuracy: 0.4395\n"
     ]
    }
   ],
   "source": [
    "fm_history = fm.fit(train_ds,epochs = 20, validation_data = val_ds, callbacks = [logger,ckpt])"
   ]
  },
  {
   "cell_type": "markdown",
   "id": "6a6b4267-3914-4135-ac7e-395b3d05df2f",
   "metadata": {},
   "source": [
    "b) Plot the loss and accuracy over the course of training on the training and validation sets.\n",
    "\n",
    "Select at least one sample image and question from the validation set, and compute the model predictions. Display the image, question, ground truth answer and model predictive distribution over the set of answers.\n",
    "\n",
    "**(7 marks)**"
   ]
  },
  {
   "cell_type": "code",
   "execution_count": 119,
   "id": "97343dde-440b-41e1-85a2-3721d9993096",
   "metadata": {},
   "outputs": [
    {
     "data": {
      "image/png": "[encoded data removed]",
      "text/plain": [
       "<Figure size 640x480 with 1 Axes>"
      ]
     },
     "metadata": {},
     "output_type": "display_data"
    },
    {
     "data": {
      "image/png": "[encoded data removed]",
      "text/plain": [
       "<Figure size 640x480 with 1 Axes>"
      ]
     },
     "metadata": {},
     "output_type": "display_data"
    }
   ],
   "source": [
    "\n",
    "plt.plot(fm_history.history[\"loss\"], \"r\", label = \"training loss\")\n",
    "plt.plot(fm_history.history[\"val_loss\"],\"b\",label = \"test loss\")\n",
    "plt.xlabel(\"Epoch\")\n",
    "plt.xticks([0,5,10,15,20])\n",
    "plt.ylabel(\"Value\")\n",
    "plt.legend()\n",
    "plt.show()\n",
    "\n",
    "plt.plot(fm_history.history[\"accuracy\"], \"r\", label = \"training accuracy\")\n",
    "plt.plot(fm_history.history[\"val_accuracy\"],\"b\",label = \"test accuracy\")\n",
    "plt.xlabel(\"Epoch\")\n",
    "plt.xticks([0,5,10,15,20])\n",
    "plt.ylabel(\"Value\")\n",
    "plt.legend()\n",
    "plt.show()\n"
   ]
  },
  {
   "cell_type": "markdown",
   "id": "484befbe",
   "metadata": {},
   "source": [
    "Next, we pick a random question from the validation set and predict the response:"
   ]
  },
  {
   "cell_type": "code",
   "execution_count": 151,
   "id": "7e47ebed-5bbf-4db0-927f-7fc44acb4d6f",
   "metadata": {},
   "outputs": [
    {
     "data": {
      "image/png": "[encoded data removed]",
      "text/plain": [
       "<Figure size 640x480 with 1 Axes>"
      ]
     },
     "metadata": {},
     "output_type": "display_data"
    },
    {
     "name": "stdout",
     "output_type": "stream",
     "text": [
      "Question: Does the cyan ball that is in front of the yellow rubber object have the same size as the green metallic cylinder?\n",
      "Answer: no\n"
     ]
    }
   ],
   "source": [
    "#select a batch\n",
    "for ele in val_ds.take(1):\n",
    "    eg, eg_a= ele[0], ele[1]\n",
    "#randomly select an item from the batch\n",
    "r = np.random.randint(0,eg_a.shape[0]-1)\n",
    "\n",
    "eg_q,eg_i= eg[0][r], eg[1][r]\n",
    "eg_a = eg_a[r]\n",
    "plt.imshow(eg_i)\n",
    "plt.show()\n",
    "\n",
    "#print question \n",
    "eg_q_words = [vocab_q[idx] for idx in eg_q if idx != 0]\n",
    "eg_q_words[0] = eg_q_words[0].capitalize()\n",
    "eg_q_sentence = ' '.join(word for word in eg_q_words)\n",
    "print(f\"Question: {eg_q_sentence}?\")\n",
    "print(f\"Answer: {vocab_ans[eg_a]}\")\n"
   ]
  },
  {
   "cell_type": "markdown",
   "id": "f48da532",
   "metadata": {},
   "source": [
    "Now, for the predicted response, and predictive categorical distribution:"
   ]
  },
  {
   "cell_type": "code",
   "execution_count": 152,
   "id": "7d8559b8",
   "metadata": {},
   "outputs": [
    {
     "name": "stdout",
     "output_type": "stream",
     "text": [
      "1/1 [==============================] - 0s 72ms/step\n",
      "Predicted answer: no\n"
     ]
    }
   ],
   "source": [
    "pred = fm.predict((eg_q[None,:],eg_i[None,:])).squeeze(0) \n",
    "print(f\"Predicted answer: {vocab_ans[tf.argmax(pred)]}\")\n"
   ]
  },
  {
   "cell_type": "code",
   "execution_count": 153,
   "id": "5443e29f",
   "metadata": {},
   "outputs": [
    {
     "data": {
      "image/png": "[encoded data removed]",
      "text/plain": [
       "<Figure size 640x480 with 1 Axes>"
      ]
     },
     "metadata": {},
     "output_type": "display_data"
    }
   ],
   "source": [
    "plt.bar(vocab_ans, pred)\n",
    "plt.xticks(rotation=90)\n",
    "plt.ylabel(\"Probability\")\n",
    "plt.show()"
   ]
  },
  {
   "cell_type": "code",
   "execution_count": null,
   "id": "ba8f891f",
   "metadata": {},
   "outputs": [
    {
     "name": "stdout",
     "output_type": "stream",
     "text": [
      "╒════════════╤═══════════════╕\n",
      "│ Response   │   Probability │\n",
      "╞════════════╪═══════════════╡\n",
      "│            │   1.10441e-07 │\n",
      "├────────────┼───────────────┤\n",
      "│ [UNK]      │   1.83377e-07 │\n",
      "├────────────┼───────────────┤\n",
      "│ no         │   0.518586    │\n",
      "├────────────┼───────────────┤\n",
      "│ yes        │   0.480485    │\n",
      "├────────────┼───────────────┤\n",
      "│ 1          │   0.000125812 │\n",
      "├────────────┼───────────────┤\n",
      "│ 0          │   6.48205e-05 │\n",
      "├────────────┼───────────────┤\n",
      "│ rubber     │   1.03104e-05 │\n",
      "├────────────┼───────────────┤\n",
      "│ metal      │   8.67762e-06 │\n",
      "├────────────┼───────────────┤\n",
      "│ small      │   0.000116075 │\n",
      "├────────────┼───────────────┤\n",
      "│ large      │   0.000166145 │\n",
      "╘════════════╧═══════════════╛\n"
     ]
    }
   ],
   "source": [
    "#predictive distribution as a table, we do as 3 in order to fully show\n",
    "table = [[vocab_ans[i],pred[i]] for i in range(10)]\n",
    "print(tabulate(table, headers = [\"Response\",\"Probability\"],tablefmt = \"fancy_grid\"))"
   ]
  },
  {
   "cell_type": "code",
   "execution_count": null,
   "id": "b8c2d1ed",
   "metadata": {},
   "outputs": [
    {
     "name": "stdout",
     "output_type": "stream",
     "text": [
      "╒════════════╤═══════════════╕\n",
      "│ Response   │   Probability │\n",
      "╞════════════╪═══════════════╡\n",
      "│ 2          │   0.000117061 │\n",
      "├────────────┼───────────────┤\n",
      "│ cylinder   │   1.70164e-05 │\n",
      "├────────────┼───────────────┤\n",
      "│ sphere     │   1.37938e-05 │\n",
      "├────────────┼───────────────┤\n",
      "│ cube       │   1.3235e-05  │\n",
      "├────────────┼───────────────┤\n",
      "│ 3          │   4.56301e-05 │\n",
      "├────────────┼───────────────┤\n",
      "│ blue       │   1.19924e-05 │\n",
      "├────────────┼───────────────┤\n",
      "│ yellow     │   1.57354e-05 │\n",
      "├────────────┼───────────────┤\n",
      "│ brown      │   1.13951e-05 │\n",
      "├────────────┼───────────────┤\n",
      "│ gray       │   1.33262e-05 │\n",
      "├────────────┼───────────────┤\n",
      "│ purple     │   1.23404e-05 │\n",
      "╘════════════╧═══════════════╛\n"
     ]
    }
   ],
   "source": [
    "table = [[vocab_ans[i],pred[i]] for i in range(10,20)]\n",
    "print(tabulate(table, headers = [\"Response\",\"Probability\"],tablefmt = \"fancy_grid\"))"
   ]
  },
  {
   "cell_type": "code",
   "execution_count": null,
   "id": "0e170a94",
   "metadata": {},
   "outputs": [
    {
     "name": "stdout",
     "output_type": "stream",
     "text": [
      "╒════════════╤═══════════════╕\n",
      "│ Response   │   Probability │\n",
      "╞════════════╪═══════════════╡\n",
      "│ cyan       │   1.34092e-05 │\n",
      "├────────────┼───────────────┤\n",
      "│ red        │   1.1642e-05  │\n",
      "├────────────┼───────────────┤\n",
      "│ green      │   1.0786e-05  │\n",
      "├────────────┼───────────────┤\n",
      "│ 4          │   3.93464e-05 │\n",
      "├────────────┼───────────────┤\n",
      "│ 5          │   3.86693e-05 │\n",
      "├────────────┼───────────────┤\n",
      "│ 6          │   2.12355e-05 │\n",
      "├────────────┼───────────────┤\n",
      "│ 7          │   1.61713e-05 │\n",
      "├────────────┼───────────────┤\n",
      "│ 8          │   1.15649e-05 │\n",
      "├────────────┼───────────────┤\n",
      "│ 9          │   1.00915e-06 │\n",
      "├────────────┼───────────────┤\n",
      "│ 10         │   1.56194e-06 │\n",
      "╘════════════╧═══════════════╛\n"
     ]
    }
   ],
   "source": [
    "table = [[vocab_ans[i],pred[i]] for i in range(20,30)]\n",
    "print(tabulate(table, headers = [\"Response\",\"Probability\"],tablefmt = \"fancy_grid\"))"
   ]
  },
  {
   "cell_type": "markdown",
   "id": "161f7414-b0c2-4548-bf74-1914c4d81595",
   "metadata": {},
   "source": [
    "c) Explain why adding spatial coordinate feature maps as in 2e) is beneficial for the proposed model and task from questions 1 and 2.\n",
    "\n",
    "**(3 marks)**"
   ]
  },
  {
   "cell_type": "markdown",
   "id": "153da97f-2d13-4f65-b160-b9bc998a057f",
   "metadata": {},
   "source": [
    "It is beneficial because in the context of the questions asked about each image, relative positions of the different objects are crucial to answering the questions correctly. In usual image detection, the CNN can simply learn edges and then other features, without caring too much about where different objects in the image are in relation to each other, since they were made with translation invariance in mind. However, when the learning task requires these relative positionings within the image, the spacial coordinate feature maps are incredibly helpful, since they provide the model with the local information needed so it can learn relative positionings in relation to the words \"left\", \"right\", \"behind\" etc. It also helps with differentiating between two similar looking objects that are located within different parts of the image (which is very important in the context of the dataset questions)."
   ]
  },
  {
   "cell_type": "markdown",
   "id": "7531217f-e2ef-41b2-a122-7d5c611d3089",
   "metadata": {},
   "source": [
    "d) An alternative method to FiLM to incorporate conditioning information would be to concatenate the conditional embedding $\\mathbf{q}$ with the channel dimension in a convolutional layer input $\\mathbf{h}^{(k-1)}$ at every spatial location (in other words, concatenate constant feature maps with the input $\\mathbf{h}^{(k-1)}$ to a convolutional layer). \n",
    "\n",
    "Explain how this method would compare in terms of computation and parameter efficiency with applying the FiLM layer computation outlined in 2c) to the output $\\mathbf{h}^{(k)}$ of the convolutional layer. You can assume the convolutional layer has no activation function.\n",
    "\n",
    "**(5 marks)**"
   ]
  },
  {
   "cell_type": "markdown",
   "id": "3cf89ffc-3fc5-499d-b013-6763ce082504",
   "metadata": {},
   "source": [
    "The FiLM layer shifts and scales the prior output from the batch normalisation layer coming from the CNN part of the block. The shift and scale are aquired via two separate linear layers with the signal q from the GRU part of the network. These linear layers would have parameters that have to be learned within the FiLM layer. The alternative method concatenates q with h before h goes through the convolutional layer. These two methods would have different numbers of parameters, and different computational costs.\n",
    "\n",
    "Firstly, increasing the channel dimension of h by concatenating q is going to increase the computational time, especially considering this is a convolutional layer. Concatenating the conditional embedding at every spatial location means the shape of the tensor would go from (H,W,C) to (H,W,C+D) where C is the number of channels h has before, and D is the dimension of the conditional embedding. In our case, this means an increase in channel dimension from 128 to 256. It comes down to a comparison of the computations required for doubling the channel dimension going into the convolutional layer, and the FiLM layer. In general, considering the kernel shape can be increased and changed, this would lead to more computations required, than the pretty much fixed number required for the FiLM layer. Thus, in general, FiLM is more efficient computationally.\n",
    "\n",
    "As for parameter efficiency, the FiLM layer introduces a $\\gamma$ and a $\\beta$ for each channel of the incoming output $\\mathbf{h}^{(k)}$ of the convolutional layer. This means, assuming a fully connected linear layer for each (with no biases), there would be $128^2 \\times 2 = 32768$ parameters to be learned using the FiLM layer. However, if instead the second method was used, concatenating q and h at every spacial location before the convolutional layer, this would result in a channel dimension of $128 + 128 = 256$. Now the number of parameters would depend on the convolutional layer used, but for arguments sake, lets take the first convolutional layer in the resblock. This has 128 filters and a kernel size of 1x1. Then we are comparing inputs with the same height, width, and batch dimensions, but differet numbers of channels. The FiLM layer method would have 128 channels at this point, resulting in $128 \\times 128 + 128 = 16512$ parameters to be learned (including bias here), whereas the alternative method would have 256 channels, resulting in $256 \\times 128 + 128 = 32,896$ parameters to be learned (again including bias). However, the FiLM layer has the additional parameters to be learned from the layer itself, resulting in $49280$ parameters to learned in total, meaning a difference of $16384$ parameters between the two methods. This was done for the first convolutional layer in the resblock, but generally, using the alternative doubles the number of parameters (before including the bias terms) in the convolutional layer, but doesn't have the parameters to be learned in the FiLM layer. However, the number of parameters to be learned in the FiLM layer can be considered fixed, assuming the input channels remains constant. If the kernel size in the convolutional layer is increased, then then the number of parameters needed to be learned is increased, thus when the second method is used and this number is then doubled, it can lead to a much greater total number of parameters for the second method, compared to the first, even with the $32768$ less from not having the FiLM parameters. This can be seen below:"
   ]
  },
  {
   "cell_type": "code",
   "execution_count": null,
   "id": "6bb3cd1e",
   "metadata": {},
   "outputs": [
    {
     "data": {
      "text/plain": [
       "TensorShape([64, 56, 56, 256])"
      ]
     },
     "execution_count": 179,
     "metadata": {},
     "output_type": "execute_result"
    }
   ],
   "source": [
    "#Setup dummy inputs\n",
    "for ele in train_ds.take(1):\n",
    "    inputs, outputs = ele\n",
    "\n",
    "q_test = gru_network(inputs[0])\n",
    "h_test = cnn_feature_extractor(inputs[1])\n",
    "\n",
    "#for FiLM layer, this is done after the Conv layer, so q would come later, but we already calculated the number of parameters introduced by this\n",
    "q_test = q_test[:,None,None,:]\n",
    "q_test = tf.tile(q_test,[1,56,56,1])\n",
    "h_test_alternative = tf.concat([h_test,q_test],axis = -1)\n"
   ]
  },
  {
   "cell_type": "code",
   "execution_count": null,
   "id": "b5562e9c",
   "metadata": {},
   "outputs": [
    {
     "name": "stdout",
     "output_type": "stream",
     "text": [
      "Model: \"sequential_21\"\n",
      "_________________________________________________________________\n",
      " Layer (type)                Output Shape              Param #   \n",
      "=================================================================\n",
      " conv2d_24 (Conv2D)          (64, 56, 56, 128)         16512     \n",
      "                                                                 \n",
      "=================================================================\n",
      "Total params: 16,512\n",
      "Trainable params: 16,512\n",
      "Non-trainable params: 0\n",
      "_________________________________________________________________\n",
      "None\n",
      "------------------------------------------------------------------------------------------------------------------------------------------------------------------------------------------------------------------------------------------------------------------------------------------------------------ \n",
      "\n",
      "ALTERATIVE METHOD:\n",
      "Model: \"sequential_22\"\n",
      "_________________________________________________________________\n",
      " Layer (type)                Output Shape              Param #   \n",
      "=================================================================\n",
      " conv2d_25 (Conv2D)          (64, 56, 56, 128)         32896     \n",
      "                                                                 \n",
      "=================================================================\n",
      "Total params: 32,896\n",
      "Trainable params: 32,896\n",
      "Non-trainable params: 0\n",
      "_________________________________________________________________\n",
      "None\n"
     ]
    }
   ],
   "source": [
    "#summary for \n",
    "test_layer= Sequential([\n",
    "    Conv2D(128, (1,1), activation = \"relu\", padding = \"same\")\n",
    "])\n",
    "test_layer(h_test)\n",
    "print(test_layer.summary())\n",
    "\n",
    "test_layer= Sequential([\n",
    "    Conv2D(128, (1,1), activation = \"relu\", padding = \"same\")\n",
    "])\n",
    "test_layer(h_test_alternative)\n",
    "print(\"---\"*100, \"\\n\")\n",
    "print(\"ALTERATIVE METHOD:\")\n",
    "print(test_layer.summary())\n"
   ]
  },
  {
   "cell_type": "code",
   "execution_count": null,
   "id": "900cee29",
   "metadata": {},
   "outputs": [
    {
     "name": "stdout",
     "output_type": "stream",
     "text": [
      "Model: \"sequential_23\"\n",
      "_________________________________________________________________\n",
      " Layer (type)                Output Shape              Param #   \n",
      "=================================================================\n",
      " conv2d_26 (Conv2D)          (64, 56, 56, 128)         1638528   \n",
      "                                                                 \n",
      "=================================================================\n",
      "Total params: 1,638,528\n",
      "Trainable params: 1,638,528\n",
      "Non-trainable params: 0\n",
      "_________________________________________________________________\n",
      "None\n",
      "------------------------------------------------------------------------------------------------------------------------------------------------------------------------------------------------------------------------------------------------------------------------------------------------------------ \n",
      "\n",
      "ALTERATIVE METHOD:\n",
      "Model: \"sequential_24\"\n",
      "_________________________________________________________________\n",
      " Layer (type)                Output Shape              Param #   \n",
      "=================================================================\n",
      " conv2d_27 (Conv2D)          (64, 56, 56, 128)         3276928   \n",
      "                                                                 \n",
      "=================================================================\n",
      "Total params: 3,276,928\n",
      "Trainable params: 3,276,928\n",
      "Non-trainable params: 0\n",
      "_________________________________________________________________\n",
      "None\n"
     ]
    }
   ],
   "source": [
    "# NOW FOR A BIGGER KERNEL\n",
    "#summary for \n",
    "test_layer= Sequential([\n",
    "    Conv2D(128, 10, activation = \"relu\", padding = \"same\")\n",
    "])\n",
    "test_layer(h_test)\n",
    "print(test_layer.summary())\n",
    "\n",
    "test_layer= Sequential([\n",
    "    Conv2D(128, 10, activation = \"relu\", padding = \"same\")\n",
    "])\n",
    "test_layer(h_test_alternative)\n",
    "print(\"---\"*100, \"\\n\")\n",
    "print(\"ALTERATIVE METHOD:\")\n",
    "print(test_layer.summary())\n"
   ]
  },
  {
   "cell_type": "markdown",
   "id": "b85218f5",
   "metadata": {},
   "source": [
    "Hence again, in general, the FiLM layer is going to be more efficient with respect to the number of parameters needed."
   ]
  },
  {
   "cell_type": "markdown",
   "id": "e2202a29",
   "metadata": {},
   "source": [
    "### Question 4 (Total 10 marks)\n",
    "\n",
    "Provide a separate PDF report with your evaluation and conclusions on the model and training results in this assessment.\n",
    "\n",
    "In addition, compare the experiment conducted in this assessment with that described in section 2 of the [original paper](https://arxiv.org/abs/1709.07871). In particular, discuss how the model architecture and training algorithm differ.\n",
    "\n",
    "Your report should be no more than 1 page.\n",
    "\n",
    "**(10 marks)**"
   ]
  }
 ],
 "metadata": {
  "kernelspec": {
   "display_name": "Python 3",
   "language": "python",
   "name": "python3"
  },
  "language_info": {
   "codemirror_mode": {
    "name": "ipython",
    "version": 3
   },
   "file_extension": ".py",
   "mimetype": "text/x-python",
   "name": "python",
   "nbconvert_exporter": "python",
   "pygments_lexer": "ipython3",
   "version": "3.10.13"
  }
 },
 "nbformat": 4,
 "nbformat_minor": 5
}
