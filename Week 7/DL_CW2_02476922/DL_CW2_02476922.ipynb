{
 "cells": [
  {
   "cell_type": "markdown",
   "id": "d7e6c497",
   "metadata": {},
   "source": [
    "# Deep Learning\n",
    "## Summative assessment\n",
    "### Coursework 2"
   ]
  },
  {
   "cell_type": "markdown",
   "id": "bedeb7a9",
   "metadata": {},
   "source": [
    "#### Instructions\n",
    "\n",
    "This coursework is released on **Wednesday 21st February 9.00** and is due by **Wednesday 6th March 23.59**. It is worth **40%** of your overall mark. There are 4 questions in this assessment, and a total of 100 marks are available. **You should attempt to answer all questions.** In addition to the total number of marks per question below, an additional 10 marks is available for presentation and clarity/quality of code.\n",
    "\n",
    "This assessment assesses your ability to design, implement, train and evaluate a deep learning model for a classification task using multimodal data.\n",
    "\n",
    "You can make imports as and when you need them throughout the notebook, and add code cells where necessary. Make sure your notebook executes correctly in sequence before submitting.\n",
    "\n",
    "#### Submission instructions\n",
    "\n",
    "The submission for this assessment will consist of a notebook (.ipynb file) and a PDF submission.\n",
    "\n",
    "Ensure your notebook executes correctly in order. Save your notebook .ipynb file **after you have executed it** (so that outputs are all showing). It is recommended to also submit a PDF copy of your executed notebook, in case the .ipynb file is corrupted for some reason. \n",
    "\n",
    "Upload a zip file containing your notebook and separate PDF file(s) to Coursera by the deadline above."
   ]
  },
  {
   "cell_type": "code",
   "execution_count": 1,
   "id": "0942eeef",
   "metadata": {
    "scrolled": true
   },
   "outputs": [],
   "source": [
    "# You will need the following imports for this assessment. You can make additional imports when you need them\n",
    "\n",
    "import tensorflow as tf\n",
    "import numpy as np\n",
    "import matplotlib.pyplot as plt\n",
    "import pandas as pd\n",
    "import os\n",
    "\n",
    "from tensorflow.keras.layers import (Layer, Input, Dense, GRU, Embedding, Conv2D, BatchNormalization, Activation, GlobalMaxPooling2D, TextVectorization)\n",
    "from tensorflow.keras.models import Sequential, Model\n",
    "from tensorflow.keras.optimizers import Adam\n",
    "from tensorflow.keras.callbacks import EarlyStopping"
   ]
  },
  {
   "cell_type": "code",
   "execution_count": 2,
   "id": "2cbb167a-1d60-4635-b929-cd1bb7d98146",
   "metadata": {},
   "outputs": [],
   "source": [
    "# You will need access to a GPU for this coursework\n",
    "\n",
    "tf.config.list_physical_devices('GPU')\n",
    "tf.keras.backend.clear_session()"
   ]
  },
  {
   "cell_type": "markdown",
   "id": "7edcd578",
   "metadata": {},
   "source": [
    "#### The CLEVR Dataset\n",
    "\n",
    "This assessment makes use of the [CLEVR Dataset](https://cs.stanford.edu/people/jcjohns/clevr/). This dataset is a visual question answering dataset, and consists of images with corresponding text questions and answers about the image.  \n",
    "\n",
    "* Johnson, J., Hariharan, B., van der Maaten, L., Li, F.-F., Zitnick, C. L. & Girshick, R. (2016), \"CLEVR: A Diagnostic Dataset for Compositional Language and Elementary Visual Reasoning\", *IEEE Conference on Computer Vision and Pattern Recognition (CVPR)*, 1988-1997.\n",
    "\n",
    "The original dataset consists of a training set of 70,000 images and 699,989 questions, a validation set of 15,000 images and 149,991 questions, and a test set of 15,000 images and 14,988 questions. In this coursework you will work with a subset of the training and validation splits, which have been preprocessed and prepared for you. \n",
    "\n",
    "The data is stored in TFRecord format, which is a data format that is efficient for TensorFlow to work with. You can read about the TFRecord format [here](https://www.tensorflow.org/tutorials/load_data/tfrecord) if you are interested, but there is no need to find out about TFRecord for this assessment. The code to read in the TFRecord data to Dataset objects is provided for you below."
   ]
  },
  {
   "cell_type": "code",
   "execution_count": 3,
   "id": "7ebe0cc4",
   "metadata": {},
   "outputs": [],
   "source": [
    "train_ds = tf.data.TFRecordDataset([os.path.join('../../../data_CW2/data', 'train', f) \n",
    "                                    for f in os.listdir(os.path.join('../../../data_CW2/data', 'train')) if f.endswith('tfrecords')])\n",
    "val_ds = tf.data.TFRecordDataset([os.path.join('../../../data_CW2/data', 'val', f) \n",
    "                                    for f in os.listdir(os.path.join('../../../data_CW2/data', 'val')) if f.endswith('tfrecords')])"
   ]
  },
  {
   "cell_type": "code",
   "execution_count": 4,
   "id": "935a3e43",
   "metadata": {},
   "outputs": [],
   "source": [
    "# The following helper function will parse the TFRecord files to return a dictionary of TensorFlow objects\n",
    "\n",
    "def parse_function(example_proto):\n",
    "    features = {\n",
    "        \"image\": tf.io.FixedLenFeature((), tf.string),\n",
    "        \"question\": tf.io.VarLenFeature(dtype=tf.string),\n",
    "        \"answer\": tf.io.VarLenFeature(dtype=tf.string)\n",
    "    }\n",
    "    parsed_features = tf.io.parse_single_example(serialized=example_proto, features=features)\n",
    "    parsed_features[\"question\"] = tf.sparse.to_dense(parsed_features[\"question\"])\n",
    "    parsed_features[\"answer\"] = tf.sparse.to_dense(parsed_features[\"answer\"])\n",
    "    image = tf.io.decode_raw(parsed_features[\"image\"], tf.int32)\n",
    "    image = tf.reshape(image, [224, 224, 3])\n",
    "    parsed_features[\"image\"] = image\n",
    "    return parsed_features"
   ]
  },
  {
   "cell_type": "code",
   "execution_count": 5,
   "id": "c9be7868",
   "metadata": {},
   "outputs": [],
   "source": [
    "train_ds = train_ds.map(parse_function)\n",
    "val_ds = val_ds.map(parse_function)"
   ]
  },
  {
   "cell_type": "code",
   "execution_count": 6,
   "id": "418cad08-c46a-452e-bd37-42fb4e5c108b",
   "metadata": {},
   "outputs": [
    {
     "data": {
      "text/plain": [
       "{'answer': TensorSpec(shape=(None,), dtype=tf.string, name=None),\n",
       " 'question': TensorSpec(shape=(None,), dtype=tf.string, name=None),\n",
       " 'image': TensorSpec(shape=(224, 224, 3), dtype=tf.int32, name=None)}"
      ]
     },
     "execution_count": 6,
     "metadata": {},
     "output_type": "execute_result"
    }
   ],
   "source": [
    "train_ds.element_spec"
   ]
  },
  {
   "cell_type": "markdown",
   "id": "8023241f",
   "metadata": {},
   "source": [
    "Your task in this assessment is to develop a deep learning model to predict the answer for a given question about an image.\n",
    "\n",
    "You will need to implement special customised layers and a sophisticated model architecture, making use of both CNN and RNN models. You will process the data, train and evaluate the specified model, and then write a proposal for your own modified architecture."
   ]
  },
  {
   "cell_type": "markdown",
   "id": "88838a0b",
   "metadata": {},
   "source": [
    "### Question 1 (Total 15 marks)"
   ]
  },
  {
   "cell_type": "markdown",
   "id": "15773a28",
   "metadata": {},
   "source": [
    "The training and validation datasets both return dictionaries with keys `\"image\"`, `\"question\"` and `\"answer\"`. For each image, there are multiple questions and answers. The question and answer entries in the dictionary are both lists of strings of the same length, with aligned questions and answers for the given image. The image entry is a 224x224x3 integer Tensor. These images have been resized from the original size of 480x320, so they appear slightly stretched (this can be ignored). \n",
    "\n",
    "a) Inspect the contents of the dataset by displaying at least one image and it's corresponding questions and answers.\n",
    "\n",
    "**(3 marks)**"
   ]
  },
  {
   "cell_type": "code",
   "execution_count": 7,
   "id": "0c16938a",
   "metadata": {},
   "outputs": [],
   "source": [
    "for ele in train_ds.take(1):\n",
    "    eg_q, eg_a, eg_i = ele[\"question\"], ele[\"answer\"], ele[\"image\"]\n"
   ]
  },
  {
   "cell_type": "code",
   "execution_count": 8,
   "id": "8e15f4ea",
   "metadata": {},
   "outputs": [
    {
     "data": {
      "image/png": "[encoded data removed]",
      "text/plain": [
       "<Figure size 640x480 with 1 Axes>"
      ]
     },
     "metadata": {},
     "output_type": "display_data"
    }
   ],
   "source": [
    "# First, we show the example image\n",
    "plt.imshow(eg_i)\n",
    "plt.show()"
   ]
  },
  {
   "cell_type": "code",
   "execution_count": 9,
   "id": "6a428147",
   "metadata": {},
   "outputs": [
    {
     "name": "stdout",
     "output_type": "stream",
     "text": [
      "Question: \"The blue metal object is what size?\"\n",
      "Answer: \"large\" \n",
      "\n",
      "Question: \"What is the material of the small cyan cube?\"\n",
      "Answer: \"rubber\" \n",
      "\n",
      "Question: \"Is the size of the cyan thing that is in front of the purple cylinder the same as the small matte ball?\"\n",
      "Answer: \"yes\" \n",
      "\n",
      "Question: \"What number of things are either gray balls or big yellow metal objects?\"\n",
      "Answer: \"1\" \n",
      "\n",
      "Question: \"There is a rubber object that is the same color as the large block; what is its shape?\"\n",
      "Answer: \"cube\" \n",
      "\n",
      "Question: \"There is a shiny thing that is on the left side of the big brown thing and behind the large cyan thing; what size is it?\"\n",
      "Answer: \"large\" \n",
      "\n",
      "Question: \"What number of tiny yellow metal cylinders are there?\"\n",
      "Answer: \"0\" \n",
      "\n",
      "Question: \"How many blocks are either tiny cyan rubber things or small matte things?\"\n",
      "Answer: \"1\" \n",
      "\n",
      "Question: \"There is a blue ball right of the cyan block that is behind the purple thing; how many brown objects are to the right of it?\"\n",
      "Answer: \"1\" \n",
      "\n",
      "Question: \"The cylinder that is the same size as the blue metal ball is what color?\"\n",
      "Answer: \"purple\" \n",
      "\n"
     ]
    }
   ],
   "source": [
    "#Next, we show the example questions and answers for the image\n",
    "l = eg_q.shape[0]\n",
    "for combo in range(l):\n",
    "    tf.print(\"Question:\", eg_q[combo])\n",
    "    tf.print(\"Answer:\", eg_a[combo], \"\\n\")"
   ]
  },
  {
   "cell_type": "markdown",
   "id": "bfc75066-c79e-4d03-b066-dc53b3367c48",
   "metadata": {},
   "source": [
    "b) The training and validation Datasets should be processed as follows:\n",
    "\n",
    "* The image pixel values should be scaled to the interval $[0, 1]$.\n",
    "* The answers should be (sparse) encoded as integer labels. You will need to compute the total number of distinct answers to do this.\n",
    "* The questions should be tokenized and represented as a sequence of integer tokens. The questions should be split on whitespace and standardized by lowercasing and removing punctuation. \n",
    "* A single question-answer pair should be uniformly sampled from the available questions and answers for each image (so each image should appear exactly once per epoch with a single question-answer pair).\n",
    "* The inputs to the model will be the question and the image. The targets will be the answer. Process the Datasets so that they return a tuple of 2 elements corresponding to inputs and targets.\n",
    "* Shuffle the training Dataset, and batch both Datasets with batch size 64.\n",
    "\n",
    "Print out the number of distinct answer labels, as well as the number of tokens in the vocabulary computed from the questions.\n",
    "\n",
    "Print out the element_spec of one of the Datasets after processing. \n",
    "\n",
    "**(12 marks)**"
   ]
  },
  {
   "cell_type": "code",
   "execution_count": 10,
   "id": "d4fe8690-c899-4be6-b482-0064d14fce49",
   "metadata": {},
   "outputs": [],
   "source": [
    "#Scale the images\n",
    "def image_scale(dic):\n",
    "    im = dic[\"image\"]\n",
    "    im = im / 255\n",
    "    dic[\"image\"] = im\n",
    "    return dic\n",
    "\n",
    "train_ds = train_ds.map(image_scale)\n",
    "val_ds = val_ds.map(image_scale)"
   ]
  },
  {
   "cell_type": "code",
   "execution_count": 11,
   "id": "de8d81af-20b6-43db-a21b-f1de5c996961",
   "metadata": {},
   "outputs": [],
   "source": [
    "# Check\n",
    "#for ele in train_ds.take(1):\n",
    "    #print(ele[\"image\"])"
   ]
  },
  {
   "cell_type": "code",
   "execution_count": 12,
   "id": "7cfe34cc",
   "metadata": {},
   "outputs": [
    {
     "name": "stdout",
     "output_type": "stream",
     "text": [
      "There are 30 distinct answers including unknown and a placeholder\n",
      "['', '[UNK]', 'no', 'yes', '1', '0', 'rubber', 'small', 'metal', 'large', '2', 'cylinder', 'sphere', 'cube', '3', 'brown', 'yellow', 'blue', 'purple', 'cyan', 'gray', 'red', 'green', '4', '5', '6', '7', '8', '9', '10']\n"
     ]
    }
   ],
   "source": [
    "### Sparse encode answers ###\n",
    "#find number of unique answers\n",
    "text_vectorization_ans = TextVectorization(standardize='lower_and_strip_punctuation',split = \"whitespace\")\n",
    "\n",
    "#get answers for both\n",
    "answers = train_ds.concatenate(val_ds).map(lambda l: l[\"answer\"])\n",
    "\n",
    "text_vectorization_ans.adapt(answers)\n",
    "\n",
    "vocab_ans_size = text_vectorization_ans.vocabulary_size()\n",
    "vocab_ans = text_vectorization_ans.get_vocabulary()\n",
    "print(f\"There are {vocab_ans_size} distinct answers including unknown and a placeholder\")\n",
    "print(vocab_ans)\n",
    "\n",
    "#this shows that there are 30 unique answers, including unknown and placeholder \"\". \n"
   ]
  },
  {
   "cell_type": "code",
   "execution_count": 13,
   "id": "6bd6f789",
   "metadata": {},
   "outputs": [],
   "source": [
    "#Tried using a normal dictionary but encountered issues when converting since it couldn't use a tensor item as a key\n",
    "#and since it is a mapping, you can't use .numpy() either, due to the environment and how the mapping works\n",
    "#so had to use a tensorflow dictionary instead\n",
    "\n",
    "keys_tensor = tf.constant(vocab_ans)\n",
    "vals_tensor = tf.range(len(vocab_ans), dtype=tf.int64)\n",
    "table = tf.lookup.StaticHashTable(\n",
    "    initializer=tf.lookup.KeyValueTensorInitializer(keys=keys_tensor, values=vals_tensor),\n",
    "    default_value=-1 \n",
    ")\n",
    "\n",
    "def convert_labels(element):\n",
    "    # Convert answers to indices using the lookup table\n",
    "    answer_indices = table.lookup(element['answer'])\n",
    "    # One-hot encode as a matrix\n",
    "    one_hot_answers = tf.one_hot(answer_indices, depth=vocab_ans_size)\n",
    "    #update the dictionary given\n",
    "    element['answer'] = one_hot_answers\n",
    "    return element\n",
    "\n",
    "train_ds = train_ds.map(convert_labels)\n",
    "\n",
    "#this will be the same for validation (checked)\n",
    "\n",
    "val_ds = val_ds.map(convert_labels)"
   ]
  },
  {
   "cell_type": "code",
   "execution_count": 14,
   "id": "ff5aa12d",
   "metadata": {},
   "outputs": [],
   "source": [
    "### Now to tokenize all of the questions ###\n",
    "text_vectorization_q = TextVectorization(standardize='lower_and_strip_punctuation',split = \"whitespace\")\n",
    "#make sure to include validation\n",
    "questions = train_ds.concatenate(val_ds).map(lambda l: l[\"question\"])\n",
    "text_vectorization_q.adapt(questions)\n",
    "vocab_q_size = text_vectorization_q.vocabulary_size()\n",
    "vocab_q = text_vectorization_q.get_vocabulary()"
   ]
  },
  {
   "cell_type": "code",
   "execution_count": 15,
   "id": "5ab422c1",
   "metadata": {},
   "outputs": [],
   "source": [
    "def tokenize_q(element):\n",
    "    q = element[\"question\"]\n",
    "    element[\"question\"] = text_vectorization_q(q)\n",
    "    return element\n",
    "#map it\n",
    "train_ds = train_ds.map(tokenize_q)\n",
    "val_ds = val_ds.map(tokenize_q)"
   ]
  },
  {
   "cell_type": "code",
   "execution_count": 16,
   "id": "39ab6f91",
   "metadata": {},
   "outputs": [],
   "source": [
    "### Now to sample randomly for each image ###\n",
    "\n",
    "def sample_image(element):\n",
    "    q, a = element[\"question\"], element[\"answer\"]\n",
    "    #10 questions and answers per one\n",
    "    num_qs = tf.shape(q)[0]\n",
    "    #have to use tensorflow operation or it picks the same for all\n",
    "    idx = tf.random.uniform(shape=(), minval=0, maxval=num_qs, dtype=tf.int32)\n",
    "    q = q[idx,:]\n",
    "    a = a[idx,:]\n",
    "    element[\"question\"] = q\n",
    "    element[\"answer\"] = a\n",
    "    return element\n",
    "\n",
    "train_ds = train_ds.map(sample_image)\n",
    "val_ds = val_ds.map(sample_image)"
   ]
  },
  {
   "cell_type": "code",
   "execution_count": 17,
   "id": "08d8847e",
   "metadata": {},
   "outputs": [],
   "source": [
    "### Now do inputs and targets ###\n",
    "def inputs_and_targets(element):\n",
    "    inputs = (element[\"question\"], element[\"image\"])\n",
    "    targets = element[\"answer\"]\n",
    "    return inputs, targets\n",
    "\n",
    "train_ds = train_ds.map(inputs_and_targets)\n",
    "val_ds = val_ds.map(inputs_and_targets)\n"
   ]
  },
  {
   "cell_type": "code",
   "execution_count": 18,
   "id": "6af4a9d0",
   "metadata": {},
   "outputs": [],
   "source": [
    "### Now shuffle and batch ###\n",
    "batch_size = 64\n",
    "train_ds = train_ds.shuffle(100)\n",
    "\n",
    "#padded batching to make sure the inputs are all of the same shape for each batch\n",
    "train_ds = train_ds.padded_batch(batch_size)\n",
    "val_ds = val_ds.padded_batch(batch_size)\n"
   ]
  },
  {
   "cell_type": "code",
   "execution_count": 19,
   "id": "c4d4d5f7",
   "metadata": {},
   "outputs": [],
   "source": [
    "#finally, prefetch\n",
    "train_ds = train_ds.prefetch(tf.data.AUTOTUNE)\n",
    "val_ds = val_ds.prefetch(tf.data.AUTOTUNE)"
   ]
  },
  {
   "cell_type": "code",
   "execution_count": 20,
   "id": "100b5bf9",
   "metadata": {},
   "outputs": [
    {
     "name": "stdout",
     "output_type": "stream",
     "text": [
      "82\n"
     ]
    }
   ],
   "source": [
    "### Print off element specs ###\n",
    "\n",
    "#print(train_ds.element_spec)\n",
    "print(text_vectorization_q.vocabulary_size())"
   ]
  },
  {
   "cell_type": "markdown",
   "id": "1075f29a-81c2-4a11-9bde-768e9fb269e5",
   "metadata": {},
   "source": [
    "### Question 2 (Total 35 marks)"
   ]
  },
  {
   "cell_type": "markdown",
   "id": "17bf37ac-40e3-40eb-894b-28cd8bdb8432",
   "metadata": {},
   "source": [
    "The model that you will implement for the visual question answering task was first proposed in the paper\n",
    "\n",
    "* Perez, E., Strub, F., de Vries, H. & Courville, A. (2018), \"FiLM: visual reasoning with a general conditioning layer\", in _Proceedings of the Thirty-Second AAAI Conference on Artificial Intelligence_, New Orleans, Louisiana, USA.\n",
    "\n",
    "The main idea is the introduction of a specialised layer called a FiLM layer (Feature-wise Linear Modulation). The purpose of this layer is to modify the predictions that are made by a CNN prediction model (the central stack coloured in brown in the figure below). The CNN prediction model takes the image as input, and outputs a categorical distribution over the set of possible answers.\n",
    "\n",
    "The FiLM layer uses information stored in a vector embedding (which comes from the question text) to modify the post-activations of the CNN prediction model. This vector embedding is produced by a gated recurrent unit (GRU) network (referred to in the original paper as the FiLM generator) as the final hidden layer representation after processing the input question. This vector embedding is also referred to as the conditioning signal.\n",
    "\n",
    "The overall model architecture is shown in the figure below:\n",
    "\n",
    "<center><img src=\"figures/model.png\" alt=\"Model architecture\" style=\"width: 450px;\"/></center>\n",
    "<center>Overall model architecture</center>\n",
    "\n",
    "The question is tokenized, and learned embeddings are processed sequentially by the GRU network/FiLM generator. There are potentially multiple FiLM layers within the CNN prediction model. Each FiLM layer uses the GRU embedding $\\mathbf{q}$ (the conditioning signal) to modify the output of a convolutional layer within the CNN prediction model, as described in part c)."
   ]
  },
  {
   "cell_type": "markdown",
   "id": "1e0c54e1-344e-45e4-b513-748092b31bb4",
   "metadata": {},
   "source": [
    "a) Implement the FiLM generator as a 2-layer stacked GRU network, using an embedding dimension of 64, and 128 neurons for both of the layers of the GRU. The network should output the final 128-dimensional embedding. Print the model summary.\n",
    "\n",
    "**(3 marks)**"
   ]
  },
  {
   "cell_type": "code",
   "execution_count": 21,
   "id": "28806d5a-f033-443b-9c7f-8a9ddcfed163",
   "metadata": {},
   "outputs": [],
   "source": [
    "gru_network = Sequential([\n",
    "    #embed\n",
    "    Embedding(input_dim = vocab_q_size,output_dim = 64,mask_zero = True),\n",
    "    GRU(units = 128, return_sequences = True),\n",
    "    GRU(units = 128)\n",
    "], name = \"gru_network\")"
   ]
  },
  {
   "cell_type": "code",
   "execution_count": 22,
   "id": "9b63d3f1",
   "metadata": {},
   "outputs": [
    {
     "name": "stdout",
     "output_type": "stream",
     "text": [
      "Model: \"gru_network\"\n",
      "_________________________________________________________________\n",
      " Layer (type)                Output Shape              Param #   \n",
      "=================================================================\n",
      " embedding (Embedding)       (None, None, 64)          5248      \n",
      "                                                                 \n",
      " gru (GRU)                   (None, None, 128)         74496     \n",
      "                                                                 \n",
      " gru_1 (GRU)                 (None, 128)               99072     \n",
      "                                                                 \n",
      "=================================================================\n",
      "Total params: 178,816\n",
      "Trainable params: 178,816\n",
      "Non-trainable params: 0\n",
      "_________________________________________________________________\n"
     ]
    }
   ],
   "source": [
    "gru_network.summary()"
   ]
  },
  {
   "cell_type": "markdown",
   "id": "879bea7c-6b09-4fc0-9f32-5aba04f8b7f4",
   "metadata": {},
   "source": [
    "b) The first block of the CNN prediction model is a feature extractor CNN which does not make use of the conditioning signal $\\mathbf{q}$ from the GRU network. This block takes the image as input, and passes it through two sub-blocks, each consisting of the following layers:\n",
    "\n",
    "* A 2D convolutional layer with 128 filters, a 4x4 kernel, 2x2 strides, 'SAME' padding, and no activation function\n",
    "* A batch normalisation layer\n",
    "* An element-wise ReLU activation\n",
    "\n",
    "Implement the feature extractor CNN and print the model summary.\n",
    "\n",
    "**(2 marks)**"
   ]
  },
  {
   "cell_type": "code",
   "execution_count": 23,
   "id": "8fd4bf2c-f0d9-436d-a876-19a4f7b4735a",
   "metadata": {},
   "outputs": [],
   "source": [
    "cnn_feature_extractor = Sequential([\n",
    "    #sub block one\n",
    "    Conv2D(filters = 128, kernel_size = (4,4), strides = (2,2), padding = \"same\", input_shape = (224,224,3)),\n",
    "    BatchNormalization(),\n",
    "    Activation(\"relu\"),\n",
    "    #sub block two\n",
    "    Conv2D(filters = 128, kernel_size = (4,4), strides = (2,2), padding = \"same\"),\n",
    "    BatchNormalization(),\n",
    "    Activation(\"relu\")\n",
    "], name = \"feature_extractor\")"
   ]
  },
  {
   "cell_type": "code",
   "execution_count": 24,
   "id": "c6d1f306",
   "metadata": {},
   "outputs": [
    {
     "name": "stdout",
     "output_type": "stream",
     "text": [
      "Model: \"feature_extractor\"\n",
      "_________________________________________________________________\n",
      " Layer (type)                Output Shape              Param #   \n",
      "=================================================================\n",
      " conv2d (Conv2D)             (None, 112, 112, 128)     6272      \n",
      "                                                                 \n",
      " batch_normalization (BatchN  (None, 112, 112, 128)    512       \n",
      " ormalization)                                                   \n",
      "                                                                 \n",
      " activation (Activation)     (None, 112, 112, 128)     0         \n",
      "                                                                 \n",
      " conv2d_1 (Conv2D)           (None, 56, 56, 128)       262272    \n",
      "                                                                 \n",
      " batch_normalization_1 (Batc  (None, 56, 56, 128)      512       \n",
      " hNormalization)                                                 \n",
      "                                                                 \n",
      " activation_1 (Activation)   (None, 56, 56, 128)       0         \n",
      "                                                                 \n",
      "=================================================================\n",
      "Total params: 269,568\n",
      "Trainable params: 269,056\n",
      "Non-trainable params: 512\n",
      "_________________________________________________________________\n",
      "None\n"
     ]
    }
   ],
   "source": [
    "print(cnn_feature_extractor.summary())"
   ]
  },
  {
   "cell_type": "markdown",
   "id": "48c19dc6-a633-4d39-bd3c-42cc01e2bcc4",
   "metadata": {},
   "source": [
    "c) Implement a custom layer class for the FiLM layer as described below. This class should subclass the base `Layer` class in the `tensorflow.keras.layers` module. \n",
    "\n",
    "This layer will need to take two inputs when it is called: the conditioning signal $\\mathbf{q}$, as well as the previous convolutional layer output $\\mathbf{h}$. \n",
    "\n",
    "The FiLM layer passes the conditioning signal $\\mathbf{q}$ output by the GRU FiLM generator through a linear layer (dense layer with no activation function) to produce $\\gamma$ and $\\beta$:\n",
    "\n",
    "$$\n",
    "\\gamma = \\textrm{Linear}(\\mathbf{q}) \\quad\\quad \\beta = \\textrm{Linear}(\\mathbf{q}).\n",
    "$$\n",
    "\n",
    "Both $\\gamma$ and $\\beta$ are vectors, with length equal to the number of feature maps (or channels) in the output of a convolutional layer $\\mathbf{h}$. These post-activations are then modulated via the feature-wise affine transformation:\n",
    "\n",
    "$$\n",
    "\\textrm{FiLM}(\\mathbf{h} | \\gamma, \\beta)_{h, w, c} = \\gamma_c \\mathbf{h}_{h, w, c} + \\beta_c,\n",
    "$$\n",
    "where the subscripts $h, w, c$ index the height, width and channel dimensions respectively.\n",
    "\n",
    "Create an instance of your custom layer class and test it on some dummy inputs to verify it works as expected.\n",
    "\n",
    "**(10 marks)**"
   ]
  },
  {
   "cell_type": "code",
   "execution_count": 25,
   "id": "dcc796e6",
   "metadata": {},
   "outputs": [],
   "source": [
    "#the output channels of the convolutional network is 128\n",
    "output_channels = 128\n",
    "class FiLM(Layer):\n",
    "    def __init__(self):\n",
    "        super().__init__()\n",
    "        #initialise the linear transformations so the weights can then be learned from this point onwards\n",
    "        #we only want the given term, not the bias too\n",
    "        self.dense_gamma = Dense(output_channels, name = \"gamma\", use_bias = False)\n",
    "        self.dense_beta = Dense(output_channels, name = \"beta\", use_bias = False)\n",
    "        \n",
    "    def call(self,q,h):\n",
    "        gamma = self.dense_gamma(q)\n",
    "        beta = self.dense_beta(q)\n",
    "        #return broadcasted result, could have done [None, etc]\n",
    "        return tf.expand_dims(tf.expand_dims(gamma,1),1) * h + tf.expand_dims(tf.expand_dims(beta,1),1)\n",
    "        "
   ]
  },
  {
   "cell_type": "code",
   "execution_count": 26,
   "id": "65365654-5ddb-49b0-b914-ce3d05348e50",
   "metadata": {},
   "outputs": [],
   "source": [
    "film = FiLM()"
   ]
  },
  {
   "cell_type": "code",
   "execution_count": 27,
   "id": "27482d1a",
   "metadata": {},
   "outputs": [
    {
     "data": {
      "text/plain": [
       "TensorShape([64, 56, 56, 128])"
      ]
     },
     "execution_count": 27,
     "metadata": {},
     "output_type": "execute_result"
    }
   ],
   "source": [
    "#take dummy data\n",
    "#take the first example for each\n",
    "for ele in train_ds.take(1):\n",
    "    inputs, outputs = ele\n",
    "\n",
    "film(gru_network(inputs[0]), cnn_feature_extractor(inputs[1])).shape\n",
    "#this gives us the shape that we expect"
   ]
  },
  {
   "cell_type": "markdown",
   "id": "51fee9b3-93e3-42dc-bb78-3508871ebe8f",
   "metadata": {},
   "source": [
    "d) The second main block of the CNN network consists of a number of ResBlocks. Each ResBlock consists of the following layers:\n",
    "\n",
    "<center><img src=\"figures/resblock.png\" alt=\"ResBlock\" style=\"width: 150px;\"/></center>\n",
    "\n",
    "\n",
    "* A 1x1 convolutional layer with 128 channels and ReLU activation function\n",
    "* A 3x3 convolutional layer with 128 channels and no activation function\n",
    "* A BatchNormalization layer, where the usual $\\gamma$ and $\\beta$ parameters are not used\n",
    "* a FiLM layer, that also uses the conditioning signal $\\mathbf{q}$ from the GRU network\n",
    "* An elementwise ReLU activation function\n",
    "* The output is then added to the output of the first convolutional layer\n",
    "\n",
    "Each convolutional layer uses 'SAME' padding.\n",
    "\n",
    "Implement the ResBlock as another custom layer. Similar to the FiLM layer, this layer will also need to take two inputs when it is called: the conditioning signal $\\mathbf{q}$, as well as the previous convolutional layer output $\\mathbf{h}$. \n",
    "\n",
    "Create an instance of your custom layer class and test it on some dummy inputs to verify it works as expected.\n",
    "\n",
    "**(8 marks)**"
   ]
  },
  {
   "cell_type": "code",
   "execution_count": 28,
   "id": "04463e72-abf5-45ad-b1c7-52faf3efad90",
   "metadata": {},
   "outputs": [],
   "source": [
    "class ResBlock(Layer):\n",
    "    def __init__(self):\n",
    "        super().__init__()\n",
    "        #dont need to give conv the input dimension\n",
    "        self.conv1 = Conv2D(128, (1,1), activation = \"relu\", padding = \"same\")\n",
    "        self.conv2 = Conv2D(128,(3,3), padding = \"same\")\n",
    "        #turn the bn parameters off for the bn layer preceeding the film layer\n",
    "        self.bn = BatchNormalization(center = False, scale = False)\n",
    "        #scale = False?\n",
    "        self.film = FiLM()\n",
    "        self.relu = Activation(\"relu\")\n",
    "    def call(self, q, h):\n",
    "        #send the inputs forward, noting that the first convolutional layer is defined with Relu\n",
    "        h = self.conv1(h)\n",
    "        #save the output of the first convolutional layer for later\n",
    "        conv1_h = h\n",
    "        #proceed forward\n",
    "        h = self.conv2(h)\n",
    "        h = self.bn(h)\n",
    "        h = self.film(q,h)\n",
    "        h = self.relu(h)\n",
    "        #now combine \n",
    "        h = h + conv1_h\n",
    "        return h"
   ]
  },
  {
   "cell_type": "code",
   "execution_count": 29,
   "id": "7494edb1-6826-496d-9782-3ee1f9317abe",
   "metadata": {},
   "outputs": [
    {
     "data": {
      "text/plain": [
       "TensorShape([64, 56, 56, 128])"
      ]
     },
     "execution_count": 29,
     "metadata": {},
     "output_type": "execute_result"
    }
   ],
   "source": [
    "#We will pass in the first example input again as before:\n",
    "resblock = ResBlock()\n",
    "resblock(gru_network(inputs[0]),cnn_feature_extractor(inputs[1])).shape\n",
    "#again we have the output dimension that we expect"
   ]
  },
  {
   "cell_type": "markdown",
   "id": "fc319491-6d56-4fca-a70c-bca662bd7749",
   "metadata": {},
   "source": [
    "e) At several points in the model, two coordinate feature maps will be added to the output of a convolutional layer. This operation will be applied before each ResBlock and the classifier component of the CNN prediction model. \n",
    "\n",
    "These two feature maps indicate relative $x$ and $y$ spatial position, and are each scaled from $-1$ to $1$ across the height and width dimensions. These two feature maps are concatenated as two extra channels to the convolutional layer output.\n",
    "\n",
    "Implement this operation as another custom layer class called `AddSpatialCoordinates`. The layer should be able to accept input Tensors with arbitrary height, width and channel dimensions. This custom layer will not have any trainable variables.\n",
    "\n",
    "Create an instance of your custom layer class and test it on some dummy inputs to verify it works as expected.\n",
    "\n",
    "**(7 marks)**"
   ]
  },
  {
   "cell_type": "code",
   "execution_count": 30,
   "id": "6e4a0fc0-fad4-4755-a24e-c4fd1a273af5",
   "metadata": {},
   "outputs": [],
   "source": [
    "class AddSpatialCoordinates(Layer):\n",
    "    def __init__(self, name = \"ASC\"):\n",
    "        super().__init__(name = name)\n",
    "        \n",
    "    def call(self,inputs):\n",
    "        #here, inputs is the (batch,w,h,channel) tensor\n",
    "        #[0] is batch size and [3] is number of channels\n",
    "        x_size = inputs.shape[1]\n",
    "        y_size = inputs.shape[2]\n",
    "\n",
    "        x_grid = tf.linspace(-1,1,num = x_size)\n",
    "        y_grid = tf.linspace(-1,1,num = y_size)\n",
    "        #make these grids float32 to be compatible with the inputs tensor\n",
    "        x_grid = tf.cast(x_grid,tf.float32)\n",
    "        y_grid = tf.cast(y_grid,tf.float32)\n",
    "        #this makes a list of two grids, -1 for x is left, -1 for y is top\n",
    "        mesh = tf.meshgrid(x_grid,y_grid)\n",
    "        #now we have to broadcast mesh so that we can add it to the inputs tensor\n",
    "        mesh_x = mesh[0]\n",
    "        mesh_y = mesh[1]\n",
    "        mesh_x = tf.expand_dims(tf.expand_dims(mesh_x,0),-1)\n",
    "        mesh_y = tf.expand_dims(tf.expand_dims(mesh_y,0),-1)\n",
    "        #now tile to commute with the batch size\n",
    "        mesh_x = tf.tile(mesh_x, [tf.shape(inputs)[0],1,1,1])\n",
    "        mesh_y = tf.tile(mesh_y, [tf.shape(inputs)[0],1,1,1])\n",
    "        inputs = tf.concat([inputs,mesh_x,mesh_y],axis = -1)\n",
    "        return inputs\n",
    "        "
   ]
  },
  {
   "cell_type": "code",
   "execution_count": 31,
   "id": "53ab8bd4-59c4-4bfb-bb45-34b19b80b3c2",
   "metadata": {},
   "outputs": [
    {
     "name": "stdout",
     "output_type": "stream",
     "text": [
      "(64, 56, 56, 130)\n"
     ]
    }
   ],
   "source": [
    "#Again test this on the example input:\n",
    "asc = AddSpatialCoordinates()\n",
    "test = asc(cnn_feature_extractor(inputs[1]))\n",
    "print(test.shape)\n",
    "#this is giving what we expect, with the two added dimensions"
   ]
  },
  {
   "cell_type": "code",
   "execution_count": 32,
   "id": "9173704d",
   "metadata": {},
   "outputs": [
    {
     "name": "stdout",
     "output_type": "stream",
     "text": [
      "tf.Tensor(\n",
      "[[-1.         -1.         -1.         ... -1.         -1.\n",
      "  -1.        ]\n",
      " [-0.96363634 -0.96363634 -0.96363634 ... -0.96363634 -0.96363634\n",
      "  -0.96363634]\n",
      " [-0.92727274 -0.92727274 -0.92727274 ... -0.92727274 -0.92727274\n",
      "  -0.92727274]\n",
      " ...\n",
      " [ 0.92727274  0.92727274  0.92727274 ...  0.92727274  0.92727274\n",
      "   0.92727274]\n",
      " [ 0.96363634  0.96363634  0.96363634 ...  0.96363634  0.96363634\n",
      "   0.96363634]\n",
      " [ 1.          1.          1.         ...  1.          1.\n",
      "   1.        ]], shape=(56, 56), dtype=float32)\n",
      "tf.Tensor(\n",
      "[[-1.         -0.96363634 -0.92727274 ...  0.92727274  0.96363634\n",
      "   1.        ]\n",
      " [-1.         -0.96363634 -0.92727274 ...  0.92727274  0.96363634\n",
      "   1.        ]\n",
      " [-1.         -0.96363634 -0.92727274 ...  0.92727274  0.96363634\n",
      "   1.        ]\n",
      " ...\n",
      " [-1.         -0.96363634 -0.92727274 ...  0.92727274  0.96363634\n",
      "   1.        ]\n",
      " [-1.         -0.96363634 -0.92727274 ...  0.92727274  0.96363634\n",
      "   1.        ]\n",
      " [-1.         -0.96363634 -0.92727274 ...  0.92727274  0.96363634\n",
      "   1.        ]], shape=(56, 56), dtype=float32)\n"
     ]
    }
   ],
   "source": [
    "#lets inspect dimension 129 and 130 of this\n",
    "print(test[0,:,:,129])\n",
    "print(test[0,:,:,128])\n",
    "#this is the relative positionings for each one as we eould expect"
   ]
  },
  {
   "cell_type": "markdown",
   "id": "155f8b64-b651-4c48-b5f2-f8003313bbc5",
   "metadata": {},
   "source": [
    "f) The final main block of the CNN network is a classifier block. This block consists of the following layers:\n",
    "\n",
    "* 1x1 convolution with 512 output channels, ReLU activation, and 'SAME' padding\n",
    "* Global max pooling across height and width dimensions\n",
    "* Dense layer with 512 neurons and ReLU activation\n",
    "* Final Dense layer with $n_c$ neurons and softmax activation, where $n_c$ is the number of output labels\n",
    "\n",
    "Once you have implemented the classifier, you should bring all components together to build the complete model. This model consists of the following:\n",
    "\n",
    "* GRU FiLM generator as defined in part a) that processes the sequence of question tokens and outputs an embedding $\\mathbf{q}$ of dimension 128\n",
    "* Feature extractor block as defined in part b) that processes the input image\n",
    "* The output of the feature extractor should then be extended with spatial coordinate feature maps by passing it through your `AddSpatialCoordinates` layer\n",
    "* This should be followed by just one ResBlock custom layer, that takes in two inputs: the output from the previous `AddSpatialCoordinates` layer and the question embedding $\\mathbf{q}$. We will only use one ResBlock due to computational limitations\n",
    "* The output of the ResBlock should then also be extended with spatial coordinate feature maps by passing it through your `AddSpatialCoordinates` layer\n",
    "* The output from the previous `AddSpatialCoordinates` layer should then be sent through the classifier block to obtain the final output prediction\n",
    "\n",
    "Implement the complete model according to the above spec, and print the model summary.\n",
    "\n",
    "**(5 marks)**"
   ]
  },
  {
   "cell_type": "code",
   "execution_count": 33,
   "id": "10caf0dc-59a5-4580-9135-6b84625bce1a",
   "metadata": {},
   "outputs": [],
   "source": [
    "classifier = Sequential([\n",
    "    #dont need to specify input size for conv2d\n",
    "    Conv2D(512,(1,1), activation = \"relu\", padding = \"same\"),\n",
    "    #looking at documentation, this globally pools over height and width, leaving batch and channels intact\n",
    "    GlobalMaxPooling2D(),\n",
    "    Dense(512,activation = \"relu\"),\n",
    "    Dense(vocab_ans_size, activation = \"softmax\")\n",
    "], name = \"classifier\")"
   ]
  },
  {
   "cell_type": "code",
   "execution_count": 34,
   "id": "85191bba-5657-49b9-9ec6-2bbaaf6950ac",
   "metadata": {},
   "outputs": [],
   "source": [
    "class full_model(Model):\n",
    "    def __init__(self,gru_network, cnn_feature_extractor,classifier):\n",
    "        super(full_model,self).__init__()\n",
    "        self.gru = gru_network\n",
    "        self.feature_extractor = cnn_feature_extractor\n",
    "        #asp can be called multiple times since not trained\n",
    "        self.asp = AddSpatialCoordinates()\n",
    "        self.resblock = ResBlock()\n",
    "        self.classifier = classifier\n",
    "    def call(self,inputs):\n",
    "        #we expect just the input to be passed in, not the target\n",
    "        text, images = inputs\n",
    "        q = self.gru(text)\n",
    "        h = self.feature_extractor(images)\n",
    "        h = self.asp(h)\n",
    "        h = self.resblock(q,h)\n",
    "        h = self.asp(h)\n",
    "        #predict\n",
    "        preds = self.classifier(h)\n",
    "        return preds\n",
    "        "
   ]
  },
  {
   "cell_type": "code",
   "execution_count": 35,
   "id": "49475401",
   "metadata": {},
   "outputs": [
    {
     "data": {
      "text/plain": [
       "<tf.Tensor: shape=(64, 30), dtype=float32, numpy=\n",
       "array([[0.04710636, 0.04437607, 0.03050191, ..., 0.02805948, 0.02663114,\n",
       "        0.03003928],\n",
       "       [0.04730137, 0.04441754, 0.03044788, ..., 0.02799793, 0.02652372,\n",
       "        0.02999241],\n",
       "       [0.04710416, 0.04437528, 0.0303874 , ..., 0.02807765, 0.02660846,\n",
       "        0.02985948],\n",
       "       ...,\n",
       "       [0.04676634, 0.04431481, 0.03042531, ..., 0.02803788, 0.02654458,\n",
       "        0.03000015],\n",
       "       [0.04706671, 0.04427442, 0.03045115, ..., 0.02808778, 0.02668757,\n",
       "        0.02995061],\n",
       "       [0.04698633, 0.04428517, 0.03050598, ..., 0.02811332, 0.02667959,\n",
       "        0.03008002]], dtype=float32)>"
      ]
     },
     "execution_count": 35,
     "metadata": {},
     "output_type": "execute_result"
    }
   ],
   "source": [
    "#to print the model summary we call it on the example\n",
    "fm = full_model(gru_network, cnn_feature_extractor, classifier)\n",
    "fm(inputs)"
   ]
  },
  {
   "cell_type": "code",
   "execution_count": 36,
   "id": "2821366f",
   "metadata": {},
   "outputs": [
    {
     "name": "stdout",
     "output_type": "stream",
     "text": [
      "Model: \"full_model\"\n",
      "_________________________________________________________________\n",
      " Layer (type)                Output Shape              Param #   \n",
      "=================================================================\n",
      " gru_network (Sequential)    (None, 128)               178816    \n",
      "                                                                 \n",
      " feature_extractor (Sequenti  (None, 56, 56, 128)      269568    \n",
      " al)                                                             \n",
      "                                                                 \n",
      " ASC (AddSpatialCoordinates)  multiple                 0         \n",
      "                                                                 \n",
      " res_block_1 (ResBlock)      multiple                  197376    \n",
      "                                                                 \n",
      " classifier (Sequential)     (64, 30)                  345118    \n",
      "                                                                 \n",
      "=================================================================\n",
      "Total params: 990,878\n",
      "Trainable params: 990,110\n",
      "Non-trainable params: 768\n",
      "_________________________________________________________________\n"
     ]
    }
   ],
   "source": [
    "fm.summary()"
   ]
  },
  {
   "cell_type": "markdown",
   "id": "696825b0-167a-4fab-b9ca-f5b527cd7a38",
   "metadata": {},
   "source": [
    "### Question 3 (Total 30 marks)"
   ]
  },
  {
   "cell_type": "markdown",
   "id": "4bce2b50-6bff-4fff-b2fa-5e0bdb8d6937",
   "metadata": {},
   "source": [
    "a) You should now train your model from question 2 using a cross entropy loss function. Train the model for 20 epochs, with an Adam optimizer with learning rate 3e-4. You should track model performance on the validation set, including the accuracy. \n",
    "\n",
    "Your code should be structured to account for restarting broken training runs. You will need to save your model every epoch, and save all of the model's training and validation performance up to that point (a convenient method is to use the `CSVLogger` callback). In the case of a broken training run, the required data should be loaded, and the training run resumed from the last saved checkpoint. You do not need to use early stopping in the training run.\n",
    "\n",
    "When training has completed, compute and print the final evaluation of your model on the validation set.\n",
    "\n",
    "_NB: The model would need to be larger and trained for longer to achieve good performance on this task. The model and training have been scaled down to accommodate infrastructure limitations on the Coursera platform. You should implement the architecture as specified in this assessment, but you can train the model for longer if you wish. The performance of the resulting model is **not** part of the marking criteria._\n",
    "\n",
    "**(15 marks)**"
   ]
  },
  {
   "cell_type": "code",
   "execution_count": 37,
   "id": "2f02bbdf-ee43-4157-a026-5f3361bf19cb",
   "metadata": {},
   "outputs": [
    {
     "name": "stderr",
     "output_type": "stream",
     "text": [
      "d:\\University-local\\Imperial\\Term 2\\Deep Learning\\.conda\\lib\\site-packages\\keras\\optimizers\\optimizer_v2\\adam.py:114: UserWarning: The `lr` argument is deprecated, use `learning_rate` instead.\n",
      "  super().__init__(name, **kwargs)\n"
     ]
    }
   ],
   "source": [
    "optimizer = Adam(lr = 3e-4)\n",
    "fm.compile(loss = \"CategoricalCrossentropy\", optimizer = optimizer,metrics = [\"accuracy\"])"
   ]
  },
  {
   "cell_type": "code",
   "execution_count": 38,
   "id": "a2304e81-33c5-4c1b-8124-81d85be49f29",
   "metadata": {},
   "outputs": [
    {
     "name": "stdout",
     "output_type": "stream",
     "text": [
      "Epoch 1/20\n"
     ]
    },
    {
     "name": "stdout",
     "output_type": "stream",
     "text": [
      "234/234 [==============================] - 105s 419ms/step - loss: 2.0700 - accuracy: 0.2787 - val_loss: 2.2613 - val_accuracy: 0.3245\n",
      "Epoch 2/20\n",
      "234/234 [==============================] - 94s 403ms/step - loss: 1.3233 - accuracy: 0.3960 - val_loss: 1.3760 - val_accuracy: 0.3885\n",
      "Epoch 3/20\n",
      "234/234 [==============================] - 95s 404ms/step - loss: 1.1358 - accuracy: 0.4288 - val_loss: 1.0847 - val_accuracy: 0.4387\n",
      "Epoch 4/20\n",
      "234/234 [==============================] - 95s 404ms/step - loss: 1.0760 - accuracy: 0.4283 - val_loss: 1.1134 - val_accuracy: 0.4133\n",
      "Epoch 5/20\n",
      "234/234 [==============================] - 96s 408ms/step - loss: 1.0574 - accuracy: 0.4330 - val_loss: 1.0662 - val_accuracy: 0.4259\n",
      "Epoch 6/20\n",
      "234/234 [==============================] - 96s 409ms/step - loss: 1.0369 - accuracy: 0.4378 - val_loss: 1.0430 - val_accuracy: 0.4419\n",
      "Epoch 7/20\n",
      "234/234 [==============================] - 96s 409ms/step - loss: 1.0144 - accuracy: 0.4447 - val_loss: 1.0012 - val_accuracy: 0.4469\n",
      "Epoch 8/20\n",
      "234/234 [==============================] - 96s 411ms/step - loss: 1.0179 - accuracy: 0.4445 - val_loss: 1.0235 - val_accuracy: 0.4443\n",
      "Epoch 9/20\n",
      "234/234 [==============================] - 95s 404ms/step - loss: 1.0052 - accuracy: 0.4506 - val_loss: 1.0283 - val_accuracy: 0.4328\n",
      "Epoch 10/20\n",
      "234/234 [==============================] - 95s 405ms/step - loss: 1.0008 - accuracy: 0.4417 - val_loss: 0.9925 - val_accuracy: 0.4509\n",
      "Epoch 11/20\n",
      "234/234 [==============================] - 95s 406ms/step - loss: 0.9940 - accuracy: 0.4421 - val_loss: 1.0152 - val_accuracy: 0.4389\n",
      "Epoch 12/20\n",
      "234/234 [==============================] - 95s 405ms/step - loss: 0.9954 - accuracy: 0.4468 - val_loss: 0.9993 - val_accuracy: 0.4581\n",
      "Epoch 13/20\n",
      "234/234 [==============================] - 94s 399ms/step - loss: 0.9755 - accuracy: 0.4527 - val_loss: 0.9650 - val_accuracy: 0.4704\n",
      "Epoch 14/20\n",
      "234/234 [==============================] - 94s 402ms/step - loss: 0.9690 - accuracy: 0.4521 - val_loss: 0.9853 - val_accuracy: 0.4397\n",
      "Epoch 15/20\n",
      "234/234 [==============================] - 95s 404ms/step - loss: 0.9716 - accuracy: 0.4532 - val_loss: 0.9646 - val_accuracy: 0.4539\n",
      "Epoch 16/20\n",
      "234/234 [==============================] - 98s 419ms/step - loss: 0.9661 - accuracy: 0.4607 - val_loss: 0.9732 - val_accuracy: 0.4469\n",
      "Epoch 17/20\n",
      "234/234 [==============================] - 97s 416ms/step - loss: 0.9699 - accuracy: 0.4545 - val_loss: 0.9598 - val_accuracy: 0.4544\n",
      "Epoch 18/20\n",
      "234/234 [==============================] - 99s 425ms/step - loss: 0.9603 - accuracy: 0.4601 - val_loss: 0.9664 - val_accuracy: 0.4600\n",
      "Epoch 19/20\n",
      "234/234 [==============================] - 96s 411ms/step - loss: 0.9622 - accuracy: 0.4612 - val_loss: 0.9581 - val_accuracy: 0.4792\n",
      "Epoch 20/20\n",
      "234/234 [==============================] - 96s 412ms/step - loss: 0.9522 - accuracy: 0.4581 - val_loss: 0.9565 - val_accuracy: 0.4600\n"
     ]
    }
   ],
   "source": [
    "fm_history = fm.fit(train_ds,epochs = 20, validation_data = val_ds)"
   ]
  },
  {
   "cell_type": "code",
   "execution_count": 46,
   "id": "70ccd7f1",
   "metadata": {},
   "outputs": [
    {
     "data": {
      "text/plain": [
       "[<matplotlib.lines.Line2D at 0x1bff6a41f90>]"
      ]
     },
     "execution_count": 46,
     "metadata": {},
     "output_type": "execute_result"
    },
    {
     "data": {
      "image/png": "[encoded data removed]",
      "text/plain": [
       "<Figure size 640x480 with 1 Axes>"
      ]
     },
     "metadata": {},
     "output_type": "display_data"
    }
   ],
   "source": [
    "plt.plot(fm_history.history[\"loss\"], \"r\")\n",
    "plt.plot(fm_history.history[\"val_loss\"],\"b\")\n",
    "plt.plot(fm_history.history[\"accuracy\"], \"r--\")\n",
    "plt.plot(fm_history.history[\"val_accuracy\"],\"b--\")"
   ]
  },
  {
   "cell_type": "markdown",
   "id": "6a6b4267-3914-4135-ac7e-395b3d05df2f",
   "metadata": {},
   "source": [
    "b) Plot the loss and accuracy over the course of training on the training and validation sets.\n",
    "\n",
    "Select at least one sample image and question from the validation set, and compute the model predictions. Display the image, question, ground truth answer and model predictive distribution over the set of answers.\n",
    "\n",
    "**(7 marks)**"
   ]
  },
  {
   "cell_type": "code",
   "execution_count": 40,
   "id": "97343dde-440b-41e1-85a2-3721d9993096",
   "metadata": {},
   "outputs": [
    {
     "data": {
      "text/plain": [
       "1920"
      ]
     },
     "execution_count": 40,
     "metadata": {},
     "output_type": "execute_result"
    }
   ],
   "source": [
    "64*30"
   ]
  },
  {
   "cell_type": "code",
   "execution_count": null,
   "id": "7e47ebed-5bbf-4db0-927f-7fc44acb4d6f",
   "metadata": {},
   "outputs": [],
   "source": []
  },
  {
   "cell_type": "code",
   "execution_count": null,
   "id": "84edd87a",
   "metadata": {},
   "outputs": [],
   "source": []
  },
  {
   "cell_type": "markdown",
   "id": "161f7414-b0c2-4548-bf74-1914c4d81595",
   "metadata": {},
   "source": [
    "c) Explain why adding spatial coordinate feature maps as in 2e) is beneficial for the proposed model and task from questions 1 and 2.\n",
    "\n",
    "**(3 marks)**"
   ]
  },
  {
   "cell_type": "markdown",
   "id": "153da97f-2d13-4f65-b160-b9bc998a057f",
   "metadata": {},
   "source": []
  },
  {
   "cell_type": "markdown",
   "id": "7531217f-e2ef-41b2-a122-7d5c611d3089",
   "metadata": {},
   "source": [
    "d) An alternative method to FiLM to incorporate conditioning information would be to concatenate the conditional embedding $\\mathbf{q}$ with the channel dimension in a convolutional layer input $\\mathbf{h}^{(k-1)}$ at every spatial location (in other words, concatenate constant feature maps with the input $\\mathbf{h}^{(k-1)}$ to a convolutional layer). \n",
    "\n",
    "Explain how this method would compare in terms of computation and parameter efficiency with applying the FiLM layer computation outlined in 2c) to the output $\\mathbf{h}^{(k)}$ of the convolutional layer. You can assume the convolutional layer has no activation function.\n",
    "\n",
    "**(5 marks)**"
   ]
  },
  {
   "cell_type": "markdown",
   "id": "3cf89ffc-3fc5-499d-b013-6763ce082504",
   "metadata": {},
   "source": []
  },
  {
   "cell_type": "markdown",
   "id": "e2202a29",
   "metadata": {},
   "source": [
    "### Question 4 (Total 10 marks)\n",
    "\n",
    "Provide a separate PDF report with your evaluation and conclusions on the model and training results in this assessment.\n",
    "\n",
    "In addition, compare the experiment conducted in this assessment with that described in section 2 of the [original paper](https://arxiv.org/abs/1709.07871). In particular, discuss how the model architecture and training algorithm differ.\n",
    "\n",
    "Your report should be no more than 1 page.\n",
    "\n",
    "**(10 marks)**"
   ]
  }
 ],
 "metadata": {
  "kernelspec": {
   "display_name": "Python 3",
   "language": "python",
   "name": "python3"
  },
  "language_info": {
   "codemirror_mode": {
    "name": "ipython",
    "version": 3
   },
   "file_extension": ".py",
   "mimetype": "text/x-python",
   "name": "python",
   "nbconvert_exporter": "python",
   "pygments_lexer": "ipython3",
   "version": "3.10.13"
  }
 },
 "nbformat": 4,
 "nbformat_minor": 5
}
